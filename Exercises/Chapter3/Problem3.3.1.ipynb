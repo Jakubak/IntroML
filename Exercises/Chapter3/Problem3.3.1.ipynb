{
 "cells": [
  {
   "cell_type": "markdown",
   "metadata": {},
   "source": [
    "#### Problem 3.3.1 \n",
    "\n",
    "Use the Gradient Descent algorithm to find a minimum for the function in Problem 3.2.1. You pick the initial guess, the number of epochs and the learning rate. The minimum is at $W_0=0, W_1=0$.\n",
    "\n",
    "$L(W_0, W_1) = W_0^4 + 3W_1^4 + 2W_0^2W_1^2$\n",
    "\n",
    "$\\nabla_WL = [4W_0^3 + 4W_0W_1^2, 12W_1^3 + 4W_0^2W_1]$\n",
    "\n",
    "Hint: if the learnng rate is too large, then loss may become to large and you may see an overflow error."
   ]
  },
  {
   "cell_type": "code",
   "execution_count": null,
   "metadata": {},
   "outputs": [],
   "source": [
    "import numpy as np\n",
    "import matplotlib.pyplot as plt"
   ]
  },
  {
   "cell_type": "code",
   "execution_count": null,
   "metadata": {},
   "outputs": [],
   "source": [
    "def loss(W):\n",
    "    return W[0]**4 +3*W[1]**4 +2*W[0]**2*W[1]**2\n",
    "\n",
    "def grad(W):\n",
    "    grad0 = 4*W[0]**3 + 4*W[0]*W[1]**2\n",
    "    grad1 = 12*W[1]**3 +4*W[0]**2*W[1]\n",
    "    return np.array([grad0, grad1])"
   ]
  },
  {
   "cell_type": "code",
   "execution_count": null,
   "metadata": {},
   "outputs": [],
   "source": [
    "# initialization\n",
    "W = np.array([2, 2])\n",
    "alpha = 0.03\n",
    "nepoch = 30\n",
    "\n",
    "# iteration\n",
    "loss_history = []\n",
    "for epoch in range(nepoch):\n",
    "    gradW = grad(W)\n",
    "    W = W - alpha*gradW\n",
    "    loss_history.append(loss(W))\n",
    "print(\"After {} epochs\".format(nepoch))\n",
    "print(\"W: {}\".format(W))\n",
    "print(\"Loss: {}\".format(loss_history[-1]))"
   ]
  },
  {
   "cell_type": "code",
   "execution_count": null,
   "metadata": {},
   "outputs": [],
   "source": [
    "plt.figure()\n",
    "epoch_list = list(range(1,nepoch+1))\n",
    "plt.plot(epoch_list,loss_history)\n",
    "plt.xlabel(\"Epoch\")\n",
    "plt.ylabel(\"Loss\")\n",
    "plt.show()"
   ]
  },
  {
   "cell_type": "code",
   "execution_count": null,
   "metadata": {},
   "outputs": [],
   "source": []
  }
 ],
 "metadata": {
  "kernelspec": {
   "display_name": "IntroML-env",
   "language": "python",
   "name": "introml-env"
  },
  "language_info": {
   "codemirror_mode": {
    "name": "ipython",
    "version": 3
   },
   "file_extension": ".py",
   "mimetype": "text/x-python",
   "name": "python",
   "nbconvert_exporter": "python",
   "pygments_lexer": "ipython3",
   "version": "3.7.1"
  }
 },
 "nbformat": 4,
 "nbformat_minor": 4
}
