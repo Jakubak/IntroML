{
 "cells": [
  {
   "cell_type": "markdown",
   "metadata": {},
   "source": [
    "# Problem 3.3.1 \n",
    "\n",
    "Use the Gradient Descent algorithm to find a minimum for the function in Problem 3.2.1. You pick the initial guess, the number of epochs and the learning rate.\n",
    "\n",
    "$L(W_0, W_1) = \\frac{W_0W_1}{1 + W_0^2 + W_1^2}$\n",
    "\n",
    "$\\nabla_WL=[\\frac{W_1(1 - W_0^2 + W_1^2)}{(1 + W_0^2 + W_1^2)^2}, \\frac{W_0(1 + W_0^2 - W_1^2)}{(1 + W_0^2 + W_1^2)^2}]$."
   ]
  },
  {
   "cell_type": "code",
   "execution_count": 33,
   "metadata": {},
   "outputs": [],
   "source": [
    "import numpy as np\n",
    "import matplotlib.pyplot as plt"
   ]
  },
  {
   "cell_type": "code",
   "execution_count": 34,
   "metadata": {},
   "outputs": [],
   "source": [
    "def loss(W):\n",
    "    return W[0]*W[1] / (1+W[0]**2+W[1]**2)\n",
    "\n",
    "def grad(W):\n",
    "    grad1 = W[1]*((1-W[0]**2+W[1]**2)) / (1+W[0]**2+W[1]**2)**2\n",
    "    grad2 = W[0]*((1+W[0]**2-W[1]**2)) / (1+W[0]**2+W[1]**2)**2\n",
    "    return np.array([grad1, grad2])"
   ]
  },
  {
   "cell_type": "code",
   "execution_count": 39,
   "metadata": {},
   "outputs": [
    {
     "name": "stdout",
     "output_type": "stream",
     "text": [
      "After 1000 epochs\n",
      "W: [ 317.15060669 -317.15060669]\n",
      "Loss: -0.49999751454012226\n"
     ]
    }
   ],
   "source": [
    "# initialization\n",
    "W = np.array([100, -100])\n",
    "alpha = 1e7\n",
    "nepoch = 1000\n",
    "\n",
    "# iteration\n",
    "loss_history = []\n",
    "for epoch in range(nepoch):\n",
    "    gradW = grad(W)\n",
    "    W = W - alpha*gradW\n",
    "    loss_history.append(loss(W))\n",
    "print(\"After {} epochs\".format(nepoch))\n",
    "print(\"W: {}\".format(W))\n",
    "print(\"Loss: {}\".format(loss_history[-1]))"
   ]
  },
  {
   "cell_type": "code",
   "execution_count": 40,
   "metadata": {},
   "outputs": [
    {
     "data": {
      "image/png": "[encoded data removed]",
      "text/plain": [
       "<Figure size 432x288 with 1 Axes>"
      ]
     },
     "metadata": {
      "needs_background": "light"
     },
     "output_type": "display_data"
    }
   ],
   "source": [
    "plt.figure()\n",
    "epoch_list = list(range(1,nepoch+1))\n",
    "plt.plot(epoch_list,loss_history)\n",
    "plt.xlabel(\"Epoch\")\n",
    "plt.ylabel(\"Loss\")\n",
    "plt.show()"
   ]
  }
 ],
 "metadata": {
  "kernelspec": {
   "display_name": "MLCourse-env",
   "language": "python",
   "name": "mlcourse-env"
  },
  "language_info": {
   "codemirror_mode": {
    "name": "ipython",
    "version": 3
   },
   "file_extension": ".py",
   "mimetype": "text/x-python",
   "name": "python",
   "nbconvert_exporter": "python",
   "pygments_lexer": "ipython3",
   "version": "3.7.1"
  }
 },
 "nbformat": 4,
 "nbformat_minor": 4
}
