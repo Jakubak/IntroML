{
 "cells": [
  {
   "cell_type": "markdown",
   "metadata": {},
   "source": [
    "# Problem 5.4.2 \n",
    "The algorithm for computing softmax(Z) involves subtracting the maximum of Z in each column from the entries of that column before taking the exponential. What is wrong with subtracting the maximum of Z for the entire matrix from the entries of Z before taking the exponential? \n",
    "\n",
    "**Hint:** see what happens when this alternative approach is applied to the following matrix:\n",
    "\n",
    "$Z = \\begin{bmatrix} 1000 & -1000 & 0 \\\\ -500 & 500 & 250 \\end{bmatrix}$"
   ]
  },
  {
   "cell_type": "code",
   "execution_count": null,
   "metadata": {},
   "outputs": [],
   "source": [
    "import numpy as np"
   ]
  },
  {
   "cell_type": "code",
   "execution_count": null,
   "metadata": {},
   "outputs": [],
   "source": [
    "def softmax1(Z):\n",
    "    #This function subtracts the max over the entire matrix Z before taking the exponential\n",
    "    Zmax = np.max(Z)\n",
    "    numerator = np.exp(Z-Zmax)\n",
    "    print(\"Numerator: {}\".format(numerator))\n",
    "    denominator = np.sum(numerator,axis=0,keepdims=True)\n",
    "    print(\"Denominator: {}\".format(denominator))\n",
    "    return numerator/denominator"
   ]
  },
  {
   "cell_type": "code",
   "execution_count": null,
   "metadata": {},
   "outputs": [],
   "source": [
    "Z = np.array([[1000,-1000,0],[-500,500,250]])\n",
    "Z"
   ]
  },
  {
   "cell_type": "code",
   "execution_count": null,
   "metadata": {},
   "outputs": [],
   "source": [
    "soft1 = softmax1(Z)\n",
    "soft1"
   ]
  },
  {
   "cell_type": "code",
   "execution_count": null,
   "metadata": {},
   "outputs": [],
   "source": [
    "def softmax2(Z):\n",
    "    #This function subtracts the max over the columns of matrix Z before taking the exponential\n",
    "    Zmax_col = np.amax(Z,axis=0,keepdims=True)\n",
    "    numerator = np.exp(Z-Zmax_col)\n",
    "    denominator = np.sum(numerator,axis=0,keepdims=True)\n",
    "    return numerator/denominator"
   ]
  },
  {
   "cell_type": "code",
   "execution_count": null,
   "metadata": {},
   "outputs": [],
   "source": [
    "soft2 = softmax2(Z)\n",
    "soft2"
   ]
  },
  {
   "cell_type": "code",
   "execution_count": null,
   "metadata": {},
   "outputs": [],
   "source": []
  }
 ],
 "metadata": {
  "kernelspec": {
   "display_name": "IntroML-env",
   "language": "python",
   "name": "introml-env"
  },
  "language_info": {
   "codemirror_mode": {
    "name": "ipython",
    "version": 3
   },
   "file_extension": ".py",
   "mimetype": "text/x-python",
   "name": "python",
   "nbconvert_exporter": "python",
   "pygments_lexer": "ipython3",
   "version": "3.7.1"
  }
 },
 "nbformat": 4,
 "nbformat_minor": 4
}
