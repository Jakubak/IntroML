{
 "cells": [
  {
   "attachments": {},
   "cell_type": "markdown",
   "metadata": {},
   "source": [
    "# Problem 5.6.2 \n",
    "Consider multiclass classification (3 classes) with the case of 2 features and 3 data points (m=3):\n",
    "\n",
    "$X = \\begin{bmatrix} 1 & 2 & 4 \\\\ -2 & -5 & -8 \\end{bmatrix}, Y = \\begin{bmatrix} 0 & 1 & 2 \\end{bmatrix}$\n",
    "\n",
    "Assume that layer 1 has 2 units and that layer 2 has 1 units with parameter matrices:\n",
    "\n",
    "$W^{[1]} = \\begin{bmatrix} 0.5 & 0.5 \\\\ 0.5 & -0.5 \\end{bmatrix}, b^{[1]} = \\begin{bmatrix} 0.5 \\\\ 0.5 \\end{bmatrix},  W^{[2]} = \\begin{bmatrix} -1 & 1 \\\\ 1 & -1 \\\\ -2 & 1 \\end{bmatrix}, b^{[2]} = \\begin{bmatrix} -0.1 \\\\ -0.1 \\\\ -0.1  \\end{bmatrix}$\n",
    "\n",
    "Assume activation functions $f^{[1]}  (z)=log⁡(1+e^z$) and $f^{[2]}  (z)=softmax(z) $ and  cross entropy loss function."
   ]
  },
  {
   "cell_type": "code",
   "execution_count": 48,
   "metadata": {},
   "outputs": [],
   "source": [
    "import numpy as np"
   ]
  },
  {
   "cell_type": "code",
   "execution_count": 49,
   "metadata": {},
   "outputs": [],
   "source": [
    "# inputs\n",
    "X = np.array([[1,2,4],[-2,-5,-8]])\n",
    "Y = np.array([[0,1,2]])\n",
    "W1 = np.array([[0.5,0.5],[0.5,-0.5]])\n",
    "b1 = np.array([[0.5],[0.5]])\n",
    "W2 = np.array([[-1,1],[1,-1],[-2,1]])\n",
    "b2 = np.array([[-0.1],[-0.1],[-0.1]])\n",
    "m = X.shape[1]\n",
    "nclasses = 3"
   ]
  },
  {
   "cell_type": "markdown",
   "metadata": {},
   "source": [
    "**(a)**\tCompute the value of the loss function for the above $W^{[1]}, b^{[1]},  W^{[2]}, b^{[2]}$"
   ]
  },
  {
   "cell_type": "code",
   "execution_count": 50,
   "metadata": {},
   "outputs": [],
   "source": [
    "def onehot(Y,nclass):\n",
    "    ndata = Y.shape[1]\n",
    "    Y_onehot = np.zeros((nclass,ndata))\n",
    "    for count in range(ndata):\n",
    "        Y_onehot[int(Y[0,count]),count] = 1.0\n",
    "    return Y_onehot"
   ]
  },
  {
   "cell_type": "code",
   "execution_count": 51,
   "metadata": {},
   "outputs": [
    {
     "name": "stdout",
     "output_type": "stream",
     "text": [
      "Z1: \n",
      "[[ 0.  -1.  -1.5]\n",
      " [ 2.   4.   6.5]]\n",
      "A1: \n",
      "[[0.69314718 0.31326169 0.20141328]\n",
      " [2.12692801 4.01814993 6.50150231]]\n",
      "Z2: \n",
      "[[ 1.33378083  3.60488824  6.20008903]\n",
      " [-1.53378083 -3.80488824 -6.40008903]\n",
      " [ 0.64063365  3.29162655  5.99867575]]\n",
      "Z2exp: \n",
      "[[3.79536593e+00 3.67775734e+01 4.92792914e+02]\n",
      " [2.15718528e-01 2.22616850e-02 1.66140935e-03]\n",
      " [1.89768297e+00 2.68865605e+01 4.02894908e+02]]\n",
      "Sum: [[  5.90876742  63.68639559 895.68948316]]\n",
      "A2: \n",
      "[[6.42327859e-01 5.77479272e-01 5.50182762e-01]\n",
      " [3.65082111e-02 3.49551655e-04 1.85489433e-06]\n",
      " [3.21163930e-01 4.22171176e-01 4.49815383e-01]]\n"
     ]
    }
   ],
   "source": [
    "# forward propagation\n",
    "# layer 1\n",
    "Z1 = np.dot(W1,X) + b1\n",
    "print(\"Z1: \\n{}\".format(Z1))\n",
    "A1 = np.log(1+np.exp(Z1))\n",
    "print(\"A1: \\n{}\".format(A1))\n",
    "# layer 2\n",
    "Z2 = np.dot(W2,A1) + b2\n",
    "print(\"Z2: \\n{}\".format(Z2))\n",
    "Z2exp = np.exp(Z2)\n",
    "print(\"Z2exp: \\n{}\".format(Z2exp))\n",
    "Sum = np.sum(Z2exp,axis=0,keepdims=True)\n",
    "print(\"Sum: {}\".format(Sum))\n",
    "A2 = Z2exp/Sum\n",
    "print(\"A2: \\n{}\".format(A2))"
   ]
  },
  {
   "cell_type": "code",
   "execution_count": 52,
   "metadata": {},
   "outputs": [
    {
     "name": "stdout",
     "output_type": "stream",
     "text": [
      "Yh: \n",
      "[[1. 0. 0.]\n",
      " [0. 1. 0.]\n",
      " [0. 0. 1.]]\n",
      "logA2: \n",
      "[[ -0.44265642  -0.54908273  -0.59750476]\n",
      " [ -3.31021808  -7.95885921 -13.19768283]\n",
      " [ -1.1358036   -0.86234442  -0.79891804]]\n",
      "Yh*logA2: \n",
      "[[-0.44265642 -0.         -0.        ]\n",
      " [-0.         -7.95885921 -0.        ]\n",
      " [-0.         -0.         -0.79891804]]\n",
      "Loss: 3.066811223752603\n"
     ]
    }
   ],
   "source": [
    "Yh = onehot(Y,nclasses)\n",
    "print(\"Yh: \\n{}\".format(Yh))\n",
    "logA2 = np.log(A2)\n",
    "print(\"logA2: \\n{}\".format(logA2))\n",
    "YhlogA2 = Yh*logA2\n",
    "print(\"Yh*logA2: \\n{}\".format(YhlogA2))\n",
    "# compute loss\n",
    "Loss = -np.sum(Yh*np.log(A2))/m\n",
    "print(\"Loss: {}\".format(Loss))"
   ]
  },
  {
   "cell_type": "markdown",
   "metadata": {},
   "source": [
    "**(b)**\tPerform 1  epoch of training using Gradient Descent with learning rate of 0.1 and recompute the loss function with the updated $W^{[1]}, b^{[1]},  W^{[2]}, b^{[2]}$"
   ]
  },
  {
   "cell_type": "code",
   "execution_count": 53,
   "metadata": {},
   "outputs": [
    {
     "name": "stdout",
     "output_type": "stream",
     "text": [
      "Yonehot: \n",
      "[[1. 0. 0.]\n",
      " [0. 1. 0.]\n",
      " [0. 0. 1.]]\n",
      "grad_A2_L: \n",
      "[[-5.18945782e-01 -0.00000000e+00 -0.00000000e+00]\n",
      " [-0.00000000e+00 -9.53602503e+02 -0.00000000e+00]\n",
      " [-0.00000000e+00 -0.00000000e+00 -7.41044761e-01]]\n",
      "A2*grad_A2_L: \n",
      "[[-0.33333333 -0.         -0.        ]\n",
      " [-0.         -0.33333333 -0.        ]\n",
      " [-0.         -0.         -0.33333333]]\n",
      "sumterm: [[-0.33333333 -0.33333333 -0.33333333]]\n",
      "grad_Z2_L: \n",
      "[[-1.19224047e-01  1.92493091e-01  1.83394254e-01]\n",
      " [ 1.21694037e-02 -3.33216816e-01  6.18298111e-07]\n",
      " [ 1.07054643e-01  1.40723725e-01 -1.83394872e-01]]\n",
      "grad_W2_L: [[ 0.01459894  1.7122233 ]\n",
      " [-0.09594875 -1.31302766]\n",
      " [ 0.08134981 -0.39919564]]\n",
      "grad_b2_L: [[ 0.2566633 ]\n",
      " [-0.32104679]\n",
      " [ 0.0643835 ]]\n",
      "grad_A1_L: [[-8.27158358e-02 -8.07157358e-01  1.83396109e-01]\n",
      " [-2.43388074e-02  6.66433632e-01 -1.23659622e-06]]\n",
      "dA1/dZ1: [[  0.51954699   0.90186712   0.95943269]\n",
      " [ -3.52382276 -15.14552884 -41.26953229]]\n",
      "grad_Z1_L: [[-4.29747632e-02 -7.27948678e-01  1.75956222e-01]\n",
      " [ 8.57656435e-02 -1.00934898e+01  5.10337478e-05]]\n",
      "grad_W1_L: [[ -0.79504723   2.31804314]\n",
      " [-20.10100982  50.29550944]]\n",
      "grad_b1_L: [[ -0.59496722]\n",
      " [-10.00767312]]\n",
      "W1 update: \n",
      "[[ 0.57950472  0.26819569]\n",
      " [ 2.51010098 -5.52955094]]\n",
      "b1 update: \n",
      "[[0.55949672]\n",
      " [1.50076731]]\n",
      "W2 update: [[-1.00145989  0.82877767]\n",
      " [ 1.00959487 -0.86869723]\n",
      " [-2.00813498  1.03991956]]\n",
      "b2 update: [[-0.12566633]\n",
      " [-0.06789532]\n",
      " [-0.10643835]]\n",
      "Z1: \n",
      "[[ 0.60261007  0.37752774  0.73195012]\n",
      " [15.06997018 34.168724   55.77757879]]\n",
      "A1: \n",
      "[[ 1.03917394  0.89962214  1.12464748]\n",
      " [15.06997047 34.168724   55.77757879]]\n",
      "Z2: \n",
      "[[ 11.32329766  27.29167364  44.97525611]\n",
      " [-12.1099923  -28.84191744 -47.3862854 ]\n",
      " [ 13.47831723  33.61972352  55.63931311]]\n",
      "Z2exp: \n",
      "[[8.27266981e+04 7.12234921e+11 3.40804681e+19]\n",
      " [5.50423755e-06 2.97930117e-13 2.63267794e-21]\n",
      " [7.13770834e+05 3.98896667e+14 1.45829927e+24]]\n",
      "Sum: [[7.96497532e+05 3.99608902e+14 1.45833335e+24]]\n",
      "A2: \n",
      "[[1.03863094e-01 1.78232997e-03 2.33694635e-05]\n",
      " [6.91055193e-12 7.45554255e-28 1.80526485e-45]\n",
      " [8.96136906e-01 9.98217670e-01 9.99976631e-01]]\n",
      "logA2: \n",
      "[[-2.26468165e+00 -6.32983380e+00 -1.06640804e+01]\n",
      " [-2.56979716e+01 -6.24634249e+01 -1.03025622e+02]\n",
      " [-1.09662081e-01 -1.78392021e-03 -2.33697366e-05]]\n",
      "Yh*logA2: \n",
      "[[-2.26468165e+00 -0.00000000e+00 -0.00000000e+00]\n",
      " [-0.00000000e+00 -6.24634249e+01 -0.00000000e+00]\n",
      " [-0.00000000e+00 -0.00000000e+00 -2.33697366e-05]]\n",
      "Loss: 21.576043300351916\n"
     ]
    }
   ],
   "source": [
    "# back propagation\n",
    "# dL/dA2\n",
    "print(\"Yonehot: \\n{}\".format(Yh))\n",
    "grad_A2_L = -Yh/A2/m\n",
    "print(\"grad_A2_L: \\n{}\".format(grad_A2_L))\n",
    "# layer 2\n",
    "# dL/dZ2\n",
    "prod2 = A2*grad_A2_L\n",
    "print(\"A2*grad_A2_L: \\n{}\".format(prod2))\n",
    "sumterm = np.sum(prod2,axis=0,keepdims=True)\n",
    "print(\"sumterm: {}\".format(sumterm))\n",
    "grad_Z2_L = prod2 - A2*sumterm\n",
    "print(\"grad_Z2_L: \\n{}\".format(grad_Z2_L))\n",
    "grad_W2_L = np.dot(grad_Z2_L,A1.T)\n",
    "grad_b2_L = np.sum(grad_Z2_L,axis=1,keepdims=True)\n",
    "grad_A1_L = np.dot(W2.T,grad_Z2_L)\n",
    "print(\"grad_W2_L: {}\".format(grad_W2_L))\n",
    "print(\"grad_b2_L: {}\".format(grad_b2_L))\n",
    "print(\"grad_A1_L: {}\".format(grad_A1_L))\n",
    "# layer 1\n",
    "dA1dZ1 = 1-A1*A1\n",
    "print(\"dA1/dZ1: {}\".format(dA1dZ1))\n",
    "grad_Z1_L = grad_A1_L*dA1dZ1\n",
    "print(\"grad_Z1_L: {}\".format(grad_Z1_L))\n",
    "grad_W1_L = np.dot(grad_Z1_L,X.T)\n",
    "grad_b1_L = np.sum(grad_Z1_L,axis=1,keepdims=True)\n",
    "print(\"grad_W1_L: {}\".format(grad_W1_L))\n",
    "print(\"grad_b1_L: {}\".format(grad_b1_L))\n",
    "# gradient descent epoch 1\n",
    "alpha = 0.1\n",
    "# update parameters\n",
    "W1 = W1 - alpha*grad_W1_L\n",
    "b1 = b1 - alpha*grad_b1_L\n",
    "W2 = W2 - alpha*grad_W2_L\n",
    "b2 = b2 - alpha*grad_b2_L\n",
    "print(\"W1 update: \\n{}\".format(W1))\n",
    "print(\"b1 update: \\n{}\".format(b1))\n",
    "print(\"W2 update: {}\".format(W2))\n",
    "print(\"b2 update: {}\".format(b2))\n",
    "# forward propagation\n",
    "# layer 1\n",
    "Z1 = np.dot(W1,X) + b1\n",
    "print(\"Z1: \\n{}\".format(Z1))\n",
    "A1 = np.log(1+np.exp(Z1))\n",
    "print(\"A1: \\n{}\".format(A1))\n",
    "# layer 2\n",
    "Z2 = np.dot(W2,A1) + b2\n",
    "print(\"Z2: \\n{}\".format(Z2))\n",
    "Z2exp = np.exp(Z2)\n",
    "print(\"Z2exp: \\n{}\".format(Z2exp))\n",
    "Sum = np.sum(Z2exp,axis=0,keepdims=True)\n",
    "print(\"Sum: {}\".format(Sum))\n",
    "A2 = Z2exp/Sum\n",
    "print(\"A2: \\n{}\".format(A2))\n",
    "logA2 = np.log(A2)\n",
    "print(\"logA2: \\n{}\".format(logA2))\n",
    "YhlogA2 = Yh*logA2\n",
    "print(\"Yh*logA2: \\n{}\".format(YhlogA2))\n",
    "# recompute loss\n",
    "Loss = -np.sum(Yh*np.log(A2))/m\n",
    "print(\"Loss: {}\".format(Loss))"
   ]
  },
  {
   "cell_type": "markdown",
   "metadata": {},
   "source": [
    "**(c)**\tCompute the prediction based on input feature matrix X above after the 1 epoch."
   ]
  },
  {
   "cell_type": "code",
   "execution_count": 54,
   "metadata": {},
   "outputs": [],
   "source": [
    "def onehot_inverse(A):\n",
    "    return np.expand_dims(np.argmax(A,axis=0),axis=0)"
   ]
  },
  {
   "cell_type": "code",
   "execution_count": 55,
   "metadata": {},
   "outputs": [
    {
     "name": "stdout",
     "output_type": "stream",
     "text": [
      "Z1: [[ 0.60261007  0.37752774  0.73195012]\n",
      " [15.06997018 34.168724   55.77757879]]\n",
      "A1: [[ 1.03917394  0.89962214  1.12464748]\n",
      " [15.06997047 34.168724   55.77757879]]\n",
      "Z2: [[ 11.32329766  27.29167364  44.97525611]\n",
      " [-12.1099923  -28.84191744 -47.3862854 ]\n",
      " [ 13.47831723  33.61972352  55.63931311]]\n",
      "A2: [[1.03863094e-01 1.78232997e-03 2.33694635e-05]\n",
      " [6.91055193e-12 7.45554255e-28 1.80526485e-45]\n",
      " [8.96136906e-01 9.98217670e-01 9.99976631e-01]]\n",
      "Prediction: [[2 2 2]]\n"
     ]
    }
   ],
   "source": [
    "# forward propagation\n",
    "# layer 1\n",
    "Z1 = np.dot(W1,X) + b1\n",
    "print(\"Z1: {}\".format(Z1))\n",
    "A1 = np.log(1+np.exp(Z1))\n",
    "print(\"A1: {}\".format(A1))\n",
    "# layer 2\n",
    "Z2 = np.dot(W2,A1) + b2\n",
    "print(\"Z2: {}\".format(Z2))\n",
    "Z2exp = np.exp(Z2)\n",
    "A2 = Z2exp/np.sum(Z2exp,axis=0,keepdims=True)\n",
    "print(\"A2: {}\".format(A2))\n",
    "# prediction\n",
    "Y_pred = onehot_inverse(A2)\n",
    "print(\"Prediction: {}\".format(Y_pred))"
   ]
  },
  {
   "cell_type": "markdown",
   "metadata": {},
   "source": [
    "**(d)**\tCompute the accuracy of the prediction in (c) when compared against the actual Y specified above."
   ]
  },
  {
   "cell_type": "code",
   "execution_count": 56,
   "metadata": {},
   "outputs": [
    {
     "name": "stdout",
     "output_type": "stream",
     "text": [
      "accuracy: 0.3333333333333333\n"
     ]
    }
   ],
   "source": [
    "# compute accuracy\n",
    "accuracy = np.mean(np.absolute(Y-Y_pred)<1e-7)\n",
    "print(\"accuracy: {}\".format(accuracy))"
   ]
  }
 ],
 "metadata": {
  "kernelspec": {
   "display_name": "MLCourse-env",
   "language": "python",
   "name": "mlcourse-env"
  },
  "language_info": {
   "codemirror_mode": {
    "name": "ipython",
    "version": 3
   },
   "file_extension": ".py",
   "mimetype": "text/x-python",
   "name": "python",
   "nbconvert_exporter": "python",
   "pygments_lexer": "ipython3",
   "version": "3.7.1"
  }
 },
 "nbformat": 4,
 "nbformat_minor": 4
}
