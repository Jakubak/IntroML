{
 "cells": [
  {
   "cell_type": "markdown",
   "metadata": {},
   "source": [
    "# Problem 5.1.2 \n",
    "Consider binary classification with the case of 2 features and 3 data points (m=3):\n",
    "\n",
    "Let $X = \\begin{bmatrix} 1 & 2 & 4 \\\\ -2 & -5 & -8 \\end{bmatrix}, Y = \\begin{bmatrix} 0 & 1 & 0 \\end{bmatrix}$\n",
    "\n",
    "Assume that layer 1 has 2 units and that layer 2 has 1 units with parameter matrices:\n",
    "\n",
    "$W^{[1]} = \\begin{bmatrix} 0.5 & 0.5 \\\\ 0.5 & -0.5 \\end{bmatrix}, b^{[1]} = \\begin{bmatrix} 0.5 \\\\ 0.5 \\end{bmatrix},  W^{[2]} = \\begin{bmatrix} -1 & 1  \\end{bmatrix}, b^{[2]} = \\begin{bmatrix} -0.1  \\end{bmatrix}$\n",
    "\n",
    "Assume activation functions $f^{[1]}  (z)=log⁡(1+e^z$) and $f^{[2]}  (z)=\\frac{1}{1+e^{-z}}$ and binary cross entropy loss function.\n"
   ]
  },
  {
   "cell_type": "code",
   "execution_count": null,
   "metadata": {},
   "outputs": [],
   "source": [
    "import numpy as np"
   ]
  },
  {
   "cell_type": "code",
   "execution_count": null,
   "metadata": {},
   "outputs": [],
   "source": [
    "# inputs\n",
    "X = np.array([[1,2,4],[-2,-5,-8]])\n",
    "Y = np.array([[0,1,0]])\n",
    "W1 = np.array([[0.5,0.5],[0.5,-0.5]])\n",
    "b1 = np.array([[0.5],[0.5]])\n",
    "W2 = np.array([[-1,1]])\n",
    "b2 = np.array([[-0.1]])\n",
    "m = X.shape[1]"
   ]
  },
  {
   "cell_type": "markdown",
   "metadata": {},
   "source": [
    "**(a)**\tCompute the value of the loss function for the above $W^{[1]}, b^{[1]},  W^{[2]}, b^{[2]}$\n"
   ]
  },
  {
   "cell_type": "code",
   "execution_count": null,
   "metadata": {},
   "outputs": [],
   "source": [
    "# forward propagation\n",
    "# layer 1\n",
    "Z1 = np.dot(W1,X)+b1\n",
    "A1 = np.log(1+np.exp(Z1))\n",
    "print(\"Z1: \\n{}\".format(Z1))\n",
    "print(\"A1: \\n{}\".format(A1))\n",
    "# layer2\n",
    "Z2 = np.dot(W2,A1)+b2\n",
    "A2 = 1/(1+np.exp(-Z2))\n",
    "print(\"Z2: {}\".format(Z2))\n",
    "print(\"A2: {}\".format(A2))\n",
    "# compute loss\n",
    "L = -np.sum(Y*np.log(A2+1e-16)+(1-Y)*np.log(1-A2+1e-16))/m\n",
    "print(\"Loss: {}\".format(L))"
   ]
  },
  {
   "cell_type": "markdown",
   "metadata": {},
   "source": [
    "**(b)**\tPerform 1  epoch of training using Gradient Descent with learning rate of 0.1 and recompute the loss function with the updated $W^{[1]}, b^{[1]},  W^{[2]}, b^{[2]}$"
   ]
  },
  {
   "cell_type": "code",
   "execution_count": null,
   "metadata": {},
   "outputs": [],
   "source": [
    "# back propagation\n",
    "# derivative of loss\n",
    "dLdA2 = -1/m*(Y/A2 - (1-Y)/(1-A2))\n",
    "print(\"dLdA2: {}\".format(dLdA2))\n",
    "# layer 2\n",
    "dA2dZ2 = A2 - np.square(A2)\n",
    "print(\"dA2dZ2: {}\".format(dA2dZ2))\n",
    "dLdZ2 = dLdA2*dA2dZ2\n",
    "print(\"dLdZ2: {}\".format(dLdZ2))\n",
    "grad_W2L = np.dot(dLdZ2,A1.T)\n",
    "grad_b2L = np.sum(dLdZ2,axis=1,keepdims=True)\n",
    "print(\"grad_W2L: {}\".format(grad_W2L))\n",
    "print(\"grad_b2L: {}\".format(grad_b2L))\n",
    "# layer 1\n",
    "dLdA1 = np.dot(W2.T,dLdZ2)\n",
    "print(\"dLdA1: \\n{}\".format(dLdA1))\n",
    "dA1dZ1 = 1 - np.exp(-A1)\n",
    "print(\"dA1dZ1: \\n{}\".format(dA1dZ1))\n",
    "dLdZ1 = dLdA1*dA1dZ1\n",
    "print(\"dLdZ1: \\n{}\".format(dLdZ1))\n",
    "grad_W1L = np.dot(dLdZ1,X.T)\n",
    "grad_b1L = np.sum(dLdZ1,axis=1,keepdims=True)\n",
    "print(\"grad_W1L: \\n{}\".format(grad_W1L))\n",
    "print(\"grad_b1L: \\n{}\".format(grad_b1L))\n",
    "# gradient descent epoch 1\n",
    "alpha = 0.1\n",
    "# update parameters\n",
    "W1 = W1 - alpha*grad_W1L\n",
    "b1 = b1 - alpha*grad_b1L\n",
    "W2 = W2 - alpha*grad_W2L\n",
    "b2 = b2 - alpha*grad_b2L\n",
    "print(\"W1 update: \\n{}\".format(W1))\n",
    "print(\"b1 update: \\n{}\".format(b1))\n",
    "print(\"W2 update: {}\".format(W2))\n",
    "print(\"b2 update: {}\".format(b2))\n",
    "# forward propagation\n",
    "# layer 1\n",
    "Z1 = np.dot(W1,X)+b1\n",
    "A1 = np.log(1+np.exp(Z1))\n",
    "print(\"Z1: \\n{}\".format(Z1))\n",
    "print(\"A1: \\n{}\".format(A1))\n",
    "# layer2\n",
    "Z2 = np.dot(W2,A1)+b2\n",
    "A2 = 1/(1+np.exp(-Z2))\n",
    "print(\"Z2: {}\".format(Z2))\n",
    "print(\"A2: {}\".format(A2))\n",
    "# recompute loss\n",
    "L = -np.sum(Y*np.log(A2+1e-16)+(1-Y)*np.log(1-A2+1e-16))/m\n",
    "print(\"Loss epoch 1: {}\".format(L))"
   ]
  },
  {
   "cell_type": "markdown",
   "metadata": {},
   "source": [
    "**(c)**\tCompute the prediction based on input feature matrix X above after the 1 epoch."
   ]
  },
  {
   "cell_type": "code",
   "execution_count": null,
   "metadata": {},
   "outputs": [],
   "source": [
    "# forward propagation\n",
    "# layer 1\n",
    "Z1 = np.dot(W1,X)+b1\n",
    "A1 = np.log(1+np.exp(Z1))\n",
    "print(\"Z1: \\n{}\".format(Z1))\n",
    "print(\"A1: \\n{}\".format(A1))\n",
    "# layer2\n",
    "Z2 = np.dot(W2,A1)+b2\n",
    "A2 = 1/(1+np.exp(-Z2))\n",
    "print(\"Z2: {}\".format(Z2))\n",
    "print(\"A2: {}\".format(A2))\n",
    "# prediction\n",
    "Y_pred = np.round(A2)\n",
    "print(\"Prediction: {}\".format(Y_pred))"
   ]
  },
  {
   "cell_type": "markdown",
   "metadata": {},
   "source": [
    "**(d)**\tCompute the accuracy of the prediction in (c) when compared against the actual Y specified above."
   ]
  },
  {
   "cell_type": "code",
   "execution_count": null,
   "metadata": {},
   "outputs": [],
   "source": [
    "# compute accuracy\n",
    "accuracy = np.mean(np.absolute(Y-Y_pred)<1e-7)\n",
    "print(\"accuracy: {}\".format(accuracy))"
   ]
  },
  {
   "cell_type": "code",
   "execution_count": null,
   "metadata": {},
   "outputs": [],
   "source": []
  }
 ],
 "metadata": {
  "kernelspec": {
   "display_name": "IntroML-env",
   "language": "python",
   "name": "introml-env"
  },
  "language_info": {
   "codemirror_mode": {
    "name": "ipython",
    "version": 3
   },
   "file_extension": ".py",
   "mimetype": "text/x-python",
   "name": "python",
   "nbconvert_exporter": "python",
   "pygments_lexer": "ipython3",
   "version": "3.7.1"
  }
 },
 "nbformat": 4,
 "nbformat_minor": 4
}
