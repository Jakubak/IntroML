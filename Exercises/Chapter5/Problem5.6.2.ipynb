{
 "cells": [
  {
   "cell_type": "markdown",
   "metadata": {},
   "source": [
    "# Problem 5.6.2 \n",
    "Consider multiclass classification (3 classes) with the case of 2 features and 3 data points (m=3):\n",
    "\n",
    "$X = \\begin{bmatrix} 1 & 2 & 4 \\\\ -2 & -5 & -8 \\end{bmatrix}, Y = \\begin{bmatrix} 0 & 1 & 2 \\end{bmatrix}$\n",
    "\n",
    "Assume that layer 1 has 2 units and that layer 2 has 1 units with parameter matrices:\n",
    "\n",
    "$W^{[1]} = \\begin{bmatrix} 0.5 & 0.5 \\\\ 0.5 & -0.5 \\end{bmatrix}, b^{[1]} = \\begin{bmatrix} 0.5 \\\\ 0.5 \\end{bmatrix},  W^{[2]} = \\begin{bmatrix} -1 & 1 \\\\ 1 & -1 \\\\ -2 & 1 \\end{bmatrix}, b^{[2]} = \\begin{bmatrix} -0.1 \\\\ -0.1 \\\\ -0.1  \\end{bmatrix}$\n",
    "\n",
    "Assume activation functions $f^{[1]}  (z)=log⁡(1+e^z$) and $f^{[2]}  (z)=softmax(z) $ and  cross entropy loss function."
   ]
  },
  {
   "cell_type": "code",
   "execution_count": null,
   "metadata": {},
   "outputs": [],
   "source": [
    "import numpy as np"
   ]
  },
  {
   "cell_type": "code",
   "execution_count": null,
   "metadata": {},
   "outputs": [],
   "source": [
    "# inputs\n",
    "X = np.array([[1,2,4],[-2,-5,-8]])\n",
    "Y = np.array([[0,1,2]])\n",
    "W1 = np.array([[0.5,0.5],[0.5,-0.5]])\n",
    "b1 = np.array([[0.5],[0.5]])\n",
    "W2 = np.array([[-1,1],[1,-1],[-2,1]])\n",
    "b2 = np.array([[-0.1],[-0.1],[-0.1]])\n",
    "m = X.shape[1]\n",
    "nclasses = 3"
   ]
  },
  {
   "cell_type": "markdown",
   "metadata": {},
   "source": [
    "**(a)**\tCompute the value of the loss function for the above $W^{[1]}, b^{[1]},  W^{[2]}, b^{[2]}$"
   ]
  },
  {
   "cell_type": "code",
   "execution_count": null,
   "metadata": {},
   "outputs": [],
   "source": [
    "def onehot(Y,nclass):\n",
    "    ndata = Y.shape[1]\n",
    "    Y_onehot = np.zeros((nclass,ndata))\n",
    "    for count in range(ndata):\n",
    "        Y_onehot[int(Y[0,count]),count] = 1.0\n",
    "    return Y_onehot"
   ]
  },
  {
   "cell_type": "code",
   "execution_count": null,
   "metadata": {},
   "outputs": [],
   "source": [
    "# forward propagation\n",
    "# layer 1\n",
    "Z1 = np.dot(W1,X) + b1\n",
    "print(\"Z1: \\n{}\".format(Z1))\n",
    "A1 = np.log(1+np.exp(Z1))\n",
    "print(\"A1: \\n{}\".format(A1))\n",
    "# layer 2\n",
    "Z2 = np.dot(W2,A1) + b2\n",
    "print(\"Z2: \\n{}\".format(Z2))\n",
    "Z2exp = np.exp(Z2)\n",
    "print(\"Z2exp: \\n{}\".format(Z2exp))\n",
    "Sum = np.sum(Z2exp,axis=0,keepdims=True)\n",
    "print(\"Sum: {}\".format(Sum))\n",
    "A2 = Z2exp/Sum\n",
    "print(\"A2: \\n{}\".format(A2))"
   ]
  },
  {
   "cell_type": "code",
   "execution_count": null,
   "metadata": {},
   "outputs": [],
   "source": [
    "Yh = onehot(Y,nclasses)\n",
    "print(\"Yh: \\n{}\".format(Yh))\n",
    "logA2 = np.log(A2)\n",
    "print(\"logA2: \\n{}\".format(logA2))\n",
    "YhlogA2 = Yh*logA2\n",
    "print(\"Yh*logA2: \\n{}\".format(YhlogA2))\n",
    "# compute loss\n",
    "Loss = -np.sum(Yh*np.log(A2))/m\n",
    "print(\"Loss: {}\".format(Loss))"
   ]
  },
  {
   "cell_type": "markdown",
   "metadata": {},
   "source": [
    "**(b)**\tPerform 1  epoch of training using Gradient Descent with learning rate of 0.1 and recompute the loss function with the updated $W^{[1]}, b^{[1]},  W^{[2]}, b^{[2]}$"
   ]
  },
  {
   "cell_type": "code",
   "execution_count": null,
   "metadata": {},
   "outputs": [],
   "source": [
    "# back propagation\n",
    "# dL/dA2\n",
    "print(\"Yonehot: \\n{}\".format(Yh))\n",
    "grad_A2_L = -Yh/A2/m\n",
    "print(\"grad_A2_L: \\n{}\".format(grad_A2_L))\n",
    "# layer 2\n",
    "# dL/dZ2\n",
    "prod2 = A2*grad_A2_L\n",
    "print(\"A2*grad_A2_L: \\n{}\".format(prod2))\n",
    "sumterm = np.sum(prod2,axis=0,keepdims=True)\n",
    "print(\"sumterm: {}\".format(sumterm))\n",
    "grad_Z2_L = prod2 - A2*sumterm\n",
    "print(\"grad_Z2_L: \\n{}\".format(grad_Z2_L))\n",
    "grad_W2_L = np.dot(grad_Z2_L,A1.T)\n",
    "grad_b2_L = np.sum(grad_Z2_L,axis=1,keepdims=True)\n",
    "grad_A1_L = np.dot(W2.T,grad_Z2_L)\n",
    "print(\"grad_W2_L: {}\".format(grad_W2_L))\n",
    "print(\"grad_b2_L: {}\".format(grad_b2_L))\n",
    "print(\"grad_A1_L: {}\".format(grad_A1_L))"
   ]
  },
  {
   "cell_type": "code",
   "execution_count": null,
   "metadata": {},
   "outputs": [],
   "source": [
    "# layer 1\n",
    "dA1dZ1 = 1-np.exp(-A1)\n",
    "print(\"dA1/dZ1: {}\".format(dA1dZ1))\n",
    "grad_Z1_L = grad_A1_L*dA1dZ1\n",
    "print(\"grad_Z1_L: {}\".format(grad_Z1_L))\n",
    "grad_W1_L = np.dot(grad_Z1_L,X.T)\n",
    "grad_b1_L = np.sum(grad_Z1_L,axis=1,keepdims=True)\n",
    "print(\"grad_W1_L: {}\".format(grad_W1_L))\n",
    "print(\"grad_b1_L: {}\".format(grad_b1_L))"
   ]
  },
  {
   "cell_type": "code",
   "execution_count": null,
   "metadata": {},
   "outputs": [],
   "source": [
    "# gradient descent epoch 1\n",
    "alpha = 0.1\n",
    "# update parameters\n",
    "W1 = W1 - alpha*grad_W1_L\n",
    "b1 = b1 - alpha*grad_b1_L\n",
    "W2 = W2 - alpha*grad_W2_L\n",
    "b2 = b2 - alpha*grad_b2_L\n",
    "print(\"W1 update: \\n{}\".format(W1))\n",
    "print(\"b1 update: \\n{}\".format(b1))\n",
    "print(\"W2 update: {}\".format(W2))\n",
    "print(\"b2 update: {}\".format(b2))"
   ]
  },
  {
   "cell_type": "code",
   "execution_count": null,
   "metadata": {},
   "outputs": [],
   "source": [
    "# forward propagation\n",
    "# layer 1\n",
    "Z1 = np.dot(W1,X) + b1\n",
    "print(\"Z1: \\n{}\".format(Z1))\n",
    "A1 = np.log(1+np.exp(Z1))\n",
    "print(\"A1: \\n{}\".format(A1))\n",
    "# layer 2\n",
    "Z2 = np.dot(W2,A1) + b2\n",
    "print(\"Z2: \\n{}\".format(Z2))\n",
    "Z2exp = np.exp(Z2)\n",
    "print(\"Z2exp: \\n{}\".format(Z2exp))\n",
    "Sum = np.sum(Z2exp,axis=0,keepdims=True)\n",
    "print(\"Sum: {}\".format(Sum))\n",
    "A2 = Z2exp/Sum\n",
    "print(\"A2: \\n{}\".format(A2))\n",
    "logA2 = np.log(A2)\n",
    "print(\"logA2: \\n{}\".format(logA2))\n",
    "YhlogA2 = Yh*logA2\n",
    "print(\"Yh*logA2: \\n{}\".format(YhlogA2))\n",
    "# recompute loss\n",
    "Loss = -np.sum(Yh*np.log(A2))/m\n",
    "print(\"Loss: {}\".format(Loss))"
   ]
  },
  {
   "cell_type": "markdown",
   "metadata": {},
   "source": [
    "**(c)**\tCompute the prediction based on input feature matrix X above after the 1 epoch."
   ]
  },
  {
   "cell_type": "code",
   "execution_count": null,
   "metadata": {},
   "outputs": [],
   "source": [
    "def onehot_inverse(A):\n",
    "    return np.expand_dims(np.argmax(A,axis=0),axis=0)"
   ]
  },
  {
   "cell_type": "code",
   "execution_count": null,
   "metadata": {},
   "outputs": [],
   "source": [
    "# forward propagation\n",
    "# layer 1\n",
    "Z1 = np.dot(W1,X) + b1\n",
    "print(\"Z1: {}\".format(Z1))\n",
    "A1 = np.log(1+np.exp(Z1))\n",
    "print(\"A1: {}\".format(A1))\n",
    "# layer 2\n",
    "Z2 = np.dot(W2,A1) + b2\n",
    "print(\"Z2: {}\".format(Z2))\n",
    "Z2exp = np.exp(Z2)\n",
    "A2 = Z2exp/np.sum(Z2exp,axis=0,keepdims=True)\n",
    "print(\"A2: {}\".format(A2))\n",
    "# prediction\n",
    "Y_pred = onehot_inverse(A2)\n",
    "print(\"Prediction: {}\".format(Y_pred))"
   ]
  },
  {
   "cell_type": "markdown",
   "metadata": {},
   "source": [
    "**(d)**\tCompute the accuracy of the prediction in (c) when compared against the actual Y specified above."
   ]
  },
  {
   "cell_type": "code",
   "execution_count": null,
   "metadata": {},
   "outputs": [],
   "source": [
    "# compute accuracy\n",
    "accuracy = np.mean(np.absolute(Y-Y_pred)<1e-7)\n",
    "print(\"accuracy: {}\".format(accuracy))"
   ]
  },
  {
   "cell_type": "code",
   "execution_count": null,
   "metadata": {},
   "outputs": [],
   "source": []
  }
 ],
 "metadata": {
  "kernelspec": {
   "display_name": "IntroML-env",
   "language": "python",
   "name": "introml-env"
  },
  "language_info": {
   "codemirror_mode": {
    "name": "ipython",
    "version": 3
   },
   "file_extension": ".py",
   "mimetype": "text/x-python",
   "name": "python",
   "nbconvert_exporter": "python",
   "pygments_lexer": "ipython3",
   "version": "3.7.1"
  }
 },
 "nbformat": 4,
 "nbformat_minor": 4
}
