{
 "cells": [
  {
   "cell_type": "markdown",
   "metadata": {},
   "source": [
    "# Problem 5.6.2 \n",
    "Consider multiclass classification (3 classes) with the case of 2 features and 3 data points (m=3):\n",
    "\n",
    "$X = \\begin{bmatrix} 1 & 2 & 4 \\\\ -2 & -5 & -8 \\end{bmatrix}, Y = \\begin{bmatrix} 0 & 1 & 2 \\end{bmatrix}$\n",
    "\n",
    "Assume that layer 1 has 2 units and that layer 2 has 1 units with parameter matrices:\n",
    "\n",
    "$W^{[1]} = \\begin{bmatrix} 0.5 & 0.5 \\\\ 0.5 & -0.5 \\end{bmatrix}, b^{[1]} = \\begin{bmatrix} 0.5 \\\\ 0.5 \\end{bmatrix},  W^{[2]} = \\begin{bmatrix} -1 & 1 \\\\ 1 & -1 \\\\ -2 & 1 \\end{bmatrix}, b^{[2]} = \\begin{bmatrix} -0.1 \\\\ -0.1 \\\\ -0.1  \\end{bmatrix}$\n",
    "\n",
    "Assume activation functions $f^{[1]}  (z)=log⁡(1+e^z$) and $f^{[2]}  (z)=softmax(z) $ and  cross entropy loss function."
   ]
  },
  {
   "cell_type": "code",
   "execution_count": 1,
   "metadata": {},
   "outputs": [],
   "source": [
    "import numpy as np"
   ]
  },
  {
   "cell_type": "code",
   "execution_count": 2,
   "metadata": {},
   "outputs": [],
   "source": [
    "# inputs\n",
    "X = np.array([[1,2,4],[-2,-5,-8]])\n",
    "Y = np.array([[0,1,2]])\n",
    "W1 = np.array([[0.5,0.5],[0.5,-0.5]])\n",
    "b1 = np.array([[0.5],[0.5]])\n",
    "W2 = np.array([[-1,1],[1,-1],[-2,1]])\n",
    "b2 = np.array([[-0.1],[-0.1],[-0.1]])\n",
    "m = X.shape[1]\n",
    "nclasses = 3"
   ]
  },
  {
   "cell_type": "markdown",
   "metadata": {},
   "source": [
    "**(a)**\tCompute the value of the loss function for the above $W^{[1]}, b^{[1]},  W^{[2]}, b^{[2]}$"
   ]
  },
  {
   "cell_type": "code",
   "execution_count": 3,
   "metadata": {},
   "outputs": [],
   "source": [
    "def onehot(Y,nclass):\n",
    "    ndata = Y.shape[1]\n",
    "    Y_onehot = np.zeros((nclass,ndata))\n",
    "    for count in range(ndata):\n",
    "        Y_onehot[int(Y[0,count]),count] = 1.0\n",
    "    return Y_onehot"
   ]
  },
  {
   "cell_type": "code",
   "execution_count": 4,
   "metadata": {},
   "outputs": [
    {
     "name": "stdout",
     "output_type": "stream",
     "text": [
      "Z1: \n",
      "[[ 0.  -1.  -1.5]\n",
      " [ 2.   4.   6.5]]\n",
      "A1: \n",
      "[[0.69314718 0.31326169 0.20141328]\n",
      " [2.12692801 4.01814993 6.50150231]]\n",
      "Z2: \n",
      "[[ 1.33378083  3.60488824  6.20008903]\n",
      " [-1.53378083 -3.80488824 -6.40008903]\n",
      " [ 0.64063365  3.29162655  5.99867575]]\n",
      "Z2exp: \n",
      "[[3.79536593e+00 3.67775734e+01 4.92792914e+02]\n",
      " [2.15718528e-01 2.22616850e-02 1.66140935e-03]\n",
      " [1.89768297e+00 2.68865605e+01 4.02894908e+02]]\n",
      "Sum: [[  5.90876742  63.68639559 895.68948316]]\n",
      "A2: \n",
      "[[6.42327859e-01 5.77479272e-01 5.50182762e-01]\n",
      " [3.65082111e-02 3.49551655e-04 1.85489433e-06]\n",
      " [3.21163930e-01 4.22171176e-01 4.49815383e-01]]\n"
     ]
    }
   ],
   "source": [
    "# forward propagation\n",
    "# layer 1\n",
    "Z1 = np.dot(W1,X) + b1\n",
    "print(\"Z1: \\n{}\".format(Z1))\n",
    "A1 = np.log(1+np.exp(Z1))\n",
    "print(\"A1: \\n{}\".format(A1))\n",
    "# layer 2\n",
    "Z2 = np.dot(W2,A1) + b2\n",
    "print(\"Z2: \\n{}\".format(Z2))\n",
    "Z2exp = np.exp(Z2)\n",
    "print(\"Z2exp: \\n{}\".format(Z2exp))\n",
    "Sum = np.sum(Z2exp,axis=0,keepdims=True)\n",
    "print(\"Sum: {}\".format(Sum))\n",
    "A2 = Z2exp/Sum\n",
    "print(\"A2: \\n{}\".format(A2))"
   ]
  },
  {
   "cell_type": "code",
   "execution_count": 5,
   "metadata": {},
   "outputs": [
    {
     "name": "stdout",
     "output_type": "stream",
     "text": [
      "Yh: \n",
      "[[1. 0. 0.]\n",
      " [0. 1. 0.]\n",
      " [0. 0. 1.]]\n",
      "logA2: \n",
      "[[ -0.44265642  -0.54908273  -0.59750476]\n",
      " [ -3.31021808  -7.95885921 -13.19768283]\n",
      " [ -1.1358036   -0.86234442  -0.79891804]]\n",
      "Yh*logA2: \n",
      "[[-0.44265642 -0.         -0.        ]\n",
      " [-0.         -7.95885921 -0.        ]\n",
      " [-0.         -0.         -0.79891804]]\n",
      "Loss: 3.066811223752603\n"
     ]
    }
   ],
   "source": [
    "Yh = onehot(Y,nclasses)\n",
    "print(\"Yh: \\n{}\".format(Yh))\n",
    "logA2 = np.log(A2)\n",
    "print(\"logA2: \\n{}\".format(logA2))\n",
    "YhlogA2 = Yh*logA2\n",
    "print(\"Yh*logA2: \\n{}\".format(YhlogA2))\n",
    "# compute loss\n",
    "Loss = -np.sum(Yh*np.log(A2))/m\n",
    "print(\"Loss: {}\".format(Loss))"
   ]
  },
  {
   "cell_type": "markdown",
   "metadata": {},
   "source": [
    "**(b)**\tPerform 1  epoch of training using Gradient Descent with learning rate of 0.1 and recompute the loss function with the updated $W^{[1]}, b^{[1]},  W^{[2]}, b^{[2]}$"
   ]
  },
  {
   "cell_type": "code",
   "execution_count": 6,
   "metadata": {},
   "outputs": [
    {
     "name": "stdout",
     "output_type": "stream",
     "text": [
      "Yonehot: \n",
      "[[1. 0. 0.]\n",
      " [0. 1. 0.]\n",
      " [0. 0. 1.]]\n",
      "grad_A2_L: \n",
      "[[-5.18945782e-01 -0.00000000e+00 -0.00000000e+00]\n",
      " [-0.00000000e+00 -9.53602503e+02 -0.00000000e+00]\n",
      " [-0.00000000e+00 -0.00000000e+00 -7.41044761e-01]]\n",
      "A2*grad_A2_L: \n",
      "[[-0.33333333 -0.         -0.        ]\n",
      " [-0.         -0.33333333 -0.        ]\n",
      " [-0.         -0.         -0.33333333]]\n",
      "sumterm: [[-0.33333333 -0.33333333 -0.33333333]]\n",
      "grad_Z2_L: \n",
      "[[-1.19224047e-01  1.92493091e-01  1.83394254e-01]\n",
      " [ 1.21694037e-02 -3.33216816e-01  6.18298111e-07]\n",
      " [ 1.07054643e-01  1.40723725e-01 -1.83394872e-01]]\n",
      "grad_W2_L: [[ 0.01459894  1.7122233 ]\n",
      " [-0.09594875 -1.31302766]\n",
      " [ 0.08134981 -0.39919564]]\n",
      "grad_b2_L: [[ 0.2566633 ]\n",
      " [-0.32104679]\n",
      " [ 0.0643835 ]]\n",
      "grad_A1_L: [[-8.27158358e-02 -8.07157358e-01  1.83396109e-01]\n",
      " [-2.43388074e-02  6.66433632e-01 -1.23659622e-06]]\n",
      "dA1/dZ1: [[0.5        0.26894142 0.18242552]\n",
      " [0.88079708 0.98201379 0.99849882]]\n",
      "grad_Z1_L: [[-4.13579179e-02 -2.17078047e-01  3.34561312e-02]\n",
      " [-2.14375504e-02  6.54447017e-01 -1.23473987e-06]]\n",
      "grad_W1_L: [[-0.34168949  0.90045702]\n",
      " [ 1.28745154 -3.22935011]]\n",
      "grad_b1_L: [[-0.22497983]\n",
      " [ 0.63300823]]\n",
      "W1 update: \n",
      "[[ 0.53416895  0.4099543 ]\n",
      " [ 0.37125485 -0.17706499]]\n",
      "b1 update: \n",
      "[[0.52249798]\n",
      " [0.43669918]]\n",
      "W2 update: [[-1.00145989  0.82877767]\n",
      " [ 1.00959487 -0.86869723]\n",
      " [-2.00813498  1.03991956]]\n",
      "b2 update: [[-0.12566633]\n",
      " [-0.06789532]\n",
      " [-0.10643835]]\n",
      "Z1: \n",
      "[[ 0.23675834 -0.45893561 -0.6204606 ]\n",
      " [ 1.162084    2.06453381  3.33823847]]\n",
      "A1: \n",
      "[[0.81851686 0.48977926 0.43028566]\n",
      " [1.43427182 2.18398428 3.37312233]]\n",
      "Z2: \n",
      "[[ 0.24331432  1.19387679  2.23898831]\n",
      " [-0.48747286 -1.4706378  -2.56370317]\n",
      " [-0.25860336  1.18118677  2.53726587]]\n",
      "Z2exp: \n",
      "[[ 1.27546947  3.29984927  9.38383294]\n",
      " [ 0.61417654  0.22977889  0.077019  ]\n",
      " [ 0.77212922  3.25823871 12.6450505 ]]\n",
      "Sum: [[ 2.66177524  6.78786687 22.10590244]]\n",
      "A2: \n",
      "[[0.47918    0.48613936 0.42449445]\n",
      " [0.23073945 0.03385141 0.00348409]\n",
      " [0.29008055 0.48000922 0.57202146]]\n",
      "logA2: \n",
      "[[-0.73567896 -0.72125994 -0.85685634]\n",
      " [-1.46646614 -3.38577453 -5.65954782]\n",
      " [-1.23759664 -0.73394996 -0.55857878]]\n",
      "Yh*logA2: \n",
      "[[-0.73567896 -0.         -0.        ]\n",
      " [-0.         -3.38577453 -0.        ]\n",
      " [-0.         -0.         -0.55857878]]\n",
      "Loss: 1.5600107563226946\n"
     ]
    }
   ],
   "source": [
    "# back propagation\n",
    "# dL/dA2\n",
    "print(\"Yonehot: \\n{}\".format(Yh))\n",
    "grad_A2_L = -Yh/A2/m\n",
    "print(\"grad_A2_L: \\n{}\".format(grad_A2_L))\n",
    "# layer 2\n",
    "# dL/dZ2\n",
    "prod2 = A2*grad_A2_L\n",
    "print(\"A2*grad_A2_L: \\n{}\".format(prod2))\n",
    "sumterm = np.sum(prod2,axis=0,keepdims=True)\n",
    "print(\"sumterm: {}\".format(sumterm))\n",
    "grad_Z2_L = prod2 - A2*sumterm\n",
    "print(\"grad_Z2_L: \\n{}\".format(grad_Z2_L))\n",
    "grad_W2_L = np.dot(grad_Z2_L,A1.T)\n",
    "grad_b2_L = np.sum(grad_Z2_L,axis=1,keepdims=True)\n",
    "grad_A1_L = np.dot(W2.T,grad_Z2_L)\n",
    "print(\"grad_W2_L: {}\".format(grad_W2_L))\n",
    "print(\"grad_b2_L: {}\".format(grad_b2_L))\n",
    "print(\"grad_A1_L: {}\".format(grad_A1_L))\n",
    "# layer 1\n",
    "dA1dZ1 = 1-np.exp(-A1)\n",
    "print(\"dA1/dZ1: {}\".format(dA1dZ1))\n",
    "grad_Z1_L = grad_A1_L*dA1dZ1\n",
    "print(\"grad_Z1_L: {}\".format(grad_Z1_L))\n",
    "grad_W1_L = np.dot(grad_Z1_L,X.T)\n",
    "grad_b1_L = np.sum(grad_Z1_L,axis=1,keepdims=True)\n",
    "print(\"grad_W1_L: {}\".format(grad_W1_L))\n",
    "print(\"grad_b1_L: {}\".format(grad_b1_L))\n",
    "# gradient descent epoch 1\n",
    "alpha = 0.1\n",
    "# update parameters\n",
    "W1 = W1 - alpha*grad_W1_L\n",
    "b1 = b1 - alpha*grad_b1_L\n",
    "W2 = W2 - alpha*grad_W2_L\n",
    "b2 = b2 - alpha*grad_b2_L\n",
    "print(\"W1 update: \\n{}\".format(W1))\n",
    "print(\"b1 update: \\n{}\".format(b1))\n",
    "print(\"W2 update: {}\".format(W2))\n",
    "print(\"b2 update: {}\".format(b2))\n",
    "# forward propagation\n",
    "# layer 1\n",
    "Z1 = np.dot(W1,X) + b1\n",
    "print(\"Z1: \\n{}\".format(Z1))\n",
    "A1 = np.log(1+np.exp(Z1))\n",
    "print(\"A1: \\n{}\".format(A1))\n",
    "# layer 2\n",
    "Z2 = np.dot(W2,A1) + b2\n",
    "print(\"Z2: \\n{}\".format(Z2))\n",
    "Z2exp = np.exp(Z2)\n",
    "print(\"Z2exp: \\n{}\".format(Z2exp))\n",
    "Sum = np.sum(Z2exp,axis=0,keepdims=True)\n",
    "print(\"Sum: {}\".format(Sum))\n",
    "A2 = Z2exp/Sum\n",
    "print(\"A2: \\n{}\".format(A2))\n",
    "logA2 = np.log(A2)\n",
    "print(\"logA2: \\n{}\".format(logA2))\n",
    "YhlogA2 = Yh*logA2\n",
    "print(\"Yh*logA2: \\n{}\".format(YhlogA2))\n",
    "# recompute loss\n",
    "Loss = -np.sum(Yh*np.log(A2))/m\n",
    "print(\"Loss: {}\".format(Loss))"
   ]
  },
  {
   "cell_type": "markdown",
   "metadata": {},
   "source": [
    "**(c)**\tCompute the prediction based on input feature matrix X above after the 1 epoch."
   ]
  },
  {
   "cell_type": "code",
   "execution_count": 7,
   "metadata": {},
   "outputs": [],
   "source": [
    "def onehot_inverse(A):\n",
    "    return np.expand_dims(np.argmax(A,axis=0),axis=0)"
   ]
  },
  {
   "cell_type": "code",
   "execution_count": 8,
   "metadata": {},
   "outputs": [
    {
     "name": "stdout",
     "output_type": "stream",
     "text": [
      "Z1: [[ 0.23675834 -0.45893561 -0.6204606 ]\n",
      " [ 1.162084    2.06453381  3.33823847]]\n",
      "A1: [[0.81851686 0.48977926 0.43028566]\n",
      " [1.43427182 2.18398428 3.37312233]]\n",
      "Z2: [[ 0.24331432  1.19387679  2.23898831]\n",
      " [-0.48747286 -1.4706378  -2.56370317]\n",
      " [-0.25860336  1.18118677  2.53726587]]\n",
      "A2: [[0.47918    0.48613936 0.42449445]\n",
      " [0.23073945 0.03385141 0.00348409]\n",
      " [0.29008055 0.48000922 0.57202146]]\n",
      "Prediction: [[0 0 2]]\n"
     ]
    }
   ],
   "source": [
    "# forward propagation\n",
    "# layer 1\n",
    "Z1 = np.dot(W1,X) + b1\n",
    "print(\"Z1: {}\".format(Z1))\n",
    "A1 = np.log(1+np.exp(Z1))\n",
    "print(\"A1: {}\".format(A1))\n",
    "# layer 2\n",
    "Z2 = np.dot(W2,A1) + b2\n",
    "print(\"Z2: {}\".format(Z2))\n",
    "Z2exp = np.exp(Z2)\n",
    "A2 = Z2exp/np.sum(Z2exp,axis=0,keepdims=True)\n",
    "print(\"A2: {}\".format(A2))\n",
    "# prediction\n",
    "Y_pred = onehot_inverse(A2)\n",
    "print(\"Prediction: {}\".format(Y_pred))"
   ]
  },
  {
   "cell_type": "markdown",
   "metadata": {},
   "source": [
    "**(d)**\tCompute the accuracy of the prediction in (c) when compared against the actual Y specified above."
   ]
  },
  {
   "cell_type": "code",
   "execution_count": 9,
   "metadata": {},
   "outputs": [
    {
     "name": "stdout",
     "output_type": "stream",
     "text": [
      "accuracy: 0.6666666666666666\n"
     ]
    }
   ],
   "source": [
    "# compute accuracy\n",
    "accuracy = np.mean(np.absolute(Y-Y_pred)<1e-7)\n",
    "print(\"accuracy: {}\".format(accuracy))"
   ]
  },
  {
   "cell_type": "code",
   "execution_count": null,
   "metadata": {},
   "outputs": [],
   "source": []
  }
 ],
 "metadata": {
  "kernelspec": {
   "display_name": "IntroML-env",
   "language": "python",
   "name": "introml-env"
  },
  "language_info": {
   "codemirror_mode": {
    "name": "ipython",
    "version": 3
   },
   "file_extension": ".py",
   "mimetype": "text/x-python",
   "name": "python",
   "nbconvert_exporter": "python",
   "pygments_lexer": "ipython3",
   "version": "3.7.1"
  }
 },
 "nbformat": 4,
 "nbformat_minor": 4
}
