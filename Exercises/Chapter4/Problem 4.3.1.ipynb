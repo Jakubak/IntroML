{
 "cells": [
  {
   "cell_type": "markdown",
   "metadata": {},
   "source": [
    "# Problem 4.3.1 \n",
    "For the Problem 4.2.2 compute the derivatives $\\frac{\\partial L}{\\partial W_0}, \\frac{\\partial L}{\\partial W_1}, \\frac{\\partial L}{\\partial b}$ using the centred differences method with $\\epsilon=0.1$ and compare with derivatives found in 4.2.2(c). \n",
    "\n",
    "## Recall:\n",
    "\n",
    "$X = \\begin{bmatrix} 3 & 1 & -1 \\\\ 1 & -2 & 2 \\end{bmatrix}, Y = \\begin{bmatrix} 1 & 2 & 3 \\end{bmatrix}$\n",
    "\n",
    "\n",
    "$W = \\begin{bmatrix} W_0 & W_1 \\end{bmatrix} = \\begin{bmatrix} 2 & -1 \\end{bmatrix},      b=-1 $\n",
    "\n",
    "\n",
    "$L = \\frac{1}{m} \\sum\\limits_{j=0}^{m-1} log(cosh(A_j-Y_j))$\n",
    "\n",
    "$\\frac{\\partial L}{\\partial W_0} \\approx \\frac{L(W_0 + \\epsilon) -L(W_0 - \\epsilon)}{2 \\epsilon} = \\frac{L(2 + 0.1) -L(2 - 0.1)}{2 (0.1)}$ \n",
    "\n",
    "$\\frac{\\partial L}{\\partial W_1} \\approx \\frac{L(W_1 + \\epsilon) -L(W_1 - \\epsilon)}{2 \\epsilon} = \\frac{L(-1 + 0.1) -L(-1 - 0.1)}{2 (0.1)}$ \n",
    "\n",
    "$\\frac{\\partial L}{\\partial W_1} \\approx \\frac{L(b + \\epsilon) -L(b - \\epsilon)}{2 \\epsilon} = \\frac{L(-1 + 0.1) -L(-1 - 0.1)}{2 (0.1)}$ "
   ]
  },
  {
   "cell_type": "code",
   "execution_count": 5,
   "metadata": {},
   "outputs": [],
   "source": [
    "import numpy as np"
   ]
  },
  {
   "cell_type": "code",
   "execution_count": 9,
   "metadata": {},
   "outputs": [],
   "source": [
    "X = np.array([[3, 1, -1], [1, -2, 2]])\n",
    "Y = np.array([[1, 2, 3]])\n",
    "W = np.array([[2, -1]])\n",
    "b = np.array([[-1]])\n",
    "eps = 0.1"
   ]
  },
  {
   "cell_type": "code",
   "execution_count": 10,
   "metadata": {},
   "outputs": [],
   "source": [
    "# define loss function\n",
    "def Loss(A, Y):\n",
    "    return np.mean(np.log(np.cosh(A-Y)))"
   ]
  },
  {
   "cell_type": "code",
   "execution_count": 11,
   "metadata": {},
   "outputs": [
    {
     "name": "stdout",
     "output_type": "stream",
     "text": [
      "dLdW0 ****\n",
      "A plus: [[ 4.3  3.1 -5.1]]\n",
      "Loss plus: 3.509000437933375\n",
      "A minus: [[ 3.7  2.9 -4.9]]\n",
      "Loss minus: 3.1926808726987503\n",
      "Estimated dL/dW0: 1.5815978261731223\n",
      "dL/dW0 Using Gradient Descent: 1.58225273\n"
     ]
    }
   ],
   "source": [
    "# estimated dLdW0\n",
    "print(\"dLdW0 ****\")\n",
    "W = np.array([[2+eps,-1]])\n",
    "Z = np.dot(W,X) + b\n",
    "A = Z\n",
    "print(\"A plus: {}\".format(A))\n",
    "Lossp = Loss(A,Y)\n",
    "print(\"Loss plus: {}\".format(Lossp))\n",
    "W = np.array([[2-eps,-1]])\n",
    "Z = np.dot(W,X) + b\n",
    "A = Z\n",
    "print(\"A minus: {}\".format(A))\n",
    "Lossm = Loss(A,Y)\n",
    "print(\"Loss minus: {}\".format(Lossm))\n",
    "dLdW0 = (Lossp - Lossm)/2/eps\n",
    "print(\"Estimated dL/dW0: {}\".format(dLdW0))\n",
    "print(\"dL/dW0 Using Gradient Descent: {}\".format(1.58225273))"
   ]
  },
  {
   "cell_type": "code",
   "execution_count": 15,
   "metadata": {},
   "outputs": [
    {
     "name": "stdout",
     "output_type": "stream",
     "text": [
      "dLdW0 ****\n",
      "A plus: [[ 4.1  2.8 -4.8]]\n",
      "Loss plus: 3.2688289137383593\n",
      "A minus: [[ 3.9  3.2 -5.2]]\n",
      "Loss minus: 3.4368058889465085\n",
      "Estimated dL/dW1: -0.8398848760407462\n",
      "dL/dW1 Using Gradient Descent: -0.84271104\n"
     ]
    }
   ],
   "source": [
    "# estimated dLdW1\n",
    "print(\"dLdW1 ****\")\n",
    "W = np.array([[2,-1+eps]])\n",
    "Z = np.dot(W,X) + b\n",
    "A = Z\n",
    "print(\"A plus: {}\".format(A))\n",
    "Lossp = Loss(A,Y)\n",
    "print(\"Loss plus: {}\".format(Lossp))\n",
    "W = np.array([[2,-1-eps]])\n",
    "Z = np.dot(W,X) + b\n",
    "A = Z\n",
    "print(\"A minus: {}\".format(A))\n",
    "Lossm = Loss(A,Y)\n",
    "print(\"Loss minus: {}\".format(Lossm))\n",
    "dLdW1 = (Lossp - Lossm)/2/eps\n",
    "print(\"Estimated dL/dW1: {}\".format(dLdW1))\n",
    "print(\"dL/dW1 Using Gradient Descent: {}\".format(-0.84271104))"
   ]
  },
  {
   "cell_type": "code",
   "execution_count": 18,
   "metadata": {},
   "outputs": [
    {
     "name": "stdout",
     "output_type": "stream",
     "text": [
      "dLdb ****\n",
      "A plus: [[ 4.1  3.1 -4.9]]\n",
      "Loss plus: 3.375889763221154\n",
      "A minus: [[ 3.9  2.9 -5.1]]\n",
      "Loss minus: 3.3255197139710244\n",
      "Estimated dL/db: 0.2518502462506489\n",
      "dL/db Using Gradient Descent: 0.25221638\n"
     ]
    }
   ],
   "source": [
    "# estimated dLdb\n",
    "print(\"dLdb ****\")\n",
    "W = np.array([[2, -1]])\n",
    "b = np.array([[-1+eps]])\n",
    "Z = np.dot(W,X) + b\n",
    "A = Z\n",
    "print(\"A plus: {}\".format(A))\n",
    "Lossp = Loss(A,Y)\n",
    "print(\"Loss plus: {}\".format(Lossp))\n",
    "b = np.array([[-1-eps]])\n",
    "Z = np.dot(W,X) + b\n",
    "A = Z\n",
    "print(\"A minus: {}\".format(A))\n",
    "Lossm = Loss(A,Y)\n",
    "print(\"Loss minus: {}\".format(Lossm))\n",
    "dLdb = (Lossp - Lossm)/2/eps\n",
    "print(\"Estimated dL/db: {}\".format(dLdb))\n",
    "print(\"dL/db Using Gradient Descent: {}\".format(0.25221638))"
   ]
  }
 ],
 "metadata": {
  "kernelspec": {
   "display_name": "MLCourse-env",
   "language": "python",
   "name": "mlcourse-env"
  },
  "language_info": {
   "codemirror_mode": {
    "name": "ipython",
    "version": 3
   },
   "file_extension": ".py",
   "mimetype": "text/x-python",
   "name": "python",
   "nbconvert_exporter": "python",
   "pygments_lexer": "ipython3",
   "version": "3.7.1"
  }
 },
 "nbformat": 4,
 "nbformat_minor": 4
}
