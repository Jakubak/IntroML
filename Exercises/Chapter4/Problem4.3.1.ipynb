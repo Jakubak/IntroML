{
 "cells": [
  {
   "cell_type": "markdown",
   "metadata": {},
   "source": [
    "# Problem 4.3.1 \n",
    "For the Problem 4.2.2 compute the derivatives $\\frac{\\partial L}{\\partial W_0}, \\frac{\\partial L}{\\partial W_1}, \\frac{\\partial L}{\\partial b}$ using the centred differences method with $\\epsilon=0.1$ and compare with derivatives found in 4.2.2(c). \n",
    "\n",
    "## Recall:\n",
    "\n",
    "$X = \\begin{bmatrix} 3 & 1 & -1 \\\\ 1 & -2 & 2 \\end{bmatrix}, Y = \\begin{bmatrix} 1 & 2 & 3 \\end{bmatrix}$\n",
    "\n",
    "\n",
    "$W = \\begin{bmatrix} W_0 & W_1 \\end{bmatrix} = \\begin{bmatrix} 2 & -1 \\end{bmatrix},      b=-1 $\n",
    "\n",
    "\n",
    "$L = \\frac{1}{m} \\sum\\limits_{j=0}^{m-1} log(cosh(A_j-Y_j))$\n",
    "\n",
    "$\\frac{\\partial L}{\\partial W_0} \\approx \\frac{L(W_0 + \\epsilon) -L(W_0 - \\epsilon)}{2 \\epsilon} = \\frac{L(2 + 0.1) -L(2 - 0.1)}{2 (0.1)}$ \n",
    "\n",
    "$\\frac{\\partial L}{\\partial W_1} \\approx \\frac{L(W_1 + \\epsilon) -L(W_1 - \\epsilon)}{2 \\epsilon} = \\frac{L(-1 + 0.1) -L(-1 - 0.1)}{2 (0.1)}$ \n",
    "\n",
    "$\\frac{\\partial L}{\\partial W_1} \\approx \\frac{L(b + \\epsilon) -L(b - \\epsilon)}{2 \\epsilon} = \\frac{L(-1 + 0.1) -L(-1 - 0.1)}{2 (0.1)}$ "
   ]
  },
  {
   "cell_type": "code",
   "execution_count": null,
   "metadata": {},
   "outputs": [],
   "source": [
    "import numpy as np"
   ]
  },
  {
   "cell_type": "code",
   "execution_count": null,
   "metadata": {},
   "outputs": [],
   "source": [
    "X = np.array([[3, 1, -1], [1, -2, 2]])\n",
    "Y = np.array([[1, 2, 3]])\n",
    "W = np.array([[2, -1]])\n",
    "b = np.array([[-1]])\n",
    "eps = 0.1"
   ]
  },
  {
   "cell_type": "code",
   "execution_count": null,
   "metadata": {},
   "outputs": [],
   "source": [
    "# define loss function\n",
    "def Loss(A, Y):\n",
    "    m = Y.shape[1]\n",
    "    return np.sum(np.log(np.cosh(A-Y)))/m"
   ]
  },
  {
   "cell_type": "code",
   "execution_count": null,
   "metadata": {},
   "outputs": [],
   "source": [
    "# estimated dLdW0\n",
    "print(\"dLdW0 ****\")\n",
    "W = np.array([[2+eps,-1]])\n",
    "Z = np.dot(W,X) + b\n",
    "A = Z\n",
    "print(\"A plus: {}\".format(A))\n",
    "Lossp = Loss(A,Y)\n",
    "print(\"Loss plus: {}\".format(Lossp))\n",
    "W = np.array([[2-eps,-1]])\n",
    "Z = np.dot(W,X) + b\n",
    "A = Z\n",
    "print(\"A minus: {}\".format(A))\n",
    "Lossm = Loss(A,Y)\n",
    "print(\"Loss minus: {}\".format(Lossm))\n",
    "dLdW0 = (Lossp - Lossm)/2/eps\n",
    "print(\"Estimated dL/dW0: {}\".format(dLdW0))\n",
    "print(\"dL/dW0 Using Gradient Descent: {}\".format(1.58225273))"
   ]
  },
  {
   "cell_type": "code",
   "execution_count": null,
   "metadata": {},
   "outputs": [],
   "source": [
    "# estimated dLdW1\n",
    "print(\"dLdW1 ****\")\n",
    "W = np.array([[2,-1+eps]])\n",
    "Z = np.dot(W,X) + b\n",
    "A = Z\n",
    "print(\"A plus: {}\".format(A))\n",
    "Lossp = Loss(A,Y)\n",
    "print(\"Loss plus: {}\".format(Lossp))\n",
    "W = np.array([[2,-1-eps]])\n",
    "Z = np.dot(W,X) + b\n",
    "A = Z\n",
    "print(\"A minus: {}\".format(A))\n",
    "Lossm = Loss(A,Y)\n",
    "print(\"Loss minus: {}\".format(Lossm))\n",
    "dLdW1 = (Lossp - Lossm)/2/eps\n",
    "print(\"Estimated dL/dW1: {}\".format(dLdW1))\n",
    "print(\"dL/dW1 Using Gradient Descent: {}\".format(-0.84271104))"
   ]
  },
  {
   "cell_type": "code",
   "execution_count": null,
   "metadata": {},
   "outputs": [],
   "source": [
    "# estimated dLdb\n",
    "print(\"dLdb ****\")\n",
    "W = np.array([[2, -1]])\n",
    "b = np.array([[-1+eps]])\n",
    "Z = np.dot(W,X) + b\n",
    "A = Z\n",
    "print(\"A plus: {}\".format(A))\n",
    "Lossp = Loss(A,Y)\n",
    "print(\"Loss plus: {}\".format(Lossp))\n",
    "b = np.array([[-1-eps]])\n",
    "Z = np.dot(W,X) + b\n",
    "A = Z\n",
    "print(\"A minus: {}\".format(A))\n",
    "Lossm = Loss(A,Y)\n",
    "print(\"Loss minus: {}\".format(Lossm))\n",
    "dLdb = (Lossp - Lossm)/2/eps\n",
    "print(\"Estimated dL/db: {}\".format(dLdb))\n",
    "print(\"dL/db Using Gradient Descent: {}\".format(0.25221638))"
   ]
  },
  {
   "cell_type": "code",
   "execution_count": null,
   "metadata": {},
   "outputs": [],
   "source": []
  }
 ],
 "metadata": {
  "kernelspec": {
   "display_name": "IntroML-env",
   "language": "python",
   "name": "introml-env"
  },
  "language_info": {
   "codemirror_mode": {
    "name": "ipython",
    "version": 3
   },
   "file_extension": ".py",
   "mimetype": "text/x-python",
   "name": "python",
   "nbconvert_exporter": "python",
   "pygments_lexer": "ipython3",
   "version": "3.7.1"
  }
 },
 "nbformat": 4,
 "nbformat_minor": 4
}
