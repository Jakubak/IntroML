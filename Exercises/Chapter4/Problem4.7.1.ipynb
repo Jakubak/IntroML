{
 "cells": [
  {
   "cell_type": "markdown",
   "metadata": {},
   "source": [
    "# Problem 4.7.1 \n",
    "Consider binary classification using Logistic Regression and the following training data:\n",
    "\n",
    "$X = \\begin{bmatrix} 3 & 1 & -1 \\\\ 1 & -2 & 2 \\end{bmatrix}, Y = \\begin{bmatrix} 0 & 1 & 1 \\end{bmatrix}$\n",
    "\n",
    "Assume that \n",
    "\n",
    "$W = \\begin{bmatrix} W_0 & W_1 \\end{bmatrix} = \\begin{bmatrix} 2 & -1 \\end{bmatrix},      b=-1 $"
   ]
  },
  {
   "cell_type": "code",
   "execution_count": null,
   "metadata": {},
   "outputs": [],
   "source": [
    "import numpy as np"
   ]
  },
  {
   "cell_type": "code",
   "execution_count": null,
   "metadata": {},
   "outputs": [],
   "source": [
    "X = np.array([[3, 1, -1], [1, -2, 2]])\n",
    "Y = np.array([[0, 1, 1]])\n",
    "W = np.array([[2, -1]])\n",
    "b = np.array([[-1]])\n",
    "m = X.shape[1]"
   ]
  },
  {
   "cell_type": "markdown",
   "metadata": {},
   "source": [
    "**(a)** Perform forward propagation using above training data and parameters. "
   ]
  },
  {
   "cell_type": "code",
   "execution_count": null,
   "metadata": {},
   "outputs": [],
   "source": [
    "# forward propagation\n",
    "Z = np.dot(W,X)+b\n",
    "A = 1/(1+np.exp(-Z))\n",
    "print(\"Z: {}\".format(Z))\n",
    "print(\"A: {}\".format(A))"
   ]
  },
  {
   "cell_type": "markdown",
   "metadata": {},
   "source": [
    "**(b)**\tCompute the value of the loss function (binary cross entropy) after forward propagation."
   ]
  },
  {
   "cell_type": "code",
   "execution_count": null,
   "metadata": {},
   "outputs": [],
   "source": [
    "# Loss function\n",
    "L = -np.sum(Y*np.log(A)+(1-Y)*np.log(1-A))/m\n",
    "print(\"Loss: {}\".format(L))"
   ]
  },
  {
   "cell_type": "markdown",
   "metadata": {},
   "source": [
    "**(c)**\tPerform back propagation for the above training data and parameter matrices to determine $\\nabla_WL$ and $\\nabla_bL$"
   ]
  },
  {
   "cell_type": "code",
   "execution_count": null,
   "metadata": {},
   "outputs": [],
   "source": [
    "# back propagation\n",
    "grad_AL = -1/m*(Y/A - (1-Y)/(1-A))\n",
    "print(\"grad_AL: {}\".format(grad_AL))\n",
    "dAdZ = A-np.square(A)\n",
    "print(\"dAdZ: {}\".format(dAdZ))\n",
    "grad_ZL = grad_AL*dAdZ\n",
    "print(\"grad_ZL: {}\".format(grad_ZL))\n",
    "grad_WL = np.dot(grad_ZL,X.T)\n",
    "grad_bL = np.sum(grad_ZL,axis=1,keepdims=True)\n",
    "print(\"grad_WL: {}\".format(grad_WL))\n",
    "print(\"grad_bL: {}\".format(grad_bL))"
   ]
  },
  {
   "cell_type": "markdown",
   "metadata": {},
   "source": [
    "**(d)** Perform 1 epoch of training using Gradient Descent with learning rate of 0.1 and recompute the loss function with the updated W,b"
   ]
  },
  {
   "cell_type": "code",
   "execution_count": null,
   "metadata": {},
   "outputs": [],
   "source": [
    "alpha = 0.1\n",
    "# update W and b\n",
    "W = W - alpha*grad_WL\n",
    "b = b - alpha*grad_bL\n",
    "print(\"update W and b\")\n",
    "print(\"W epoch 1: {}\".format(W))\n",
    "print(\"b epoch 1: {}\".format(b))\n",
    "# recompute loss\n",
    "Z = np.dot(W,X) + b\n",
    "A = 1/(1+np.exp(-Z))\n",
    "L = -np.sum(Y*np.log(A)+(1-Y)*np.log(1-A))/m\n",
    "print(\"Loss epoch 1: {}\".format(L))"
   ]
  },
  {
   "cell_type": "markdown",
   "metadata": {},
   "source": [
    "**(e)**\tCompute the prediction based on input feature matrix X above and the updated W,b from (d)"
   ]
  },
  {
   "cell_type": "code",
   "execution_count": null,
   "metadata": {},
   "outputs": [],
   "source": [
    "# prediction\n",
    "# forward propagation\n",
    "Z = np.dot(W,X)+b\n",
    "A = 1/(1+np.exp(-Z))\n",
    "Y_pred = np.round(A)\n",
    "print(\"A: {}\".format(A))\n",
    "print(\"predicted Y: {}\".format(Y_pred))"
   ]
  },
  {
   "cell_type": "markdown",
   "metadata": {},
   "source": [
    "**(f)**\tCompute the accuracy of the prediction in (e) when compared against the actual Y specified above."
   ]
  },
  {
   "cell_type": "code",
   "execution_count": null,
   "metadata": {},
   "outputs": [],
   "source": [
    "# compute accuracy\n",
    "accuracy = np.mean(np.absolute(Y-Y_pred)<1e-7)\n",
    "print(\"accuracy: {}\".format(accuracy))"
   ]
  },
  {
   "cell_type": "markdown",
   "metadata": {},
   "source": [
    "**(g)** Compute the derivatives $\\frac{\\partial L}{\\partial W_0}, \\frac{\\partial L}{\\partial W_1}, \\frac{\\partial L}{\\partial b}$ using the centred differences method with $\\epsilon=0.1$"
   ]
  },
  {
   "cell_type": "code",
   "execution_count": null,
   "metadata": {},
   "outputs": [],
   "source": [
    "eps = 0.1\n",
    "\n",
    "# estimated dLdW0\n",
    "print(\"dLdW0 ****\")\n",
    "W = np.array([[2+eps,-1]])\n",
    "Z = np.dot(W,X) + b\n",
    "A = 1/(1+np.exp(-Z))\n",
    "print(\"A plus: {}\".format(A))\n",
    "Lossp = -np.sum(Y*np.log(A)+(1-Y)*np.log(1-A))/m\n",
    "print(\"Loss plus: {}\".format(Lossp))\n",
    "W = np.array([[2-eps,-1]])\n",
    "Z = np.dot(W,X) + b\n",
    "A = 1/(1+np.exp(-Z))\n",
    "print(\"A minus: {}\".format(A))\n",
    "Lossm = -np.mean(Y*np.log(A)+(1-Y)*np.log(1-A))\n",
    "print(\"Loss minus: {}\".format(Lossm))\n",
    "dLdW0 = (Lossp - Lossm)/2/eps\n",
    "print(\"Estimated dL/dW0: {}\".format(dLdW0))"
   ]
  },
  {
   "cell_type": "code",
   "execution_count": null,
   "metadata": {},
   "outputs": [],
   "source": [
    "# estimated dLdW1\n",
    "print(\"dLdW1 ****\")\n",
    "W = np.array([[2,-1+eps]])\n",
    "Z = np.dot(W,X) + b\n",
    "A = 1/(1+np.exp(-Z))\n",
    "print(\"A plus: {}\".format(A))\n",
    "Lossp = -np.mean(Y*np.log(A)+(1-Y)*np.log(1-A))\n",
    "print(\"Loss plus: {}\".format(Lossp))\n",
    "W = np.array([[2,-1-eps]])\n",
    "Z = np.dot(W,X) + b\n",
    "A = 1/(1+np.exp(-Z))\n",
    "print(\"A minus: {}\".format(A))\n",
    "Lossm = -np.mean(Y*np.log(A)+(1-Y)*np.log(1-A))\n",
    "print(\"Loss minus: {}\".format(Lossm))\n",
    "dLdW1 = (Lossp - Lossm)/2/eps\n",
    "print(\"Estimated dL/dW1: {}\".format(dLdW1))"
   ]
  },
  {
   "cell_type": "code",
   "execution_count": null,
   "metadata": {},
   "outputs": [],
   "source": [
    "# estimated dLdb\n",
    "print(\"dLdb ****\")\n",
    "W = np.array([[2, -1]])\n",
    "b = np.array([[-1+eps]])\n",
    "Z = np.dot(W,X) + b\n",
    "A = 1/(1+np.exp(-Z))\n",
    "print(\"A plus: {}\".format(A))\n",
    "Lossp = -np.mean(Y*np.log(A)+(1-Y)*np.log(1-A))\n",
    "print(\"Loss plus: {}\".format(Lossp))\n",
    "b = np.array([[-1-eps]])\n",
    "Z = np.dot(W,X) + b\n",
    "A = 1/(1+np.exp(-Z))\n",
    "print(\"A minus: {}\".format(A))\n",
    "Lossm = -np.mean(Y*np.log(A)+(1-Y)*np.log(1-A))\n",
    "print(\"Loss minus: {}\".format(Lossm))\n",
    "dLdb = (Lossp - Lossm)/2/eps\n",
    "print(\"Estimated dL/db: {}\".format(dLdb))"
   ]
  },
  {
   "cell_type": "markdown",
   "metadata": {},
   "source": [
    "**(h)** Focusing on the derivative $\\frac{\\partial L}{\\partial W_0}$, redo the calculation in (f) with $\\epsilon=0.02, 0.01, 0.005$. Confirm that the error (absolute difference) in the approximate derivative when compared to the actual derivative computed in (c) decreases by a factor of 4 when $\\epsilon$ is cut in half."
   ]
  },
  {
   "cell_type": "code",
   "execution_count": null,
   "metadata": {},
   "outputs": [],
   "source": [
    "eps = 0.02\n",
    "\n",
    "# estimated dLdW0\n",
    "print(\"dLdW0, eps = {}\".format(eps))\n",
    "W = np.array([[2+eps,-1]])\n",
    "b = np.array([[-1]])\n",
    "Z = np.dot(W,X) + b\n",
    "A = 1/(1+np.exp(-Z))\n",
    "Lossp = -np.sum(Y*np.log(A)+(1-Y)*np.log(1-A))/m\n",
    "W = np.array([[2-eps,-1]])\n",
    "Z = np.dot(W,X) + b\n",
    "A = 1/(1+np.exp(-Z))\n",
    "Lossm = -np.sum(Y*np.log(A)+(1-Y)*np.log(1-A))/m\n",
    "dLdW0 = (Lossp - Lossm)/2/eps\n",
    "print(\"Estimated dL/dW0: {}\".format(dLdW0))\n",
    "error = np.absolute(grad_WL[0,0]-dLdW0)\n",
    "print(\"Error: {}\".format(error))"
   ]
  },
  {
   "cell_type": "code",
   "execution_count": null,
   "metadata": {},
   "outputs": [],
   "source": [
    "eps = 0.01\n",
    "\n",
    "# estimated dLdW0\n",
    "print(\"dLdW0, eps = {}\".format(eps))\n",
    "W = np.array([[2+eps,-1]])\n",
    "b = np.array([[-1]])\n",
    "Z = np.dot(W,X) + b\n",
    "A = 1/(1+np.exp(-Z))\n",
    "Lossp = -np.sum(Y*np.log(A)+(1-Y)*np.log(1-A))/m\n",
    "W = np.array([[2-eps,-1]])\n",
    "Z = np.dot(W,X) + b\n",
    "A = 1/(1+np.exp(-Z))\n",
    "Lossm = -np.sum(Y*np.log(A)+(1-Y)*np.log(1-A))/m\n",
    "dLdW0 = (Lossp - Lossm)/2/eps\n",
    "print(\"Estimated dL/dW0: {}\".format(dLdW0))\n",
    "error = np.absolute(grad_WL[0,0]-dLdW0)\n",
    "print(\"Error: {}\".format(error))"
   ]
  },
  {
   "cell_type": "code",
   "execution_count": null,
   "metadata": {},
   "outputs": [],
   "source": [
    "eps = 0.005\n",
    "\n",
    "# estimated dLdW0\n",
    "print(\"dLdW0, eps = {}\".format(eps))\n",
    "W = np.array([[2+eps,-1]])\n",
    "b = np.array([[-1]])\n",
    "Z = np.dot(W,X) + b\n",
    "A = 1/(1+np.exp(-Z))\n",
    "Lossp = -np.sum(Y*np.log(A)+(1-Y)*np.log(1-A))/m\n",
    "W = np.array([[2-eps,-1]])\n",
    "Z = np.dot(W,X) + b\n",
    "A = 1/(1+np.exp(-Z))\n",
    "Lossm = -np.sum(Y*np.log(A)+(1-Y)*np.log(1-A))/m\n",
    "dLdW0 = (Lossp - Lossm)/2/eps\n",
    "print(\"Estimated dL/dW0: {}\".format(dLdW0))\n",
    "error = np.absolute(grad_WL[0,0]-dLdW0)\n",
    "print(\"Error: {}\".format(error))"
   ]
  },
  {
   "cell_type": "markdown",
   "metadata": {},
   "source": [
    "Notice that the error is 1.12e-5 when $\\epsilon=0.02$ and error is 2.82e-6 when $\\epsilon=0.01$. Hence error is roughly one fourth the value when $\\epsilon$ drops by one half. Similarly, error is 2.82e-6 when $\\epsilon=0.01$ and 7.04e-7 when $\\epsilon=0.005$. Hence again, error is roughly one fourth the value when $\\epsilon$ drops by one half."
   ]
  },
  {
   "cell_type": "code",
   "execution_count": null,
   "metadata": {},
   "outputs": [],
   "source": []
  }
 ],
 "metadata": {
  "kernelspec": {
   "display_name": "IntroML-env",
   "language": "python",
   "name": "introml-env"
  },
  "language_info": {
   "codemirror_mode": {
    "name": "ipython",
    "version": 3
   },
   "file_extension": ".py",
   "mimetype": "text/x-python",
   "name": "python",
   "nbconvert_exporter": "python",
   "pygments_lexer": "ipython3",
   "version": "3.7.1"
  }
 },
 "nbformat": 4,
 "nbformat_minor": 4
}
