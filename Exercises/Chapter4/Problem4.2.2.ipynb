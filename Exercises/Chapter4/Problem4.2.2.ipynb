{
 "cells": [
  {
   "cell_type": "markdown",
   "metadata": {},
   "source": [
    "# Problem 4.2.2 \n",
    "\n",
    "Consider linear regression using the following training data:\n",
    "\n",
    "Let $X = \\begin{bmatrix} 3 & 1 & -1 \\\\ 1 & -2 & 2 \\end{bmatrix}, Y = \\begin{bmatrix} 1 & 2 & 3 \\end{bmatrix}$\n",
    "\n",
    "Assume that \n",
    "\n",
    "$W = \\begin{bmatrix} W_0 & W_1 \\end{bmatrix} = \\begin{bmatrix} 2 & -1 \\end{bmatrix},      b=-1 $\n",
    "\n",
    "\n",
    "**Log-Cosh Loss:**\n",
    "\n",
    "$L = \\frac{1}{m} \\sum\\limits_{j=0}^{m-1} log(cosh(A_j-Y_j))$\n",
    "\n",
    "Use the Log-Cosh Loss function for this problem."
   ]
  },
  {
   "cell_type": "code",
   "execution_count": null,
   "metadata": {},
   "outputs": [],
   "source": [
    "import numpy as np"
   ]
  },
  {
   "cell_type": "code",
   "execution_count": null,
   "metadata": {},
   "outputs": [],
   "source": [
    "# remember to specify all matrices as 2d numpy arrays\n",
    "X = np.array([[3, 1, -1], [1, -2, 2]])\n",
    "Y = np.array([[1, 2, 3]])\n",
    "W = np.array([[2, -1]])\n",
    "b = np.array([[-1]])\n",
    "# number of samples m is number of columns of X\n",
    "m = X.shape[1]"
   ]
  },
  {
   "cell_type": "markdown",
   "metadata": {},
   "source": [
    "**(a)** Perform forward propagation for the above W,b."
   ]
  },
  {
   "cell_type": "code",
   "execution_count": null,
   "metadata": {},
   "outputs": [],
   "source": [
    "# forward propagation\n",
    "Z = np.dot(W,X) + b\n",
    "A = Z\n",
    "print(\"Z: {}\".format(Z))\n",
    "print(\"A: {}\".format(A))"
   ]
  },
  {
   "cell_type": "markdown",
   "metadata": {},
   "source": [
    "**(b)**\tCompute the Loss function after forward propagation."
   ]
  },
  {
   "cell_type": "code",
   "execution_count": null,
   "metadata": {},
   "outputs": [],
   "source": [
    "# use the log-cosh loss function\n",
    "L = np.sum(np.log(np.cosh(A-Y)))/m\n",
    "print(\"Loss: {}\".format(L))"
   ]
  },
  {
   "cell_type": "markdown",
   "metadata": {},
   "source": [
    "**(c)**\tPerform back propagation for the above training data and parameter matrices to determine $\\nabla_WL$ and $\\nabla_bL$"
   ]
  },
  {
   "cell_type": "code",
   "execution_count": null,
   "metadata": {},
   "outputs": [],
   "source": [
    "# back propagation\n",
    "# remember to use the gradient of the log-cosh loss function\n",
    "grad_AL = np.tanh(A-Y)/m\n",
    "print(\"grad_AL: {}\".format(grad_AL))\n",
    "# A = Z, so dA/dZ is row vector of 1\n",
    "dAdZ = np.ones(Y.shape)\n",
    "print(\"dAdZ: {}\".format(dAdZ))\n",
    "grad_ZL = grad_AL*dAdZ\n",
    "print(\"grad_ZL: {}\".format(grad_ZL))\n",
    "grad_WL = np.dot(grad_ZL,X.T)\n",
    "grad_bL = np.sum(grad_ZL,axis=1,keepdims=True)\n",
    "print(\"grad_WL: {}\".format(grad_WL))\n",
    "print(\"grad_bL: {}\".format(grad_bL))"
   ]
  },
  {
   "cell_type": "markdown",
   "metadata": {},
   "source": [
    "**(d)** Perform 1 epoch of training using Gradient Descent with learning rate of 0.2 and recompute the loss function with the updated W,b"
   ]
  },
  {
   "cell_type": "code",
   "execution_count": null,
   "metadata": {},
   "outputs": [],
   "source": [
    "alpha = 0.2\n",
    "# update W and b\n",
    "W = W - alpha*grad_WL\n",
    "b = b - alpha*grad_bL\n",
    "print(\"update W and b\")\n",
    "print(\"W epoch 1: {}\".format(W))\n",
    "print(\"b epoch 1: {}\".format(b))\n",
    "# recompute loss\n",
    "Z = np.dot(W,X) + b\n",
    "A = Z\n",
    "L = np.sum(np.log(np.cosh(A-Y)))/m\n",
    "print(\"Loss epoch 1: {}\".format(L))"
   ]
  },
  {
   "cell_type": "markdown",
   "metadata": {},
   "source": [
    "**(e)**\tCompute the prediction based on input feature matrix X above and the updated W,b from (d)"
   ]
  },
  {
   "cell_type": "code",
   "execution_count": null,
   "metadata": {},
   "outputs": [],
   "source": [
    "Z = np.dot(W,X) + b\n",
    "A = Z\n",
    "print(\"prediction\")\n",
    "print(\"Z: {}\".format(Z))\n",
    "print(\"A: {}\".format(A))"
   ]
  },
  {
   "cell_type": "markdown",
   "metadata": {},
   "source": [
    "**(f)**\tCompute the accuracy of the prediction in (e) when compared against the actual Y specified above."
   ]
  },
  {
   "cell_type": "code",
   "execution_count": null,
   "metadata": {},
   "outputs": [],
   "source": [
    "# Accuracy calculation\n",
    "Accuracy = np.sum(np.absolute(A-Y))/m\n",
    "print(\"Accuracy: {}\".format(Accuracy))"
   ]
  },
  {
   "cell_type": "code",
   "execution_count": null,
   "metadata": {},
   "outputs": [],
   "source": []
  }
 ],
 "metadata": {
  "kernelspec": {
   "display_name": "IntroML-env",
   "language": "python",
   "name": "introml-env"
  },
  "language_info": {
   "codemirror_mode": {
    "name": "ipython",
    "version": 3
   },
   "file_extension": ".py",
   "mimetype": "text/x-python",
   "name": "python",
   "nbconvert_exporter": "python",
   "pygments_lexer": "ipython3",
   "version": "3.7.1"
  }
 },
 "nbformat": 4,
 "nbformat_minor": 4
}
