{
 "cells": [
  {
   "cell_type": "markdown",
   "metadata": {},
   "source": [
    "# Problem 4.2.2 \n",
    "\n",
    "Consider linear regression using the following training data:\n",
    "\n",
    "Let $X = \\begin{bmatrix} 3 & 1 & -1 \\\\ 1 & -2 & 2 \\end{bmatrix}, Y = \\begin{bmatrix} 1 & 2 & 3 \\end{bmatrix}$\n",
    "\n",
    "Assume that \n",
    "\n",
    "$W = \\begin{bmatrix} W_0 & W_1 \\end{bmatrix} = \\begin{bmatrix} 2 & -1 \\end{bmatrix},      b=-1 $\n",
    "\n",
    "\n",
    "**Log-Cosh Loss:**\n",
    "\n",
    "$L = \\frac{1}{m} \\sum\\limits_{j=0}^{m-1} log(cosh(A_j-Y_j))$\n",
    "\n",
    "Use the Log-Cosh Loss function to"
   ]
  },
  {
   "cell_type": "code",
   "execution_count": 43,
   "metadata": {},
   "outputs": [],
   "source": [
    "import numpy as np"
   ]
  },
  {
   "cell_type": "code",
   "execution_count": 44,
   "metadata": {},
   "outputs": [],
   "source": [
    "X = np.array([[3, 1, -1], [1, -2, 2]])\n",
    "Y = np.array([[1, 2, 3]])\n",
    "W = np.array([[2, -1]])\n",
    "b = np.array([[-1]])\n",
    "m = X.shape[1]"
   ]
  },
  {
   "cell_type": "markdown",
   "metadata": {},
   "source": [
    "**(a)** Perform forward propagation for the above W,b."
   ]
  },
  {
   "cell_type": "code",
   "execution_count": 45,
   "metadata": {},
   "outputs": [
    {
     "name": "stdout",
     "output_type": "stream",
     "text": [
      "Z: [[ 4  3 -5]]\n",
      "A: [[ 4  3 -5]]\n"
     ]
    }
   ],
   "source": [
    "# forward propagation\n",
    "Z = np.dot(W,X) + b\n",
    "A = Z\n",
    "print(\"Z: {}\".format(Z))\n",
    "print(\"A: {}\".format(A))"
   ]
  },
  {
   "cell_type": "markdown",
   "metadata": {},
   "source": [
    "**(b)**\tCompute the Loss function after forward propagation."
   ]
  },
  {
   "cell_type": "code",
   "execution_count": 54,
   "metadata": {},
   "outputs": [
    {
     "name": "stdout",
     "output_type": "stream",
     "text": [
      "Loss: 3.0329782311924767\n"
     ]
    }
   ],
   "source": [
    "L = np.mean(np.log(np.cosh(A-Y)))\n",
    "print(\"Loss: {}\".format(L))"
   ]
  },
  {
   "cell_type": "markdown",
   "metadata": {},
   "source": [
    "**(c)**\tPerform back propagation for the above training data and parameter matrices to determine $\\nabla_WL$ and $\\nabla_bL$"
   ]
  },
  {
   "cell_type": "code",
   "execution_count": 47,
   "metadata": {},
   "outputs": [
    {
     "name": "stdout",
     "output_type": "stream",
     "text": [
      "grad_AL: [[ 0.33168492  0.25386472 -0.33333326]]\n",
      "dAdZ: [[1. 1. 1.]]\n",
      "grad_ZL: [[ 0.33168492  0.25386472 -0.33333326]]\n",
      "grad_WL: [[ 1.58225273 -0.84271104]]\n",
      "grad_bL: [[0.25221638]]\n"
     ]
    }
   ],
   "source": [
    "# back propagation\n",
    "grad_AL = np.tanh(A-Y) / m\n",
    "print(\"grad_AL: {}\".format(grad_AL))\n",
    "dAdZ = np.ones(Y.shape)\n",
    "print(\"dAdZ: {}\".format(dAdZ))\n",
    "grad_ZL = grad_AL*dAdZ\n",
    "print(\"grad_ZL: {}\".format(grad_ZL))\n",
    "grad_WL = np.dot(grad_ZL,X.T)\n",
    "grad_bL = np.sum(grad_ZL,axis=1,keepdims=True)\n",
    "print(\"grad_WL: {}\".format(grad_WL))\n",
    "print(\"grad_bL: {}\".format(grad_bL))"
   ]
  },
  {
   "attachments": {},
   "cell_type": "markdown",
   "metadata": {},
   "source": [
    "**(d)** Perform 1 epoch of training using Gradient Descent with learning rate of 0.1 and recompute the loss function with the updated W,b"
   ]
  },
  {
   "cell_type": "code",
   "execution_count": 48,
   "metadata": {},
   "outputs": [
    {
     "name": "stdout",
     "output_type": "stream",
     "text": [
      "update W and b\n",
      "W epoch 1: [[ 1.84177473 -0.9157289 ]]\n",
      "b epoch 1: [[-1.02522164]]\n",
      "Loss epoch 1: 3.0329782311924767\n"
     ]
    }
   ],
   "source": [
    "alpha = 0.1\n",
    "# update W and b\n",
    "W = W - alpha*grad_WL\n",
    "b = b - alpha*grad_bL\n",
    "print(\"update W and b\")\n",
    "print(\"W epoch 1: {}\".format(W))\n",
    "print(\"b epoch 1: {}\".format(b))\n",
    "# recompute loss\n",
    "Z = np.dot(W,X) + b\n",
    "A = Z\n",
    "L = np.mean(np.log(np.cosh(A-Y)))\n",
    "print(\"Loss epoch 1: {}\".format(L))"
   ]
  },
  {
   "attachments": {},
   "cell_type": "markdown",
   "metadata": {},
   "source": [
    "**(e)**\tCompute the prediction based on input feature matrix X above and the updated W,b from (d)"
   ]
  },
  {
   "cell_type": "code",
   "execution_count": 52,
   "metadata": {},
   "outputs": [
    {
     "name": "stdout",
     "output_type": "stream",
     "text": [
      "prediction\n",
      "Z: [[ 3.58437365  2.64801088 -4.69845416]]\n",
      "A: [[ 3.58437365  2.64801088 -4.69845416]]\n"
     ]
    }
   ],
   "source": [
    "Z = np.dot(W,X) + b\n",
    "A = Z\n",
    "print(\"prediction\")\n",
    "print(\"Z: {}\".format(Z))\n",
    "print(\"A: {}\".format(A))"
   ]
  },
  {
   "attachments": {},
   "cell_type": "markdown",
   "metadata": {},
   "source": [
    "**(f)**\tCompute the accuracy of the prediction in (e) when compared against the actual Y specified above."
   ]
  },
  {
   "cell_type": "code",
   "execution_count": 53,
   "metadata": {},
   "outputs": [
    {
     "name": "stdout",
     "output_type": "stream",
     "text": [
      "Accuracy: 3.6436128953478506\n"
     ]
    }
   ],
   "source": [
    "# Accuracy calculation\n",
    "Accuracy = np.mean(np.absolute(A-Y))\n",
    "print(\"Accuracy: {}\".format(Accuracy))"
   ]
  }
 ],
 "metadata": {
  "kernelspec": {
   "display_name": "MLCourse-env",
   "language": "python",
   "name": "mlcourse-env"
  },
  "language_info": {
   "codemirror_mode": {
    "name": "ipython",
    "version": 3
   },
   "file_extension": ".py",
   "mimetype": "text/x-python",
   "name": "python",
   "nbconvert_exporter": "python",
   "pygments_lexer": "ipython3",
   "version": "3.7.1"
  }
 },
 "nbformat": 4,
 "nbformat_minor": 4
}
