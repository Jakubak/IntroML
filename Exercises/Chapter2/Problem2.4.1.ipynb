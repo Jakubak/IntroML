{
 "cells": [
  {
   "cell_type": "markdown",
   "metadata": {},
   "source": [
    "# Problem 2.4.1 \n",
    "\n",
    "Repeat the first part of [IntroML/Examples/PandasDemo.ipynb](https://github.com/satishchandrareddy/IntroML/blob/master/Examples/Chapter2/PandasDemo.ipynb). Read data from mydf1.csv."
   ]
  },
  {
   "cell_type": "code",
   "execution_count": null,
   "metadata": {},
   "outputs": [],
   "source": [
    "import pandas as pd\n",
    "import numpy as np"
   ]
  },
  {
   "cell_type": "code",
   "execution_count": null,
   "metadata": {},
   "outputs": [],
   "source": [
    "df1 = pd.read_csv('mydf1.csv')\n",
    "df1.head()"
   ]
  },
  {
   "cell_type": "markdown",
   "metadata": {},
   "source": [
    "**(a)**\tOutput a Y numpy array that has the square of the entries in the “label” column of the file."
   ]
  },
  {
   "cell_type": "code",
   "execution_count": null,
   "metadata": {},
   "outputs": [],
   "source": [
    "Y = np.array(df1['label'])\n",
    "Y = np.square(Y)\n",
    "Y = np.expand_dims(Y,axis=1)\n",
    "print(\"Y: {}\".format(Y))"
   ]
  },
  {
   "cell_type": "markdown",
   "metadata": {},
   "source": [
    "**(b)**\tOutput a X numpy array whose first column has the square root of the entries in the “feature 1” column and whose second column has the exponential of the entries in the “feature 2” column. Hint: process each column separately, then concatenate."
   ]
  },
  {
   "cell_type": "code",
   "execution_count": null,
   "metadata": {},
   "outputs": [],
   "source": [
    "X1 = np.array(df1[\"feature 1\"])\n",
    "X1 = np.sqrt(X1)\n",
    "X1 = np.expand_dims(X1,axis=1)\n",
    "print(\"X1: {}\".format(X1))"
   ]
  },
  {
   "cell_type": "code",
   "execution_count": null,
   "metadata": {},
   "outputs": [],
   "source": [
    "X2 = np.array(df1[\"feature 2\"])\n",
    "X2 = np.exp(X2)\n",
    "X2 = np.expand_dims(X2,axis=1)\n",
    "print(\"X0: {}\".format(X2))"
   ]
  },
  {
   "cell_type": "code",
   "execution_count": null,
   "metadata": {},
   "outputs": [],
   "source": [
    "X = np.concatenate((X1,X2),axis=1)\n",
    "print(\"X: {}\".format(X))"
   ]
  },
  {
   "cell_type": "code",
   "execution_count": null,
   "metadata": {},
   "outputs": [],
   "source": []
  }
 ],
 "metadata": {
  "kernelspec": {
   "display_name": "IntroML-env",
   "language": "python",
   "name": "introml-env"
  },
  "language_info": {
   "codemirror_mode": {
    "name": "ipython",
    "version": 3
   },
   "file_extension": ".py",
   "mimetype": "text/x-python",
   "name": "python",
   "nbconvert_exporter": "python",
   "pygments_lexer": "ipython3",
   "version": "3.7.1"
  }
 },
 "nbformat": 4,
 "nbformat_minor": 4
}
