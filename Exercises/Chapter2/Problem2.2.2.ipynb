{
 "cells": [
  {
   "cell_type": "markdown",
   "metadata": {},
   "source": [
    "# Problem 2.2.2 "
   ]
  },
  {
   "cell_type": "code",
   "execution_count": null,
   "metadata": {},
   "outputs": [],
   "source": [
    "import numpy as np\n",
    "import matplotlib.pyplot as plt"
   ]
  },
  {
   "cell_type": "markdown",
   "metadata": {},
   "source": [
    "The Heaviside step function is defined as:\n",
    "\n",
    "$H(x) = \\begin{cases} 1 &\\mbox{if } x \\ge 0 \\\\\n",
    "0 & \\mbox{if } x < 0 \\end{cases}$\n",
    "\n",
    "**(a)**\tUsing the numpy heaviside function, plot H(x) for x between -5 and 5."
   ]
  },
  {
   "cell_type": "code",
   "execution_count": null,
   "metadata": {},
   "outputs": [],
   "source": [
    "x = np.linspace(-5, 5, 51)\n",
    "x"
   ]
  },
  {
   "cell_type": "code",
   "execution_count": null,
   "metadata": {},
   "outputs": [],
   "source": [
    "H_x = np.heaviside(x, 1)\n",
    "H_x"
   ]
  },
  {
   "cell_type": "code",
   "execution_count": null,
   "metadata": {},
   "outputs": [],
   "source": [
    "plt.figure()\n",
    "plt.plot(x, H_x)\n",
    "plt.xlabel('x')\n",
    "plt.ylabel('H(x)')\n",
    "plt.show()"
   ]
  },
  {
   "cell_type": "markdown",
   "metadata": {},
   "source": [
    "**(b)**\tConsider the function:\n",
    "\n",
    "$h(x) = \\begin{cases} x &\\mbox{if } x \\ge 0 \\\\\n",
    "0 & \\mbox{if } x < 0 \\end{cases}$\n",
    "\n",
    "With the help of your result in (a) create a function using numpy functionality for h(x). Hint: multiply by Heaviside function with appropriate function. \n",
    "\n",
    "Plot h(x) for x between -5 and 5."
   ]
  },
  {
   "cell_type": "code",
   "execution_count": null,
   "metadata": {},
   "outputs": [],
   "source": [
    "h_x = x * np.heaviside(x, 1)\n",
    "h_x"
   ]
  },
  {
   "cell_type": "code",
   "execution_count": null,
   "metadata": {},
   "outputs": [],
   "source": [
    "plt.figure()\n",
    "plt.plot(x, h_x)\n",
    "plt.xlabel('x')\n",
    "plt.ylabel('h(x)')\n",
    "plt.show()"
   ]
  },
  {
   "cell_type": "markdown",
   "metadata": {},
   "source": [
    "**(c)**\tCreate a function based on numpy heaviside for:\n",
    "\n",
    "$G(x) = \\begin{cases} 0 &\\mbox{if } x \\ge 0 \\\\\n",
    "1 & \\mbox{if } x < 0 \\end{cases}$\n",
    "\n",
    "Plot G(x) for x between -5 and 5. Hint: use heaviside appropriately to set G(0)=0. "
   ]
  },
  {
   "cell_type": "code",
   "execution_count": null,
   "metadata": {},
   "outputs": [],
   "source": [
    "G_x = np.heaviside(-x, 0)\n",
    "G_x"
   ]
  },
  {
   "cell_type": "code",
   "execution_count": null,
   "metadata": {},
   "outputs": [],
   "source": [
    "plt.figure()\n",
    "plt.plot(x, G_x)\n",
    "plt.xlabel('x')\n",
    "plt.ylabel('G(x)')\n",
    "plt.show()"
   ]
  },
  {
   "cell_type": "markdown",
   "metadata": {},
   "source": [
    "**(d)**\tUsing the same multiplication approach as in (b), use results of (c) to create a function using heaviside for:\n",
    "\n",
    "$g(x) = \\begin{cases} 0 &\\mbox{if } x \\ge 0 \\\\\n",
    "e^x - 1 & \\mbox{if } x < 0 \\end{cases}$\n",
    "\n",
    "Plot g(x) for x between -5 and 5."
   ]
  },
  {
   "cell_type": "code",
   "execution_count": null,
   "metadata": {},
   "outputs": [],
   "source": [
    "g_x = (np.exp(x)-1)*np.heaviside(-x, 0)\n",
    "g_x"
   ]
  },
  {
   "cell_type": "code",
   "execution_count": null,
   "metadata": {},
   "outputs": [],
   "source": [
    "plt.figure()\n",
    "plt.plot(x, g_x)\n",
    "plt.xlabel('x')\n",
    "plt.ylabel('g(x)')\n",
    "plt.show()"
   ]
  },
  {
   "cell_type": "markdown",
   "metadata": {},
   "source": [
    "**(e)**\tUsing the information in (a), (b), (c), (d), use numpy functionality to create a function for:\n",
    "\n",
    "$f(x) = \\begin{cases} x &\\mbox{if } x \\ge 0 \\\\\n",
    "e^x - 1 & \\mbox{if } x < 0 \\end{cases}$\n",
    "\n",
    "Plot f(x) for x between -5 and 5."
   ]
  },
  {
   "cell_type": "code",
   "execution_count": null,
   "metadata": {},
   "outputs": [],
   "source": [
    "f_x = x*np.heaviside(x, 1) + (np.exp(x)-1)*np.heaviside(-x, 0)\n",
    "f_x"
   ]
  },
  {
   "cell_type": "code",
   "execution_count": null,
   "metadata": {},
   "outputs": [],
   "source": [
    "plt.figure()\n",
    "plt.plot(x, f_x)\n",
    "plt.xlabel('x')\n",
    "plt.ylabel('f(x)')\n",
    "plt.show()"
   ]
  },
  {
   "cell_type": "code",
   "execution_count": null,
   "metadata": {},
   "outputs": [],
   "source": []
  }
 ],
 "metadata": {
  "kernelspec": {
   "display_name": "IntroML-env",
   "language": "python",
   "name": "introml-env"
  },
  "language_info": {
   "codemirror_mode": {
    "name": "ipython",
    "version": 3
   },
   "file_extension": ".py",
   "mimetype": "text/x-python",
   "name": "python",
   "nbconvert_exporter": "python",
   "pygments_lexer": "ipython3",
   "version": "3.7.1"
  }
 },
 "nbformat": 4,
 "nbformat_minor": 4
}
