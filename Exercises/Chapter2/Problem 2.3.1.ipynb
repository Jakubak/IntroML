{
 "cells": [
  {
   "cell_type": "markdown",
   "metadata": {},
   "source": [
    "# Problem 2.3.1\n",
    "Repeat the calculations in [IntroML/Examples/Chapter2/MatplotlibHeatmapDemo.ipynb](https://github.com/satishchandrareddy/IntroML/blob/master/Examples/Chapter2/MatplotlibHeatmapDemo.ipynb) for the case:\n",
    "\n",
    "$f(X) = \\begin{cases} 0 &\\mbox{if } X_1 - (X_0 -0.5)^2 -0.35 > 0 \\\\\n",
    "1 & \\mbox{if } X_1 - (X_0 -0.5)^2 - 0.35 \\le 0 \\end{cases}$"
   ]
  },
  {
   "cell_type": "code",
   "execution_count": 59,
   "metadata": {},
   "outputs": [],
   "source": [
    "import numpy as np\n",
    "import matplotlib.pyplot as plt"
   ]
  },
  {
   "cell_type": "code",
   "execution_count": 62,
   "metadata": {},
   "outputs": [],
   "source": [
    "def func_Y(X):\n",
    "    # generate function of 0 and 1: Y=1 if X1 + (X0-0.5)^2 -0.35 <=0 and Y=0 if X1 + (X0-0.5)^2 -0.35 >0\n",
    "    Y = (X[1,:] - (X[0,:] - 0.5)**2 - 0.35 <= 0).astype(float)\n",
    "    # add axis so Y is row vector\n",
    "    Y = np.expand_dims(Y,axis=0)\n",
    "    return Y"
   ]
  },
  {
   "cell_type": "code",
   "execution_count": 63,
   "metadata": {},
   "outputs": [
    {
     "name": "stdout",
     "output_type": "stream",
     "text": [
      "Yout: [[1. 1. 1. ... 0. 0. 0.]]\n",
      "Ygrid: \n",
      "[[1. 1. 1. ... 1. 1. 1.]\n",
      " [1. 1. 1. ... 1. 1. 1.]\n",
      " [1. 1. 1. ... 1. 1. 1.]\n",
      " ...\n",
      " [0. 0. 0. ... 0. 0. 0.]\n",
      " [0. 0. 0. ... 0. 0. 0.]\n",
      " [0. 0. 0. ... 0. 0. 0.]]\n"
     ]
    }
   ],
   "source": [
    "# apply Y function to generate 0 and 1\n",
    "Yout = func_Y(Xmatrix)\n",
    "print(\"Yout: {}\".format(Yout))\n",
    "# Convert to 3x3 grid\n",
    "Ygrid = np.reshape(Yout,(npoints,npoints))\n",
    "print(\"Ygrid: \\n{}\".format(Ygrid))"
   ]
  },
  {
   "cell_type": "code",
   "execution_count": 64,
   "metadata": {},
   "outputs": [
    {
     "name": "stdout",
     "output_type": "stream",
     "text": [
      "X.shape: (2, 10)\n",
      "X: \n",
      "[[0.99689661 0.56841317 0.00626466 0.92638092 0.00674325 0.55256873\n",
      "  0.10310029 0.53382081 0.85648816 0.2015723 ]\n",
      " [0.54303983 0.60646759 0.56320633 0.07971098 0.94215161 0.60956247\n",
      "  0.13093024 0.03915193 0.72334447 0.20973655]]\n",
      "Y.shape: (1, 10)\n",
      "Y: \n",
      "[[1. 0. 1. 1. 0. 0. 1. 1. 0. 1.]]\n"
     ]
    },
    {
     "data": {
      "text/plain": [
       "[<matplotlib.lines.Line2D at 0x7ffcaedee7f0>]"
      ]
     },
     "execution_count": 64,
     "metadata": {},
     "output_type": "execute_result"
    },
    {
     "data": {
      "image/png": "[encoded data removed]",
      "text/plain": [
       "<Figure size 432x288 with 1 Axes>"
      ]
     },
     "metadata": {
      "needs_background": "light"
     },
     "output_type": "display_data"
    }
   ],
   "source": [
    "# (1) set up training data randomly chosen from uniform distribution in (0,1)\n",
    "# X is 2d array of dimension (2,m), Y is 2d array of 0 or 1 of dimension (1,m)\n",
    "nfeature = 2\n",
    "m = 10\n",
    "X = np.random.rand(nfeature,m)\n",
    "Y = func_Y(X)\n",
    "print(\"X.shape: {}\".format(X.shape))\n",
    "print(\"X: \\n{}\".format(X))\n",
    "print(\"Y.shape: {}\".format(Y.shape))\n",
    "print(\"Y: \\n{}\".format(Y))\n",
    "plt.plot(X[0,:],X[1,:],\"bo\")"
   ]
  },
  {
   "cell_type": "code",
   "execution_count": 65,
   "metadata": {},
   "outputs": [
    {
     "data": {
      "text/plain": [
       "Text(0, 0.5, 'X1')"
      ]
     },
     "execution_count": 65,
     "metadata": {},
     "output_type": "execute_result"
    },
    {
     "data": {
      "image/png": "[encoded data removed]",
      "text/plain": [
       "<Figure size 432x288 with 1 Axes>"
      ]
     },
     "metadata": {
      "needs_background": "light"
     },
     "output_type": "display_data"
    }
   ],
   "source": [
    "# (2) plot training data\n",
    "# red = 0, 1 = blue, use np.where to determine index where Y = 0 and Y = 1\n",
    "idx_0 = np.where(np.squeeze(np.absolute(Y-0))<1e-7)\n",
    "idx_1 = np.where(np.squeeze(np.absolute(Y-1))<1e-7)\n",
    "plt.plot(np.squeeze(X[0,idx_0]),np.squeeze(X[1,idx_0]),\"ro\",label=\"Training Data: Label=0\")\n",
    "plt.plot(np.squeeze(X[0,idx_1]),np.squeeze(X[1,idx_1]),\"bo\",label=\"Training Data: Label=1\")\n",
    "plt.xlabel(\"X0\")\n",
    "plt.ylabel(\"X1\")"
   ]
  },
  {
   "cell_type": "code",
   "execution_count": 66,
   "metadata": {},
   "outputs": [
    {
     "name": "stdout",
     "output_type": "stream",
     "text": [
      "X0: [0.25 0.5  0.75]\n",
      "X1: [0.25 0.5  0.75]\n"
     ]
    }
   ],
   "source": [
    "# simple example points 0.25, 0.50, 0.75 in x0 and x1 directions\n",
    "npoints = 3\n",
    "# create 1d grids of points between 0.25 and 0.75\n",
    "X0=np.linspace(0.25,0.75,npoints)\n",
    "X1=np.linspace(0.25,0.75,npoints)\n",
    "print(\"X0: {}\".format(X0))\n",
    "print(\"X1: {}\".format(X1))"
   ]
  },
  {
   "cell_type": "code",
   "execution_count": 67,
   "metadata": {},
   "outputs": [
    {
     "name": "stdout",
     "output_type": "stream",
     "text": [
      "x0grid: \n",
      "[[0.25 0.5  0.75]\n",
      " [0.25 0.5  0.75]\n",
      " [0.25 0.5  0.75]]\n",
      "x1grid: \n",
      "[[0.25 0.25 0.25]\n",
      " [0.5  0.5  0.5 ]\n",
      " [0.75 0.75 0.75]]\n"
     ]
    }
   ],
   "source": [
    "# create meshgrids - X0grid = X0 points for grid, X1grid = X1 points for grid\n",
    "X0grid,X1grid=np.meshgrid(X0,X1)\n",
    "print(\"x0grid: \\n{}\".format(X0grid))\n",
    "print(\"x1grid: \\n{}\".format(X1grid))"
   ]
  },
  {
   "cell_type": "code",
   "execution_count": 68,
   "metadata": {
    "scrolled": false
   },
   "outputs": [
    {
     "name": "stdout",
     "output_type": "stream",
     "text": [
      "x0reshape: [[0.25 0.5  0.75 0.25 0.5  0.75 0.25 0.5  0.75]]\n",
      "x1reshape: [[0.25 0.25 0.25 0.5  0.5  0.5  0.75 0.75 0.75]]\n",
      "Xmatrix: \n",
      "[[0.25 0.5  0.75 0.25 0.5  0.75 0.25 0.5  0.75]\n",
      " [0.25 0.25 0.25 0.5  0.5  0.5  0.75 0.75 0.75]]\n"
     ]
    },
    {
     "data": {
      "text/plain": [
       "Text(0, 0.5, 'X1')"
      ]
     },
     "execution_count": 68,
     "metadata": {},
     "output_type": "execute_result"
    },
    {
     "data": {
      "image/png": "[encoded data removed]",
      "text/plain": [
       "<Figure size 432x288 with 1 Axes>"
      ]
     },
     "metadata": {
      "needs_background": "light"
     },
     "output_type": "display_data"
    }
   ],
   "source": [
    "# convert meshgrids into row vectors\n",
    "X0reshape=np.reshape(X0grid,(1,npoints*npoints))\n",
    "X1reshape=np.reshape(X1grid,(1,npoints*npoints))\n",
    "print(\"x0reshape: {}\".format(X0reshape))\n",
    "print(\"x1reshape: {}\".format(X1reshape))\n",
    "# concatenate into 2x9 matrix in order be able to use func_Y\n",
    "Xmatrix = np.concatenate((X0reshape,X1reshape),axis=0)\n",
    "print(\"Xmatrix: \\n{}\".format(Xmatrix))\n",
    "plt.plot(Xmatrix[0,:],Xmatrix[1,:],\"bo\")\n",
    "plt.xlabel(\"X0\")\n",
    "plt.ylabel(\"X1\")"
   ]
  },
  {
   "cell_type": "code",
   "execution_count": 69,
   "metadata": {},
   "outputs": [
    {
     "name": "stdout",
     "output_type": "stream",
     "text": [
      "Yout: [[1. 1. 1. 0. 0. 0. 0. 0. 0.]]\n",
      "Ygrid: \n",
      "[[1. 1. 1.]\n",
      " [0. 0. 0.]\n",
      " [0. 0. 0.]]\n"
     ]
    }
   ],
   "source": [
    "# apply Y function to generate 0 and 1\n",
    "Yout = func_Y(Xmatrix)\n",
    "print(\"Yout: {}\".format(Yout))\n",
    "# Convert to 3x3 grid\n",
    "Ygrid = np.reshape(Yout,(npoints,npoints))\n",
    "print(\"Ygrid: \\n{}\".format(Ygrid))"
   ]
  },
  {
   "cell_type": "code",
   "execution_count": 70,
   "metadata": {},
   "outputs": [
    {
     "data": {
      "text/plain": [
       "<matplotlib.colorbar.Colorbar at 0x7ffcaf073dd8>"
      ]
     },
     "execution_count": 70,
     "metadata": {},
     "output_type": "execute_result"
    },
    {
     "data": {
      "image/png": "[encoded data removed]",
      "text/plain": [
       "<Figure size 432x288 with 2 Axes>"
      ]
     },
     "metadata": {
      "needs_background": "light"
     },
     "output_type": "display_data"
    }
   ],
   "source": [
    "# use pcolormesh to create heatmap\n",
    "plt.pcolormesh(Ygrid)\n",
    "# plot colorbar\n",
    "plt.colorbar()"
   ]
  },
  {
   "cell_type": "code",
   "execution_count": 71,
   "metadata": {},
   "outputs": [
    {
     "data": {
      "text/plain": [
       "<matplotlib.colorbar.Colorbar at 0x7ffcaf193b00>"
      ]
     },
     "execution_count": 71,
     "metadata": {},
     "output_type": "execute_result"
    },
    {
     "data": {
      "image/png": "[encoded data removed]",
      "text/plain": [
       "<Figure size 432x288 with 2 Axes>"
      ]
     },
     "metadata": {
      "needs_background": "light"
     },
     "output_type": "display_data"
    }
   ],
   "source": [
    "# create a heatmap\n",
    "npoints = 100\n",
    "# create 1d grids in x0 and x1 directions\n",
    "X0lin = np.linspace(0,1,npoints)\n",
    "X1lin = np.linspace(0,1,npoints)\n",
    "# create 2d grids for x0 and x1 and reshape into 1d grids \n",
    "X0grid,X1grid = np.meshgrid(X0lin,X1lin)\n",
    "# convert to 1d grids\n",
    "X0reshape = np.reshape(X0grid,(1,npoints*npoints))\n",
    "X1reshape = np.reshape(X1grid,(1,npoints*npoints))\n",
    "# Feature matrix is (2,npoints*npoints)\n",
    "Xmatrix = np.concatenate((X0reshape,X1reshape),axis=0)\n",
    "# compute Y\n",
    "Yout = func_Y(Xmatrix)\n",
    "# reshape Yout results into 2d grid and plot heatmap\n",
    "heatmap = np.reshape(Yout,(npoints,npoints))\n",
    "# heat map takes in 2d grids for X0, X1, and Y values\n",
    "plt.pcolormesh(X0grid,X1grid,heatmap)\n",
    "plt.colorbar()"
   ]
  },
  {
   "cell_type": "code",
   "execution_count": 72,
   "metadata": {},
   "outputs": [
    {
     "data": {
      "text/plain": [
       "<matplotlib.legend.Legend at 0x7ffcaf2dc940>"
      ]
     },
     "execution_count": 72,
     "metadata": {},
     "output_type": "execute_result"
    },
    {
     "data": {
      "image/png": "[encoded data removed]",
      "text/plain": [
       "<Figure size 432x288 with 2 Axes>"
      ]
     },
     "metadata": {
      "needs_background": "light"
     },
     "output_type": "display_data"
    }
   ],
   "source": [
    "# plot data and heat map on same plot (data will be training data and heatmap will show results of machine learning)\n",
    "plt.plot(np.squeeze(X[0,idx_0]),np.squeeze(X[1,idx_0]),\"ro\",label=\"Training Data: Label=0\")\n",
    "plt.plot(np.squeeze(X[0,idx_1]),np.squeeze(X[1,idx_1]),\"bo\",label=\"Training Data: Label=1\")\n",
    "plt.pcolormesh(X0grid,X1grid,heatmap)\n",
    "plt.colorbar()\n",
    "plt.legend()"
   ]
  }
 ],
 "metadata": {
  "kernelspec": {
   "display_name": "MLCourse-env",
   "language": "python",
   "name": "mlcourse-env"
  },
  "language_info": {
   "codemirror_mode": {
    "name": "ipython",
    "version": 3
   },
   "file_extension": ".py",
   "mimetype": "text/x-python",
   "name": "python",
   "nbconvert_exporter": "python",
   "pygments_lexer": "ipython3",
   "version": "3.7.1"
  }
 },
 "nbformat": 4,
 "nbformat_minor": 4
}
