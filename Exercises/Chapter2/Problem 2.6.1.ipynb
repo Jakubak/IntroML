{
 "cells": [
  {
   "cell_type": "markdown",
   "metadata": {},
   "source": [
    "# Problem 2.6.1 \n",
    "Consider the messages:\n",
    "\n",
    "“A bird in the hand is worth 2 in the bush”\n",
    "\n",
    "“The early bird gets the worm”\n",
    "\n",
    "“A cat has nine lives”\n",
    "\n",
    "“Honesty is the best policy”\n",
    "\n",
    "Repeat the countvectorizer example in [IntroML/Examples/Chapter2/sklearnDemo.ipynb](https://github.com/satishchandrareddy/IntroML/blob/master/Examples/Chapter2/sklearnDemo.ipynb) using stop words (“the”, “a”, “is” “in”).\n"
   ]
  },
  {
   "cell_type": "code",
   "execution_count": 1,
   "metadata": {},
   "outputs": [],
   "source": [
    "import numpy as np\n",
    "from sklearn.feature_extraction.text import CountVectorizer"
   ]
  },
  {
   "cell_type": "code",
   "execution_count": 6,
   "metadata": {},
   "outputs": [],
   "source": [
    "list_message = [\n",
    "    \"A bird in the hand is worth 2 in the bush\", \n",
    "    \"The early bird gets the worm\", \n",
    "    \"A cat has nine lives\",\n",
    "    \"Honesty is the best policy\"\n",
    "]\n",
    "\n",
    "stop_words = [\"the\", \"a\", \"is\", \"in\"]"
   ]
  },
  {
   "cell_type": "code",
   "execution_count": 17,
   "metadata": {},
   "outputs": [
    {
     "name": "stdout",
     "output_type": "stream",
     "text": [
      "X: \n",
      "[[0 0 0 1]\n",
      " [1 1 0 0]\n",
      " [1 0 0 0]\n",
      " [0 0 1 0]\n",
      " [0 1 0 0]\n",
      " [0 1 0 0]\n",
      " [1 0 0 0]\n",
      " [0 0 1 0]\n",
      " [0 0 0 1]\n",
      " [0 0 1 0]\n",
      " [0 0 1 0]\n",
      " [0 0 0 1]\n",
      " [0 1 0 0]\n",
      " [1 0 0 0]]\n",
      "Words: ['best' 'bird' 'bush' 'cat' 'early' 'gets' 'hand' 'has' 'honesty' 'lives'\n",
      " 'nine' 'policy' 'worm' 'worth']\n",
      "Stop Words: ['the', 'a', 'is', 'in']\n"
     ]
    }
   ],
   "source": [
    "# Create instance of vectorizer\n",
    "vectorizer = CountVectorizer(decode_error=\"ignore\", stop_words=stop_words)\n",
    "# Perform word counts\n",
    "Xfit = vectorizer.fit_transform(list_message)\n",
    "# Generate feature matrix (transform so sample axis is along columns)\n",
    "X = Xfit.toarray().T\n",
    "print(\"X: \\n{}\".format(X))\n",
    "# list words in vocabulary (turn into numpy array)\n",
    "words = np.array(vectorizer.get_feature_names())\n",
    "print(\"Words: {}\".format(words))\n",
    "print(\"Stop Words: {}\".format(vectorizer.stop_words))"
   ]
  },
  {
   "cell_type": "code",
   "execution_count": 9,
   "metadata": {},
   "outputs": [
    {
     "name": "stdout",
     "output_type": "stream",
     "text": [
      "totalcount: \n",
      "[[1]\n",
      " [2]\n",
      " [1]\n",
      " [1]\n",
      " [1]\n",
      " [1]\n",
      " [1]\n",
      " [1]\n",
      " [1]\n",
      " [1]\n",
      " [1]\n",
      " [1]\n",
      " [1]\n",
      " [1]]\n"
     ]
    }
   ],
   "source": [
    "totalcount = np.sum(X,axis=1,keepdims=True)\n",
    "print(\"totalcount: \\n{}\".format(totalcount))"
   ]
  },
  {
   "cell_type": "code",
   "execution_count": 10,
   "metadata": {},
   "outputs": [
    {
     "name": "stdout",
     "output_type": "stream",
     "text": [
      "x: [1.1 0.1 4.1 5.2 4.1]\n"
     ]
    }
   ],
   "source": [
    "# x is numpy array\n",
    "x = np.array([1.1,0.1,4.1,5.2,4.1])\n",
    "print(\"x: {}\".format(x))"
   ]
  },
  {
   "cell_type": "code",
   "execution_count": 11,
   "metadata": {},
   "outputs": [
    {
     "name": "stdout",
     "output_type": "stream",
     "text": [
      "Indices of entries sorted in ascending order: [1 0 2 4 3]\n"
     ]
    }
   ],
   "source": [
    "# indices of sorted entries in ascending order [1,0,2,4,3]\n",
    "# argsort gives indices of sorted entries in ascending order (choose lowest index first in case of ties)\n",
    "idx_ascending = np.argsort(x)\n",
    "print(\"Indices of entries sorted in ascending order: {}\".format(idx_ascending))"
   ]
  },
  {
   "cell_type": "code",
   "execution_count": 12,
   "metadata": {},
   "outputs": [
    {
     "name": "stdout",
     "output_type": "stream",
     "text": [
      "Indices of entries sorted in descending order: [3 2 4 0 1]\n"
     ]
    }
   ],
   "source": [
    "# indices of sorted entries in descending order [3,2,4,0,1]\n",
    "# argsort(-x) gives indcies of sorted entries in descending order (choose lowest index first in case of ties)\n",
    "idx_descending = np.argsort(-x)\n",
    "print(\"Indices of entries sorted in descending order: {}\".format(idx_descending))"
   ]
  },
  {
   "cell_type": "code",
   "execution_count": 13,
   "metadata": {},
   "outputs": [
    {
     "name": "stdout",
     "output_type": "stream",
     "text": [
      "total count: [1 2 1 1 1 1 1 1 1 1 1 1 1 1]\n",
      "Sorted index of most common words: [ 1  0  2  3  4  5  6  7  8  9 10 11 12 13]\n"
     ]
    }
   ],
   "source": [
    "# get indices of most common words using argsort\n",
    "print(\"total count: {}\".format(np.squeeze(totalcount)))\n",
    "idx = np.argsort(-np.squeeze(totalcount))\n",
    "print(\"Sorted index of most common words: {}\".format(idx))"
   ]
  },
  {
   "cell_type": "code",
   "execution_count": 15,
   "metadata": {},
   "outputs": [
    {
     "name": "stdout",
     "output_type": "stream",
     "text": [
      "Words: ['best' 'bird' 'bush' 'cat' 'early' 'gets' 'hand' 'has' 'honesty' 'lives'\n",
      " 'nine' 'policy' 'worm' 'worth']\n",
      "Sorted index of 4 most common words: [1 0 2 3]\n",
      "nmostcommon=4 words: ['bird' 'best' 'bush' 'cat']\n"
     ]
    }
   ],
   "source": [
    "# determine 4 most common words\n",
    "nmostcommon = 4\n",
    "print(\"Words: {}\".format(words))\n",
    "idx = idx[:nmostcommon]\n",
    "print(\"Sorted index of {} most common words: {}\".format(nmostcommon,idx))\n",
    "wordsmostcommon = words[idx]\n",
    "print(\"nmostcommon=4 words: {}\".format(wordsmostcommon))"
   ]
  }
 ],
 "metadata": {
  "kernelspec": {
   "display_name": "MLCourse-env",
   "language": "python",
   "name": "mlcourse-env"
  },
  "language_info": {
   "codemirror_mode": {
    "name": "ipython",
    "version": 3
   },
   "file_extension": ".py",
   "mimetype": "text/x-python",
   "name": "python",
   "nbconvert_exporter": "python",
   "pygments_lexer": "ipython3",
   "version": "3.7.1"
  }
 },
 "nbformat": 4,
 "nbformat_minor": 4
}
