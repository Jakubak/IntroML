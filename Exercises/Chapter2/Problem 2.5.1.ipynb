{
 "cells": [
  {
   "attachments": {},
   "cell_type": "markdown",
   "metadata": {},
   "source": [
    "# Problem 2.5.1 \n",
    "For the sigmoid function:\n",
    "\n",
    "$ (*)$   $f(x)=\\frac{1}{1+e^{-x}}$ \n",
    "\n",
    "it can be shown that \n",
    "\n",
    "$ (**)$   $f'(x)=\\frac{e^{-x}}{(1+e^{-x})^2}$ \n",
    "\n",
    "One can manipulate $(*)$ to show that \n",
    "\n",
    "$(***)$   $f'(x)=f(x)-[f(x)]^2$\n",
    "\n",
    "Create a unit test to confirm that $(**)$ and $(***)$ are equivalent. **Hint:** generate x values between -5 and 5 and assert that the maximum absolute difference between $(**)$ and $(***)$ for these x values is less than a tolerance that you specify. "
   ]
  },
  {
   "cell_type": "code",
   "execution_count": 6,
   "metadata": {},
   "outputs": [],
   "source": [
    "import numpy as np\n",
    "import unittest"
   ]
  },
  {
   "cell_type": "code",
   "execution_count": 7,
   "metadata": {},
   "outputs": [],
   "source": [
    "class Test(unittest.TestCase):\n",
    "    def test1(self):\n",
    "        x = np.linspace(-5, 5, 20)\n",
    "        f_x = 1 / (1 + np.exp(-x))\n",
    "        f1 = np.exp(-x) / (1 + np.exp(-x))**2  # (**)\n",
    "        f2 = f_x - f_x**2  # (***)\n",
    "        tol = 1e-5\n",
    "        error = np.absolute(f1-f2)\n",
    "        self.assertLessEqual(np.max(error), tol)"
   ]
  },
  {
   "cell_type": "code",
   "execution_count": 8,
   "metadata": {},
   "outputs": [
    {
     "name": "stderr",
     "output_type": "stream",
     "text": [
      ".\n",
      "----------------------------------------------------------------------\n",
      "Ran 1 test in 0.001s\n",
      "\n",
      "OK\n"
     ]
    }
   ],
   "source": [
    "if __name__ == \"__main__\":\n",
    "    unittest.main(argv=['first-arg-is-ignored'], exit=False)"
   ]
  }
 ],
 "metadata": {
  "kernelspec": {
   "display_name": "MLCourse-env",
   "language": "python",
   "name": "mlcourse-env"
  },
  "language_info": {
   "codemirror_mode": {
    "name": "ipython",
    "version": 3
   },
   "file_extension": ".py",
   "mimetype": "text/x-python",
   "name": "python",
   "nbconvert_exporter": "python",
   "pygments_lexer": "ipython3",
   "version": "3.7.1"
  }
 },
 "nbformat": 4,
 "nbformat_minor": 4
}
