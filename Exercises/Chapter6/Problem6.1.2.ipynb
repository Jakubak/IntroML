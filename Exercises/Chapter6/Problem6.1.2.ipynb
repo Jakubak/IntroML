{
 "cells": [
  {
   "cell_type": "markdown",
   "metadata": {},
   "source": [
    "# Problem 6.1.2\n",
    "The Jupyter notebook [IntroML/Examples/Chapter6/MiniBatchGradientDescent.ipynb](https://github.com/satishchandrareddy/IntroML/blob/master/Examples/Chapter6/MiniBatch.ipynb) performs mini-batch gradient descent using the following split of X and Y:\n",
    "\n",
    "\n",
    "$X = \\begin{bmatrix} 1 & 2 & 4 & 1 & -1\\\\ -2 & -5 & -8 & -2 & 2 \\end{bmatrix}, Y = \\begin{bmatrix} 0 & 1 & 0 & 1 & 1\\end{bmatrix}$\n",
    "\n",
    "$X_{minibatch=0} = \\begin{bmatrix} 1 & 2 & 4 \\\\ -2 & -5 & -8\\end{bmatrix}, Y_{minibatch=0} = \\begin{bmatrix} 0 & 1 & 0 \\end{bmatrix}$\n",
    "\n",
    "$X_{minibatch=1} = \\begin{bmatrix} 1 & -1\\\\ -2 & 2 \\end{bmatrix}, Y_{minibatch=1} = \\begin{bmatrix} 1 & 1\\end{bmatrix}$\n",
    "\n",
    "Redo the 1 epoch of mini-batch gradient descent by using minibatch=1 first, then minibatch=0 second. Show that the order of the mini-batches does indeed affect the final values of W and b after 1 epoch."
   ]
  },
  {
   "cell_type": "code",
   "execution_count": 1,
   "metadata": {},
   "outputs": [],
   "source": [
    "import numpy as np"
   ]
  },
  {
   "cell_type": "code",
   "execution_count": 2,
   "metadata": {},
   "outputs": [],
   "source": [
    "# batches\n",
    "X0 = np.array([[1, 2, 4],[-2,-5,-8]])\n",
    "Y0 = np.array([0, 1, 0])\n",
    "X1 = np.array([[1,-1],[-2,2]])\n",
    "Y1 = np.array([[1,1]])\n",
    "\n",
    "# learning rate\n",
    "alpha = 0.1"
   ]
  },
  {
   "cell_type": "markdown",
   "metadata": {},
   "source": [
    "## Original Order:"
   ]
  },
  {
   "cell_type": "code",
   "execution_count": 3,
   "metadata": {},
   "outputs": [
    {
     "name": "stdout",
     "output_type": "stream",
     "text": [
      "Forward Propagation: Minibatch0\n",
      "Z0: [[ 0.1 -0.1 -0.2]]\n",
      "A0: [[0.52497919 0.47502081 0.450166  ]]\n",
      "Back Propagation: Minibatch0\n",
      "grad_A_L0: [[ 0.70172364 -0.70172364  0.60624358]]\n",
      "dA0dZ0: [[0.24937604 0.24937604 0.24751657]]\n",
      "grad_Z_L0: [[ 0.17499306 -0.17499306  0.15005533]]\n",
      "grad_W_L: [[ 0.42522827 -0.67546349]]\n",
      "grad_b_L: [[0.15005533]]\n",
      "W: [[0.05747717 0.16754635]]\n",
      "b: [[0.18499447]]\n",
      "Forward Propagation: Minibatch1\n",
      "Z1: [[-0.09262106  0.46260999]]\n",
      "A1: [[0.47686127 0.61363316]]\n",
      "Back Propagation: Minibatch1\n",
      "grad_A_L1: [[-1.04852297 -0.81481907]]\n",
      "dA1dZ1: [[0.2494646  0.23708751]]\n",
      "grad_Z_L1: [[-0.26156936 -0.19318342]]\n",
      "grad_W_L: [[-0.06838594  0.13677188]]\n",
      "grad_b_L: [[-0.45475278]]\n",
      "W: [[0.06431577 0.15386916]]\n",
      "b: [[0.23046975]]\n"
     ]
    }
   ],
   "source": [
    "# initial parameters\n",
    "W = np.array([[0.1,0.1]])\n",
    "b = np.array([[0.2]])\n",
    "\n",
    "# Epoch 1, Mini-batch 0\n",
    "# Forward propagation\n",
    "Z0 = np.dot(W,X0) + b\n",
    "A0 = 1/(1+np.exp(-Z0))\n",
    "print(\"Forward Propagation: Minibatch0\")\n",
    "print(\"Z0: {}\".format(Z0))\n",
    "print(\"A0: {}\".format(A0))\n",
    "\n",
    "# Back Propagation\n",
    "grad_A_L0 = -(Y0/A0 - (1-Y0)/(1-A0))/3\n",
    "dA0dZ0 = A0 - np.square(A0)\n",
    "grad_Z_L0 = grad_A_L0*dA0dZ0\n",
    "grad_W_L = np.dot(grad_Z_L0,X0.T)\n",
    "grad_b_L = np.sum(grad_Z_L0,keepdims=True)\n",
    "print(\"Back Propagation: Minibatch0\")\n",
    "print(\"grad_A_L0: {}\".format(grad_A_L0))\n",
    "print(\"dA0dZ0: {}\".format(dA0dZ0))\n",
    "print(\"grad_Z_L0: {}\".format(grad_Z_L0))\n",
    "print(\"grad_W_L: {}\".format(grad_W_L))\n",
    "print(\"grad_b_L: {}\".format(grad_b_L))\n",
    "\n",
    "# Update W and b\n",
    "W = W - alpha*grad_W_L\n",
    "b = b - alpha*grad_b_L\n",
    "print(\"W: {}\".format(W))\n",
    "print(\"b: {}\".format(b))\n",
    "\n",
    "\n",
    "# Epoch 1, Mini-batch 1\n",
    "# Forward propagation\n",
    "Z1 = np.dot(W,X1) + b\n",
    "A1 = 1/(1+np.exp(-Z1))\n",
    "print(\"Forward Propagation: Minibatch1\")\n",
    "print(\"Z1: {}\".format(Z1))\n",
    "print(\"A1: {}\".format(A1))\n",
    "\n",
    "# Back Propagation\n",
    "grad_A_L1 = -(Y1/A1 - (1-Y1)/(1-A1))/2\n",
    "dA1dZ1 = A1 - np.square(A1)\n",
    "grad_Z_L1 = grad_A_L1*dA1dZ1\n",
    "grad_W_L = np.dot(grad_Z_L1,X1.T)\n",
    "grad_b_L = np.sum(grad_Z_L1,keepdims=True)\n",
    "print(\"Back Propagation: Minibatch1\")\n",
    "print(\"grad_A_L1: {}\".format(grad_A_L1))\n",
    "print(\"dA1dZ1: {}\".format(dA1dZ1))\n",
    "print(\"grad_Z_L1: {}\".format(grad_Z_L1))\n",
    "print(\"grad_W_L: {}\".format(grad_W_L))\n",
    "print(\"grad_b_L: {}\".format(grad_b_L))\n",
    "\n",
    "# Update W and b\n",
    "W = W - alpha*grad_W_L\n",
    "b = b - alpha*grad_b_L\n",
    "print(\"W: {}\".format(W))\n",
    "print(\"b: {}\".format(b))"
   ]
  },
  {
   "cell_type": "markdown",
   "metadata": {},
   "source": [
    "## Switched Order:"
   ]
  },
  {
   "cell_type": "code",
   "execution_count": 4,
   "metadata": {},
   "outputs": [
    {
     "name": "stdout",
     "output_type": "stream",
     "text": [
      "Forward Propagation: Minibatch1\n",
      "Z1: [[0.1 0.3]]\n",
      "A1: [[0.52497919 0.57444252]]\n",
      "Back Propagation: Minibatch1\n",
      "grad_A_L1: [[-0.95241871 -0.87040911]]\n",
      "dA1dZ1: [[0.24937604 0.24445831]]\n",
      "grad_Z_L1: [[-0.23751041 -0.21277874]]\n",
      "grad_W_L: [[-0.02473166  0.04946333]]\n",
      "grad_b_L: [[-0.45028915]]\n",
      "W: [[0.10247317 0.09505367]]\n",
      "b: [[0.24502891]]\n",
      "Forward Propagation: Minibatch0\n",
      "Z0: [[ 0.15739475 -0.02529309 -0.10550776]]\n",
      "A0: [[0.53926766 0.49367707 0.4736475 ]]\n",
      "Back Propagation: Minibatch0\n",
      "grad_A_L0: [[ 0.72348585 -0.67520522  0.63328916]]\n",
      "dA0dZ0: [[0.24845805 0.24996002 0.24930555]]\n",
      "grad_Z_L0: [[ 0.17975589 -0.16877431  0.1578825 ]]\n",
      "grad_W_L: [[ 0.47373727 -0.77870022]]\n",
      "grad_b_L: [[0.16886407]]\n",
      "W: [[0.05509944 0.17292369]]\n",
      "b: [[0.22814251]]\n"
     ]
    }
   ],
   "source": [
    "# initial parameters\n",
    "W = np.array([[0.1,0.1]])\n",
    "b = np.array([[0.2]])\n",
    "\n",
    "# Epoch 1, Mini-batch 1\n",
    "# Forward propagation\n",
    "Z1 = np.dot(W,X1) + b\n",
    "A1 = 1/(1+np.exp(-Z1))\n",
    "print(\"Forward Propagation: Minibatch1\")\n",
    "print(\"Z1: {}\".format(Z1))\n",
    "print(\"A1: {}\".format(A1))\n",
    "\n",
    "# Back Propagation\n",
    "grad_A_L1 = -(Y1/A1 - (1-Y1)/(1-A1))/2\n",
    "dA1dZ1 = A1 - np.square(A1)\n",
    "grad_Z_L1 = grad_A_L1*dA1dZ1\n",
    "grad_W_L = np.dot(grad_Z_L1,X1.T)\n",
    "grad_b_L = np.sum(grad_Z_L1,keepdims=True)\n",
    "print(\"Back Propagation: Minibatch1\")\n",
    "print(\"grad_A_L1: {}\".format(grad_A_L1))\n",
    "print(\"dA1dZ1: {}\".format(dA1dZ1))\n",
    "print(\"grad_Z_L1: {}\".format(grad_Z_L1))\n",
    "print(\"grad_W_L: {}\".format(grad_W_L))\n",
    "print(\"grad_b_L: {}\".format(grad_b_L))\n",
    "\n",
    "# Update W and b\n",
    "W = W - alpha*grad_W_L\n",
    "b = b - alpha*grad_b_L\n",
    "print(\"W: {}\".format(W))\n",
    "print(\"b: {}\".format(b))\n",
    "\n",
    "# Epoch 1, Mini-batch 0\n",
    "# Forward propagation\n",
    "Z0 = np.dot(W,X0) + b\n",
    "A0 = 1/(1+np.exp(-Z0))\n",
    "print(\"Forward Propagation: Minibatch0\")\n",
    "print(\"Z0: {}\".format(Z0))\n",
    "print(\"A0: {}\".format(A0))\n",
    "\n",
    "# Back Propagation\n",
    "grad_A_L0 = -(Y0/A0 - (1-Y0)/(1-A0))/3\n",
    "dA0dZ0 = A0 - np.square(A0)\n",
    "grad_Z_L0 = grad_A_L0*dA0dZ0\n",
    "grad_W_L = np.dot(grad_Z_L0,X0.T)\n",
    "grad_b_L = np.sum(grad_Z_L0,keepdims=True)\n",
    "print(\"Back Propagation: Minibatch0\")\n",
    "print(\"grad_A_L0: {}\".format(grad_A_L0))\n",
    "print(\"dA0dZ0: {}\".format(dA0dZ0))\n",
    "print(\"grad_Z_L0: {}\".format(grad_Z_L0))\n",
    "print(\"grad_W_L: {}\".format(grad_W_L))\n",
    "print(\"grad_b_L: {}\".format(grad_b_L))\n",
    "\n",
    "# Update W and b\n",
    "W = W - alpha*grad_W_L\n",
    "b = b - alpha*grad_b_L\n",
    "print(\"W: {}\".format(W))\n",
    "print(\"b: {}\".format(b))"
   ]
  },
  {
   "cell_type": "code",
   "execution_count": null,
   "metadata": {},
   "outputs": [],
   "source": []
  }
 ],
 "metadata": {
  "kernelspec": {
   "display_name": "IntroML-env",
   "language": "python",
   "name": "introml-env"
  },
  "language_info": {
   "codemirror_mode": {
    "name": "ipython",
    "version": 3
   },
   "file_extension": ".py",
   "mimetype": "text/x-python",
   "name": "python",
   "nbconvert_exporter": "python",
   "pygments_lexer": "ipython3",
   "version": "3.7.1"
  }
 },
 "nbformat": 4,
 "nbformat_minor": 4
}
