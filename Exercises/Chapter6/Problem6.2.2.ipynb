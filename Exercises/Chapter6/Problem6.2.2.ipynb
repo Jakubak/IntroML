{
 "cells": [
  {
   "cell_type": "markdown",
   "metadata": {},
   "source": [
    "# Problem 6.2.2"
   ]
  },
  {
   "cell_type": "code",
   "execution_count": 1,
   "metadata": {},
   "outputs": [],
   "source": [
    "import numpy as np\n",
    "import matplotlib.pyplot as plt"
   ]
  },
  {
   "cell_type": "markdown",
   "metadata": {},
   "source": [
    "## Loss and Gradient Functions\n",
    "Define function for loss $L(W_0, W_1) = 2W_0^2 + W_1^2$ and gradient $\\nabla_WL=[4W_0,2W_1]$."
   ]
  },
  {
   "cell_type": "code",
   "execution_count": 2,
   "metadata": {},
   "outputs": [],
   "source": [
    "# define loss and gradient functions\n",
    "def loss(W):\n",
    "    return 2*W[0]**2 + W[1]**2\n",
    "\n",
    "def grad(W):\n",
    "    return np.array([4*W[0],2*W[1]])"
   ]
  },
  {
   "cell_type": "markdown",
   "metadata": {},
   "source": [
    "### AdaGrad with  n=30 Epochs"
   ]
  },
  {
   "cell_type": "code",
   "execution_count": 8,
   "metadata": {},
   "outputs": [
    {
     "name": "stdout",
     "output_type": "stream",
     "text": [
      "After 30 epochs\n",
      "W: [0.0109649 0.0109649]\n",
      "Loss: 0.0003606872710892198\n"
     ]
    },
    {
     "data": {
      "image/png": "[encoded data removed]",
      "text/plain": [
       "<Figure size 432x288 with 1 Axes>"
      ]
     },
     "metadata": {
      "needs_background": "light"
     },
     "output_type": "display_data"
    }
   ],
   "source": [
    "# initialization\n",
    "W = np.array([2,2])\n",
    "alpha = 0.5\n",
    "v = 0\n",
    "epsilon = 1e-8\n",
    "nepoch = 30\n",
    "\n",
    "# iteration\n",
    "loss_history = []\n",
    "for epoch in range(nepoch):\n",
    "    gradW = grad(W)\n",
    "    v  = v + np.square(gradW)\n",
    "    W = W - alpha*gradW/np.sqrt(v+epsilon)\n",
    "    loss_history.append(loss(W))\n",
    "print(\"After {} epochs\".format(nepoch))\n",
    "print(\"W: {}\".format(W))\n",
    "print(\"Loss: {}\".format(loss_history[-1]))\n",
    "\n",
    "plt.figure()\n",
    "epoch_list = list(range(1,nepoch+1))\n",
    "plt.plot(epoch_list,loss_history)\n",
    "plt.xlabel(\"Epoch\")\n",
    "plt.ylabel(\"Loss\")\n",
    "plt.show()"
   ]
  },
  {
   "cell_type": "code",
   "execution_count": null,
   "metadata": {},
   "outputs": [],
   "source": []
  }
 ],
 "metadata": {
  "kernelspec": {
   "display_name": "IntroML-env",
   "language": "python",
   "name": "introml-env"
  },
  "language_info": {
   "codemirror_mode": {
    "name": "ipython",
    "version": 3
   },
   "file_extension": ".py",
   "mimetype": "text/x-python",
   "name": "python",
   "nbconvert_exporter": "python",
   "pygments_lexer": "ipython3",
   "version": "3.7.1"
  }
 },
 "nbformat": 4,
 "nbformat_minor": 2
}
