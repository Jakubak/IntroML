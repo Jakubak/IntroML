{
 "cells": [
  {
   "cell_type": "markdown",
   "metadata": {},
   "source": [
    "# Problem 6.1.3\n",
    "Consider binary classification using Logistic Regression and the following training data:\n",
    "\n",
    "$X = \\begin{bmatrix} 3 & 1 & -1\\\\ 1 & -2 &  2 \\end{bmatrix}, Y = \\begin{bmatrix} 0 & 1 & 1\\end{bmatrix}$\n",
    "\n",
    "Assume that \n",
    "\n",
    "$W = \\begin{bmatrix} W_0 & W_1 \\end{bmatrix} = \\begin{bmatrix} 2 & -1 \\end{bmatrix},      b=-1 $\n",
    "\n",
    "This problem was considered in Problem 4.7.1 where the gradients $\\nabla_WL$ and $\\nabla_bL$ were computed. Suppose that the data samples are re-ordered:\n",
    "\n",
    "$X = \\begin{bmatrix} 1 & -1 & 3\\\\ -2 & 2 &  1 \\end{bmatrix}, Y = \\begin{bmatrix} 1 & 1 & 0\\end{bmatrix}$\n",
    "\n",
    "Perform back propagation to show that the gradients $\\nabla_WL$ and $\\nabla_bL$ are not changed by the order of the samples."
   ]
  },
  {
   "cell_type": "code",
   "execution_count": null,
   "metadata": {},
   "outputs": [],
   "source": [
    "import numpy as np"
   ]
  },
  {
   "cell_type": "code",
   "execution_count": null,
   "metadata": {},
   "outputs": [],
   "source": [
    "X = np.array([[3, 1, -1], [1, -2, 2]])\n",
    "Y = np.array([[0, 1, 1]])\n",
    "W = np.array([[2, -1]])\n",
    "b = np.array([[-1]])\n",
    "m = X.shape[1]"
   ]
  },
  {
   "cell_type": "markdown",
   "metadata": {},
   "source": [
    "## Original Order:"
   ]
  },
  {
   "cell_type": "code",
   "execution_count": null,
   "metadata": {},
   "outputs": [],
   "source": [
    "# forward propagation\n",
    "Z = np.dot(W,X)+b\n",
    "A = 1/(1+np.exp(-Z))\n",
    "print(\"Z: {}\".format(Z))\n",
    "print(\"A: {}\".format(A))\n",
    "# Loss function\n",
    "L = -np.mean(Y*np.log(A)+(1-Y)*np.log(1-A))\n",
    "# back propagation\n",
    "grad_AL = -1/m*(Y/A - (1-Y)/(1-A))\n",
    "dAdZ = A-np.square(A)\n",
    "grad_ZL = grad_AL*dAdZ\n",
    "grad_WL = np.dot(grad_ZL,X.T)\n",
    "grad_bL = np.sum(grad_ZL,axis=1,keepdims=True)\n",
    "print(\"grad_WL: {}\".format(grad_WL))\n",
    "print(\"grad_bL: {}\".format(grad_bL))"
   ]
  },
  {
   "cell_type": "markdown",
   "metadata": {},
   "source": [
    "## Switched Order:"
   ]
  },
  {
   "cell_type": "code",
   "execution_count": null,
   "metadata": {},
   "outputs": [],
   "source": [
    "# switch order of X and Y\n",
    "X = np.array([[1, -1, 3], [-2, 2, 1]])\n",
    "Y = np.array([[1, 1, 0]])\n",
    "# forward propagation\n",
    "Z = np.dot(W,X)+b\n",
    "A = 1/(1+np.exp(-Z))\n",
    "print(\"Z: {}\".format(Z))\n",
    "print(\"A: {}\".format(A))\n",
    "# Loss function\n",
    "L = -np.mean(Y*np.log(A)+(1-Y)*np.log(1-A))\n",
    "# back propagation\n",
    "grad_AL = -1/m*(Y/A - (1-Y)/(1-A))\n",
    "dAdZ = A-np.square(A)\n",
    "grad_ZL = grad_AL*dAdZ\n",
    "grad_WL = np.dot(grad_ZL,X.T)\n",
    "grad_bL = np.sum(grad_ZL,axis=1,keepdims=True)\n",
    "print(\"grad_WL: {}\".format(grad_WL))\n",
    "print(\"grad_bL: {}\".format(grad_bL))"
   ]
  },
  {
   "cell_type": "code",
   "execution_count": null,
   "metadata": {},
   "outputs": [],
   "source": []
  }
 ],
 "metadata": {
  "kernelspec": {
   "display_name": "IntroML-env",
   "language": "python",
   "name": "introml-env"
  },
  "language_info": {
   "codemirror_mode": {
    "name": "ipython",
    "version": 3
   },
   "file_extension": ".py",
   "mimetype": "text/x-python",
   "name": "python",
   "nbconvert_exporter": "python",
   "pygments_lexer": "ipython3",
   "version": "3.7.1"
  }
 },
 "nbformat": 4,
 "nbformat_minor": 4
}
