{
 "cells": [
  {
   "cell_type": "markdown",
   "metadata": {},
   "source": [
    "# Problem 6.2.1\n",
    "The following is Jupyter notebook showing how to use Gradient Descent with a for loop to minimize $2W_0^2+W_1^2$. It is taken from the file: [IntroML/Examples/Chapter3/Optimization.ipynb](https://github.com/satishchandrareddy/IntroML/blob/master/Examples/Chapter3/Optimization.ipynb). Create analogous Jupyter notebook examples for the Momentum, RmsProp and Adam optimizers. Minimize the function with [2,2] as the initial guess point using 30 epochs."
   ]
  },
  {
   "cell_type": "code",
   "execution_count": null,
   "metadata": {},
   "outputs": [],
   "source": [
    "import numpy as np\n",
    "import matplotlib.pyplot as plt"
   ]
  },
  {
   "cell_type": "markdown",
   "metadata": {},
   "source": [
    "## Loss and Gradient Functions\n",
    "Define function for loss $L(W_0, W_1) = 2W_0^2 + W_1^2$ and gradient $\\nabla_WL=[4W_0,2W_1]$."
   ]
  },
  {
   "cell_type": "code",
   "execution_count": null,
   "metadata": {},
   "outputs": [],
   "source": [
    "# define loss and gradient functions\n",
    "def loss(W):\n",
    "    return 2*W[0]**2 + W[1]**2\n",
    "\n",
    "def grad(W):\n",
    "    return np.array([4*W[0],2*W[1]])"
   ]
  },
  {
   "cell_type": "markdown",
   "metadata": {},
   "source": [
    "## Momentum with  n=30 Epochs\n",
    "### Update Rule:\n",
    "$Update_{epoch=i}=-\\alpha v_{epoch=i}$\n",
    "\n",
    "where, \n",
    "\n",
    "+ $v_{epoch=i} = \\beta v_{epoch=i-1} + \\nabla_WL_{epoch=i-1}, \\quad v_{epoch=0} = 0$"
   ]
  },
  {
   "cell_type": "code",
   "execution_count": null,
   "metadata": {},
   "outputs": [],
   "source": [
    "# initialization\n",
    "W = np.array([2,2])\n",
    "alpha = 0.1\n",
    "beta = 0.9\n",
    "v = 0\n",
    "nepoch = 30\n",
    "\n",
    "# iteration\n",
    "loss_history = []\n",
    "for epoch in range(nepoch):\n",
    "    gradW = grad(W)\n",
    "    v = beta*v + gradW\n",
    "    W = W - alpha*v\n",
    "    loss_history.append(loss(W))\n",
    "print(\"After {} epochs\".format(nepoch))\n",
    "print(\"W: {}\".format(W))\n",
    "print(\"Loss: {}\".format(loss_history[-1]))\n",
    "\n",
    "plt.figure()\n",
    "epoch_list = list(range(1,nepoch+1))\n",
    "plt.plot(epoch_list,loss_history)\n",
    "plt.xlabel(\"Epoch\")\n",
    "plt.ylabel(\"Loss\")\n",
    "plt.show()"
   ]
  },
  {
   "cell_type": "markdown",
   "metadata": {},
   "source": [
    "## RmsProp with  n=30 Epochs\n",
    "### Update Rule:\n",
    "$Update_{epoch=i}=-\\frac{\\alpha}{\\sqrt{v_{epoch=i}} + \\epsilon}\\nabla_WL_{epoch=i-1}$\n",
    "\n",
    "where, \n",
    "\n",
    "+ $v_{epoch=i} = \\beta v_{epoch=i-1} + (1-\\beta) \\nabla_WL^2_{epoch=i-1}, \\quad v_{epoch=0} = 0$"
   ]
  },
  {
   "cell_type": "code",
   "execution_count": null,
   "metadata": {},
   "outputs": [],
   "source": [
    "# initialization\n",
    "W = np.array([2,2])\n",
    "alpha = 0.1\n",
    "beta = 0.9\n",
    "v = 0\n",
    "eps = 1e-8\n",
    "nepoch = 30\n",
    "\n",
    "# iteration\n",
    "loss_history = []\n",
    "for epoch in range(nepoch):\n",
    "    gradW = grad(W)\n",
    "    grad2W = np.square(gradW)\n",
    "    v = beta*v + (1-beta)*grad2W\n",
    "    W = W - alpha*gradW/(np.sqrt(v)+eps)\n",
    "    loss_history.append(loss(W))\n",
    "print(\"After {} epochs\".format(nepoch))\n",
    "print(\"W: {}\".format(W))\n",
    "print(\"Loss: {}\".format(loss_history[-1]))\n",
    "\n",
    "plt.figure()\n",
    "epoch_list = list(range(1,nepoch+1))\n",
    "plt.plot(epoch_list,loss_history)\n",
    "plt.xlabel(\"Epoch\")\n",
    "plt.ylabel(\"Loss\")\n",
    "plt.show()"
   ]
  },
  {
   "cell_type": "markdown",
   "metadata": {},
   "source": [
    "## Adam with  n=30 Epochs\n",
    "### Update Rule:\n",
    "$Update_{epoch=i}=-\\frac{\\alpha}{\\sqrt{v_{epoch=i}} + \\epsilon}m_{epoch=i}$\n",
    "\n",
    "where, \n",
    "\n",
    "+ $m_{epoch=i} = \\beta_1m_{epoch=i-1} + (1-\\beta_1) \\nabla_WL_{epoch=i-1}, \\quad m_{epoch=0} = 0$\n",
    "\n",
    "+ $v_{epoch=i} = \\beta_2v_{epoch=i-1} + (1-\\beta_2) \\nabla_WL^2_{epoch=i-1}, \\quad v_{epoch=0} = 0$"
   ]
  },
  {
   "cell_type": "code",
   "execution_count": null,
   "metadata": {},
   "outputs": [],
   "source": [
    "# initialization\n",
    "W = np.array([2,2])\n",
    "alpha = 0.1\n",
    "beta1 = 0.9\n",
    "beta2 = 0.999\n",
    "m = 0\n",
    "v = 0\n",
    "eps = 1e-8\n",
    "nepoch = 30\n",
    "\n",
    "# iteration\n",
    "loss_history = []\n",
    "for epoch in range(nepoch):\n",
    "    gradW = grad(W)\n",
    "    grad2W = np.square(gradW)\n",
    "    m = beta1*m + (1-beta1)*gradW\n",
    "    v = beta2*v + (1-beta2)*grad2W \n",
    "    W = W - alpha*m/(np.sqrt(v)+eps)\n",
    "    loss_history.append(loss(W))\n",
    "print(\"After {} epochs\".format(nepoch))\n",
    "print(\"W: {}\".format(W))\n",
    "print(\"Loss: {}\".format(loss_history[-1]))\n",
    "\n",
    "plt.figure()\n",
    "epoch_list = list(range(1,nepoch+1))\n",
    "plt.plot(epoch_list,loss_history)\n",
    "plt.xlabel(\"Epoch\")\n",
    "plt.ylabel(\"Loss\")\n",
    "plt.show()"
   ]
  },
  {
   "cell_type": "code",
   "execution_count": null,
   "metadata": {},
   "outputs": [],
   "source": []
  }
 ],
 "metadata": {
  "kernelspec": {
   "display_name": "IntroML-env",
   "language": "python",
   "name": "introml-env"
  },
  "language_info": {
   "codemirror_mode": {
    "name": "ipython",
    "version": 3
   },
   "file_extension": ".py",
   "mimetype": "text/x-python",
   "name": "python",
   "nbconvert_exporter": "python",
   "pygments_lexer": "ipython3",
   "version": "3.7.1"
  }
 },
 "nbformat": 4,
 "nbformat_minor": 4
}
