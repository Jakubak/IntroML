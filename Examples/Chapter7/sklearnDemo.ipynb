{
 "cells": [
  {
   "cell_type": "code",
   "execution_count": 1,
   "metadata": {},
   "outputs": [],
   "source": [
    "from sklearn.feature_extraction.text import CountVectorizer"
   ]
  },
  {
   "cell_type": "code",
   "execution_count": 2,
   "metadata": {},
   "outputs": [
    {
     "name": "stdout",
     "output_type": "stream",
     "text": [
      "X: \n",
      "[[1 1 0]\n",
      " [1 0 1]\n",
      " [0 0 1]\n",
      " [1 0 1]\n",
      " [0 1 0]\n",
      " [0 0 1]\n",
      " [0 1 0]]\n",
      "Vocabulary: ['call', 'me', 'pick', 'soon', 'to', 'up', 'win']\n"
     ]
    }
   ],
   "source": [
    "#dataset\n",
    "list_message = [\"Call me soon\", \"CALL to win\", \"Pick me up soon\"]\n",
    "# Create instance of vectorizer\n",
    "vectorizer = CountVectorizer(decode_error=\"ignore\")\n",
    "# Perform word counts\n",
    "Xfit = vectorizer.fit_transform(list_message)\n",
    "# Generate feature matrix (transform so sample axis is along columns)\n",
    "X = Xfit.toarray().T\n",
    "print(\"X: \\n{}\".format(X))\n",
    "# list words in vocabulary\n",
    "print(\"Vocabulary: {}\".format(vectorizer.get_feature_names()))"
   ]
  },
  {
   "cell_type": "code",
   "execution_count": null,
   "metadata": {},
   "outputs": [],
   "source": []
  }
 ],
 "metadata": {
  "kernelspec": {
   "display_name": "test-env",
   "language": "python",
   "name": "test-env"
  },
  "language_info": {
   "codemirror_mode": {
    "name": "ipython",
    "version": 3
   },
   "file_extension": ".py",
   "mimetype": "text/x-python",
   "name": "python",
   "nbconvert_exporter": "python",
   "pygments_lexer": "ipython3",
   "version": "3.7.1"
  }
 },
 "nbformat": 4,
 "nbformat_minor": 2
}
