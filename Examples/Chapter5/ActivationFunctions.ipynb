{
 "cells": [
  {
   "cell_type": "markdown",
   "metadata": {},
   "source": [
    "# Implementation of Activation Functions"
   ]
  },
  {
   "cell_type": "code",
   "execution_count": null,
   "metadata": {},
   "outputs": [],
   "source": [
    "import numpy as np"
   ]
  },
  {
   "cell_type": "markdown",
   "metadata": {},
   "source": [
    "### Numerical Overflow"
   ]
  },
  {
   "cell_type": "code",
   "execution_count": null,
   "metadata": {},
   "outputs": [],
   "source": [
    "A = 1e+309\n",
    "A"
   ]
  },
  {
   "cell_type": "code",
   "execution_count": null,
   "metadata": {},
   "outputs": [],
   "source": [
    "Z = np.exp(710)\n",
    "Z"
   ]
  },
  {
   "cell_type": "code",
   "execution_count": null,
   "metadata": {},
   "outputs": [],
   "source": [
    "Z = np.exp(-750)\n",
    "Z"
   ]
  },
  {
   "cell_type": "markdown",
   "metadata": {},
   "source": [
    "### Sigmoid function\n",
    "$f(z) = \\frac{1}{1 + e^{-z}}$"
   ]
  },
  {
   "cell_type": "code",
   "execution_count": null,
   "metadata": {},
   "outputs": [],
   "source": [
    "def sigmoid1(Z):\n",
    "    return 1/(1+np.exp(-Z))\n",
    "Z = 1000\n",
    "print(\"sigmoid1(Z): {}\".format(sigmoid1(Z)))\n",
    "print(\"sigmoid1(-Z): {}\".format(sigmoid1(-Z)))"
   ]
  },
  {
   "cell_type": "code",
   "execution_count": null,
   "metadata": {},
   "outputs": [],
   "source": [
    "def sigmoid2(Z):\n",
    "    LIM = 50\n",
    "    return 1/(1+np.exp(-np.maximum(Z,-LIM)))\n",
    "Z = 1000\n",
    "print(\"sigmoid2(Z): {}\".format(sigmoid2(Z)))\n",
    "print(\"sigmoid2(-Z): {}\".format(sigmoid2(-Z)))"
   ]
  },
  {
   "cell_type": "markdown",
   "metadata": {},
   "source": [
    "### Softplus function\n",
    "$f(z) = ln(1 + e^{z})$"
   ]
  },
  {
   "cell_type": "code",
   "execution_count": null,
   "metadata": {},
   "outputs": [],
   "source": [
    "def softplus1(Z):\n",
    "    return np.log(1+np.exp(Z))\n",
    "Z = 1000\n",
    "print(\"softplus(Z): {}\".format(softplus1(Z)))\n",
    "print(\"softplus(-Z): {}\".format(softplus1(-Z)))"
   ]
  },
  {
   "cell_type": "code",
   "execution_count": null,
   "metadata": {},
   "outputs": [],
   "source": [
    "def softplus2(Z):\n",
    "    LIM = 50\n",
    "    ZLIM = np.maximum(Z,-LIM)\n",
    "    return ZLIM + np.log(np.exp(-ZLIM)+1)\n",
    "Z = 1000\n",
    "print(\"softplus(Z): {}\".format(softplus2(Z)))\n",
    "print(\"softplus(-Z): {}\".format(softplus2(-Z)))"
   ]
  },
  {
   "cell_type": "markdown",
   "metadata": {},
   "source": [
    "### Tanh function\n",
    "$f(z) = \\frac{e^{z}-e^{-z}}{e^{z} + e^{-z}}$"
   ]
  },
  {
   "cell_type": "code",
   "execution_count": null,
   "metadata": {},
   "outputs": [],
   "source": [
    "Z = 1000\n",
    "print(\"tanh(Z): {}\".format(np.tanh(Z)))\n",
    "print(\"tanh(-Z): {}\".format(np.tanh(-Z)))"
   ]
  },
  {
   "cell_type": "markdown",
   "metadata": {},
   "source": [
    "### Relu function\n",
    "$f(z) = max(0,z) = \\begin{cases} 0 & \\text{if $z < 0$} \\\\\n",
    "z & \\text{if $z \\ge 0$} \\end{cases}$\n"
   ]
  },
  {
   "cell_type": "code",
   "execution_count": null,
   "metadata": {},
   "outputs": [],
   "source": [
    "def relu(Z):\n",
    "    return np.maximum(Z,0)\n",
    "Z = 1000\n",
    "print(\"relu(Z): {}\".format(relu(Z)))\n",
    "print(\"relu(-Z): {}\".format(relu(-Z)))"
   ]
  },
  {
   "cell_type": "code",
   "execution_count": null,
   "metadata": {},
   "outputs": [],
   "source": []
  }
 ],
 "metadata": {
  "kernelspec": {
   "display_name": "IntroML-env",
   "language": "python",
   "name": "introml-env"
  },
  "language_info": {
   "codemirror_mode": {
    "name": "ipython",
    "version": 3
   },
   "file_extension": ".py",
   "mimetype": "text/x-python",
   "name": "python",
   "nbconvert_exporter": "python",
   "pygments_lexer": "ipython3",
   "version": "3.7.1"
  }
 },
 "nbformat": 4,
 "nbformat_minor": 2
}
