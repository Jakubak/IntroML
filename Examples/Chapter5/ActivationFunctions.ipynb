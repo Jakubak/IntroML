{
 "cells": [
  {
   "cell_type": "markdown",
   "metadata": {},
   "source": [
    "# Implementation of Activation Functions"
   ]
  },
  {
   "cell_type": "code",
   "execution_count": 1,
   "metadata": {},
   "outputs": [],
   "source": [
    "import numpy as np"
   ]
  },
  {
   "cell_type": "markdown",
   "metadata": {},
   "source": [
    "### Numerical Overflow and Underflow"
   ]
  },
  {
   "cell_type": "code",
   "execution_count": 2,
   "metadata": {},
   "outputs": [
    {
     "data": {
      "text/plain": [
       "inf"
      ]
     },
     "execution_count": 2,
     "metadata": {},
     "output_type": "execute_result"
    }
   ],
   "source": [
    "A = 1e+309\n",
    "A"
   ]
  },
  {
   "cell_type": "code",
   "execution_count": 3,
   "metadata": {},
   "outputs": [
    {
     "name": "stderr",
     "output_type": "stream",
     "text": [
      "/Users/kristokrugger/.local/lib/python3.7/site-packages/ipykernel_launcher.py:1: RuntimeWarning: overflow encountered in exp\n",
      "  \"\"\"Entry point for launching an IPython kernel.\n"
     ]
    },
    {
     "data": {
      "text/plain": [
       "inf"
      ]
     },
     "execution_count": 3,
     "metadata": {},
     "output_type": "execute_result"
    }
   ],
   "source": [
    "Z = np.exp(710)\n",
    "Z"
   ]
  },
  {
   "cell_type": "code",
   "execution_count": 4,
   "metadata": {},
   "outputs": [
    {
     "data": {
      "text/plain": [
       "0.0"
      ]
     },
     "execution_count": 4,
     "metadata": {},
     "output_type": "execute_result"
    }
   ],
   "source": [
    "Z = np.exp(-750)\n",
    "Z"
   ]
  },
  {
   "cell_type": "markdown",
   "metadata": {},
   "source": [
    "### Sigmoid function\n",
    "$f(z) = \\frac{1}{1 + e^{-z}}$"
   ]
  },
  {
   "cell_type": "code",
   "execution_count": 5,
   "metadata": {},
   "outputs": [
    {
     "name": "stdout",
     "output_type": "stream",
     "text": [
      "sigmoid(Z): 1.0\n",
      "sigmoid(-Z): 0.0\n"
     ]
    },
    {
     "name": "stderr",
     "output_type": "stream",
     "text": [
      "/Users/kristokrugger/.local/lib/python3.7/site-packages/ipykernel_launcher.py:2: RuntimeWarning: overflow encountered in exp\n",
      "  \n"
     ]
    }
   ],
   "source": [
    "def sigmoid1(Z):\n",
    "    return 1/(1+np.exp(-Z))\n",
    "Z = 1000\n",
    "print(\"sigmoid(Z): {}\".format(sigmoid1(Z)))\n",
    "print(\"sigmoid(-Z): {}\".format(sigmoid1(-Z)))"
   ]
  },
  {
   "cell_type": "code",
   "execution_count": 6,
   "metadata": {},
   "outputs": [
    {
     "name": "stdout",
     "output_type": "stream",
     "text": [
      "sigmoid(Z): 1.0\n",
      "sigmoid(-Z): 1.928749847963918e-22\n"
     ]
    }
   ],
   "source": [
    "def sigmoid2(Z):\n",
    "    LIM = 50\n",
    "    return 1/(1+np.exp(-np.maximum(Z,-LIM)))\n",
    "Z = 1000\n",
    "print(\"sigmoid(Z): {}\".format(sigmoid2(Z)))\n",
    "print(\"sigmoid(-Z): {}\".format(sigmoid2(-Z)))"
   ]
  },
  {
   "cell_type": "markdown",
   "metadata": {},
   "source": [
    "### Softplus function\n",
    "$f(z) = ln(1 + e^{z})$"
   ]
  },
  {
   "cell_type": "code",
   "execution_count": 7,
   "metadata": {},
   "outputs": [
    {
     "name": "stdout",
     "output_type": "stream",
     "text": [
      "softplus(Z): inf\n",
      "softplus(-Z): 0.0\n"
     ]
    },
    {
     "name": "stderr",
     "output_type": "stream",
     "text": [
      "/Users/kristokrugger/.local/lib/python3.7/site-packages/ipykernel_launcher.py:2: RuntimeWarning: overflow encountered in exp\n",
      "  \n"
     ]
    }
   ],
   "source": [
    "def softplus1(Z):\n",
    "    return np.log(1+np.exp(Z))\n",
    "Z = 1000\n",
    "print(\"softplus(Z): {}\".format(softplus1(Z)))\n",
    "print(\"softplus(-Z): {}\".format(softplus1(-Z)))"
   ]
  },
  {
   "cell_type": "code",
   "execution_count": 8,
   "metadata": {},
   "outputs": [
    {
     "name": "stdout",
     "output_type": "stream",
     "text": [
      "softplus(Z): 1000.0\n",
      "softplus(-Z): 0.0\n"
     ]
    }
   ],
   "source": [
    "def softplus2(Z):\n",
    "    LIM = 50\n",
    "    ZLIM = np.maximum(Z,-LIM)\n",
    "    return ZLIM + np.log(np.exp(-ZLIM)+1)\n",
    "Z = 1000\n",
    "print(\"softplus(Z): {}\".format(softplus2(Z)))\n",
    "print(\"softplus(-Z): {}\".format(softplus2(-Z)))"
   ]
  },
  {
   "cell_type": "markdown",
   "metadata": {},
   "source": [
    "### Tanh function\n",
    "$f(z) = \\frac{e^{z}-e^{-z}}{e^{z} + e^{-z}}$"
   ]
  },
  {
   "cell_type": "code",
   "execution_count": 9,
   "metadata": {},
   "outputs": [
    {
     "name": "stdout",
     "output_type": "stream",
     "text": [
      "tanh(Z): 1.0\n",
      "tanh(-Z): -1.0\n"
     ]
    }
   ],
   "source": [
    "Z = 1000\n",
    "print(\"tanh(Z): {}\".format(np.tanh(Z)))\n",
    "print(\"tanh(-Z): {}\".format(np.tanh(-Z)))"
   ]
  },
  {
   "cell_type": "markdown",
   "metadata": {},
   "source": [
    "### Relu function\n",
    "$f(z) = max(0,z) = \\begin{cases} 0 & \\text{if $z < 0$} \\\\\n",
    "z & \\text{if $z \\ge 0$} \\end{cases}$\n"
   ]
  },
  {
   "cell_type": "code",
   "execution_count": 11,
   "metadata": {},
   "outputs": [
    {
     "name": "stdout",
     "output_type": "stream",
     "text": [
      "relu(Z): 1000\n",
      "relu(-Z): 0\n"
     ]
    }
   ],
   "source": [
    "def relu(Z):\n",
    "    return np.maximum(Z,0)\n",
    "Z = 1000\n",
    "print(\"relu(Z): {}\".format(relu(Z)))\n",
    "print(\"relu(-Z): {}\".format(relu(-Z)))"
   ]
  }
 ],
 "metadata": {
  "kernelspec": {
   "display_name": "ml-test",
   "language": "python",
   "name": "ml-test"
  },
  "language_info": {
   "codemirror_mode": {
    "name": "ipython",
    "version": 3
   },
   "file_extension": ".py",
   "mimetype": "text/x-python",
   "name": "python",
   "nbconvert_exporter": "python",
   "pygments_lexer": "ipython3",
   "version": "3.7.1"
  }
 },
 "nbformat": 4,
 "nbformat_minor": 2
}
