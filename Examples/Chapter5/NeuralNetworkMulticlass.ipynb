{
 "cells": [
  {
   "cell_type": "markdown",
   "metadata": {},
   "source": [
    "# Neural Network Multi-class"
   ]
  },
  {
   "cell_type": "code",
   "execution_count": null,
   "metadata": {},
   "outputs": [],
   "source": [
    "import numpy as np"
   ]
  },
  {
   "cell_type": "markdown",
   "metadata": {},
   "source": [
    "### Forward Propagation Example"
   ]
  },
  {
   "cell_type": "code",
   "execution_count": null,
   "metadata": {},
   "outputs": [],
   "source": [
    "# forward propagation\n",
    "#training data\n",
    "X = np.array([[1,2,4],[-2,-5,-8]])\n",
    "Y = np.array([[0,1,2]])\n",
    "# parameters\n",
    "W1 = np.array([[0.5,0.5],[0.5,-0.5]])\n",
    "b1 = np.array([[0.5],[0.5]])\n",
    "W2 = np.array([[-1,1],[1,-1],[-2,1]])\n",
    "b2 = np.array([[-0.1],[-0.1],[-0.1]])"
   ]
  },
  {
   "cell_type": "code",
   "execution_count": null,
   "metadata": {
    "scrolled": true
   },
   "outputs": [],
   "source": [
    "# layer 1\n",
    "Z1 = np.dot(W1,X) + b1\n",
    "print(\"Z1: \\n{}\".format(Z1))\n",
    "A1 = np.tanh(Z1)\n",
    "print(\"A1: \\n{}\".format(A1))\n",
    "# layer 2\n",
    "Z2 = np.dot(W2,A1) + b2\n",
    "print(\"Z2: \\n{}\".format(Z2))\n",
    "Z2exp = np.exp(Z2)\n",
    "print(\"Z2exp: \\n{}\".format(Z2exp))\n",
    "Sum = np.sum(Z2exp,axis=0,keepdims=True)\n",
    "print(\"Sum: {}\".format(Sum))\n",
    "A2 = Z2exp/Sum\n",
    "print(\"A2: \\n{}\".format(A2))"
   ]
  },
  {
   "cell_type": "markdown",
   "metadata": {},
   "source": [
    "### Loss Example"
   ]
  },
  {
   "cell_type": "code",
   "execution_count": null,
   "metadata": {},
   "outputs": [],
   "source": [
    "def onehot(Y,nclass):\n",
    "    ndata = Y.shape[1]\n",
    "    Y_onehot = np.zeros((nclass,ndata))\n",
    "    for count in range(ndata):\n",
    "        Y_onehot[int(Y[0,count]),count] = 1.0\n",
    "    return Y_onehot"
   ]
  },
  {
   "cell_type": "code",
   "execution_count": null,
   "metadata": {},
   "outputs": [],
   "source": [
    "Yh = onehot(Y,3)\n",
    "print(\"Yh: \\n{}\".format(Yh))\n",
    "logA2 = np.log(A2)\n",
    "print(\"logA2: \\n{}\".format(logA2))\n",
    "YhlogA2 = Yh*logA2\n",
    "print(\"Yh*logA2: \\n{}\".format(YhlogA2))\n",
    "Loss = -np.sum(Yh*np.log(A2))/3\n",
    "print(\"Loss: {}\".format(Loss))"
   ]
  },
  {
   "cell_type": "markdown",
   "metadata": {},
   "source": [
    "### Back Propagation Example"
   ]
  },
  {
   "cell_type": "code",
   "execution_count": null,
   "metadata": {},
   "outputs": [],
   "source": [
    "print(\"BACK PROPAGATION\")\n",
    "# dLoss/dA2\n",
    "Yonehot = onehot(Y,3)\n",
    "print(\"Yonehot: \\n{}\".format(Yonehot))\n",
    "grad_A2_L = -Yonehot/A2/3\n",
    "print(\"grad_A2_L: \\n{}\".format(grad_A2_L))"
   ]
  },
  {
   "cell_type": "code",
   "execution_count": null,
   "metadata": {},
   "outputs": [],
   "source": [
    "# LAYER 2\n",
    "# dLoss/dZ2\n",
    "prod2 = A2*grad_A2_L\n",
    "print(\"A2*grad_A2_L: \\n{}\".format(prod2))\n",
    "sumterm = np.sum(prod2,axis=0,keepdims=True)\n",
    "print(\"sumterm: {}\".format(sumterm))\n",
    "grad_Z2_L = prod2 - A2*sumterm\n",
    "print(\"grad_Z2_L: \\n{}\".format(grad_Z2_L))\n",
    "grad_W2_L = np.dot(grad_Z2_L,A1.T)\n",
    "grad_b2_L = np.sum(grad_Z2_L,axis=1,keepdims=True)\n",
    "grad_A1_L = np.dot(W2.T,grad_Z2_L)\n",
    "print(\"grad_W2_L: {}\".format(grad_W2_L))\n",
    "print(\"grad_b2_L: {}\".format(grad_b2_L))\n",
    "print(\"grad_A1_L: {}\".format(grad_A1_L))"
   ]
  },
  {
   "cell_type": "code",
   "execution_count": null,
   "metadata": {},
   "outputs": [],
   "source": [
    "# LAYER 1\n",
    "dA1dZ1 = 1-A1*A1\n",
    "print(\"dA1/dZ1: {}\".format(dA1dZ1))\n",
    "grad_Z1_L = grad_A1_L*dA1dZ1\n",
    "print(\"grad_Z1_L: {}\".format(grad_Z1_L))\n",
    "grad_W1_L = np.dot(grad_Z1_L,X.T)\n",
    "grad_b1_L = np.sum(grad_Z1_L,axis=1,keepdims=True)\n",
    "print(\"grad_W1_L: {}\".format(grad_W1_L))\n",
    "print(\"grad_b1_L: {}\".format(grad_b1_L))"
   ]
  },
  {
   "cell_type": "markdown",
   "metadata": {},
   "source": [
    "### Prediction Example"
   ]
  },
  {
   "cell_type": "code",
   "execution_count": null,
   "metadata": {},
   "outputs": [],
   "source": [
    "def onehot_inverse(A):\n",
    "    return np.expand_dims(np.argmax(A,axis=0),axis=0)"
   ]
  },
  {
   "cell_type": "code",
   "execution_count": null,
   "metadata": {},
   "outputs": [],
   "source": [
    "# Prediction Example\n",
    "print(\"FORWARD PROPAGATION\")\n",
    "# layer 1\n",
    "Z1 = np.dot(W1,X) + b1\n",
    "print(\"Z1: {}\".format(Z1))\n",
    "A1 = np.tanh(Z1)\n",
    "print(\"A1: {}\".format(A1))\n",
    "# layer 2\n",
    "Z2 = np.dot(W2,A1) + b2\n",
    "print(\"Z2: {}\".format(Z2))\n",
    "Z2exp = np.exp(Z2)\n",
    "A2 = Z2exp/np.sum(Z2exp,axis=0,keepdims=True)\n",
    "print(\"A2: {}\".format(A2))\n",
    "# prediction\n",
    "P = onehot_inverse(A2)\n",
    "print(\"P: {}\".format(P))"
   ]
  },
  {
   "cell_type": "markdown",
   "metadata": {},
   "source": [
    "### Accuracy Calculation"
   ]
  },
  {
   "cell_type": "code",
   "execution_count": null,
   "metadata": {},
   "outputs": [],
   "source": [
    "print(\"Y: {}\".format(Y))\n",
    "print(\"P: {}\".format(P))\n",
    "same = np.absolute(Y-P)<1e-7\n",
    "print(\"same: {}\".format(same))\n",
    "accuracy = np.mean(same)\n",
    "print(\"accuracy: {}\".format(accuracy))"
   ]
  },
  {
   "cell_type": "code",
   "execution_count": null,
   "metadata": {},
   "outputs": [],
   "source": []
  }
 ],
 "metadata": {
  "kernelspec": {
   "display_name": "IntroML-env",
   "language": "python",
   "name": "introml-env"
  },
  "language_info": {
   "codemirror_mode": {
    "name": "ipython",
    "version": 3
   },
   "file_extension": ".py",
   "mimetype": "text/x-python",
   "name": "python",
   "nbconvert_exporter": "python",
   "pygments_lexer": "ipython3",
   "version": "3.7.1"
  }
 },
 "nbformat": 4,
 "nbformat_minor": 2
}
