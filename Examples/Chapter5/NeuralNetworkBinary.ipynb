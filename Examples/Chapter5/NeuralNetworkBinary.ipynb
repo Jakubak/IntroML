{
 "cells": [
  {
   "cell_type": "markdown",
   "metadata": {},
   "source": [
    "# Neural Network Binary Examples"
   ]
  },
  {
   "cell_type": "code",
   "execution_count": null,
   "metadata": {},
   "outputs": [],
   "source": [
    "import numpy as np"
   ]
  },
  {
   "cell_type": "markdown",
   "metadata": {},
   "source": [
    "### Inputs"
   ]
  },
  {
   "cell_type": "code",
   "execution_count": null,
   "metadata": {},
   "outputs": [],
   "source": [
    "# inputs\n",
    "X = np.array([[1,2,4],[-2,-5,-8]])\n",
    "Y = np.array([[0,1,0]])\n",
    "W1 = np.array([[0.5,0.5],[0.5,-0.5]])\n",
    "b1 = np.array([[0.5],[0.5]])\n",
    "W2 = np.array([[-1,1]])\n",
    "b2 = np.array([[-0.1]])"
   ]
  },
  {
   "cell_type": "markdown",
   "metadata": {},
   "source": [
    "### Forward Propagation Example"
   ]
  },
  {
   "cell_type": "code",
   "execution_count": null,
   "metadata": {},
   "outputs": [],
   "source": [
    "# forward propagation\n",
    "# layer 1\n",
    "print(\"FORWARD PROPAGATION EXAMPLE\")\n",
    "Z1 = np.dot(W1,X)+b1\n",
    "A1 = np.tanh(Z1)\n",
    "print(\"Z1: \\n{}\".format(Z1))\n",
    "print(\"A1: \\n{}\".format(A1))"
   ]
  },
  {
   "cell_type": "code",
   "execution_count": null,
   "metadata": {},
   "outputs": [],
   "source": [
    "# layer2\n",
    "Z2 = np.dot(W2,A1)+b2\n",
    "A2 = 1/(1+np.exp(-Z2))\n",
    "print(\"Z2: {}\".format(Z2))\n",
    "print(\"A2: {}\".format(A2))"
   ]
  },
  {
   "cell_type": "markdown",
   "metadata": {},
   "source": [
    "### Back Propagation Example"
   ]
  },
  {
   "cell_type": "code",
   "execution_count": null,
   "metadata": {},
   "outputs": [],
   "source": [
    "# back propagation\n",
    "# derivative of loss\n",
    "print(\"BACK PROPAGATION EXAMPLE\")\n",
    "dLdA2 = -1/3*(Y/A2 - (1-Y)/(1-A2))\n",
    "print(\"dLdA2: {}\".format(dLdA2))"
   ]
  },
  {
   "cell_type": "code",
   "execution_count": null,
   "metadata": {},
   "outputs": [],
   "source": [
    "# layer 2\n",
    "dA2dZ2 = A2 - np.square(A2)\n",
    "print(\"dA2dZ2: {}\".format(dA2dZ2))\n",
    "dLdZ2 = dLdA2*dA2dZ2\n",
    "print(\"dLdZ2: {}\".format(dLdZ2))\n",
    "grad_W2L = np.dot(dLdZ2,A1.T)\n",
    "grad_b2L = np.sum(dLdZ2,axis=1,keepdims=True)\n",
    "print(\"grad_W2L: {}\".format(grad_W2L))\n",
    "print(\"grad_b2L: {}\".format(grad_b2L))"
   ]
  },
  {
   "cell_type": "code",
   "execution_count": null,
   "metadata": {
    "scrolled": true
   },
   "outputs": [],
   "source": [
    "# layer 1\n",
    "dLdA1 = np.dot(W2.T,dLdZ2)\n",
    "print(\"dLdA1: \\n{}\".format(dLdA1))\n",
    "dA1dZ1 = 1 - np.square(A1)\n",
    "print(\"dA1dZ1: \\n{}\".format(dA1dZ1))\n",
    "dLdZ1 = dLdA1*dA1dZ1\n",
    "print(\"dLdZ1: \\n{}\".format(dLdZ1))\n",
    "grad_W1L = np.dot(dLdZ1,X.T)\n",
    "grad_b1L = np.sum(dLdZ1,axis=1,keepdims=True)\n",
    "print(\"grad_W1L: \\n{}\".format(grad_W1L))\n",
    "print(\"grad_b1L: \\n{}\".format(grad_b1L))"
   ]
  },
  {
   "cell_type": "markdown",
   "metadata": {},
   "source": [
    "### Training Gradient Descent Example"
   ]
  },
  {
   "cell_type": "code",
   "execution_count": null,
   "metadata": {},
   "outputs": [],
   "source": [
    "alpha = 0.1\n",
    "W1 = W1 - alpha*grad_W1L\n",
    "b1 = b1 - alpha*grad_b1L\n",
    "W2 = W2 - alpha*grad_W2L\n",
    "b2 = b2 - alpha*grad_b2L\n",
    "print(\"W1 update: \\n{}\".format(W1))\n",
    "print(\"b1 update: \\n{}\".format(b1))\n",
    "print(\"W2 update: {}\".format(W2))\n",
    "print(\"b2 update: {}\".format(b2))"
   ]
  },
  {
   "cell_type": "markdown",
   "metadata": {},
   "source": [
    "### Prediction Example"
   ]
  },
  {
   "cell_type": "code",
   "execution_count": null,
   "metadata": {},
   "outputs": [],
   "source": [
    "print(\"PREDICTION EXAMPLE\")\n",
    "# inputs\n",
    "X = np.array([[1,2,4],[-2,-5,-8]])\n",
    "Y = np.array([[0,1,0]])\n",
    "W1 = np.array([[0.5,0.5],[0.5,-0.5]])\n",
    "b1 = np.array([[0.5],[0.5]])\n",
    "W2 = np.array([[-1,1]])\n",
    "b2 = np.array([[-0.1]])\n",
    "# layer 1\n",
    "Z1 = np.dot(W1,X)+b1\n",
    "A1 = np.tanh(Z1)\n",
    "print(\"Z1: {}\".format(Z1))\n",
    "print(\"A1: {}\".format(A1))\n",
    "# layer2\n",
    "Z2 = np.dot(W2,A1)+b2\n",
    "A2 = 1/(1+np.exp(-Z2))\n",
    "print(\"Z2: {}\".format(Z2))\n",
    "print(\"A2: {}\".format(A2))\n",
    "# prediction\n",
    "P = np.round(A2)\n",
    "print(\"Prediction (round A2): {}\".format(P))"
   ]
  },
  {
   "cell_type": "markdown",
   "metadata": {},
   "source": [
    "### Accuracy Calculation"
   ]
  },
  {
   "cell_type": "code",
   "execution_count": null,
   "metadata": {},
   "outputs": [],
   "source": [
    "same = np.absolute(Y-P)<1e-7\n",
    "print(\"same: {}\".format(same))\n",
    "accuracy = np.mean(same)\n",
    "print(\"accuracy: {}\".format(accuracy))"
   ]
  },
  {
   "cell_type": "code",
   "execution_count": null,
   "metadata": {},
   "outputs": [],
   "source": []
  }
 ],
 "metadata": {
  "kernelspec": {
   "display_name": "IntroML-env",
   "language": "python",
   "name": "introml-env"
  },
  "language_info": {
   "codemirror_mode": {
    "name": "ipython",
    "version": 3
   },
   "file_extension": ".py",
   "mimetype": "text/x-python",
   "name": "python",
   "nbconvert_exporter": "python",
   "pygments_lexer": "ipython3",
   "version": "3.7.1"
  }
 },
 "nbformat": 4,
 "nbformat_minor": 2
}
