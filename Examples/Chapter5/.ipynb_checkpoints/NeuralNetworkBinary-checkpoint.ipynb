{
 "cells": [
  {
   "cell_type": "code",
   "execution_count": 1,
   "metadata": {},
   "outputs": [],
   "source": [
    "import numpy as np"
   ]
  },
  {
   "cell_type": "code",
   "execution_count": 2,
   "metadata": {},
   "outputs": [],
   "source": [
    "# inputs\n",
    "X = np.array([[1,2,4],[-2,-5,-8]])\n",
    "Y = np.array([[0,1,0]])\n",
    "W1 = np.array([[0.5,0.5],[0.5,-0.5]])\n",
    "b1 = np.array([[0.5],[0.5]])\n",
    "W2 = np.array([[-1,1]])\n",
    "b2 = np.array([[-0.1]])"
   ]
  },
  {
   "cell_type": "code",
   "execution_count": 3,
   "metadata": {},
   "outputs": [
    {
     "name": "stdout",
     "output_type": "stream",
     "text": [
      "FORWARD PROPAGATION EXAMPLE\n",
      "Z1: \n",
      "[[ 0.  -1.  -1.5]\n",
      " [ 2.   4.   6.5]]\n",
      "A1: \n",
      "[[ 0.         -0.76159416 -0.90514825]\n",
      " [ 0.96402758  0.9993293   0.99999548]]\n"
     ]
    }
   ],
   "source": [
    "# forward propagation\n",
    "# layer 1\n",
    "print(\"FORWARD PROPAGATION EXAMPLE\")\n",
    "Z1 = np.dot(W1,X)+b1\n",
    "A1 = np.tanh(Z1)\n",
    "print(\"Z1: \\n{}\".format(Z1))\n",
    "print(\"A1: \\n{}\".format(A1))"
   ]
  },
  {
   "cell_type": "code",
   "execution_count": 4,
   "metadata": {},
   "outputs": [
    {
     "name": "stdout",
     "output_type": "stream",
     "text": [
      "Z2: [[0.86402758 1.66092346 1.80514373]]\n",
      "A2: [[0.70350144 0.84036193 0.85877393]]\n"
     ]
    }
   ],
   "source": [
    "# layer2\n",
    "Z2 = np.dot(W2,A1)+b2\n",
    "A2 = 1/(1+np.exp(-Z2))\n",
    "print(\"Z2: {}\".format(Z2))\n",
    "print(\"A2: {}\".format(A2))"
   ]
  },
  {
   "cell_type": "code",
   "execution_count": 5,
   "metadata": {},
   "outputs": [
    {
     "name": "stdout",
     "output_type": "stream",
     "text": [
      "BACK PROPAGATION EXAMPLE\n",
      "dLdA2: [[ 1.12423257 -0.39665449  2.3602818 ]]\n"
     ]
    }
   ],
   "source": [
    "# back propagation\n",
    "# derivative of loss\n",
    "print(\"BACK PROPAGATION EXAMPLE\")\n",
    "dLdA2 = -1/3*(Y/A2 - (1-Y)/(1-A2))\n",
    "print(\"dLdA2: {}\".format(dLdA2))"
   ]
  },
  {
   "cell_type": "code",
   "execution_count": 6,
   "metadata": {},
   "outputs": [
    {
     "name": "stdout",
     "output_type": "stream",
     "text": [
      "dA2dZ2: [[0.20858716 0.13415376 0.12128127]]\n",
      "dLdZ2: [[ 0.23450048 -0.05321269  0.28625798]]\n",
      "grad_W2L: [[-0.21857943  0.45914461]]\n",
      "grad_b2L: [[0.46754577]]\n"
     ]
    }
   ],
   "source": [
    "# layer 2\n",
    "dA2dZ2 = A2 - np.square(A2)\n",
    "print(\"dA2dZ2: {}\".format(dA2dZ2))\n",
    "dLdZ2 = dLdA2*dA2dZ2\n",
    "print(\"dLdZ2: {}\".format(dLdZ2))\n",
    "grad_W2L = np.dot(dLdZ2,A1.T)\n",
    "grad_b2L = np.sum(dLdZ2,axis=1,keepdims=True)\n",
    "print(\"grad_W2L: {}\".format(grad_W2L))\n",
    "print(\"grad_b2L: {}\".format(grad_b2L))"
   ]
  },
  {
   "cell_type": "code",
   "execution_count": 7,
   "metadata": {
    "scrolled": true
   },
   "outputs": [
    {
     "name": "stdout",
     "output_type": "stream",
     "text": [
      "dLdA1: \n",
      "[[-0.23450048  0.05321269 -0.28625798]\n",
      " [ 0.23450048 -0.05321269  0.28625798]]\n",
      "dA1dZ1: \n",
      "[[1.00000000e+00 4.19974342e-01 1.80706639e-01]\n",
      " [7.06508249e-02 1.34095068e-03 9.04127676e-06]]\n",
      "dLdZ1: \n",
      "[[-2.34500481e-01  2.23479649e-02 -5.17287166e-02]\n",
      " [ 1.65676524e-02 -7.13555943e-05  2.58813758e-06]]\n",
      "grad_W1L: \n",
      "[[-0.39671942  0.77109087]\n",
      " [ 0.01643529 -0.03279923]]\n",
      "grad_b1L: \n",
      "[[-0.26388123]\n",
      " [ 0.01649888]]\n"
     ]
    }
   ],
   "source": [
    "# layer 1\n",
    "dLdA1 = np.dot(W2.T,dLdZ2)\n",
    "print(\"dLdA1: \\n{}\".format(dLdA1))\n",
    "dA1dZ1 = 1 - np.square(A1)\n",
    "print(\"dA1dZ1: \\n{}\".format(dA1dZ1))\n",
    "dLdZ1 = dLdA1*dA1dZ1\n",
    "print(\"dLdZ1: \\n{}\".format(dLdZ1))\n",
    "grad_W1L = np.dot(dLdZ1,X.T)\n",
    "grad_b1L = np.sum(dLdZ1,axis=1,keepdims=True)\n",
    "print(\"grad_W1L: \\n{}\".format(grad_W1L))\n",
    "print(\"grad_b1L: \\n{}\".format(grad_b1L))"
   ]
  },
  {
   "cell_type": "code",
   "execution_count": 8,
   "metadata": {},
   "outputs": [
    {
     "name": "stdout",
     "output_type": "stream",
     "text": [
      "W1 update: \n",
      "[[ 0.53967194  0.42289091]\n",
      " [ 0.49835647 -0.49672008]]\n",
      "b1 update: \n",
      "[[0.52638812]\n",
      " [0.49835011]]\n",
      "W2 update: [[-0.97814206  0.95408554]]\n",
      "b2 update: [[-0.14675458]]\n"
     ]
    }
   ],
   "source": [
    "alpha = 0.1\n",
    "W1 = W1 - alpha*grad_W1L\n",
    "b1 = b1 - alpha*grad_b1L\n",
    "W2 = W2 - alpha*grad_W2L\n",
    "b2 = b2 - alpha*grad_b2L\n",
    "print(\"W1 update: \\n{}\".format(W1))\n",
    "print(\"b1 update: \\n{}\".format(b1))\n",
    "print(\"W2 update: {}\".format(W2))\n",
    "print(\"b2 update: {}\".format(b2))"
   ]
  },
  {
   "cell_type": "code",
   "execution_count": 9,
   "metadata": {},
   "outputs": [
    {
     "name": "stdout",
     "output_type": "stream",
     "text": [
      "PREDICTION EXAMPLE\n",
      "Z1: [[ 0.  -1.  -1.5]\n",
      " [ 2.   4.   6.5]]\n",
      "A1: [[ 0.         -0.76159416 -0.90514825]\n",
      " [ 0.96402758  0.9993293   0.99999548]]\n",
      "Z2: [[0.86402758 1.66092346 1.80514373]]\n",
      "A2: [[0.70350144 0.84036193 0.85877393]]\n",
      "Prediction (round A2): [[1. 1. 1.]]\n"
     ]
    }
   ],
   "source": [
    "print(\"PREDICTION EXAMPLE\")\n",
    "# inputs\n",
    "X = np.array([[1,2,4],[-2,-5,-8]])\n",
    "Y = np.array([[0,1,0]])\n",
    "W1 = np.array([[0.5,0.5],[0.5,-0.5]])\n",
    "b1 = np.array([[0.5],[0.5]])\n",
    "W2 = np.array([[-1,1]])\n",
    "b2 = np.array([[-0.1]])\n",
    "# layer 1\n",
    "Z1 = np.dot(W1,X)+b1\n",
    "A1 = np.tanh(Z1)\n",
    "print(\"Z1: {}\".format(Z1))\n",
    "print(\"A1: {}\".format(A1))\n",
    "# layer2\n",
    "Z2 = np.dot(W2,A1)+b2\n",
    "A2 = 1/(1+np.exp(-Z2))\n",
    "print(\"Z2: {}\".format(Z2))\n",
    "print(\"A2: {}\".format(A2))\n",
    "# prediction\n",
    "P = np.round(A2)\n",
    "print(\"Prediction (round A2): {}\".format(P))"
   ]
  },
  {
   "cell_type": "code",
   "execution_count": null,
   "metadata": {},
   "outputs": [],
   "source": []
  }
 ],
 "metadata": {
  "kernelspec": {
   "display_name": "MLCourse-env",
   "language": "python",
   "name": "mlcourse-env"
  },
  "language_info": {
   "codemirror_mode": {
    "name": "ipython",
    "version": 3
   },
   "file_extension": ".py",
   "mimetype": "text/x-python",
   "name": "python",
   "nbconvert_exporter": "python",
   "pygments_lexer": "ipython3",
   "version": "3.7.1"
  }
 },
 "nbformat": 4,
 "nbformat_minor": 2
}
