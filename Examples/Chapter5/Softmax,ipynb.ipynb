{
 "cells": [
  {
   "cell_type": "markdown",
   "metadata": {},
   "source": [
    "# Softmax Activation Function"
   ]
  },
  {
   "cell_type": "code",
   "execution_count": 1,
   "metadata": {},
   "outputs": [],
   "source": [
    "import numpy as np"
   ]
  },
  {
   "cell_type": "code",
   "execution_count": 2,
   "metadata": {},
   "outputs": [],
   "source": [
    "def softmax1(Z):\n",
    "    numerator = np.exp(Z)\n",
    "    denominator = np.sum(numerator,axis=0,keepdims=True)\n",
    "    return numerator/denominator"
   ]
  },
  {
   "cell_type": "code",
   "execution_count": 3,
   "metadata": {},
   "outputs": [
    {
     "name": "stdout",
     "output_type": "stream",
     "text": [
      "Z: \n",
      "[[ 0.1 -0.1 -0.2]\n",
      " [-0.2  0.2  0.3]\n",
      " [-0.3  0.1  0.2]\n",
      " [ 0.4 -0.3 -0.5]]\n",
      "A: \n",
      "[[0.26588694 0.22779083 0.20486076]\n",
      " [0.19697389 0.30748546 0.3377583 ]\n",
      " [0.17822935 0.27822435 0.30561635]\n",
      " [0.35890983 0.18649936 0.15176459]]\n",
      "Sum of A in row direction: [1. 1. 1.]\n"
     ]
    }
   ],
   "source": [
    "# Softmax Example\n",
    "Z = np.array([[0.1,-0.1,-0.2],[-0.2, 0.2, 0.3],[-0.3,0.1,0.2],[0.4,-0.3,-0.5]])\n",
    "A = softmax1(Z)\n",
    "print(\"Z: \\n{}\".format(Z))\n",
    "print(\"A: \\n{}\".format(A))\n",
    "# sum in row direction (down each column)\n",
    "print(\"Sum of A in row direction: {}\".format(np.sum(A,axis=0)))"
   ]
  },
  {
   "cell_type": "markdown",
   "metadata": {},
   "source": [
    "### Example with numerical overflow"
   ]
  },
  {
   "cell_type": "code",
   "execution_count": 4,
   "metadata": {},
   "outputs": [
    {
     "name": "stdout",
     "output_type": "stream",
     "text": [
      "Z: \n",
      "[[ 1000 -1000     0]\n",
      " [ -500   500   250]]\n"
     ]
    },
    {
     "name": "stderr",
     "output_type": "stream",
     "text": [
      "/Users/kristokrugger/.local/lib/python3.7/site-packages/ipykernel_launcher.py:2: RuntimeWarning: overflow encountered in exp\n",
      "  \n",
      "/Users/kristokrugger/.local/lib/python3.7/site-packages/ipykernel_launcher.py:4: RuntimeWarning: invalid value encountered in true_divide\n",
      "  after removing the cwd from sys.path.\n"
     ]
    }
   ],
   "source": [
    "Z = np.array([[1000,-1000,0],[-500,500,250]])\n",
    "print(\"Z: \\n{}\".format(Z))\n",
    "A = softmax1(Z)"
   ]
  },
  {
   "cell_type": "markdown",
   "metadata": {},
   "source": [
    "### Adjustment to softmax to avoid overflow"
   ]
  },
  {
   "cell_type": "code",
   "execution_count": 5,
   "metadata": {},
   "outputs": [],
   "source": [
    "def softmax2(Z):\n",
    "    Zmax_col = np.amax(Z,axis=0,keepdims=True)\n",
    "    numerator = np.exp(Z-Zmax_col)\n",
    "    denominator = np.sum(numerator,axis=0,keepdims=True)\n",
    "    return numerator/denominator"
   ]
  },
  {
   "cell_type": "code",
   "execution_count": 6,
   "metadata": {},
   "outputs": [
    {
     "name": "stdout",
     "output_type": "stream",
     "text": [
      "A: \n",
      "[[1.00000000e+000 0.00000000e+000 2.66919022e-109]\n",
      " [0.00000000e+000 1.00000000e+000 1.00000000e+000]]\n"
     ]
    }
   ],
   "source": [
    "A = softmax2(Z)\n",
    "print(\"A: \\n{}\".format(A))"
   ]
  }
 ],
 "metadata": {
  "kernelspec": {
   "display_name": "ml-test",
   "language": "python",
   "name": "ml-test"
  },
  "language_info": {
   "codemirror_mode": {
    "name": "ipython",
    "version": 3
   },
   "file_extension": ".py",
   "mimetype": "text/x-python",
   "name": "python",
   "nbconvert_exporter": "python",
   "pygments_lexer": "ipython3",
   "version": "3.7.1"
  }
 },
 "nbformat": 4,
 "nbformat_minor": 2
}
