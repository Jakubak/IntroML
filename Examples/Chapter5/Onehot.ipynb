{
 "cells": [
  {
   "cell_type": "markdown",
   "metadata": {},
   "source": [
    "# One-hot Example"
   ]
  },
  {
   "cell_type": "code",
   "execution_count": null,
   "metadata": {},
   "outputs": [],
   "source": [
    "import numpy as np"
   ]
  },
  {
   "cell_type": "markdown",
   "metadata": {},
   "source": [
    "### Conversion to one-hot"
   ]
  },
  {
   "cell_type": "code",
   "execution_count": null,
   "metadata": {},
   "outputs": [],
   "source": [
    "def onehot(Y,nclass):\n",
    "    ndata = Y.shape[1]\n",
    "    Y_onehot = np.zeros((nclass,ndata))\n",
    "    for count in range(ndata):\n",
    "        Y_onehot[int(Y[0,count]),count] = 1.0\n",
    "    return Y_onehot"
   ]
  },
  {
   "cell_type": "code",
   "execution_count": null,
   "metadata": {},
   "outputs": [],
   "source": [
    "Y = np.array([[0,3,2,0]])\n",
    "Yonehot = onehot(Y,4)\n",
    "print(\"Y: {}\".format(Y))\n",
    "print(\"Yonehot: \\n{}\".format(Yonehot))"
   ]
  },
  {
   "cell_type": "markdown",
   "metadata": {},
   "source": [
    "### Inverse of one-hot"
   ]
  },
  {
   "cell_type": "code",
   "execution_count": null,
   "metadata": {},
   "outputs": [],
   "source": [
    "def onehot_inverse(A):\n",
    "    inverse = np.argmax(A,axis=0)\n",
    "    inverse = np.expand_dims(inverse,axis=0)\n",
    "    return inverse"
   ]
  },
  {
   "cell_type": "code",
   "execution_count": null,
   "metadata": {},
   "outputs": [],
   "source": [
    "A = np.array([[0.2,0.3,0.4,0.3],[0.4,0.5,0.1,0.2],[0.0,0.1,0.3,0.4],[0.4,0.1,0.2,0.1]])\n",
    "inverse = onehot_inverse(A)\n",
    "print(\"A: \\n{}\".format(A))\n",
    "print(\"inverse: \\n{}\".format(inverse))\n",
    "print(\"inverse shape: {}\".format(inverse.shape))"
   ]
  },
  {
   "cell_type": "code",
   "execution_count": null,
   "metadata": {},
   "outputs": [],
   "source": []
  }
 ],
 "metadata": {
  "kernelspec": {
   "display_name": "IntroML-env",
   "language": "python",
   "name": "introml-env"
  },
  "language_info": {
   "codemirror_mode": {
    "name": "ipython",
    "version": 3
   },
   "file_extension": ".py",
   "mimetype": "text/x-python",
   "name": "python",
   "nbconvert_exporter": "python",
   "pygments_lexer": "ipython3",
   "version": "3.7.1"
  }
 },
 "nbformat": 4,
 "nbformat_minor": 2
}
