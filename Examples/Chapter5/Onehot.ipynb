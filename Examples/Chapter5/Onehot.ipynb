{
 "cells": [
  {
   "cell_type": "markdown",
   "metadata": {},
   "source": [
    "# One-hot Example"
   ]
  },
  {
   "cell_type": "code",
   "execution_count": 1,
   "metadata": {},
   "outputs": [],
   "source": [
    "import numpy as np"
   ]
  },
  {
   "cell_type": "markdown",
   "metadata": {},
   "source": [
    "### Conversion to one-hot"
   ]
  },
  {
   "cell_type": "code",
   "execution_count": 2,
   "metadata": {},
   "outputs": [],
   "source": [
    "def onehot(Y,nclass):\n",
    "    ndata = Y.shape[1]\n",
    "    Y_onehot = np.zeros((nclass,ndata))\n",
    "    for count in range(ndata):\n",
    "        Y_onehot[int(Y[0,count]),count] = 1.0\n",
    "    return Y_onehot"
   ]
  },
  {
   "cell_type": "code",
   "execution_count": 3,
   "metadata": {},
   "outputs": [
    {
     "name": "stdout",
     "output_type": "stream",
     "text": [
      "Y: [[0 3 2 0]]\n",
      "Yonehot: \n",
      "[[1. 0. 0. 1.]\n",
      " [0. 0. 0. 0.]\n",
      " [0. 0. 1. 0.]\n",
      " [0. 1. 0. 0.]]\n"
     ]
    }
   ],
   "source": [
    "Y = np.array([[0,3,2,0]])\n",
    "Yonehot = onehot(Y,4)\n",
    "print(\"Y: {}\".format(Y))\n",
    "print(\"Yonehot: \\n{}\".format(Yonehot))"
   ]
  },
  {
   "cell_type": "markdown",
   "metadata": {},
   "source": [
    "### Inverse of one-hot"
   ]
  },
  {
   "cell_type": "code",
   "execution_count": 4,
   "metadata": {},
   "outputs": [],
   "source": [
    "def onehot_inverse(A):\n",
    "    return np.expand_dims(np.argmax(A,axis=0),axis=0)"
   ]
  },
  {
   "cell_type": "code",
   "execution_count": 5,
   "metadata": {},
   "outputs": [
    {
     "name": "stdout",
     "output_type": "stream",
     "text": [
      "A: \n",
      "[[0.2 0.3 0.4 0.3]\n",
      " [0.4 0.5 0.1 0.2]\n",
      " [0.  0.1 0.3 0.4]\n",
      " [0.4 0.1 0.2 0.1]]\n",
      "inverse: \n",
      "[[1 1 0 2]]\n"
     ]
    }
   ],
   "source": [
    "A = np.array([[0.2,0.3,0.4,0.3],[0.4,0.5,0.1,0.2],[0.0,0.1,0.3,0.4],[0.4,0.1,0.2,0.1]])\n",
    "inverse = onehot_inverse(A)\n",
    "print(\"A: \\n{}\".format(A))\n",
    "print(\"inverse: \\n{}\".format(inverse))"
   ]
  }
 ],
 "metadata": {
  "kernelspec": {
   "display_name": "ml-test",
   "language": "python",
   "name": "ml-test"
  },
  "language_info": {
   "codemirror_mode": {
    "name": "ipython",
    "version": 3
   },
   "file_extension": ".py",
   "mimetype": "text/x-python",
   "name": "python",
   "nbconvert_exporter": "python",
   "pygments_lexer": "ipython3",
   "version": "3.7.1"
  }
 },
 "nbformat": 4,
 "nbformat_minor": 2
}
