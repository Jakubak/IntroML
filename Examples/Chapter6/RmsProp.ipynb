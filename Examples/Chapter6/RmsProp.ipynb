{
 "cells": [
  {
   "cell_type": "code",
   "execution_count": 1,
   "metadata": {},
   "outputs": [],
   "source": [
    "import numpy as np"
   ]
  },
  {
   "cell_type": "code",
   "execution_count": 2,
   "metadata": {},
   "outputs": [],
   "source": [
    "def loss(W):\n",
    "    return 2*W[0]*W[0] + W[1]*W[1]\n",
    "\n",
    "def gradient(W):\n",
    "    return np.array([4*W[0],2*W[1]])"
   ]
  },
  {
   "cell_type": "code",
   "execution_count": 3,
   "metadata": {},
   "outputs": [
    {
     "name": "stdout",
     "output_type": "stream",
     "text": [
      "RmsProp\n",
      "W0: [2 2]\n",
      "Loss W0: 12\n"
     ]
    }
   ],
   "source": [
    "# RmsProp\n",
    "print(\"RmsProp\")\n",
    "W0 = np.array([2,2])\n",
    "alpha = 0.1\n",
    "beta = 0.9\n",
    "eps = 0\n",
    "print(\"W0: {}\".format(W0))\n",
    "print(\"Loss W0: {}\".format(loss(W0)))\n",
    "v0 = 0"
   ]
  },
  {
   "cell_type": "code",
   "execution_count": 4,
   "metadata": {},
   "outputs": [
    {
     "name": "stdout",
     "output_type": "stream",
     "text": [
      "Gradient W0: [8 4]\n",
      "Gradient2 W0: [64 16]\n",
      "v1: [6.4 1.6]\n",
      "W1: [1.68377223 1.68377223]\n",
      "Loss W1: 8.505266807797945\n"
     ]
    }
   ],
   "source": [
    "# Epoch 1\n",
    "gradW0 = gradient(W0)\n",
    "grad2W0 = np.square(gradW0)\n",
    "print(\"Gradient W0: {}\".format(gradW0))\n",
    "print(\"Gradient2 W0: {}\".format(grad2W0))\n",
    "v1 = beta*v0 + (1-beta)*grad2W0\n",
    "W1 = W0 - alpha*gradW0/(np.sqrt(v1)+eps)\n",
    "print(\"v1: {}\".format(v1))\n",
    "print(\"W1: {}\".format(W1))\n",
    "print(\"Loss W1: {}\".format(loss(W1)))"
   ]
  },
  {
   "cell_type": "code",
   "execution_count": 5,
   "metadata": {},
   "outputs": [
    {
     "name": "stdout",
     "output_type": "stream",
     "text": [
      "Gradient W1: [6.73508894 3.36754447]\n",
      "Gradient2 W1: [45.36142297 11.34035574]\n",
      "v2: [10.2961423   2.57403557]\n",
      "W2: [1.47387531 1.47387531]\n",
      "Loss W2: 6.516925319221656\n"
     ]
    }
   ],
   "source": [
    "# Epoch 2\n",
    "gradW1 = gradient(W1)\n",
    "grad2W1 = np.square(gradW1)\n",
    "print(\"Gradient W1: {}\".format(gradW1))\n",
    "print(\"Gradient2 W1: {}\".format(grad2W1))\n",
    "v2 = beta*v1 + (1-beta)*grad2W1\n",
    "W2 = W1 - alpha*gradW1/(np.sqrt(v2)+eps)\n",
    "print(\"v2: {}\".format(v2))\n",
    "print(\"W2: {}\".format(W2))\n",
    "print(\"Loss W2: {}\".format(loss(W2)))"
   ]
  },
  {
   "cell_type": "code",
   "execution_count": null,
   "metadata": {},
   "outputs": [],
   "source": []
  }
 ],
 "metadata": {
  "kernelspec": {
   "display_name": "test-env",
   "language": "python",
   "name": "test-env"
  },
  "language_info": {
   "codemirror_mode": {
    "name": "ipython",
    "version": 3
   },
   "file_extension": ".py",
   "mimetype": "text/x-python",
   "name": "python",
   "nbconvert_exporter": "python",
   "pygments_lexer": "ipython3",
   "version": "3.7.1"
  }
 },
 "nbformat": 4,
 "nbformat_minor": 2
}
