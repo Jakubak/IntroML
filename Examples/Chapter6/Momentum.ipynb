{
 "cells": [
  {
   "cell_type": "markdown",
   "metadata": {},
   "source": [
    "# Momentum Example"
   ]
  },
  {
   "cell_type": "code",
   "execution_count": null,
   "metadata": {},
   "outputs": [],
   "source": [
    "import numpy as np"
   ]
  },
  {
   "cell_type": "markdown",
   "metadata": {},
   "source": [
    "### Create loss and gradient functions"
   ]
  },
  {
   "cell_type": "code",
   "execution_count": null,
   "metadata": {},
   "outputs": [],
   "source": [
    "def loss(W):\n",
    "    return 2*W[0]*W[0] + W[1]*W[1]\n",
    "\n",
    "def gradient(W):\n",
    "    return np.array([4*W[0],2*W[1]])"
   ]
  },
  {
   "cell_type": "code",
   "execution_count": null,
   "metadata": {},
   "outputs": [],
   "source": [
    "# Input information\n",
    "W0 = np.array([2,2])\n",
    "alpha = 0.1\n",
    "beta = 0.9\n",
    "print(\"W0: {}\".format(W0))\n",
    "print(\"Loss W0: {}\".format(loss(W0)))\n",
    "v0 = 0"
   ]
  },
  {
   "cell_type": "markdown",
   "metadata": {},
   "source": [
    "### Update Rule\n",
    "$Update_{epoch=i}=-\\alpha v_{epoch=i}$\n",
    "\n",
    "where, \n",
    "\n",
    "+ $v_{epoch=i} = \\beta v_{epoch=i-1} + \\nabla_WL_{epoch=i-1}, \\quad v_{epoch=0} = 0$"
   ]
  },
  {
   "cell_type": "markdown",
   "metadata": {},
   "source": [
    "### Epoch 1"
   ]
  },
  {
   "cell_type": "code",
   "execution_count": null,
   "metadata": {},
   "outputs": [],
   "source": [
    "# Momentum\n",
    "# Epoch 1\n",
    "v1 = beta*v0 + gradient(W0)\n",
    "W1 = W0 - alpha*v1\n",
    "print(\"v1: {}\".format(v1))\n",
    "print(\"W1: {}\".format(W1))\n",
    "print(\"Loss W1: {}\".format(loss(W1)))"
   ]
  },
  {
   "cell_type": "markdown",
   "metadata": {},
   "source": [
    "### Epoch 2"
   ]
  },
  {
   "cell_type": "code",
   "execution_count": null,
   "metadata": {},
   "outputs": [],
   "source": [
    "# Epoch 2\n",
    "v2 = beta*v1 + gradient(W1)\n",
    "W2 = W1 - alpha*v2\n",
    "print(\"v2: {}\".format(v2))\n",
    "print(\"W2: {}\".format(W2))\n",
    "print(\"Loss W2: {}\".format(loss(W2)))"
   ]
  }
 ],
 "metadata": {
  "kernelspec": {
   "display_name": "IntroML-env",
   "language": "python",
   "name": "introml-env"
  },
  "language_info": {
   "codemirror_mode": {
    "name": "ipython",
    "version": 3
   },
   "file_extension": ".py",
   "mimetype": "text/x-python",
   "name": "python",
   "nbconvert_exporter": "python",
   "pygments_lexer": "ipython3",
   "version": "3.7.1"
  }
 },
 "nbformat": 4,
 "nbformat_minor": 2
}
