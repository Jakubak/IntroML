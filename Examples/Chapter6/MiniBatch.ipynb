{
 "cells": [
  {
   "cell_type": "markdown",
   "metadata": {},
   "source": [
    "# Mini-Batch Example"
   ]
  },
  {
   "cell_type": "code",
   "execution_count": null,
   "metadata": {},
   "outputs": [],
   "source": [
    "import numpy as np"
   ]
  },
  {
   "cell_type": "code",
   "execution_count": null,
   "metadata": {},
   "outputs": [],
   "source": [
    "# batches\n",
    "X0 = np.array([[1, 2, 4],[-2,-5,-8]])\n",
    "Y0 = np.array([0, 1, 0])\n",
    "X1 = np.array([[1,-1],[-2,2]])\n",
    "Y1 = np.array([[1,1]])"
   ]
  },
  {
   "cell_type": "code",
   "execution_count": null,
   "metadata": {},
   "outputs": [],
   "source": [
    "# initial parameters\n",
    "W = np.array([[0.1,0.1]])\n",
    "b = np.array([[0.2]])\n",
    "# learning rate\n",
    "alpha = 0.1"
   ]
  },
  {
   "cell_type": "markdown",
   "metadata": {},
   "source": [
    "### Epoch 1 Mini-batch 0"
   ]
  },
  {
   "cell_type": "code",
   "execution_count": null,
   "metadata": {},
   "outputs": [],
   "source": [
    "#Epoch 1, Mini-batch 0\n",
    "# Forward propagation\n",
    "Z0 = np.dot(W,X0) + b\n",
    "A0 = 1/(1+np.exp(-Z0))\n",
    "print(\"Forward Propagation: Batch0\")\n",
    "print(\"Z0: {}\".format(Z0))\n",
    "print(\"A0: {}\".format(A0))"
   ]
  },
  {
   "cell_type": "code",
   "execution_count": null,
   "metadata": {},
   "outputs": [],
   "source": [
    "# Back Propagation\n",
    "grad_A_L0 = -(Y0/A0 - (1-Y0)/(1-A0))/3\n",
    "dA0dZ0 = A0 - np.square(A0)\n",
    "grad_Z_L0 = grad_A_L0*dA0dZ0\n",
    "grad_W_L = np.dot(grad_Z_L0,X0.T)\n",
    "grad_b_L = np.sum(grad_Z_L0,keepdims=True)\n",
    "print(\"Back Propagation: Batch0\")\n",
    "print(\"grad_A_L0: {}\".format(grad_A_L0))\n",
    "print(\"dA0dZ0: {}\".format(dA0dZ0))\n",
    "print(\"grad_Z_L0: {}\".format(grad_Z_L0))\n",
    "print(\"grad_W_L: {}\".format(grad_W_L))\n",
    "print(\"grad_b_L: {}\".format(grad_b_L))"
   ]
  },
  {
   "cell_type": "code",
   "execution_count": null,
   "metadata": {},
   "outputs": [],
   "source": [
    "#Update W and b\n",
    "W = W - alpha*grad_W_L\n",
    "b = b - alpha*grad_b_L\n",
    "print(\"W: {}\".format(W))\n",
    "print(\"b: {}\".format(b))"
   ]
  },
  {
   "cell_type": "markdown",
   "metadata": {},
   "source": [
    "### Epoch 1 Mini-batch 1"
   ]
  },
  {
   "cell_type": "code",
   "execution_count": null,
   "metadata": {},
   "outputs": [],
   "source": [
    "# Epoch 1, Mini-batch 1\n",
    "# Forward propagation\n",
    "Z1 = np.dot(W,X1) + b\n",
    "A1 = 1/(1+np.exp(-Z1))\n",
    "print(\"Forward Propagation: Batch1\")\n",
    "print(\"Z1: {}\".format(Z1))\n",
    "print(\"A1: {}\".format(A1))"
   ]
  },
  {
   "cell_type": "code",
   "execution_count": null,
   "metadata": {},
   "outputs": [],
   "source": [
    "# Back Propagation\n",
    "grad_A_L1 = -(Y1/A1 - (1-Y1)/(1-A1))/2\n",
    "dA1dZ1 = A1 - np.square(A1)\n",
    "grad_Z_L1 = grad_A_L1*dA1dZ1\n",
    "grad_W_L = np.dot(grad_Z_L1,X1.T)\n",
    "grad_b_L = np.sum(grad_Z_L1,keepdims=True)\n",
    "print(\"Back Propagation: Batch1\")\n",
    "print(\"grad_A_L1: {}\".format(grad_A_L1))\n",
    "print(\"dA0dZ0: {}\".format(dA1dZ1))\n",
    "print(\"grad_Z_L1: {}\".format(grad_Z_L1))\n",
    "print(\"grad_W_L: {}\".format(grad_W_L))\n",
    "print(\"grad_b_L: {}\".format(grad_b_L))"
   ]
  },
  {
   "cell_type": "code",
   "execution_count": null,
   "metadata": {},
   "outputs": [],
   "source": [
    "#Update W and b\n",
    "W = W - alpha*grad_W_L\n",
    "b = b - alpha*grad_b_L\n",
    "print(\"W: {}\".format(W))\n",
    "print(\"b: {}\".format(b))"
   ]
  },
  {
   "cell_type": "code",
   "execution_count": null,
   "metadata": {},
   "outputs": [],
   "source": []
  }
 ],
 "metadata": {
  "kernelspec": {
   "display_name": "IntroML-env",
   "language": "python",
   "name": "introml-env"
  },
  "language_info": {
   "codemirror_mode": {
    "name": "ipython",
    "version": 3
   },
   "file_extension": ".py",
   "mimetype": "text/x-python",
   "name": "python",
   "nbconvert_exporter": "python",
   "pygments_lexer": "ipython3",
   "version": "3.7.1"
  }
 },
 "nbformat": 4,
 "nbformat_minor": 2
}
