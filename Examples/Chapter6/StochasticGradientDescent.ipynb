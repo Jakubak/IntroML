{
 "cells": [
  {
   "cell_type": "code",
   "execution_count": 1,
   "metadata": {},
   "outputs": [],
   "source": [
    "import numpy as np"
   ]
  },
  {
   "cell_type": "code",
   "execution_count": 2,
   "metadata": {},
   "outputs": [],
   "source": [
    "# input data\n",
    "X = np.array([[1, 2],[-2,-5]])\n",
    "Y = np.array([[0, 1]])\n",
    "# initial parameters\n",
    "W = np.array([[0.1,0.1]])\n",
    "b = np.array([[0.2]])\n",
    "# learning rate\n",
    "alpha = 0.1"
   ]
  },
  {
   "cell_type": "code",
   "execution_count": 3,
   "metadata": {},
   "outputs": [
    {
     "name": "stdout",
     "output_type": "stream",
     "text": [
      "Forward Propagation: Epoch 1, Sample index=0\n",
      "Z0: [[0.1]]\n",
      "A0: [[0.52497919]]\n"
     ]
    }
   ],
   "source": [
    "# Epoch\n",
    "# Sample point index 0\n",
    "# Forward propagation\n",
    "X0 = X[:,0:1]\n",
    "Y0 = Y[:,0:1]\n",
    "Z0 = np.dot(W,X0) + b\n",
    "A0 = 1/(1+np.exp(-Z0))\n",
    "print(\"Forward Propagation: Epoch 1, Sample index=0\")\n",
    "print(\"Z0: {}\".format(Z0))\n",
    "print(\"A0: {}\".format(A0))"
   ]
  },
  {
   "cell_type": "code",
   "execution_count": 7,
   "metadata": {},
   "outputs": [
    {
     "name": "stdout",
     "output_type": "stream",
     "text": [
      "Back Propagation: Sample index=0\n",
      "grad_A_L0: [[2.10517092]]\n",
      "dA0dZ0: [[0.24937604]]\n",
      "grad_Z_L0: [[0.52497919]]\n",
      "grad_W_L: [[ 0.52497919 -1.04995837]]\n",
      "grad_b_L: [[0.52497919]]\n"
     ]
    }
   ],
   "source": [
    "# Back Propagation\n",
    "grad_A_L0 = -(Y0/A0 - (1-Y0)/(1-A0))/1\n",
    "dA0dZ0 = A0 - np.square(A0)\n",
    "grad_Z_L0 = grad_A_L0*dA0dZ0\n",
    "grad_W_L = np.dot(grad_Z_L0,X0.T)\n",
    "grad_b_L = np.sum(grad_Z_L0,keepdims=True)\n",
    "print(\"Back Propagation: Sample index=0\")\n",
    "print(\"grad_A_L0: {}\".format(grad_A_L0))\n",
    "print(\"dA0dZ0: {}\".format(dA0dZ0))\n",
    "print(\"grad_Z_L0: {}\".format(grad_Z_L0))\n",
    "print(\"grad_W_L: {}\".format(grad_W_L))\n",
    "print(\"grad_b_L: {}\".format(grad_b_L))"
   ]
  },
  {
   "cell_type": "code",
   "execution_count": 8,
   "metadata": {},
   "outputs": [
    {
     "name": "stdout",
     "output_type": "stream",
     "text": [
      "W: [[0.04750208 0.20499584]]\n",
      "b: [[0.14750208]]\n"
     ]
    }
   ],
   "source": [
    "# Update W and b\n",
    "W = W - alpha*grad_W_L\n",
    "b = b - alpha*grad_b_L\n",
    "print(\"W: {}\".format(W))\n",
    "print(\"b: {}\".format(b))"
   ]
  },
  {
   "cell_type": "code",
   "execution_count": 9,
   "metadata": {},
   "outputs": [
    {
     "name": "stdout",
     "output_type": "stream",
     "text": [
      "Forward Propagation: Epoch 1, Sample index=1\n",
      "Z1: [[-0.78247294]]\n",
      "A1: [[0.31378715]]\n"
     ]
    }
   ],
   "source": [
    "# Epoch 1, Sample index=1\n",
    "# Forward propagation\n",
    "X1 = X[:,1:2]\n",
    "Y1 = Y[:,1:2]\n",
    "Z1 = np.dot(W,X1) + b\n",
    "A1 = 1/(1+np.exp(-Z1))\n",
    "print(\"Forward Propagation: Epoch 1, Sample index=1\")\n",
    "print(\"Z1: {}\".format(Z1))\n",
    "print(\"A1: {}\".format(A1))"
   ]
  },
  {
   "cell_type": "code",
   "execution_count": 13,
   "metadata": {},
   "outputs": [
    {
     "name": "stdout",
     "output_type": "stream",
     "text": [
      "Back Propagation: Sample index=1\n",
      "dLossdA1: [[-3.1868736]]\n",
      "dA1dZ1: [[0.21532478]]\n",
      "dLossdZ1: [[-0.68621285]]\n",
      "dgradW: [[-1.37242569  3.43106423]]\n",
      "dgradb: [[-0.68621285]]\n"
     ]
    }
   ],
   "source": [
    "# Back Propagation\n",
    "grad_A_L1 = -(Y1/A1 - (1-Y1)/(1-A1))/1\n",
    "dA1dZ1 = A1 - np.square(A1)\n",
    "grad_Z_L1 = grad_A_L1*dA1dZ1\n",
    "grad_W_L = np.dot(grad_Z_L1,X1.T)\n",
    "grad_b_L = np.sum(grad_Z_L1,keepdims=True)\n",
    "print(\"Back Propagation: Sample index=1\")\n",
    "print(\"dLossdA1: {}\".format(grad_A_L1))\n",
    "print(\"dA1dZ1: {}\".format(dA1dZ1))\n",
    "print(\"dLossdZ1: {}\".format(grad_Z_L1))\n",
    "print(\"dgradW: {}\".format(grad_W_L))\n",
    "print(\"dgradb: {}\".format(grad_b_L))"
   ]
  },
  {
   "cell_type": "code",
   "execution_count": 15,
   "metadata": {},
   "outputs": [
    {
     "name": "stdout",
     "output_type": "stream",
     "text": [
      "W: [[ 0.18474465 -0.13811059]]\n",
      "b: [[0.21612337]]\n"
     ]
    }
   ],
   "source": [
    "# Update W and b\n",
    "W = W - alpha*grad_W_L\n",
    "b = b - alpha*grad_b_L\n",
    "print(\"W: {}\".format(W))\n",
    "print(\"b: {}\".format(b))"
   ]
  },
  {
   "cell_type": "code",
   "execution_count": null,
   "metadata": {},
   "outputs": [],
   "source": []
  }
 ],
 "metadata": {
  "kernelspec": {
   "display_name": "test-env",
   "language": "python",
   "name": "test-env"
  },
  "language_info": {
   "codemirror_mode": {
    "name": "ipython",
    "version": 3
   },
   "file_extension": ".py",
   "mimetype": "text/x-python",
   "name": "python",
   "nbconvert_exporter": "python",
   "pygments_lexer": "ipython3",
   "version": "3.7.1"
  }
 },
 "nbformat": 4,
 "nbformat_minor": 2
}
