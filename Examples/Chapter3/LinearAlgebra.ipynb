{
 "cells": [
  {
   "cell_type": "markdown",
   "metadata": {},
   "source": [
    "# Linear Algebra With NumPy Demo\n",
    "This demo covers the basics of linear algebra operations using NumPy, check out the [documentation](https://numpy.org/doc/stable/reference/routines.linalg.html) to learn more."
   ]
  },
  {
   "cell_type": "code",
   "execution_count": null,
   "metadata": {},
   "outputs": [],
   "source": [
    "import numpy as np"
   ]
  },
  {
   "cell_type": "markdown",
   "metadata": {},
   "source": [
    "## Transpose\n",
    "Use the T attribute to take transpose of a numpy array"
   ]
  },
  {
   "cell_type": "code",
   "execution_count": null,
   "metadata": {},
   "outputs": [],
   "source": [
    "# transpose example 1\n",
    "# W = [1 2 3 4]\n",
    "W = np.array([[1,2,3,4]])\n",
    "print(\"W: \\n{}\".format(W))\n",
    "print(\"W transpose: \\n{}\".format(W.T))"
   ]
  },
  {
   "cell_type": "code",
   "execution_count": null,
   "metadata": {},
   "outputs": [],
   "source": [
    "# transpose example 2\n",
    "# X = [1  2  3  4]\n",
    "#     [5  6  7  8]\n",
    "#     [9 10 11 12]\n",
    "X = np.array([[1,2,3,4],[5,6,7,8],[9,10,11,12]])\n",
    "print(\"X: \\n{}\".format(X))\n",
    "print(\"X transpose: \\n{}\".format(X.T))"
   ]
  },
  {
   "cell_type": "markdown",
   "metadata": {},
   "source": [
    "## Matrix Multiplication\n",
    "Use np.dot() for matrix mulitplication"
   ]
  },
  {
   "cell_type": "code",
   "execution_count": null,
   "metadata": {},
   "outputs": [],
   "source": [
    "# matrix multiplication example 1\n",
    "# W = [1 2 3]\n",
    "# X = [4 7]\n",
    "#     [5 8]\n",
    "#     [6 9]\n",
    "W = np.array([[1,2,3]])\n",
    "X = np.array([[4,7],[5,8],[6,9]])\n",
    "Z = np.dot(W,X)\n",
    "print(\"Matrix Multiplication Example 1\")\n",
    "print(\"W: \\n{}\".format(W))\n",
    "print(\"X: \\n{}\".format(X))\n",
    "print(\"Z: \\n{}\".format(Z))"
   ]
  },
  {
   "cell_type": "code",
   "execution_count": null,
   "metadata": {},
   "outputs": [],
   "source": [
    "# matrix multiplication example 2\n",
    "# W = [1 2 3]\n",
    "#     [2 3 4]\n",
    "# X = [4 7]\n",
    "#     [5 8]\n",
    "#     [6 9]\n",
    "W = np.array([[1,2,3],[2,3,4]])\n",
    "X = np.array([[4,7],[5,8],[6,9]])\n",
    "Z = np.dot(W,X)\n",
    "print(\"Matrix Multiplication Example 2\")\n",
    "print(\"W: \\n{}\".format(W))\n",
    "print(\"X: \\n{}\".format(X))\n",
    "print(\"Z: \\n{}\".format(Z))"
   ]
  },
  {
   "cell_type": "markdown",
   "metadata": {},
   "source": [
    "## Broadcasting\n",
    "To learn more about broadcasting, click [here](https://www.tutorialspoint.com/numpy/numpy_broadcasting.htm#:~:text=Selected%20Reading-,NumPy%20%2D%20Broadcasting,usually%20done%20on%20corresponding%20elements.)."
   ]
  },
  {
   "cell_type": "code",
   "execution_count": null,
   "metadata": {},
   "outputs": [],
   "source": [
    "# broadcasting example 1\n",
    "# W = [1 2 3]\n",
    "# X = [4 7]\n",
    "#     [5 8]\n",
    "#     [6 9]\n",
    "W = np.array([[1,2,3]])\n",
    "X = np.array([[4,7],[5,8],[6,9]])\n",
    "b = 7\n",
    "Z = np.dot(W,X)+b\n",
    "print(\"Matrix Multiplication Example 1\")\n",
    "print(\"W: \\n{}\".format(W))\n",
    "print(\"X: \\n{}\".format(X))\n",
    "print(\"b: {}\".format(b))\n",
    "print(\"Z: \\n{}\".format(Z))"
   ]
  },
  {
   "cell_type": "code",
   "execution_count": null,
   "metadata": {},
   "outputs": [],
   "source": [
    "# broadcasting example 2\n",
    "# W = [1 2 3]\n",
    "#     [2 3 4]\n",
    "# X = [4 7]\n",
    "#     [5 8]\n",
    "#     [6 9]\n",
    "# b = [11]\n",
    "#     [12]\n",
    "W = np.array([[1,2,3],[2,3,4]])\n",
    "X = np.array([[4,7],[5,8],[6,9]])\n",
    "b = np.array([[11],[12]])\n",
    "Z = np.dot(W,X)+b\n",
    "print(\"Matrix Multiplication Example 2\")\n",
    "print(\"W: \\n{}\".format(W))\n",
    "print(\"X: \\n{}\".format(X))\n",
    "print(\"b: \\n{}\".format(b))\n",
    "print(\"Z: \\n{}\".format(Z))"
   ]
  },
  {
   "cell_type": "code",
   "execution_count": null,
   "metadata": {},
   "outputs": [],
   "source": []
  }
 ],
 "metadata": {
  "kernelspec": {
   "display_name": "IntroML-env",
   "language": "python",
   "name": "introml-env"
  },
  "language_info": {
   "codemirror_mode": {
    "name": "ipython",
    "version": 3
   },
   "file_extension": ".py",
   "mimetype": "text/x-python",
   "name": "python",
   "nbconvert_exporter": "python",
   "pygments_lexer": "ipython3",
   "version": "3.7.1"
  }
 },
 "nbformat": 4,
 "nbformat_minor": 2
}
