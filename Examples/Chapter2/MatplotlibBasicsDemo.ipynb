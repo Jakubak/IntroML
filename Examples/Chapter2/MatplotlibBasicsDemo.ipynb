{
 "cells": [
  {
   "cell_type": "markdown",
   "metadata": {},
   "source": [
    "# Matplotlib Basics Demo\n",
    "For more details about **Matplotlib**, click [here](https://matplotlib.org/3.2.2/contents.html) to check out the documentation."
   ]
  },
  {
   "cell_type": "code",
   "execution_count": null,
   "metadata": {},
   "outputs": [],
   "source": [
    "import numpy as np\n",
    "import matplotlib.pyplot as plt"
   ]
  },
  {
   "cell_type": "markdown",
   "metadata": {},
   "source": [
    "## Plot using lists"
   ]
  },
  {
   "cell_type": "code",
   "execution_count": null,
   "metadata": {},
   "outputs": [],
   "source": [
    "# list of integers from 0 to 19\n",
    "x1 = [i for i in range(20)]\n",
    "x1"
   ]
  },
  {
   "cell_type": "code",
   "execution_count": null,
   "metadata": {},
   "outputs": [],
   "source": [
    "y1 = x1\n",
    "y1"
   ]
  },
  {
   "cell_type": "code",
   "execution_count": null,
   "metadata": {},
   "outputs": [],
   "source": [
    "# plot of y=x, the 'r-' argument results in a solid red line\n",
    "plt.figure()\n",
    "plt.plot(x1, y1, 'r-')\n",
    "plt.title('Plot of y=x')\n",
    "plt.xlabel('x label')\n",
    "plt.ylabel('y label')\n",
    "plt.show()"
   ]
  },
  {
   "cell_type": "markdown",
   "metadata": {},
   "source": [
    "## Plot using 1d numpy arrays"
   ]
  },
  {
   "cell_type": "code",
   "execution_count": null,
   "metadata": {},
   "outputs": [],
   "source": [
    "# 21 equally spaced points between -5 and 5\n",
    "x2 = np.linspace(-5, 5, 21)\n",
    "x2"
   ]
  },
  {
   "cell_type": "code",
   "execution_count": null,
   "metadata": {},
   "outputs": [],
   "source": [
    "# y = x^2\n",
    "y2 = x2 ** 2"
   ]
  },
  {
   "cell_type": "code",
   "execution_count": null,
   "metadata": {},
   "outputs": [],
   "source": [
    "# plot of y=x^2, the 'bo' argument means plot blue dots at x2 & y2 points\n",
    "plt.figure()\n",
    "plt.plot(x2, y2, 'bo')\n",
    "plt.title('Plot of y=x^2')\n",
    "plt.xlabel('x label')\n",
    "plt.ylabel('y label')\n",
    "plt.show()"
   ]
  },
  {
   "cell_type": "markdown",
   "metadata": {},
   "source": [
    "## Plot using 2d numpy arrays\n",
    "Use \"squeeze\" to convert back to 1d array"
   ]
  },
  {
   "cell_type": "code",
   "execution_count": null,
   "metadata": {},
   "outputs": [],
   "source": [
    "x3 = x2.reshape(1, len(x2))\n",
    "x3"
   ]
  },
  {
   "cell_type": "code",
   "execution_count": null,
   "metadata": {},
   "outputs": [],
   "source": [
    "y3 = np.exp(x3)\n",
    "y3"
   ]
  },
  {
   "cell_type": "code",
   "execution_count": null,
   "metadata": {},
   "outputs": [],
   "source": [
    "# plot of y3 = exp(x3), the 'g--' argument results in dashed green line\n",
    "plt.figure()\n",
    "plt.plot(np.squeeze(x3), np.squeeze(y3), 'g--')\n",
    "plt.title('Plot of y=exp(x)')\n",
    "plt.show()"
   ]
  },
  {
   "cell_type": "markdown",
   "metadata": {},
   "source": [
    "## Object Oriented Approach"
   ]
  },
  {
   "cell_type": "code",
   "execution_count": null,
   "metadata": {},
   "outputs": [],
   "source": [
    "# initialize figure object\n",
    "fig = plt.figure()\n",
    "# add set of axes to figure \n",
    "ax = fig.add_axes([0,0,1,1])\n",
    "# plot x^2 and x^3 on same canvas with legend\n",
    "ax.plot(x2, x2**2, 'bo', label='X^2')\n",
    "ax.plot(x2, x2**3, 'r-', label='X^3')\n",
    "ax.legend()\n",
    "\n",
    "plt.show()"
   ]
  },
  {
   "cell_type": "markdown",
   "metadata": {},
   "source": [
    "## Subplots"
   ]
  },
  {
   "cell_type": "code",
   "execution_count": null,
   "metadata": {},
   "outputs": [],
   "source": [
    "plt.figure()\n",
    "# 1 row 2 columns first plot\n",
    "plt.subplot(1, 2, 1)\n",
    "# specify linestyle and color explicitly\n",
    "# specify linewidth and alpha=transparency\n",
    "plt.plot(x1, y1, color='orange', linestyle='-', linewidth=6, alpha=0.5)\n",
    "\n",
    "# 1 row 2 columns second plot\n",
    "plt.subplot(1, 2, 2)\n",
    "plt.plot(x2, y2, color='green', marker='o', linewidth=0.5)\n",
    "\n",
    "plt.show()"
   ]
  },
  {
   "cell_type": "markdown",
   "metadata": {},
   "source": [
    "### Object Oriented Approach"
   ]
  },
  {
   "cell_type": "code",
   "execution_count": null,
   "metadata": {},
   "outputs": [],
   "source": [
    "# canvas with 1 row and 2 columns\n",
    "fig, axes = plt.subplots(nrows=1, ncols=2)\n",
    "\n",
    "# plot y=x on the left\n",
    "axes[0].plot(x1, y1, color='orange', linestyle='-', linewidth=6, alpha=0.5)\n",
    "axes[0].set_title('Plot of y=x')\n",
    "axes[0].set_xlabel('x label')\n",
    "axes[0].set_ylabel('y label')\n",
    "\n",
    "# plot y=x^2 on the right\n",
    "axes[1].plot(x2, y2, color='green', marker='o', linewidth=0.5)\n",
    "axes[1].set_title('Plot of y=x^2')\n",
    "axes[1].set_xlabel('x label')\n",
    "\n",
    "#fig"
   ]
  },
  {
   "cell_type": "markdown",
   "metadata": {},
   "source": [
    "## Scatter plot"
   ]
  },
  {
   "cell_type": "code",
   "execution_count": null,
   "metadata": {},
   "outputs": [],
   "source": [
    "# set seed for reproducibility\n",
    "np.random.seed(10)\n",
    "\n",
    "# create a 2x50 matrix with random normally distributed data\n",
    "X = np.random.randn(2, 50)\n",
    "\n",
    "X"
   ]
  },
  {
   "cell_type": "code",
   "execution_count": null,
   "metadata": {},
   "outputs": [],
   "source": [
    "plt.figure()\n",
    "\n",
    "# plot the data in X where the points in the first array are the x coordinates \n",
    "# and in the second array are the corresponding y coordinates\n",
    "x_coords = X[0]\n",
    "y_coords = X[1]\n",
    "plt.plot(x_coords, y_coords,'bo')\n",
    "\n",
    "plt.show()"
   ]
  },
  {
   "cell_type": "code",
   "execution_count": null,
   "metadata": {},
   "outputs": [],
   "source": [
    "plt.figure()\n",
    "\n",
    "# extract the points to the left of x=0\n",
    "left_x = x_coords[x_coords < 0]\n",
    "left_y = y_coords[x_coords < 0]\n",
    "\n",
    "# extract the points to the right of x=0\n",
    "right_x = x_coords[x_coords >= 0]\n",
    "right_y = y_coords[x_coords >= 0]\n",
    "\n",
    "plt.scatter(left_x, left_y, color='blue', label='class 0')\n",
    "plt.scatter(right_x, right_y, color='red', label='class 1')\n",
    "plt.legend()\n",
    "\n",
    "plt.show()"
   ]
  },
  {
   "cell_type": "markdown",
   "metadata": {},
   "source": [
    "## Histogram"
   ]
  },
  {
   "cell_type": "code",
   "execution_count": null,
   "metadata": {},
   "outputs": [],
   "source": [
    "# set seed for reproducibility\n",
    "np.random.seed(10)\n",
    "\n",
    "# create a vector with 100 random normally distributed numbers\n",
    "normal_vector = np.random.randn(100)\n",
    "\n",
    "# plot normally distributed vector using a histogram\n",
    "plt.hist(normal_vector)\n",
    "\n",
    "plt.show()"
   ]
  },
  {
   "cell_type": "markdown",
   "metadata": {},
   "source": [
    "## Barchart"
   ]
  },
  {
   "cell_type": "code",
   "execution_count": null,
   "metadata": {},
   "outputs": [],
   "source": [
    "# set seed for reproducibility\n",
    "np.random.seed(10)\n",
    "\n",
    "# create a vector of 5 random floats in the interval [0, 1)\n",
    "probabilities = np.random.random_sample(5)\n",
    "\n",
    "days = ['Monday', 'Tuesday', 'Wednesday', 'Thursday', 'Friday']\n",
    "\n",
    "plt.figure()\n",
    "\n",
    "# plot vertical bar chart\n",
    "plt.bar(x=days, height=probabilities, color='orange')\n",
    "plt.title('Probability of Studying On a Certain Day of the Week')\n",
    "plt.xlabel('Day')\n",
    "plt.ylabel('Probability')\n",
    "\n",
    "plt.show()"
   ]
  }
 ],
 "metadata": {
  "kernelspec": {
   "display_name": "IntroML-env",
   "language": "python",
   "name": "introml-env"
  },
  "language_info": {
   "codemirror_mode": {
    "name": "ipython",
    "version": 3
   },
   "file_extension": ".py",
   "mimetype": "text/x-python",
   "name": "python",
   "nbconvert_exporter": "python",
   "pygments_lexer": "ipython3",
   "version": "3.7.1"
  }
 },
 "nbformat": 4,
 "nbformat_minor": 4
}
