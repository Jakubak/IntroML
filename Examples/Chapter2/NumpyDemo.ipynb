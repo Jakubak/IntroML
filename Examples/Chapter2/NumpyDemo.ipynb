{
 "cells": [
  {
   "cell_type": "markdown",
   "metadata": {},
   "source": [
    "# NumPy Demo\n",
    "NumPy is a package for scientific computing with Python. For more information, click [here](https://numpy.org/doc/stable/) to check out the documentation."
   ]
  },
  {
   "cell_type": "code",
   "execution_count": 1,
   "metadata": {},
   "outputs": [],
   "source": [
    "import numpy as np"
   ]
  },
  {
   "cell_type": "markdown",
   "metadata": {},
   "source": [
    "## Array Creation and Indexing"
   ]
  },
  {
   "cell_type": "code",
   "execution_count": 2,
   "metadata": {},
   "outputs": [
    {
     "name": "stdout",
     "output_type": "stream",
     "text": [
      "1d array: a: [2 7 1]\n",
      "1d array: a.shape: (3,)\n",
      "Index into array entry index 2: 1\n"
     ]
    }
   ],
   "source": [
    "# convert list to numpy array\n",
    "a = np.array([2,7,1])\n",
    "print(\"1d array: a: {}\".format(a))\n",
    "print(\"1d array: a.shape: {}\".format(a.shape))\n",
    "print(\"Index into array entry index 2: {}\".format(a[2]))"
   ]
  },
  {
   "cell_type": "code",
   "execution_count": 3,
   "metadata": {},
   "outputs": [
    {
     "name": "stdout",
     "output_type": "stream",
     "text": [
      "2d row matrix: A: [[2 7 1]]\n",
      "2d row matrix: A.shape: (1, 3)\n",
      "Index into matrix entry index row=0,col=2: 1\n"
     ]
    }
   ],
   "source": [
    "# example: 2d-array as row vector\n",
    "# A = [2,7,1]\n",
    "# Define A as list of list for each row\n",
    "A = np.array([[2,7,1]])\n",
    "print(\"2d row matrix: A: {}\".format(A))\n",
    "print(\"2d row matrix: A.shape: {}\".format(A.shape))\n",
    "print(\"Index into matrix entry index row=0,col=2: {}\".format(A[0,2]))"
   ]
  },
  {
   "cell_type": "code",
   "execution_count": 4,
   "metadata": {},
   "outputs": [
    {
     "name": "stdout",
     "output_type": "stream",
     "text": [
      "2d column matrix: B: \n",
      "[[2]\n",
      " [7]\n",
      " [1]]\n",
      "2d column matrix: B.shape: (3, 1)\n",
      "Index into matrix entry index row=1,col=0: 7\n"
     ]
    }
   ],
   "source": [
    "# example: 2d-array as column vector\n",
    "# each row is a list\n",
    "# Define B as list of list for each row\n",
    "# B = [2]\n",
    "#     [7]\n",
    "#     [1]\n",
    "B = np.array([[2],[7],[1]])\n",
    "print(\"2d column matrix: B: \\n{}\".format(B))\n",
    "print(\"2d column matrix: B.shape: {}\".format(B.shape))\n",
    "print(\"Index into matrix entry index row=1,col=0: {}\".format(B[1,0]))"
   ]
  },
  {
   "cell_type": "code",
   "execution_count": 5,
   "metadata": {},
   "outputs": [
    {
     "name": "stdout",
     "output_type": "stream",
     "text": [
      "2d array: X: \n",
      "[[1 2 3]\n",
      " [4 5 6]]\n",
      "2d array: X.shape: (2, 3)\n",
      "Index into matrix entry index row=1,col=1: 5\n"
     ]
    }
   ],
   "source": [
    "# example: matrix\n",
    "# X = [1 2 3]\n",
    "#     [4 5 6]\n",
    "# Define X as list of list for each row\n",
    "X = np.array([[1,2,3],[4,5,6]])\n",
    "print(\"2d array: X: \\n{}\".format(X))\n",
    "print(\"2d array: X.shape: {}\".format(X.shape))\n",
    "print(\"Index into matrix entry index row=1,col=1: {}\".format(X[1,1]))"
   ]
  },
  {
   "cell_type": "markdown",
   "metadata": {},
   "source": [
    "## Component-wise Operations"
   ]
  },
  {
   "cell_type": "code",
   "execution_count": 6,
   "metadata": {},
   "outputs": [
    {
     "name": "stdout",
     "output_type": "stream",
     "text": [
      "X: \n",
      "[[1 2 3]\n",
      " [4 5 6]]\n",
      "Y: \n",
      "[[ 1 -1  2]\n",
      " [ 2  3 -2]]\n"
     ]
    }
   ],
   "source": [
    "# X = [1 2 3]\n",
    "#     [4 5 6]\n",
    "# Y = [1 -1  2]\n",
    "#     [2  3 -2]\n",
    "X = np.array([[1,2,3],[4,5,6]])\n",
    "Y = np.array([[1,-1,2],[2,3,-2]])\n",
    "print(\"X: \\n{}\".format(X))\n",
    "print(\"Y: \\n{}\".format(Y))"
   ]
  },
  {
   "cell_type": "markdown",
   "metadata": {},
   "source": [
    "### Component-wise Addition\n",
    "Component-wise addition, the result will be an array of the same dimension as the inputs"
   ]
  },
  {
   "cell_type": "code",
   "execution_count": 7,
   "metadata": {},
   "outputs": [
    {
     "name": "stdout",
     "output_type": "stream",
     "text": [
      "Z1=X+Y: \n",
      "[[2 1 5]\n",
      " [6 8 4]]\n"
     ]
    }
   ],
   "source": [
    "Z1 = X + Y\n",
    "print(\"Z1=X+Y: \\n{}\".format(Z1))"
   ]
  },
  {
   "cell_type": "markdown",
   "metadata": {},
   "source": [
    "### Scalar Multiplication\n",
    "Multiply each element by a scalar"
   ]
  },
  {
   "cell_type": "code",
   "execution_count": 8,
   "metadata": {},
   "outputs": [
    {
     "name": "stdout",
     "output_type": "stream",
     "text": [
      "Z2=2*X: \n",
      "[[ 2  4  6]\n",
      " [ 8 10 12]]\n"
     ]
    }
   ],
   "source": [
    "Z2 = 2*X\n",
    "print(\"Z2=2*X: \\n{}\".format(Z2))"
   ]
  },
  {
   "cell_type": "markdown",
   "metadata": {},
   "source": [
    "### Component-wise Multipication\n",
    "Component-wise multiplication (this is not matrix multiplication), the result will be an array of the same dimension as the inputs"
   ]
  },
  {
   "cell_type": "code",
   "execution_count": 9,
   "metadata": {},
   "outputs": [
    {
     "name": "stdout",
     "output_type": "stream",
     "text": [
      "X: \n",
      "[[1 2 3]\n",
      " [4 5 6]]\n",
      "Y: \n",
      "[[ 1 -1  2]\n",
      " [ 2  3 -2]]\n",
      "Z3=X*Y: \n",
      "[[  1  -2   6]\n",
      " [  8  15 -12]]\n"
     ]
    }
   ],
   "source": [
    "Z3 = X*Y\n",
    "print(\"X: \\n{}\".format(X))\n",
    "print(\"Y: \\n{}\".format(Y))\n",
    "print(\"Z3=X*Y: \\n{}\".format(Z3))"
   ]
  },
  {
   "cell_type": "markdown",
   "metadata": {},
   "source": [
    "## Functions"
   ]
  },
  {
   "cell_type": "markdown",
   "metadata": {},
   "source": [
    "### Exponential\n",
    "Take the exponential of each element"
   ]
  },
  {
   "cell_type": "code",
   "execution_count": 10,
   "metadata": {},
   "outputs": [
    {
     "name": "stdout",
     "output_type": "stream",
     "text": [
      "X: \n",
      "[[1 2 3]\n",
      " [4 5 6]]\n",
      "Exponential of X: \n",
      "[[  2.71828183   7.3890561   20.08553692]\n",
      " [ 54.59815003 148.4131591  403.42879349]]\n"
     ]
    }
   ],
   "source": [
    "Xexp = np.exp(X)\n",
    "print(\"X: \\n{}\".format(X))\n",
    "print(\"Exponential of X: \\n{}\".format(Xexp))"
   ]
  },
  {
   "cell_type": "markdown",
   "metadata": {},
   "source": [
    "### Absolute Value\n",
    "Take the abslute value of each element"
   ]
  },
  {
   "cell_type": "code",
   "execution_count": 11,
   "metadata": {},
   "outputs": [
    {
     "name": "stdout",
     "output_type": "stream",
     "text": [
      "Y: \n",
      "[[ 1 -1  2]\n",
      " [ 2  3 -2]]\n",
      "Absolute Value of Y: \n",
      "[[1 1 2]\n",
      " [2 3 2]]\n"
     ]
    }
   ],
   "source": [
    "Yabs = np.absolute(Y)\n",
    "print(\"Y: \\n{}\".format(Y))\n",
    "print(\"Absolute Value of Y: \\n{}\".format(Yabs))"
   ]
  },
  {
   "cell_type": "markdown",
   "metadata": {},
   "source": [
    "### Square\n",
    "Take the square of each element"
   ]
  },
  {
   "cell_type": "code",
   "execution_count": 12,
   "metadata": {},
   "outputs": [
    {
     "name": "stdout",
     "output_type": "stream",
     "text": [
      "X: \n",
      "[[1 2 3]\n",
      " [4 5 6]]\n",
      "Square of X: \n",
      "[[ 1  4  9]\n",
      " [16 25 36]]\n"
     ]
    }
   ],
   "source": [
    "Xsq = np.square(X)\n",
    "print(\"X: \\n{}\".format(X))\n",
    "print(\"Square of X: \\n{}\".format(Xsq))"
   ]
  },
  {
   "cell_type": "markdown",
   "metadata": {},
   "source": [
    "## Concatenation"
   ]
  },
  {
   "cell_type": "code",
   "execution_count": 13,
   "metadata": {},
   "outputs": [
    {
     "name": "stdout",
     "output_type": "stream",
     "text": [
      "X: \n",
      "[[1 2 3]\n",
      " [4 5 6]]\n",
      "Y: \n",
      "[[ 1 -1  2]\n",
      " [ 2  3 -2]]\n",
      "X and Y concatenated in row direction: \n",
      "[[ 1  2  3]\n",
      " [ 4  5  6]\n",
      " [ 1 -1  2]\n",
      " [ 2  3 -2]]\n",
      "X and Y concatenated in column direction: \n",
      "[[ 1  2  3  1 -1  2]\n",
      " [ 4  5  6  2  3 -2]]\n"
     ]
    }
   ],
   "source": [
    "X = np.array([[1,2,3],[4,5,6]])\n",
    "Y = np.array([[1,-1,2],[2,3,-2]])\n",
    "print(\"X: \\n{}\".format(X))\n",
    "print(\"Y: \\n{}\".format(Y))\n",
    "# concatenation - in row direction - use axis=0 in 2nd input\n",
    "# result is [1  2  3]\n",
    "#           [4  5  6]\n",
    "#           [1 -1  2]\n",
    "#           [2  3 -2]\n",
    "XandYrow = np.concatenate((X,Y),axis=0)\n",
    "print(\"X and Y concatenated in row direction: \\n{}\".format(XandYrow))\n",
    "# concatenation X and Y - in column direction - use axis=1 in 2nd input\n",
    "# result is [1 2 3 1 -1  2]\n",
    "#           [4 5 6 2  3 -2]\n",
    "XandYcol = np.concatenate((X,Y),axis=1)\n",
    "print(\"X and Y concatenated in column direction: \\n{}\".format(XandYcol))"
   ]
  },
  {
   "cell_type": "markdown",
   "metadata": {},
   "source": [
    "## Reshaping"
   ]
  },
  {
   "cell_type": "code",
   "execution_count": 14,
   "metadata": {},
   "outputs": [
    {
     "name": "stdout",
     "output_type": "stream",
     "text": [
      "X: \n",
      "[[1 2 3]\n",
      " [4 5 6]]\n",
      "X reshape row vector: \n",
      "[[1 2 3 4 5 6]]\n",
      "X reshape col vector: \n",
      "[[1]\n",
      " [2]\n",
      " [3]\n",
      " [4]\n",
      " [5]\n",
      " [6]]\n"
     ]
    }
   ],
   "source": [
    "# reshape X into matrix 1 row 6 columns: [1 2 3 4 5 6]\n",
    "print(\"X: \\n{}\".format(X))\n",
    "Xreshaperow = np.reshape(X,(1,6))\n",
    "print(\"X reshape row vector: \\n{}\".format(Xreshaperow))\n",
    "Xreshapecol = np.reshape(X,(6,1))\n",
    "print(\"X reshape col vector: \\n{}\".format(Xreshapecol))"
   ]
  },
  {
   "cell_type": "markdown",
   "metadata": {},
   "source": [
    "## Removing Axes"
   ]
  },
  {
   "cell_type": "code",
   "execution_count": 15,
   "metadata": {},
   "outputs": [
    {
     "name": "stdout",
     "output_type": "stream",
     "text": [
      "A: [[1 2 3]]\n",
      "A.shape: (1, 3)\n",
      "A1: [1 2 3]\n",
      "A1.shape: (3,)\n"
     ]
    }
   ],
   "source": [
    "# start with row vector (2d np.array) and convert to 1d np.array\n",
    "A = np.array([[1,2,3]])\n",
    "print(\"A: {}\".format(A))\n",
    "print(\"A.shape: {}\".format(A.shape))\n",
    "# removes axis with only 1 entry in dimension\n",
    "A1 = np.squeeze(A) \n",
    "print(\"A1: {}\".format(A1))\n",
    "print(\"A1.shape: {}\".format(A1.shape))"
   ]
  },
  {
   "cell_type": "markdown",
   "metadata": {},
   "source": [
    "## Adding Axes"
   ]
  },
  {
   "cell_type": "code",
   "execution_count": 16,
   "metadata": {},
   "outputs": [
    {
     "name": "stdout",
     "output_type": "stream",
     "text": [
      "a: [1 2 3]\n",
      "a.shape: (3,)\n",
      "b: \n",
      "[[1 2 3]]\n",
      "b.shape: (1, 3)\n",
      "c: \n",
      "[[1]\n",
      " [2]\n",
      " [3]]\n",
      "c.shape: (3, 1)\n"
     ]
    }
   ],
   "source": [
    "# start with 1d array and make into 2d array using np.expand_dims\n",
    "a = np.array([1,2,3])\n",
    "print(\"a: {}\".format(a))\n",
    "print(\"a.shape: {}\".format(a.shape))\n",
    "# add dimension to make into a row vector\n",
    "b = np.expand_dims(a,axis=0)\n",
    "print(\"b: \\n{}\".format(b))\n",
    "print(\"b.shape: {}\".format(b.shape))\n",
    "# add dimension to make into a column vector \n",
    "c = np.expand_dims(a,axis=1)\n",
    "print(\"c: \\n{}\".format(c))\n",
    "print(\"c.shape: {}\".format(c.shape))"
   ]
  },
  {
   "cell_type": "markdown",
   "metadata": {},
   "source": [
    "## Summing Entries"
   ]
  },
  {
   "cell_type": "code",
   "execution_count": 17,
   "metadata": {},
   "outputs": [
    {
     "name": "stdout",
     "output_type": "stream",
     "text": [
      "X: \n",
      "[[1 2 3]\n",
      " [4 5 6]]\n",
      "sum entries of x: 21\n"
     ]
    }
   ],
   "source": [
    "# X = [1 2 3]\n",
    "#     [4 5 6]\n",
    "X = np.array([[1,2,3],[4,5,6]])\n",
    "print(\"X: \\n{}\".format(X))\n",
    "# sum all entries\n",
    "sum1 = np.sum(X)\n",
    "print(\"sum entries of x: {}\".format(sum1))"
   ]
  },
  {
   "cell_type": "code",
   "execution_count": 18,
   "metadata": {},
   "outputs": [
    {
     "name": "stdout",
     "output_type": "stream",
     "text": [
      "sum in row direction X: \n",
      "[5 7 9]\n",
      "rowsum1.shape: (3,)\n"
     ]
    }
   ],
   "source": [
    "# sum in row direction - this removes an axis -> 1d array [5 7 9]\n",
    "rowsum1 = np.sum(X,axis=0)\n",
    "print(\"sum in row direction X: \\n{}\".format(rowsum1))\n",
    "print(\"rowsum1.shape: {}\".format(rowsum1.shape))"
   ]
  },
  {
   "cell_type": "code",
   "execution_count": 19,
   "metadata": {},
   "outputs": [
    {
     "name": "stdout",
     "output_type": "stream",
     "text": [
      "sum in row direction X keep row axis: \n",
      "[[5 7 9]]\n",
      "rowsum2.shape: (1, 3)\n"
     ]
    }
   ],
   "source": [
    "# sum in row direction - keep row axis -> row matrix [5 7 9]\n",
    "rowsum2 = np.sum(X,axis=0,keepdims=True)\n",
    "print(\"sum in row direction X keep row axis: \\n{}\".format(rowsum2))\n",
    "print(\"rowsum2.shape: {}\".format(rowsum2.shape))"
   ]
  },
  {
   "cell_type": "code",
   "execution_count": 20,
   "metadata": {},
   "outputs": [
    {
     "name": "stdout",
     "output_type": "stream",
     "text": [
      "sum in column direction keep col axis: \n",
      "[[ 6]\n",
      " [15]]\n",
      "colsum1.shape: (2, 1)\n"
     ]
    }
   ],
   "source": [
    "# sum in column direction - keep column axis -> 2darray\n",
    "colsum1 = np.sum(X,axis=1,keepdims=True)\n",
    "print(\"sum in column direction keep col axis: \\n{}\".format(colsum1))\n",
    "print(\"colsum1.shape: {}\".format(colsum1.shape))"
   ]
  },
  {
   "cell_type": "markdown",
   "metadata": {},
   "source": [
    "## Array of Zeros"
   ]
  },
  {
   "cell_type": "code",
   "execution_count": 21,
   "metadata": {},
   "outputs": [
    {
     "name": "stdout",
     "output_type": "stream",
     "text": [
      "zero matrix: \n",
      "[[0. 0.]\n",
      " [0. 0.]\n",
      " [0. 0.]]\n"
     ]
    }
   ],
   "source": [
    "# generate zero matrix dimension (3,2)\n",
    "Z0 = np.zeros((3,2))\n",
    "print(\"zero matrix: \\n{}\".format(Z0))"
   ]
  },
  {
   "cell_type": "markdown",
   "metadata": {},
   "source": [
    "## Array of Ones"
   ]
  },
  {
   "cell_type": "code",
   "execution_count": 22,
   "metadata": {},
   "outputs": [
    {
     "name": "stdout",
     "output_type": "stream",
     "text": [
      "ones matrix: \n",
      "[[1. 1. 1.]\n",
      " [1. 1. 1.]]\n"
     ]
    }
   ],
   "source": [
    "# generate ones matrix dimension (2,3)\n",
    "Z1 = np.ones((2,3))\n",
    "print(\"ones matrix: \\n{}\".format(Z1))"
   ]
  },
  {
   "cell_type": "markdown",
   "metadata": {},
   "source": [
    "## Array of Random Numbers"
   ]
  },
  {
   "cell_type": "code",
   "execution_count": 23,
   "metadata": {},
   "outputs": [
    {
     "name": "stdout",
     "output_type": "stream",
     "text": [
      "Runiform: \n",
      "[[0.93028514 0.30738971 0.85240687]\n",
      " [0.96460489 0.15750789 0.30364947]]\n"
     ]
    }
   ],
   "source": [
    "# generate random matrix  dim (2,3) - uniform distribution\n",
    "Runiform = np.random.rand(2,3)\n",
    "print(\"Runiform: \\n{}\".format(Runiform))"
   ]
  },
  {
   "cell_type": "code",
   "execution_count": 24,
   "metadata": {},
   "outputs": [
    {
     "name": "stdout",
     "output_type": "stream",
     "text": [
      "Rnormal: \n",
      "[[ 1.3315865   0.71527897 -1.54540029]\n",
      " [-0.00838385  0.62133597 -0.72008556]]\n"
     ]
    }
   ],
   "source": [
    "# generate random matrix  dim (2,3) - normal distribution\n",
    "# set seed first\n",
    "np.random.seed(10)\n",
    "Rnormal = np.random.randn(2,3)\n",
    "print(\"Rnormal: \\n{}\".format(Rnormal))"
   ]
  }
 ],
 "metadata": {
  "kernelspec": {
   "display_name": "ml-test",
   "language": "python",
   "name": "ml-test"
  },
  "language_info": {
   "codemirror_mode": {
    "name": "ipython",
    "version": 3
   },
   "file_extension": ".py",
   "mimetype": "text/x-python",
   "name": "python",
   "nbconvert_exporter": "python",
   "pygments_lexer": "ipython3",
   "version": "3.7.1"
  }
 },
 "nbformat": 4,
 "nbformat_minor": 2
}
