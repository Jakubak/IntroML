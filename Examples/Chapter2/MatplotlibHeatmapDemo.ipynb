{
 "cells": [
  {
   "cell_type": "markdown",
   "metadata": {},
   "source": [
    "# Matplotlib - Heatmap\n",
    "Demo on prepararing a heatmap which will be used to visually review machine learning classification results"
   ]
  },
  {
   "cell_type": "code",
   "execution_count": null,
   "metadata": {},
   "outputs": [],
   "source": [
    "import numpy as np\n",
    "import matplotlib.pyplot as plt"
   ]
  },
  {
   "cell_type": "code",
   "execution_count": null,
   "metadata": {},
   "outputs": [],
   "source": [
    "# define function takes in X (0th row is X0 and 1st row is X1) and returns 0 and 1 vector\n",
    "def func_Y(X):\n",
    "    # generate function of 0 and 1: Y = 0 if X0 + X1-0.75<=0 and Y=1 if x0+x1-0.75>0\n",
    "    Y = (X[0,:] + X[1,:] - 0.75 > 0).astype(float)\n",
    "    # add axis so Y is row vector\n",
    "    Y = np.expand_dims(Y,axis=0)\n",
    "    return Y"
   ]
  },
  {
   "cell_type": "code",
   "execution_count": null,
   "metadata": {},
   "outputs": [],
   "source": [
    "# (1) set up training data randomly chosen from uniform distribution\n",
    "# X is 2d array of dimension (2,m), Y is 2d array of 0 or 1 of dimension (1,m)\n",
    "nfeature = 2\n",
    "m = 10\n",
    "X = np.random.rand(nfeature,m)\n",
    "Y = func_Y(X)\n",
    "print(\"X.shape: {}\".format(X.shape))\n",
    "print(\"X: \\n{}\".format(X))\n",
    "print(\"Y.shape: {}\".format(Y.shape))\n",
    "print(\"Y: \\n{}\".format(Y))"
   ]
  },
  {
   "cell_type": "code",
   "execution_count": null,
   "metadata": {},
   "outputs": [],
   "source": [
    "# (2) plot training data\n",
    "# red = 0, 1 = blue, use np.where to determine index where Y = 0 and Y = 1\n",
    "idx_0 = np.where(np.squeeze(np.absolute(Y-0))<1e-7)\n",
    "idx_1 = np.where(np.squeeze(np.absolute(Y-1))<1e-7)\n",
    "plt.plot(np.squeeze(X[0,idx_0]),np.squeeze(X[1,idx_0]),\"ro\",label=\"Training Data: Label=0\")\n",
    "plt.plot(np.squeeze(X[0,idx_1]),np.squeeze(X[1,idx_1]),\"bo\",label=\"Training Data: Label=1\")"
   ]
  },
  {
   "cell_type": "markdown",
   "metadata": {},
   "source": [
    "## Create 2d Grids for X0, X1 and Y\n",
    "This mini example shows how to create 3x3 2d grids for X0, X1, and Y"
   ]
  },
  {
   "cell_type": "code",
   "execution_count": null,
   "metadata": {},
   "outputs": [],
   "source": [
    "# simple example points 0.25, 0.50, 0.75 in x0 and x1 directions\n",
    "npoints = 3\n",
    "# create 1d grids of points between 0.25 and 0.75\n",
    "X0=np.linspace(0.25,0.75,npoints)\n",
    "X1=np.linspace(0.25,0.75,npoints)\n",
    "print(\"X0: {}\".format(X0))\n",
    "print(\"X1: {}\".format(X1))"
   ]
  },
  {
   "cell_type": "code",
   "execution_count": null,
   "metadata": {},
   "outputs": [],
   "source": [
    "# create meshgrids - X0grid = X0 points for grid, X1grid = X1 points for grid\n",
    "X0grid,X1grid=np.meshgrid(X0,X1)\n",
    "print(\"x0grid: \\n{}\".format(X0grid))\n",
    "print(\"x1grid: \\n{}\".format(X1grid))"
   ]
  },
  {
   "cell_type": "code",
   "execution_count": null,
   "metadata": {},
   "outputs": [],
   "source": [
    "# convert meshgrids into row vectors\n",
    "X0reshape=np.reshape(X0grid,(1,npoints*npoints))\n",
    "X1reshape=np.reshape(X1grid,(1,npoints*npoints))\n",
    "print(\"x0reshape: {}\".format(X0reshape))\n",
    "print(\"x1reshape: {}\".format(X1reshape))\n",
    "# concatenate into 2x9 matrix in order be able to use func_Y\n",
    "Xmatrix = np.concatenate((X0reshape,X1reshape),axis=0)\n",
    "print(\"Xmatrix: \\n{}\".format(Xmatrix))"
   ]
  },
  {
   "cell_type": "code",
   "execution_count": null,
   "metadata": {},
   "outputs": [],
   "source": [
    "# apply Y function to generate 0 and 1\n",
    "Yout = func_Y(Xmatrix)\n",
    "print(\"Yout: {}\".format(Yout))\n",
    "# Convert to 3x3 grid\n",
    "Ygrid = np.reshape(Yout,(npoints,npoints))\n",
    "print(\"Ygrid: \\n{}\".format(Ygrid))"
   ]
  },
  {
   "cell_type": "code",
   "execution_count": null,
   "metadata": {},
   "outputs": [],
   "source": [
    "# use pcolormesh to create heatmap\n",
    "plt.pcolormesh(Ygrid)\n",
    "# plot colorbar\n",
    "plt.colorbar()"
   ]
  },
  {
   "cell_type": "markdown",
   "metadata": {},
   "source": [
    "## Heatmap\n",
    "This is a denser version of the above example using 100x100 grid"
   ]
  },
  {
   "cell_type": "code",
   "execution_count": null,
   "metadata": {},
   "outputs": [],
   "source": [
    "# create a heatmap\n",
    "npoints = 100\n",
    "# create 1d grids in x0 and x1 directions\n",
    "X0lin = np.linspace(0,1,npoints)\n",
    "X1lin = np.linspace(0,1,npoints)\n",
    "# create 2d grids for x0 and x1 and reshape into 1d grids \n",
    "X0grid,X1grid = np.meshgrid(X0lin,X1lin)\n",
    "# convert to 1d grids\n",
    "X0reshape = np.reshape(X0grid,(1,npoints*npoints))\n",
    "X1reshape = np.reshape(X1grid,(1,npoints*npoints))\n",
    "# Feature matrix is (2,npoints*npoints)\n",
    "Xmatrix = np.concatenate((X0reshape,X1reshape),axis=0)\n",
    "# compute Y\n",
    "Yout = func_Y(Xmatrix)\n",
    "# reshape Yout results into 2d grid and plot heatmap\n",
    "heatmap = np.reshape(Yout,(npoints,npoints))\n",
    "# heat map takes in 2d grids for X0, X1, and Y values\n",
    "plt.pcolormesh(X0grid,X1grid,heatmap)\n",
    "plt.colorbar()"
   ]
  },
  {
   "cell_type": "code",
   "execution_count": null,
   "metadata": {},
   "outputs": [],
   "source": [
    "# plot data and heat map on same plot (data will be training data and heatmap will show results of machine learning)\n",
    "plt.plot(np.squeeze(X[0,idx_0]),np.squeeze(X[1,idx_0]),\"ro\",label=\"Training Data: Label=0\")\n",
    "plt.plot(np.squeeze(X[0,idx_1]),np.squeeze(X[1,idx_1]),\"bo\",label=\"Training Data: Label=1\")\n",
    "plt.pcolormesh(X0grid,X1grid,heatmap)\n",
    "plt.colorbar()\n",
    "plt.legend()"
   ]
  },
  {
   "cell_type": "code",
   "execution_count": null,
   "metadata": {},
   "outputs": [],
   "source": []
  }
 ],
 "metadata": {
  "kernelspec": {
   "display_name": "IntroML-env",
   "language": "python",
   "name": "introml-env"
  },
  "language_info": {
   "codemirror_mode": {
    "name": "ipython",
    "version": 3
   },
   "file_extension": ".py",
   "mimetype": "text/x-python",
   "name": "python",
   "nbconvert_exporter": "python",
   "pygments_lexer": "ipython3",
   "version": "3.7.1"
  }
 },
 "nbformat": 4,
 "nbformat_minor": 2
}
