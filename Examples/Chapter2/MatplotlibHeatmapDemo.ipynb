{
 "cells": [
  {
   "cell_type": "markdown",
   "metadata": {},
   "source": [
    "# Matplotlib - Heatmap\n",
    "Demo on prepararing a heatmap which will be used to visually review machine learning classification results"
   ]
  },
  {
   "cell_type": "code",
   "execution_count": null,
   "metadata": {},
   "outputs": [],
   "source": [
    "import numpy as np\n",
    "import matplotlib.pyplot as plt"
   ]
  },
  {
   "cell_type": "code",
   "execution_count": null,
   "metadata": {},
   "outputs": [],
   "source": [
    "# define function takes in X (0th row is X0 and 1st row is X1) and returns 0 and 1 vector\n",
    "def func_Y(X):\n",
    "    # generate function of 0 and 1: Y = 0 if X[0,:] + X1[1,:]-0.75<=0 and Y=1 if x0[0,:]+x1[1,:]-0.75>0\n",
    "    Y = (X[0,:] + X[1,:] - 0.75 > 0).astype(float)\n",
    "    # add axis so Y is row vector\n",
    "    Y = np.expand_dims(Y,axis=0)\n",
    "    return Y"
   ]
  },
  {
   "cell_type": "code",
   "execution_count": null,
   "metadata": {},
   "outputs": [],
   "source": [
    "# (1) set up training data randomly chosen from uniform distribution\n",
    "# X is 2d array of dimension (2,m), Y is 2d array of 0 or 1 of dimension (1,m)\n",
    "nfeature = 2\n",
    "m = 1000\n",
    "X = np.random.rand(nfeature,m)\n",
    "Y = func_Y(X)\n",
    "print(\"X.shape: {}\".format(X.shape))\n",
    "print(\"Y.shape: {}\".format(Y.shape))"
   ]
  },
  {
   "cell_type": "code",
   "execution_count": null,
   "metadata": {},
   "outputs": [],
   "source": [
    "# (2) plot training data\n",
    "# red = 0, 1 = blue, use np.where to determine index where Y = 0 and Y = 1\n",
    "idx_0 = np.where(np.squeeze(np.absolute(Y-0))<1e-10)\n",
    "idx_1 = np.where(np.squeeze(np.absolute(Y-1))<1e-10)\n",
    "plt.plot(np.squeeze(X[0,idx_0]),np.squeeze(X[1,idx_0]),\"ro\",label=\"Training Data: Label=0\")\n",
    "plt.plot(np.squeeze(X[0,idx_1]),np.squeeze(X[1,idx_1]),\"bo\",label=\"Training Data: Label=1\")"
   ]
  },
  {
   "cell_type": "markdown",
   "metadata": {},
   "source": [
    "## Meshgrid\n",
    "Use to create 2d grid of points in plane"
   ]
  },
  {
   "cell_type": "code",
   "execution_count": null,
   "metadata": {},
   "outputs": [],
   "source": [
    "# simple example points 0.25, 0.50, 0.75 in x0 and x1 directions\n",
    "npoints = 3\n",
    "# create 1d grids\n",
    "X0=np.linspace(1,3,npoints)\n",
    "X1=np.linspace(1,3,npoints)\n",
    "print(\"X0: {}\".format(X0))\n",
    "print(\"X1: {}\".format(X1))\n",
    "# create meshgrids\n",
    "X0grid,X1grid=np.meshgrid(X0,X1)\n",
    "print(\"x0grid: \\n{}\".format(X0grid))\n",
    "print(\"x1grid: \\n{}\".format(X1grid))\n",
    "# convert meshgrids into 1d grids\n",
    "X0reshape=np.reshape(X0grid,(1,npoints*npoints))\n",
    "X1reshape=np.reshape(X1grid,(1,npoints*npoints))\n",
    "print(\"x0reshape: {}\".format(X0reshape))\n",
    "print(\"x1reshape: {}\".format(X1reshape))"
   ]
  },
  {
   "cell_type": "markdown",
   "metadata": {},
   "source": [
    "## Heatmap\n",
    "Use pcolormesh function to create a heatmap"
   ]
  },
  {
   "cell_type": "code",
   "execution_count": null,
   "metadata": {},
   "outputs": [],
   "source": [
    "# create a heatmap\n",
    "npoints = 100\n",
    "# create 1d grids in x0 and x1 directions\n",
    "X0lin = np.linspace(0,1,npoints)\n",
    "X1lin = np.linspace(0,1,npoints)\n",
    "# create 2d grids for x0 and x1 and reshape into 1d grids \n",
    "X0grid,X1grid = np.meshgrid(X0lin,X1lin)\n",
    "# convert to 1d grids\n",
    "X0reshape = np.reshape(X0grid,(1,npoints*npoints))\n",
    "X1reshape = np.reshape(X1grid,(1,npoints*npoints))\n",
    "# Feature matrix is a 2d grid (2,npoints*npoints)\n",
    "Xmatrix = np.concatenate((X0reshape,X1reshape),axis=0)\n",
    "# compute Y\n",
    "Yout = func_Y(Xmatrix)\n",
    "# reshape Yout results into 2d grid and plot heatmap\n",
    "heatmap = np.reshape(Yout,(npoints,npoints))\n",
    "# heat map takes in 2d grids for X0, X1, and Y values\n",
    "plt.pcolormesh(X0grid,X1grid,heatmap)\n",
    "plt.colorbar()"
   ]
  },
  {
   "cell_type": "code",
   "execution_count": null,
   "metadata": {},
   "outputs": [],
   "source": [
    "# plot data and heat map on same plot (data will be training data and heatmap will show results of machine learning)\n",
    "plt.plot(np.squeeze(X[0,idx_0]),np.squeeze(X[1,idx_0]),\"ro\",label=\"Training Data: Label=0\")\n",
    "plt.plot(np.squeeze(X[0,idx_1]),np.squeeze(X[1,idx_1]),\"bo\",label=\"Training Data: Label=1\")\n",
    "plt.pcolormesh(X0grid,X1grid,heatmap)\n",
    "plt.colorbar()\n",
    "plt.legend()"
   ]
  },
  {
   "cell_type": "code",
   "execution_count": null,
   "metadata": {},
   "outputs": [],
   "source": []
  }
 ],
 "metadata": {
  "kernelspec": {
   "display_name": "IntroML-env",
   "language": "python",
   "name": "introml-env"
  },
  "language_info": {
   "codemirror_mode": {
    "name": "ipython",
    "version": 3
   },
   "file_extension": ".py",
   "mimetype": "text/x-python",
   "name": "python",
   "nbconvert_exporter": "python",
   "pygments_lexer": "ipython3",
   "version": "3.7.1"
  }
 },
 "nbformat": 4,
 "nbformat_minor": 2
}
