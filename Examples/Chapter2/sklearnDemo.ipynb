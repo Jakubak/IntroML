{
 "cells": [
  {
   "cell_type": "markdown",
   "metadata": {},
   "source": [
    "# sklearn Demo\n",
    "Demo of text processing functionality in sklearn"
   ]
  },
  {
   "cell_type": "code",
   "execution_count": null,
   "metadata": {},
   "outputs": [],
   "source": [
    "import numpy as np\n",
    "from sklearn.feature_extraction.text import CountVectorizer"
   ]
  },
  {
   "cell_type": "markdown",
   "metadata": {},
   "source": [
    "### Create messages\n",
    "List of 3 messages"
   ]
  },
  {
   "cell_type": "code",
   "execution_count": null,
   "metadata": {},
   "outputs": [],
   "source": [
    "#dataset\n",
    "list_message = [\"Call me soon\", \"CALL to win\", \"Pick me up soon\"]"
   ]
  },
  {
   "cell_type": "markdown",
   "metadata": {},
   "source": [
    "### Process text\n",
    "Create instance of Countvectorizer and process text"
   ]
  },
  {
   "cell_type": "code",
   "execution_count": null,
   "metadata": {},
   "outputs": [],
   "source": [
    "# Create instance of vectorizer\n",
    "vectorizer = CountVectorizer(decode_error=\"ignore\")\n",
    "# Perform word counts\n",
    "Xfit = vectorizer.fit_transform(list_message)\n",
    "# Generate feature matrix (transform so sample axis is along columns)\n",
    "X = Xfit.toarray().T\n",
    "print(\"X: \\n{}\".format(X))\n",
    "# list words in vocabulary (turn into numpy array)\n",
    "words = np.array(vectorizer.get_feature_names())\n",
    "print(\"Words: {}\".format(words))"
   ]
  },
  {
   "cell_type": "markdown",
   "metadata": {},
   "source": [
    "### Word Count\n",
    "Sum in col direction to get total count of words in all messages"
   ]
  },
  {
   "cell_type": "code",
   "execution_count": null,
   "metadata": {},
   "outputs": [],
   "source": [
    "totalcount = np.sum(X,axis=1,keepdims=True)\n",
    "print(\"totalcount: \\n{}\".format(totalcount))"
   ]
  },
  {
   "cell_type": "markdown",
   "metadata": {},
   "source": [
    "### argsort()"
   ]
  },
  {
   "cell_type": "code",
   "execution_count": null,
   "metadata": {},
   "outputs": [],
   "source": [
    "# x is numpy array\n",
    "x = np.array([1.1,0.1,4.1,5.2,4.1])\n",
    "print(\"x: {}\".format(x))"
   ]
  },
  {
   "cell_type": "code",
   "execution_count": null,
   "metadata": {},
   "outputs": [],
   "source": [
    "# indices of sorted entries in ascending order [1,0,2,4,3]\n",
    "# argsort gives indices of sorted entries in ascending order (choose lowest index first in case of ties)\n",
    "idx_ascending = np.argsort(x)\n",
    "print(\"Indices of entries sorted in ascending order: {}\".format(idx_ascending))"
   ]
  },
  {
   "cell_type": "code",
   "execution_count": null,
   "metadata": {},
   "outputs": [],
   "source": [
    "# indices of sorted entries in descending order [3,2,4,0,1]\n",
    "# argsort(-x) gives indcies of sorted entries in descending order (choose lowest index first in case of ties)\n",
    "idx_descending = np.argsort(-x)\n",
    "print(\"Indices of entries sorted in descending order: {}\".format(idx_descending))"
   ]
  },
  {
   "cell_type": "markdown",
   "metadata": {},
   "source": [
    "### Most Common Words\n",
    "Determine indices of most common words and list most common words"
   ]
  },
  {
   "cell_type": "code",
   "execution_count": null,
   "metadata": {},
   "outputs": [],
   "source": [
    "# get indices of most common words using argsort\n",
    "print(\"total count: {}\".format(np.squeeze(totalcount)))\n",
    "idx = np.argsort(-np.squeeze(totalcount))\n",
    "print(\"Sorted index of most common words: {}\".format(idx))"
   ]
  },
  {
   "cell_type": "code",
   "execution_count": null,
   "metadata": {},
   "outputs": [],
   "source": [
    "# determine 4 most common words\n",
    "nmostcommon = 4\n",
    "print(\"Words: {}\".format(words))\n",
    "idx = idx[:nmostcommon]\n",
    "print(\"Sorted index of {} most common words: {}\".format(nmostcommon,idx))\n",
    "wordsmostcommon = words[idx]\n",
    "print(\"nmostcommon=4 words: {}\".format(wordsmostcommon))"
   ]
  },
  {
   "cell_type": "code",
   "execution_count": null,
   "metadata": {},
   "outputs": [],
   "source": []
  }
 ],
 "metadata": {
  "kernelspec": {
   "display_name": "IntroML-env",
   "language": "python",
   "name": "introml-env"
  },
  "language_info": {
   "codemirror_mode": {
    "name": "ipython",
    "version": 3
   },
   "file_extension": ".py",
   "mimetype": "text/x-python",
   "name": "python",
   "nbconvert_exporter": "python",
   "pygments_lexer": "ipython3",
   "version": "3.7.1"
  }
 },
 "nbformat": 4,
 "nbformat_minor": 2
}
