{
 "cells": [
  {
   "cell_type": "markdown",
   "metadata": {},
   "source": [
    "# sklearn Demo\n",
    "Demo of text processing functionality in sklearn"
   ]
  },
  {
   "cell_type": "code",
   "execution_count": null,
   "metadata": {},
   "outputs": [],
   "source": [
    "import numpy as np\n",
    "from sklearn.feature_extraction.text import CountVectorizer"
   ]
  },
  {
   "cell_type": "markdown",
   "metadata": {},
   "source": [
    "### Create messages\n",
    "List of 3 messages"
   ]
  },
  {
   "cell_type": "code",
   "execution_count": null,
   "metadata": {},
   "outputs": [],
   "source": [
    "#dataset\n",
    "list_message = [\"Call me soon\", \"CALL to win\", \"Pick me up soon\"]"
   ]
  },
  {
   "cell_type": "markdown",
   "metadata": {},
   "source": [
    "### Process text\n",
    "Create instance of Countvectorizer and process text"
   ]
  },
  {
   "cell_type": "code",
   "execution_count": null,
   "metadata": {},
   "outputs": [],
   "source": [
    "# Create instance of vectorizer\n",
    "vectorizer = CountVectorizer(decode_error=\"ignore\")\n",
    "# Perform word counts\n",
    "Xfit = vectorizer.fit_transform(list_message)\n",
    "# Generate feature matrix (transform so sample axis is along columns)\n",
    "X = Xfit.toarray().T\n",
    "print(\"X: \\n{}\".format(X))\n",
    "# list words in vocabulary (turn into numpy array)\n",
    "vocabulary = np.array(vectorizer.get_feature_names())\n",
    "print(\"Vocabulary: {}\".format(vocabulary))"
   ]
  },
  {
   "cell_type": "markdown",
   "metadata": {},
   "source": [
    "### Word Count\n",
    "Sum in col direction to get total count of words in all messages"
   ]
  },
  {
   "cell_type": "code",
   "execution_count": null,
   "metadata": {},
   "outputs": [],
   "source": [
    "totalcount = np.sum(X,axis=1,keepdims=True)\n",
    "print(\"totalcount: \\n{}\".format(totalcount))"
   ]
  },
  {
   "cell_type": "markdown",
   "metadata": {},
   "source": [
    "### Most Common Words\n",
    "Determine indices of most common words and list most common words"
   ]
  },
  {
   "cell_type": "code",
   "execution_count": null,
   "metadata": {},
   "outputs": [],
   "source": [
    "# get indices of nmostcommon words using argsort\n",
    "nmostcommon = 4\n",
    "idx = np.argsort(-np.squeeze(totalcount))[:nmostcommon]\n",
    "print(\"Index of most common words: {}\".format(idx))\n",
    "print(\"Vocabulary: {}\".format(vocabulary))\n",
    "wordsmostcommon = vocabulary[idx]\n",
    "print(\"nmostcommon words: {}\".format(wordsmostcommon))"
   ]
  }
 ],
 "metadata": {
  "kernelspec": {
   "display_name": "IntroML-env",
   "language": "python",
   "name": "introml-env"
  },
  "language_info": {
   "codemirror_mode": {
    "name": "ipython",
    "version": 3
   },
   "file_extension": ".py",
   "mimetype": "text/x-python",
   "name": "python",
   "nbconvert_exporter": "python",
   "pygments_lexer": "ipython3",
   "version": "3.7.1"
  }
 },
 "nbformat": 4,
 "nbformat_minor": 2
}
