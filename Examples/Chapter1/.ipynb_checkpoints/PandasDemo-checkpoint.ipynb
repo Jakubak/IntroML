{
 "cells": [
  {
   "cell_type": "markdown",
   "metadata": {},
   "source": [
    "# Pandas Demo"
   ]
  },
  {
   "cell_type": "markdown",
   "metadata": {},
   "source": [
    "## Series\n",
    "A **Series** is similar to a numpy array but it can have axis labels so it can be accessed by a label. For more information about Series, click [here](https://pandas.pydata.org/pandas-docs/stable/reference/api/pandas.Series.html) to check out the Pandas documentation."
   ]
  },
  {
   "cell_type": "code",
   "execution_count": 103,
   "metadata": {},
   "outputs": [],
   "source": [
    "import pandas as pd\n",
    "import numpy as np"
   ]
  },
  {
   "cell_type": "code",
   "execution_count": 104,
   "metadata": {},
   "outputs": [
    {
     "data": {
      "text/plain": [
       "Jamie       25\n",
       "John        32\n",
       "Anna        19\n",
       "Isabelle    36\n",
       "dtype: int64"
      ]
     },
     "execution_count": 104,
     "metadata": {},
     "output_type": "execute_result"
    }
   ],
   "source": [
    "# initialize a Series object with custom index labels\n",
    "labels = ['Jamie', 'John', 'Anna', 'Isabelle']\n",
    "age_list = [25, 32, 19, 36]\n",
    "age_series = pd.Series(data=age_list, index=labels)\n",
    "\n",
    "age_series"
   ]
  },
  {
   "cell_type": "code",
   "execution_count": 105,
   "metadata": {},
   "outputs": [
    {
     "data": {
      "text/plain": [
       "0    25\n",
       "1    32\n",
       "2    19\n",
       "3    36\n",
       "dtype: int64"
      ]
     },
     "execution_count": 105,
     "metadata": {},
     "output_type": "execute_result"
    }
   ],
   "source": [
    "# initialize a Series object with default index labels\n",
    "age_series_default = pd.Series(data=age_list)\n",
    "\n",
    "age_series_default"
   ]
  },
  {
   "cell_type": "code",
   "execution_count": 106,
   "metadata": {},
   "outputs": [
    {
     "data": {
      "text/plain": [
       "0    25\n",
       "1    32\n",
       "2    19\n",
       "3    36\n",
       "dtype: int64"
      ]
     },
     "execution_count": 106,
     "metadata": {},
     "output_type": "execute_result"
    }
   ],
   "source": [
    "# initialize a Series object using a numpy array as data\n",
    "age_series_np = pd.Series(data=np.array(age_list))\n",
    "\n",
    "age_series_np"
   ]
  },
  {
   "cell_type": "code",
   "execution_count": 107,
   "metadata": {},
   "outputs": [
    {
     "data": {
      "text/plain": [
       "Jamie       25\n",
       "John        32\n",
       "Anna        19\n",
       "Isabelle    36\n",
       "dtype: int64"
      ]
     },
     "execution_count": 107,
     "metadata": {},
     "output_type": "execute_result"
    }
   ],
   "source": [
    "# initialize a Series object using a dictionary, keys are index and values are data\n",
    "my_dict = {'Jamie': 25, 'John': 32, 'Anna': 19, 'Isabelle': 36}\n",
    "age_series_dict = pd.Series(my_dict)\n",
    "\n",
    "age_series_dict"
   ]
  },
  {
   "cell_type": "code",
   "execution_count": 108,
   "metadata": {},
   "outputs": [
    {
     "data": {
      "text/plain": [
       "32"
      ]
     },
     "execution_count": 108,
     "metadata": {},
     "output_type": "execute_result"
    }
   ],
   "source": [
    "# retrieve data using index\n",
    "age_series_dict['John']"
   ]
  },
  {
   "cell_type": "markdown",
   "metadata": {},
   "source": [
    "## DataFrames\n",
    "**DataFrames** are data structures for working with tabular data. For more information about DataFrames, click [here](https://pandas.pydata.org/pandas-docs/stable/reference/api/pandas.DataFrame.html) to check out the Pandas documentation.\n"
   ]
  },
  {
   "cell_type": "code",
   "execution_count": 109,
   "metadata": {},
   "outputs": [
    {
     "data": {
      "text/html": [
       "<div>\n",
       "<style scoped>\n",
       "    .dataframe tbody tr th:only-of-type {\n",
       "        vertical-align: middle;\n",
       "    }\n",
       "\n",
       "    .dataframe tbody tr th {\n",
       "        vertical-align: top;\n",
       "    }\n",
       "\n",
       "    .dataframe thead th {\n",
       "        text-align: right;\n",
       "    }\n",
       "</style>\n",
       "<table border=\"1\" class=\"dataframe\">\n",
       "  <thead>\n",
       "    <tr style=\"text-align: right;\">\n",
       "      <th></th>\n",
       "      <th>col 1</th>\n",
       "      <th>col 2</th>\n",
       "      <th>col 3</th>\n",
       "    </tr>\n",
       "  </thead>\n",
       "  <tbody>\n",
       "    <tr>\n",
       "      <th>row 1</th>\n",
       "      <td>1.331587</td>\n",
       "      <td>0.715279</td>\n",
       "      <td>-1.545400</td>\n",
       "    </tr>\n",
       "    <tr>\n",
       "      <th>row 2</th>\n",
       "      <td>-0.008384</td>\n",
       "      <td>0.621336</td>\n",
       "      <td>-0.720086</td>\n",
       "    </tr>\n",
       "    <tr>\n",
       "      <th>row 3</th>\n",
       "      <td>0.265512</td>\n",
       "      <td>0.108549</td>\n",
       "      <td>0.004291</td>\n",
       "    </tr>\n",
       "    <tr>\n",
       "      <th>row 4</th>\n",
       "      <td>-0.174600</td>\n",
       "      <td>0.433026</td>\n",
       "      <td>1.203037</td>\n",
       "    </tr>\n",
       "  </tbody>\n",
       "</table>\n",
       "</div>"
      ],
      "text/plain": [
       "          col 1     col 2     col 3\n",
       "row 1  1.331587  0.715279 -1.545400\n",
       "row 2 -0.008384  0.621336 -0.720086\n",
       "row 3  0.265512  0.108549  0.004291\n",
       "row 4 -0.174600  0.433026  1.203037"
      ]
     },
     "execution_count": 109,
     "metadata": {},
     "output_type": "execute_result"
    }
   ],
   "source": [
    "# set seed first for reproducibility\n",
    "np.random.seed(10)\n",
    "\n",
    "# generate random matrix  dim (4,3) - normal distribution\n",
    "Rnormal = np.random.randn(4,3)\n",
    "\n",
    "# initialize a DataFrame object with custom index and column names\n",
    "my_df = pd.DataFrame(data=Rnormal, \n",
    "                     index=['row 1', 'row 2', 'row 3', 'row 4'], \n",
    "                     columns=['col 1', 'col 2', 'col 3'])\n",
    "\n",
    "my_df"
   ]
  },
  {
   "cell_type": "code",
   "execution_count": 110,
   "metadata": {},
   "outputs": [
    {
     "data": {
      "text/html": [
       "<div>\n",
       "<style scoped>\n",
       "    .dataframe tbody tr th:only-of-type {\n",
       "        vertical-align: middle;\n",
       "    }\n",
       "\n",
       "    .dataframe tbody tr th {\n",
       "        vertical-align: top;\n",
       "    }\n",
       "\n",
       "    .dataframe thead th {\n",
       "        text-align: right;\n",
       "    }\n",
       "</style>\n",
       "<table border=\"1\" class=\"dataframe\">\n",
       "  <thead>\n",
       "    <tr style=\"text-align: right;\">\n",
       "      <th></th>\n",
       "      <th>col 1</th>\n",
       "      <th>col 2</th>\n",
       "      <th>col 3</th>\n",
       "    </tr>\n",
       "  </thead>\n",
       "  <tbody>\n",
       "    <tr>\n",
       "      <th>row 1</th>\n",
       "      <td>1.331587</td>\n",
       "      <td>0.715279</td>\n",
       "      <td>-1.545400</td>\n",
       "    </tr>\n",
       "    <tr>\n",
       "      <th>row 2</th>\n",
       "      <td>-0.008384</td>\n",
       "      <td>0.621336</td>\n",
       "      <td>-0.720086</td>\n",
       "    </tr>\n",
       "  </tbody>\n",
       "</table>\n",
       "</div>"
      ],
      "text/plain": [
       "          col 1     col 2     col 3\n",
       "row 1  1.331587  0.715279 -1.545400\n",
       "row 2 -0.008384  0.621336 -0.720086"
      ]
     },
     "execution_count": 110,
     "metadata": {},
     "output_type": "execute_result"
    }
   ],
   "source": [
    "# print first 2 rows\n",
    "my_df.head(2)"
   ]
  },
  {
   "cell_type": "code",
   "execution_count": 111,
   "metadata": {},
   "outputs": [
    {
     "data": {
      "text/html": [
       "<div>\n",
       "<style scoped>\n",
       "    .dataframe tbody tr th:only-of-type {\n",
       "        vertical-align: middle;\n",
       "    }\n",
       "\n",
       "    .dataframe tbody tr th {\n",
       "        vertical-align: top;\n",
       "    }\n",
       "\n",
       "    .dataframe thead th {\n",
       "        text-align: right;\n",
       "    }\n",
       "</style>\n",
       "<table border=\"1\" class=\"dataframe\">\n",
       "  <thead>\n",
       "    <tr style=\"text-align: right;\">\n",
       "      <th></th>\n",
       "      <th>col 1</th>\n",
       "      <th>col 2</th>\n",
       "      <th>col 3</th>\n",
       "    </tr>\n",
       "  </thead>\n",
       "  <tbody>\n",
       "    <tr>\n",
       "      <th>row 3</th>\n",
       "      <td>0.265512</td>\n",
       "      <td>0.108549</td>\n",
       "      <td>0.004291</td>\n",
       "    </tr>\n",
       "    <tr>\n",
       "      <th>row 4</th>\n",
       "      <td>-0.174600</td>\n",
       "      <td>0.433026</td>\n",
       "      <td>1.203037</td>\n",
       "    </tr>\n",
       "  </tbody>\n",
       "</table>\n",
       "</div>"
      ],
      "text/plain": [
       "          col 1     col 2     col 3\n",
       "row 3  0.265512  0.108549  0.004291\n",
       "row 4 -0.174600  0.433026  1.203037"
      ]
     },
     "execution_count": 111,
     "metadata": {},
     "output_type": "execute_result"
    }
   ],
   "source": [
    "# print last 2 rows\n",
    "my_df.tail(2)"
   ]
  },
  {
   "cell_type": "code",
   "execution_count": 112,
   "metadata": {},
   "outputs": [
    {
     "data": {
      "text/plain": [
       "row 1    0.715279\n",
       "row 2    0.621336\n",
       "row 3    0.108549\n",
       "row 4    0.433026\n",
       "Name: col 2, dtype: float64"
      ]
     },
     "execution_count": 112,
     "metadata": {},
     "output_type": "execute_result"
    }
   ],
   "source": [
    "# index DataFrame by column\n",
    "my_df['col 2']"
   ]
  },
  {
   "cell_type": "code",
   "execution_count": 113,
   "metadata": {},
   "outputs": [
    {
     "data": {
      "text/plain": [
       "array([0.71527897, 0.62133597, 0.10854853, 0.43302619])"
      ]
     },
     "execution_count": 113,
     "metadata": {},
     "output_type": "execute_result"
    }
   ],
   "source": [
    "# obtain data without index\n",
    "my_df['col 2'].values"
   ]
  },
  {
   "cell_type": "code",
   "execution_count": 114,
   "metadata": {},
   "outputs": [
    {
     "data": {
      "text/html": [
       "<div>\n",
       "<style scoped>\n",
       "    .dataframe tbody tr th:only-of-type {\n",
       "        vertical-align: middle;\n",
       "    }\n",
       "\n",
       "    .dataframe tbody tr th {\n",
       "        vertical-align: top;\n",
       "    }\n",
       "\n",
       "    .dataframe thead th {\n",
       "        text-align: right;\n",
       "    }\n",
       "</style>\n",
       "<table border=\"1\" class=\"dataframe\">\n",
       "  <thead>\n",
       "    <tr style=\"text-align: right;\">\n",
       "      <th></th>\n",
       "      <th>col 1</th>\n",
       "      <th>col 3</th>\n",
       "    </tr>\n",
       "  </thead>\n",
       "  <tbody>\n",
       "    <tr>\n",
       "      <th>row 1</th>\n",
       "      <td>1.331587</td>\n",
       "      <td>-1.545400</td>\n",
       "    </tr>\n",
       "    <tr>\n",
       "      <th>row 2</th>\n",
       "      <td>-0.008384</td>\n",
       "      <td>-0.720086</td>\n",
       "    </tr>\n",
       "    <tr>\n",
       "      <th>row 3</th>\n",
       "      <td>0.265512</td>\n",
       "      <td>0.004291</td>\n",
       "    </tr>\n",
       "    <tr>\n",
       "      <th>row 4</th>\n",
       "      <td>-0.174600</td>\n",
       "      <td>1.203037</td>\n",
       "    </tr>\n",
       "  </tbody>\n",
       "</table>\n",
       "</div>"
      ],
      "text/plain": [
       "          col 1     col 3\n",
       "row 1  1.331587 -1.545400\n",
       "row 2 -0.008384 -0.720086\n",
       "row 3  0.265512  0.004291\n",
       "row 4 -0.174600  1.203037"
      ]
     },
     "execution_count": 114,
     "metadata": {},
     "output_type": "execute_result"
    }
   ],
   "source": [
    "# index DataFrame by columns\n",
    "my_df[['col 1', 'col 3']]"
   ]
  },
  {
   "cell_type": "code",
   "execution_count": 115,
   "metadata": {},
   "outputs": [
    {
     "data": {
      "text/plain": [
       "col 1    1.331587\n",
       "col 2    0.715279\n",
       "col 3   -1.545400\n",
       "Name: row 1, dtype: float64"
      ]
     },
     "execution_count": 115,
     "metadata": {},
     "output_type": "execute_result"
    }
   ],
   "source": [
    "# index DataFrame by row name\n",
    "my_df.loc['row 1']"
   ]
  },
  {
   "cell_type": "code",
   "execution_count": 116,
   "metadata": {},
   "outputs": [
    {
     "data": {
      "text/html": [
       "<div>\n",
       "<style scoped>\n",
       "    .dataframe tbody tr th:only-of-type {\n",
       "        vertical-align: middle;\n",
       "    }\n",
       "\n",
       "    .dataframe tbody tr th {\n",
       "        vertical-align: top;\n",
       "    }\n",
       "\n",
       "    .dataframe thead th {\n",
       "        text-align: right;\n",
       "    }\n",
       "</style>\n",
       "<table border=\"1\" class=\"dataframe\">\n",
       "  <thead>\n",
       "    <tr style=\"text-align: right;\">\n",
       "      <th></th>\n",
       "      <th>col 1</th>\n",
       "      <th>col 2</th>\n",
       "      <th>col 3</th>\n",
       "    </tr>\n",
       "  </thead>\n",
       "  <tbody>\n",
       "    <tr>\n",
       "      <th>row 1</th>\n",
       "      <td>1.331587</td>\n",
       "      <td>0.715279</td>\n",
       "      <td>-1.545400</td>\n",
       "    </tr>\n",
       "    <tr>\n",
       "      <th>row 4</th>\n",
       "      <td>-0.174600</td>\n",
       "      <td>0.433026</td>\n",
       "      <td>1.203037</td>\n",
       "    </tr>\n",
       "  </tbody>\n",
       "</table>\n",
       "</div>"
      ],
      "text/plain": [
       "          col 1     col 2     col 3\n",
       "row 1  1.331587  0.715279 -1.545400\n",
       "row 4 -0.174600  0.433026  1.203037"
      ]
     },
     "execution_count": 116,
     "metadata": {},
     "output_type": "execute_result"
    }
   ],
   "source": [
    "# index DataFrame by rows\n",
    "my_df.loc[['row 1', 'row 4']]"
   ]
  },
  {
   "cell_type": "code",
   "execution_count": 117,
   "metadata": {},
   "outputs": [
    {
     "data": {
      "text/plain": [
       "col 1    1.331587\n",
       "col 2    0.715279\n",
       "col 3   -1.545400\n",
       "Name: row 1, dtype: float64"
      ]
     },
     "execution_count": 117,
     "metadata": {},
     "output_type": "execute_result"
    }
   ],
   "source": [
    "# index DataFrame by row number\n",
    "my_df.iloc[0]"
   ]
  },
  {
   "cell_type": "code",
   "execution_count": 118,
   "metadata": {},
   "outputs": [
    {
     "data": {
      "text/plain": [
       "0.7152789743984055"
      ]
     },
     "execution_count": 118,
     "metadata": {},
     "output_type": "execute_result"
    }
   ],
   "source": [
    "# index DataFrame by row and column name\n",
    "my_df.loc['row 1', 'col 2']"
   ]
  },
  {
   "cell_type": "code",
   "execution_count": 119,
   "metadata": {},
   "outputs": [
    {
     "data": {
      "text/plain": [
       "0.7152789743984055"
      ]
     },
     "execution_count": 119,
     "metadata": {},
     "output_type": "execute_result"
    }
   ],
   "source": [
    "# index DataFrame by row and column number\n",
    "my_df.iloc[0, 1]"
   ]
  },
  {
   "cell_type": "code",
   "execution_count": 120,
   "metadata": {},
   "outputs": [
    {
     "data": {
      "text/html": [
       "<div>\n",
       "<style scoped>\n",
       "    .dataframe tbody tr th:only-of-type {\n",
       "        vertical-align: middle;\n",
       "    }\n",
       "\n",
       "    .dataframe tbody tr th {\n",
       "        vertical-align: top;\n",
       "    }\n",
       "\n",
       "    .dataframe thead th {\n",
       "        text-align: right;\n",
       "    }\n",
       "</style>\n",
       "<table border=\"1\" class=\"dataframe\">\n",
       "  <thead>\n",
       "    <tr style=\"text-align: right;\">\n",
       "      <th></th>\n",
       "      <th>col 2</th>\n",
       "      <th>col 3</th>\n",
       "    </tr>\n",
       "  </thead>\n",
       "  <tbody>\n",
       "    <tr>\n",
       "      <th>row 1</th>\n",
       "      <td>0.715279</td>\n",
       "      <td>-1.545400</td>\n",
       "    </tr>\n",
       "    <tr>\n",
       "      <th>row 2</th>\n",
       "      <td>0.621336</td>\n",
       "      <td>-0.720086</td>\n",
       "    </tr>\n",
       "    <tr>\n",
       "      <th>row 3</th>\n",
       "      <td>0.108549</td>\n",
       "      <td>0.004291</td>\n",
       "    </tr>\n",
       "    <tr>\n",
       "      <th>row 4</th>\n",
       "      <td>0.433026</td>\n",
       "      <td>1.203037</td>\n",
       "    </tr>\n",
       "  </tbody>\n",
       "</table>\n",
       "</div>"
      ],
      "text/plain": [
       "          col 2     col 3\n",
       "row 1  0.715279 -1.545400\n",
       "row 2  0.621336 -0.720086\n",
       "row 3  0.108549  0.004291\n",
       "row 4  0.433026  1.203037"
      ]
     },
     "execution_count": 120,
     "metadata": {},
     "output_type": "execute_result"
    }
   ],
   "source": [
    "# remove a column\n",
    "my_df2 = my_df.drop(labels='col 1', axis=1)\n",
    "\n",
    "my_df2"
   ]
  },
  {
   "cell_type": "code",
   "execution_count": 121,
   "metadata": {},
   "outputs": [
    {
     "data": {
      "text/html": [
       "<div>\n",
       "<style scoped>\n",
       "    .dataframe tbody tr th:only-of-type {\n",
       "        vertical-align: middle;\n",
       "    }\n",
       "\n",
       "    .dataframe tbody tr th {\n",
       "        vertical-align: top;\n",
       "    }\n",
       "\n",
       "    .dataframe thead th {\n",
       "        text-align: right;\n",
       "    }\n",
       "</style>\n",
       "<table border=\"1\" class=\"dataframe\">\n",
       "  <thead>\n",
       "    <tr style=\"text-align: right;\">\n",
       "      <th></th>\n",
       "      <th>col 2</th>\n",
       "    </tr>\n",
       "  </thead>\n",
       "  <tbody>\n",
       "    <tr>\n",
       "      <th>row 1</th>\n",
       "      <td>0.715279</td>\n",
       "    </tr>\n",
       "    <tr>\n",
       "      <th>row 2</th>\n",
       "      <td>0.621336</td>\n",
       "    </tr>\n",
       "    <tr>\n",
       "      <th>row 3</th>\n",
       "      <td>0.108549</td>\n",
       "    </tr>\n",
       "    <tr>\n",
       "      <th>row 4</th>\n",
       "      <td>0.433026</td>\n",
       "    </tr>\n",
       "  </tbody>\n",
       "</table>\n",
       "</div>"
      ],
      "text/plain": [
       "          col 2\n",
       "row 1  0.715279\n",
       "row 2  0.621336\n",
       "row 3  0.108549\n",
       "row 4  0.433026"
      ]
     },
     "execution_count": 121,
     "metadata": {},
     "output_type": "execute_result"
    }
   ],
   "source": [
    "# remove multiple columns\n",
    "my_df3 = my_df.drop(labels=['col 1', 'col 3'], axis=1)\n",
    "\n",
    "my_df3"
   ]
  },
  {
   "cell_type": "code",
   "execution_count": 122,
   "metadata": {},
   "outputs": [],
   "source": [
    "# remove column in place without assigning result to a new variable\n",
    "my_df2.drop(labels='col 2', axis=1, inplace=True)"
   ]
  },
  {
   "cell_type": "code",
   "execution_count": 123,
   "metadata": {},
   "outputs": [
    {
     "data": {
      "text/html": [
       "<div>\n",
       "<style scoped>\n",
       "    .dataframe tbody tr th:only-of-type {\n",
       "        vertical-align: middle;\n",
       "    }\n",
       "\n",
       "    .dataframe tbody tr th {\n",
       "        vertical-align: top;\n",
       "    }\n",
       "\n",
       "    .dataframe thead th {\n",
       "        text-align: right;\n",
       "    }\n",
       "</style>\n",
       "<table border=\"1\" class=\"dataframe\">\n",
       "  <thead>\n",
       "    <tr style=\"text-align: right;\">\n",
       "      <th></th>\n",
       "      <th>col 3</th>\n",
       "    </tr>\n",
       "  </thead>\n",
       "  <tbody>\n",
       "    <tr>\n",
       "      <th>row 1</th>\n",
       "      <td>-1.545400</td>\n",
       "    </tr>\n",
       "    <tr>\n",
       "      <th>row 2</th>\n",
       "      <td>-0.720086</td>\n",
       "    </tr>\n",
       "    <tr>\n",
       "      <th>row 3</th>\n",
       "      <td>0.004291</td>\n",
       "    </tr>\n",
       "    <tr>\n",
       "      <th>row 4</th>\n",
       "      <td>1.203037</td>\n",
       "    </tr>\n",
       "  </tbody>\n",
       "</table>\n",
       "</div>"
      ],
      "text/plain": [
       "          col 3\n",
       "row 1 -1.545400\n",
       "row 2 -0.720086\n",
       "row 3  0.004291\n",
       "row 4  1.203037"
      ]
     },
     "execution_count": 123,
     "metadata": {},
     "output_type": "execute_result"
    }
   ],
   "source": [
    "my_df2"
   ]
  },
  {
   "cell_type": "code",
   "execution_count": 124,
   "metadata": {},
   "outputs": [
    {
     "data": {
      "text/html": [
       "<div>\n",
       "<style scoped>\n",
       "    .dataframe tbody tr th:only-of-type {\n",
       "        vertical-align: middle;\n",
       "    }\n",
       "\n",
       "    .dataframe tbody tr th {\n",
       "        vertical-align: top;\n",
       "    }\n",
       "\n",
       "    .dataframe thead th {\n",
       "        text-align: right;\n",
       "    }\n",
       "</style>\n",
       "<table border=\"1\" class=\"dataframe\">\n",
       "  <thead>\n",
       "    <tr style=\"text-align: right;\">\n",
       "      <th></th>\n",
       "      <th>col 1</th>\n",
       "      <th>col 2</th>\n",
       "      <th>col 3</th>\n",
       "    </tr>\n",
       "  </thead>\n",
       "  <tbody>\n",
       "    <tr>\n",
       "      <th>row 1</th>\n",
       "      <td>1.331587</td>\n",
       "      <td>0.715279</td>\n",
       "      <td>-1.545400</td>\n",
       "    </tr>\n",
       "    <tr>\n",
       "      <th>row 3</th>\n",
       "      <td>0.265512</td>\n",
       "      <td>0.108549</td>\n",
       "      <td>0.004291</td>\n",
       "    </tr>\n",
       "    <tr>\n",
       "      <th>row 4</th>\n",
       "      <td>-0.174600</td>\n",
       "      <td>0.433026</td>\n",
       "      <td>1.203037</td>\n",
       "    </tr>\n",
       "  </tbody>\n",
       "</table>\n",
       "</div>"
      ],
      "text/plain": [
       "          col 1     col 2     col 3\n",
       "row 1  1.331587  0.715279 -1.545400\n",
       "row 3  0.265512  0.108549  0.004291\n",
       "row 4 -0.174600  0.433026  1.203037"
      ]
     },
     "execution_count": 124,
     "metadata": {},
     "output_type": "execute_result"
    }
   ],
   "source": [
    "# remove a row\n",
    "my_df4 = my_df.drop(labels='row 2', axis=0)\n",
    "\n",
    "my_df4"
   ]
  },
  {
   "cell_type": "code",
   "execution_count": 125,
   "metadata": {},
   "outputs": [
    {
     "data": {
      "text/html": [
       "<div>\n",
       "<style scoped>\n",
       "    .dataframe tbody tr th:only-of-type {\n",
       "        vertical-align: middle;\n",
       "    }\n",
       "\n",
       "    .dataframe tbody tr th {\n",
       "        vertical-align: top;\n",
       "    }\n",
       "\n",
       "    .dataframe thead th {\n",
       "        text-align: right;\n",
       "    }\n",
       "</style>\n",
       "<table border=\"1\" class=\"dataframe\">\n",
       "  <thead>\n",
       "    <tr style=\"text-align: right;\">\n",
       "      <th></th>\n",
       "      <th>col 1</th>\n",
       "      <th>col 2</th>\n",
       "      <th>col 3</th>\n",
       "      <th>new column</th>\n",
       "    </tr>\n",
       "  </thead>\n",
       "  <tbody>\n",
       "    <tr>\n",
       "      <th>row 1</th>\n",
       "      <td>1.331587</td>\n",
       "      <td>0.715279</td>\n",
       "      <td>-1.545400</td>\n",
       "      <td>2.663173</td>\n",
       "    </tr>\n",
       "    <tr>\n",
       "      <th>row 2</th>\n",
       "      <td>-0.008384</td>\n",
       "      <td>0.621336</td>\n",
       "      <td>-0.720086</td>\n",
       "      <td>-0.016768</td>\n",
       "    </tr>\n",
       "    <tr>\n",
       "      <th>row 3</th>\n",
       "      <td>0.265512</td>\n",
       "      <td>0.108549</td>\n",
       "      <td>0.004291</td>\n",
       "      <td>0.531023</td>\n",
       "    </tr>\n",
       "    <tr>\n",
       "      <th>row 4</th>\n",
       "      <td>-0.174600</td>\n",
       "      <td>0.433026</td>\n",
       "      <td>1.203037</td>\n",
       "      <td>-0.349200</td>\n",
       "    </tr>\n",
       "  </tbody>\n",
       "</table>\n",
       "</div>"
      ],
      "text/plain": [
       "          col 1     col 2     col 3  new column\n",
       "row 1  1.331587  0.715279 -1.545400    2.663173\n",
       "row 2 -0.008384  0.621336 -0.720086   -0.016768\n",
       "row 3  0.265512  0.108549  0.004291    0.531023\n",
       "row 4 -0.174600  0.433026  1.203037   -0.349200"
      ]
     },
     "execution_count": 125,
     "metadata": {},
     "output_type": "execute_result"
    }
   ],
   "source": [
    "# create a new columnn\n",
    "my_df['new column'] = my_df['col 1'] * 2\n",
    "\n",
    "my_df"
   ]
  },
  {
   "cell_type": "code",
   "execution_count": 126,
   "metadata": {},
   "outputs": [
    {
     "data": {
      "text/html": [
       "<div>\n",
       "<style scoped>\n",
       "    .dataframe tbody tr th:only-of-type {\n",
       "        vertical-align: middle;\n",
       "    }\n",
       "\n",
       "    .dataframe tbody tr th {\n",
       "        vertical-align: top;\n",
       "    }\n",
       "\n",
       "    .dataframe thead th {\n",
       "        text-align: right;\n",
       "    }\n",
       "</style>\n",
       "<table border=\"1\" class=\"dataframe\">\n",
       "  <thead>\n",
       "    <tr style=\"text-align: right;\">\n",
       "      <th></th>\n",
       "      <th>col 1</th>\n",
       "      <th>col 2</th>\n",
       "      <th>col 3</th>\n",
       "      <th>new column</th>\n",
       "      <th>new column2</th>\n",
       "    </tr>\n",
       "  </thead>\n",
       "  <tbody>\n",
       "    <tr>\n",
       "      <th>row 1</th>\n",
       "      <td>1.331587</td>\n",
       "      <td>0.715279</td>\n",
       "      <td>-1.545400</td>\n",
       "      <td>2.663173</td>\n",
       "      <td>2.046865</td>\n",
       "    </tr>\n",
       "    <tr>\n",
       "      <th>row 2</th>\n",
       "      <td>-0.008384</td>\n",
       "      <td>0.621336</td>\n",
       "      <td>-0.720086</td>\n",
       "      <td>-0.016768</td>\n",
       "      <td>0.612952</td>\n",
       "    </tr>\n",
       "    <tr>\n",
       "      <th>row 3</th>\n",
       "      <td>0.265512</td>\n",
       "      <td>0.108549</td>\n",
       "      <td>0.004291</td>\n",
       "      <td>0.531023</td>\n",
       "      <td>0.374060</td>\n",
       "    </tr>\n",
       "    <tr>\n",
       "      <th>row 4</th>\n",
       "      <td>-0.174600</td>\n",
       "      <td>0.433026</td>\n",
       "      <td>1.203037</td>\n",
       "      <td>-0.349200</td>\n",
       "      <td>0.258426</td>\n",
       "    </tr>\n",
       "  </tbody>\n",
       "</table>\n",
       "</div>"
      ],
      "text/plain": [
       "          col 1     col 2     col 3  new column  new column2\n",
       "row 1  1.331587  0.715279 -1.545400    2.663173     2.046865\n",
       "row 2 -0.008384  0.621336 -0.720086   -0.016768     0.612952\n",
       "row 3  0.265512  0.108549  0.004291    0.531023     0.374060\n",
       "row 4 -0.174600  0.433026  1.203037   -0.349200     0.258426"
      ]
     },
     "execution_count": 126,
     "metadata": {},
     "output_type": "execute_result"
    }
   ],
   "source": [
    "# create a new columnn\n",
    "my_df['new column2'] = my_df['col 1'] + my_df['col 2']\n",
    "\n",
    "my_df"
   ]
  },
  {
   "cell_type": "code",
   "execution_count": 127,
   "metadata": {},
   "outputs": [
    {
     "data": {
      "text/html": [
       "<div>\n",
       "<style scoped>\n",
       "    .dataframe tbody tr th:only-of-type {\n",
       "        vertical-align: middle;\n",
       "    }\n",
       "\n",
       "    .dataframe tbody tr th {\n",
       "        vertical-align: top;\n",
       "    }\n",
       "\n",
       "    .dataframe thead th {\n",
       "        text-align: right;\n",
       "    }\n",
       "</style>\n",
       "<table border=\"1\" class=\"dataframe\">\n",
       "  <thead>\n",
       "    <tr style=\"text-align: right;\">\n",
       "      <th></th>\n",
       "      <th>col 1</th>\n",
       "      <th>col 2</th>\n",
       "      <th>col 3</th>\n",
       "      <th>new column</th>\n",
       "      <th>new column2</th>\n",
       "    </tr>\n",
       "  </thead>\n",
       "  <tbody>\n",
       "    <tr>\n",
       "      <th>row 3</th>\n",
       "      <td>0.265512</td>\n",
       "      <td>0.108549</td>\n",
       "      <td>0.004291</td>\n",
       "      <td>0.531023</td>\n",
       "      <td>0.374060</td>\n",
       "    </tr>\n",
       "    <tr>\n",
       "      <th>row 4</th>\n",
       "      <td>-0.174600</td>\n",
       "      <td>0.433026</td>\n",
       "      <td>1.203037</td>\n",
       "      <td>-0.349200</td>\n",
       "      <td>0.258426</td>\n",
       "    </tr>\n",
       "  </tbody>\n",
       "</table>\n",
       "</div>"
      ],
      "text/plain": [
       "          col 1     col 2     col 3  new column  new column2\n",
       "row 3  0.265512  0.108549  0.004291    0.531023     0.374060\n",
       "row 4 -0.174600  0.433026  1.203037   -0.349200     0.258426"
      ]
     },
     "execution_count": 127,
     "metadata": {},
     "output_type": "execute_result"
    }
   ],
   "source": [
    "# logical indexing\n",
    "# retrieve subset of DataFrame where col 3 is greater than 0\n",
    "my_df_subset = my_df[my_df['col 3'] > 0] \n",
    "\n",
    "my_df_subset"
   ]
  },
  {
   "cell_type": "code",
   "execution_count": 128,
   "metadata": {},
   "outputs": [
    {
     "data": {
      "text/plain": [
       "row 3    0.108549\n",
       "row 4    0.433026\n",
       "Name: col 2, dtype: float64"
      ]
     },
     "execution_count": 128,
     "metadata": {},
     "output_type": "execute_result"
    }
   ],
   "source": [
    "# retrieve subset of DataFrame's second column where col 3 is greater than 0\n",
    "my_df_subset = my_df[my_df['col 3'] > 0]['col 2']\n",
    "\n",
    "my_df_subset"
   ]
  },
  {
   "cell_type": "code",
   "execution_count": 129,
   "metadata": {},
   "outputs": [
    {
     "data": {
      "text/html": [
       "<div>\n",
       "<style scoped>\n",
       "    .dataframe tbody tr th:only-of-type {\n",
       "        vertical-align: middle;\n",
       "    }\n",
       "\n",
       "    .dataframe tbody tr th {\n",
       "        vertical-align: top;\n",
       "    }\n",
       "\n",
       "    .dataframe thead th {\n",
       "        text-align: right;\n",
       "    }\n",
       "</style>\n",
       "<table border=\"1\" class=\"dataframe\">\n",
       "  <thead>\n",
       "    <tr style=\"text-align: right;\">\n",
       "      <th></th>\n",
       "      <th>col 1</th>\n",
       "      <th>col 2</th>\n",
       "      <th>col 3</th>\n",
       "      <th>new column</th>\n",
       "      <th>new column2</th>\n",
       "    </tr>\n",
       "  </thead>\n",
       "  <tbody>\n",
       "    <tr>\n",
       "      <th>row 4</th>\n",
       "      <td>-0.1746</td>\n",
       "      <td>0.433026</td>\n",
       "      <td>1.203037</td>\n",
       "      <td>-0.3492</td>\n",
       "      <td>0.258426</td>\n",
       "    </tr>\n",
       "  </tbody>\n",
       "</table>\n",
       "</div>"
      ],
      "text/plain": [
       "        col 1     col 2     col 3  new column  new column2\n",
       "row 4 -0.1746  0.433026  1.203037     -0.3492     0.258426"
      ]
     },
     "execution_count": 129,
     "metadata": {},
     "output_type": "execute_result"
    }
   ],
   "source": [
    "# retrieve subset of DataFrame where col 3 is greater than 0 and col 1 is less than 0\n",
    "my_df_subset = my_df[(my_df['col 3'] > 0) & (my_df['col 1'] < 0)] \n",
    "\n",
    "my_df_subset"
   ]
  },
  {
   "cell_type": "markdown",
   "metadata": {},
   "source": [
    "### Reading Data from a CSV File"
   ]
  },
  {
   "cell_type": "code",
   "execution_count": 130,
   "metadata": {},
   "outputs": [
    {
     "data": {
      "text/html": [
       "<div>\n",
       "<style scoped>\n",
       "    .dataframe tbody tr th:only-of-type {\n",
       "        vertical-align: middle;\n",
       "    }\n",
       "\n",
       "    .dataframe tbody tr th {\n",
       "        vertical-align: top;\n",
       "    }\n",
       "\n",
       "    .dataframe thead th {\n",
       "        text-align: right;\n",
       "    }\n",
       "</style>\n",
       "<table border=\"1\" class=\"dataframe\">\n",
       "  <thead>\n",
       "    <tr style=\"text-align: right;\">\n",
       "      <th></th>\n",
       "      <th>Region</th>\n",
       "      <th>Country</th>\n",
       "      <th>Item Type</th>\n",
       "      <th>Sales Channel</th>\n",
       "      <th>Order Priority</th>\n",
       "      <th>Order Date</th>\n",
       "      <th>Order ID</th>\n",
       "      <th>Ship Date</th>\n",
       "      <th>Units Sold</th>\n",
       "      <th>Unit Price</th>\n",
       "      <th>Unit Cost</th>\n",
       "      <th>Total Revenue</th>\n",
       "      <th>Total Cost</th>\n",
       "      <th>Total Profit</th>\n",
       "    </tr>\n",
       "  </thead>\n",
       "  <tbody>\n",
       "    <tr>\n",
       "      <th>0</th>\n",
       "      <td>Australia and Oceania</td>\n",
       "      <td>Tuvalu</td>\n",
       "      <td>Baby Food</td>\n",
       "      <td>Offline</td>\n",
       "      <td>H</td>\n",
       "      <td>5/28/2010</td>\n",
       "      <td>669165933</td>\n",
       "      <td>6/27/2010</td>\n",
       "      <td>9925</td>\n",
       "      <td>255.28</td>\n",
       "      <td>159.42</td>\n",
       "      <td>2533654.00</td>\n",
       "      <td>1582243.50</td>\n",
       "      <td>951410.50</td>\n",
       "    </tr>\n",
       "    <tr>\n",
       "      <th>1</th>\n",
       "      <td>Central America and the Caribbean</td>\n",
       "      <td>Grenada</td>\n",
       "      <td>Cereal</td>\n",
       "      <td>Online</td>\n",
       "      <td>C</td>\n",
       "      <td>8/22/2012</td>\n",
       "      <td>963881480</td>\n",
       "      <td>9/15/2012</td>\n",
       "      <td>2804</td>\n",
       "      <td>205.70</td>\n",
       "      <td>117.11</td>\n",
       "      <td>576782.80</td>\n",
       "      <td>328376.44</td>\n",
       "      <td>248406.36</td>\n",
       "    </tr>\n",
       "    <tr>\n",
       "      <th>2</th>\n",
       "      <td>Europe</td>\n",
       "      <td>Russia</td>\n",
       "      <td>Office Supplies</td>\n",
       "      <td>Offline</td>\n",
       "      <td>L</td>\n",
       "      <td>5/2/2014</td>\n",
       "      <td>341417157</td>\n",
       "      <td>5/8/2014</td>\n",
       "      <td>1779</td>\n",
       "      <td>651.21</td>\n",
       "      <td>524.96</td>\n",
       "      <td>1158502.59</td>\n",
       "      <td>933903.84</td>\n",
       "      <td>224598.75</td>\n",
       "    </tr>\n",
       "    <tr>\n",
       "      <th>3</th>\n",
       "      <td>Sub-Saharan Africa</td>\n",
       "      <td>Sao Tome and Principe</td>\n",
       "      <td>Fruits</td>\n",
       "      <td>Online</td>\n",
       "      <td>C</td>\n",
       "      <td>6/20/2014</td>\n",
       "      <td>514321792</td>\n",
       "      <td>7/5/2014</td>\n",
       "      <td>8102</td>\n",
       "      <td>9.33</td>\n",
       "      <td>6.92</td>\n",
       "      <td>75591.66</td>\n",
       "      <td>56065.84</td>\n",
       "      <td>19525.82</td>\n",
       "    </tr>\n",
       "    <tr>\n",
       "      <th>4</th>\n",
       "      <td>Sub-Saharan Africa</td>\n",
       "      <td>Rwanda</td>\n",
       "      <td>Office Supplies</td>\n",
       "      <td>Offline</td>\n",
       "      <td>L</td>\n",
       "      <td>2/1/2013</td>\n",
       "      <td>115456712</td>\n",
       "      <td>2/6/2013</td>\n",
       "      <td>5062</td>\n",
       "      <td>651.21</td>\n",
       "      <td>524.96</td>\n",
       "      <td>3296425.02</td>\n",
       "      <td>2657347.52</td>\n",
       "      <td>639077.50</td>\n",
       "    </tr>\n",
       "  </tbody>\n",
       "</table>\n",
       "</div>"
      ],
      "text/plain": [
       "                              Region                Country        Item Type  \\\n",
       "0              Australia and Oceania                 Tuvalu        Baby Food   \n",
       "1  Central America and the Caribbean                Grenada           Cereal   \n",
       "2                             Europe                 Russia  Office Supplies   \n",
       "3                 Sub-Saharan Africa  Sao Tome and Principe           Fruits   \n",
       "4                 Sub-Saharan Africa                 Rwanda  Office Supplies   \n",
       "\n",
       "  Sales Channel Order Priority Order Date   Order ID  Ship Date  Units Sold  \\\n",
       "0       Offline              H  5/28/2010  669165933  6/27/2010        9925   \n",
       "1        Online              C  8/22/2012  963881480  9/15/2012        2804   \n",
       "2       Offline              L   5/2/2014  341417157   5/8/2014        1779   \n",
       "3        Online              C  6/20/2014  514321792   7/5/2014        8102   \n",
       "4       Offline              L   2/1/2013  115456712   2/6/2013        5062   \n",
       "\n",
       "   Unit Price  Unit Cost  Total Revenue  Total Cost  Total Profit  \n",
       "0      255.28     159.42     2533654.00  1582243.50     951410.50  \n",
       "1      205.70     117.11      576782.80   328376.44     248406.36  \n",
       "2      651.21     524.96     1158502.59   933903.84     224598.75  \n",
       "3        9.33       6.92       75591.66    56065.84      19525.82  \n",
       "4      651.21     524.96     3296425.02  2657347.52     639077.50  "
      ]
     },
     "execution_count": 130,
     "metadata": {},
     "output_type": "execute_result"
    }
   ],
   "source": [
    "# read csv file from specified path\n",
    "df = pd.read_csv('../Data/SalesRecords.csv')\n",
    "\n",
    "df.head()"
   ]
  },
  {
   "cell_type": "markdown",
   "metadata": {},
   "source": [
    "### Writing Data to a CSV File"
   ]
  },
  {
   "cell_type": "code",
   "execution_count": 131,
   "metadata": {},
   "outputs": [],
   "source": [
    "# write DataFrame to a csv file with specified path\n",
    "my_df.to_csv('../Data/mydf.csv', index=True)"
   ]
  },
  {
   "cell_type": "code",
   "execution_count": 133,
   "metadata": {},
   "outputs": [
    {
     "data": {
      "text/html": [
       "<div>\n",
       "<style scoped>\n",
       "    .dataframe tbody tr th:only-of-type {\n",
       "        vertical-align: middle;\n",
       "    }\n",
       "\n",
       "    .dataframe tbody tr th {\n",
       "        vertical-align: top;\n",
       "    }\n",
       "\n",
       "    .dataframe thead th {\n",
       "        text-align: right;\n",
       "    }\n",
       "</style>\n",
       "<table border=\"1\" class=\"dataframe\">\n",
       "  <thead>\n",
       "    <tr style=\"text-align: right;\">\n",
       "      <th></th>\n",
       "      <th>col 1</th>\n",
       "      <th>col 2</th>\n",
       "      <th>col 3</th>\n",
       "      <th>new column</th>\n",
       "      <th>new column2</th>\n",
       "    </tr>\n",
       "  </thead>\n",
       "  <tbody>\n",
       "    <tr>\n",
       "      <th>row 1</th>\n",
       "      <td>1.331587</td>\n",
       "      <td>0.715279</td>\n",
       "      <td>-1.545400</td>\n",
       "      <td>2.663173</td>\n",
       "      <td>2.046865</td>\n",
       "    </tr>\n",
       "    <tr>\n",
       "      <th>row 2</th>\n",
       "      <td>-0.008384</td>\n",
       "      <td>0.621336</td>\n",
       "      <td>-0.720086</td>\n",
       "      <td>-0.016768</td>\n",
       "      <td>0.612952</td>\n",
       "    </tr>\n",
       "    <tr>\n",
       "      <th>row 3</th>\n",
       "      <td>0.265512</td>\n",
       "      <td>0.108549</td>\n",
       "      <td>0.004291</td>\n",
       "      <td>0.531023</td>\n",
       "      <td>0.374060</td>\n",
       "    </tr>\n",
       "    <tr>\n",
       "      <th>row 4</th>\n",
       "      <td>-0.174600</td>\n",
       "      <td>0.433026</td>\n",
       "      <td>1.203037</td>\n",
       "      <td>-0.349200</td>\n",
       "      <td>0.258426</td>\n",
       "    </tr>\n",
       "  </tbody>\n",
       "</table>\n",
       "</div>"
      ],
      "text/plain": [
       "          col 1     col 2     col 3  new column  new column2\n",
       "row 1  1.331587  0.715279 -1.545400    2.663173     2.046865\n",
       "row 2 -0.008384  0.621336 -0.720086   -0.016768     0.612952\n",
       "row 3  0.265512  0.108549  0.004291    0.531023     0.374060\n",
       "row 4 -0.174600  0.433026  1.203037   -0.349200     0.258426"
      ]
     },
     "execution_count": 133,
     "metadata": {},
     "output_type": "execute_result"
    }
   ],
   "source": [
    "# read csv written above\n",
    "my_df = pd.read_csv('../Data/mydf.csv', index_col=0)\n",
    "\n",
    "my_df.head()"
   ]
  },
  {
   "cell_type": "markdown",
   "metadata": {},
   "source": [
    "### Missing Data"
   ]
  },
  {
   "cell_type": "code",
   "execution_count": 135,
   "metadata": {},
   "outputs": [
    {
     "data": {
      "text/html": [
       "<div>\n",
       "<style scoped>\n",
       "    .dataframe tbody tr th:only-of-type {\n",
       "        vertical-align: middle;\n",
       "    }\n",
       "\n",
       "    .dataframe tbody tr th {\n",
       "        vertical-align: top;\n",
       "    }\n",
       "\n",
       "    .dataframe thead th {\n",
       "        text-align: right;\n",
       "    }\n",
       "</style>\n",
       "<table border=\"1\" class=\"dataframe\">\n",
       "  <thead>\n",
       "    <tr style=\"text-align: right;\">\n",
       "      <th></th>\n",
       "      <th>col 1</th>\n",
       "      <th>col 2</th>\n",
       "      <th>col 3</th>\n",
       "      <th>new column</th>\n",
       "      <th>new column2</th>\n",
       "    </tr>\n",
       "  </thead>\n",
       "  <tbody>\n",
       "    <tr>\n",
       "      <th>row 1</th>\n",
       "      <td>1.331587</td>\n",
       "      <td>0.715279</td>\n",
       "      <td>-1.545400</td>\n",
       "      <td>2.663173</td>\n",
       "      <td>2.046865</td>\n",
       "    </tr>\n",
       "    <tr>\n",
       "      <th>row 2</th>\n",
       "      <td>-0.008384</td>\n",
       "      <td>0.621336</td>\n",
       "      <td>-0.720086</td>\n",
       "      <td>-0.016768</td>\n",
       "      <td>0.612952</td>\n",
       "    </tr>\n",
       "    <tr>\n",
       "      <th>row 3</th>\n",
       "      <td>0.265512</td>\n",
       "      <td>0.108549</td>\n",
       "      <td>0.004291</td>\n",
       "      <td>0.531023</td>\n",
       "      <td>0.374060</td>\n",
       "    </tr>\n",
       "    <tr>\n",
       "      <th>row 4</th>\n",
       "      <td>-0.174600</td>\n",
       "      <td>0.433026</td>\n",
       "      <td>1.203037</td>\n",
       "      <td>-0.349200</td>\n",
       "      <td>0.258426</td>\n",
       "    </tr>\n",
       "  </tbody>\n",
       "</table>\n",
       "</div>"
      ],
      "text/plain": [
       "          col 1     col 2     col 3  new column  new column2\n",
       "row 1  1.331587  0.715279 -1.545400    2.663173     2.046865\n",
       "row 2 -0.008384  0.621336 -0.720086   -0.016768     0.612952\n",
       "row 3  0.265512  0.108549  0.004291    0.531023     0.374060\n",
       "row 4 -0.174600  0.433026  1.203037   -0.349200     0.258426"
      ]
     },
     "execution_count": 135,
     "metadata": {},
     "output_type": "execute_result"
    }
   ],
   "source": [
    "my_df"
   ]
  },
  {
   "cell_type": "code",
   "execution_count": 140,
   "metadata": {},
   "outputs": [],
   "source": [
    "# add some missing values to DataFrame\n",
    "my_df.iloc[[1,2], [1,3]] = np.nan"
   ]
  },
  {
   "cell_type": "code",
   "execution_count": 141,
   "metadata": {},
   "outputs": [
    {
     "data": {
      "text/html": [
       "<div>\n",
       "<style scoped>\n",
       "    .dataframe tbody tr th:only-of-type {\n",
       "        vertical-align: middle;\n",
       "    }\n",
       "\n",
       "    .dataframe tbody tr th {\n",
       "        vertical-align: top;\n",
       "    }\n",
       "\n",
       "    .dataframe thead th {\n",
       "        text-align: right;\n",
       "    }\n",
       "</style>\n",
       "<table border=\"1\" class=\"dataframe\">\n",
       "  <thead>\n",
       "    <tr style=\"text-align: right;\">\n",
       "      <th></th>\n",
       "      <th>col 1</th>\n",
       "      <th>col 2</th>\n",
       "      <th>col 3</th>\n",
       "      <th>new column</th>\n",
       "      <th>new column2</th>\n",
       "    </tr>\n",
       "  </thead>\n",
       "  <tbody>\n",
       "    <tr>\n",
       "      <th>row 1</th>\n",
       "      <td>1.331587</td>\n",
       "      <td>0.715279</td>\n",
       "      <td>-1.545400</td>\n",
       "      <td>2.663173</td>\n",
       "      <td>2.046865</td>\n",
       "    </tr>\n",
       "    <tr>\n",
       "      <th>row 2</th>\n",
       "      <td>-0.008384</td>\n",
       "      <td>NaN</td>\n",
       "      <td>-0.720086</td>\n",
       "      <td>NaN</td>\n",
       "      <td>0.612952</td>\n",
       "    </tr>\n",
       "    <tr>\n",
       "      <th>row 3</th>\n",
       "      <td>0.265512</td>\n",
       "      <td>NaN</td>\n",
       "      <td>0.004291</td>\n",
       "      <td>NaN</td>\n",
       "      <td>0.374060</td>\n",
       "    </tr>\n",
       "    <tr>\n",
       "      <th>row 4</th>\n",
       "      <td>-0.174600</td>\n",
       "      <td>0.433026</td>\n",
       "      <td>1.203037</td>\n",
       "      <td>-0.349200</td>\n",
       "      <td>0.258426</td>\n",
       "    </tr>\n",
       "  </tbody>\n",
       "</table>\n",
       "</div>"
      ],
      "text/plain": [
       "          col 1     col 2     col 3  new column  new column2\n",
       "row 1  1.331587  0.715279 -1.545400    2.663173     2.046865\n",
       "row 2 -0.008384       NaN -0.720086         NaN     0.612952\n",
       "row 3  0.265512       NaN  0.004291         NaN     0.374060\n",
       "row 4 -0.174600  0.433026  1.203037   -0.349200     0.258426"
      ]
     },
     "execution_count": 141,
     "metadata": {},
     "output_type": "execute_result"
    }
   ],
   "source": [
    "my_df"
   ]
  },
  {
   "cell_type": "code",
   "execution_count": 144,
   "metadata": {},
   "outputs": [
    {
     "data": {
      "text/html": [
       "<div>\n",
       "<style scoped>\n",
       "    .dataframe tbody tr th:only-of-type {\n",
       "        vertical-align: middle;\n",
       "    }\n",
       "\n",
       "    .dataframe tbody tr th {\n",
       "        vertical-align: top;\n",
       "    }\n",
       "\n",
       "    .dataframe thead th {\n",
       "        text-align: right;\n",
       "    }\n",
       "</style>\n",
       "<table border=\"1\" class=\"dataframe\">\n",
       "  <thead>\n",
       "    <tr style=\"text-align: right;\">\n",
       "      <th></th>\n",
       "      <th>col 1</th>\n",
       "      <th>col 2</th>\n",
       "      <th>col 3</th>\n",
       "      <th>new column</th>\n",
       "      <th>new column2</th>\n",
       "    </tr>\n",
       "  </thead>\n",
       "  <tbody>\n",
       "    <tr>\n",
       "      <th>row 1</th>\n",
       "      <td>1.331587</td>\n",
       "      <td>0.715279</td>\n",
       "      <td>-1.545400</td>\n",
       "      <td>2.663173</td>\n",
       "      <td>2.046865</td>\n",
       "    </tr>\n",
       "    <tr>\n",
       "      <th>row 4</th>\n",
       "      <td>-0.174600</td>\n",
       "      <td>0.433026</td>\n",
       "      <td>1.203037</td>\n",
       "      <td>-0.349200</td>\n",
       "      <td>0.258426</td>\n",
       "    </tr>\n",
       "  </tbody>\n",
       "</table>\n",
       "</div>"
      ],
      "text/plain": [
       "          col 1     col 2     col 3  new column  new column2\n",
       "row 1  1.331587  0.715279 -1.545400    2.663173     2.046865\n",
       "row 4 -0.174600  0.433026  1.203037   -0.349200     0.258426"
      ]
     },
     "execution_count": 144,
     "metadata": {},
     "output_type": "execute_result"
    }
   ],
   "source": [
    "# remove rows that contain missing values\n",
    "my_df2 = my_df.dropna()\n",
    "\n",
    "my_df2"
   ]
  },
  {
   "cell_type": "code",
   "execution_count": 145,
   "metadata": {},
   "outputs": [
    {
     "data": {
      "text/html": [
       "<div>\n",
       "<style scoped>\n",
       "    .dataframe tbody tr th:only-of-type {\n",
       "        vertical-align: middle;\n",
       "    }\n",
       "\n",
       "    .dataframe tbody tr th {\n",
       "        vertical-align: top;\n",
       "    }\n",
       "\n",
       "    .dataframe thead th {\n",
       "        text-align: right;\n",
       "    }\n",
       "</style>\n",
       "<table border=\"1\" class=\"dataframe\">\n",
       "  <thead>\n",
       "    <tr style=\"text-align: right;\">\n",
       "      <th></th>\n",
       "      <th>col 1</th>\n",
       "      <th>col 3</th>\n",
       "      <th>new column2</th>\n",
       "    </tr>\n",
       "  </thead>\n",
       "  <tbody>\n",
       "    <tr>\n",
       "      <th>row 1</th>\n",
       "      <td>1.331587</td>\n",
       "      <td>-1.545400</td>\n",
       "      <td>2.046865</td>\n",
       "    </tr>\n",
       "    <tr>\n",
       "      <th>row 2</th>\n",
       "      <td>-0.008384</td>\n",
       "      <td>-0.720086</td>\n",
       "      <td>0.612952</td>\n",
       "    </tr>\n",
       "    <tr>\n",
       "      <th>row 3</th>\n",
       "      <td>0.265512</td>\n",
       "      <td>0.004291</td>\n",
       "      <td>0.374060</td>\n",
       "    </tr>\n",
       "    <tr>\n",
       "      <th>row 4</th>\n",
       "      <td>-0.174600</td>\n",
       "      <td>1.203037</td>\n",
       "      <td>0.258426</td>\n",
       "    </tr>\n",
       "  </tbody>\n",
       "</table>\n",
       "</div>"
      ],
      "text/plain": [
       "          col 1     col 3  new column2\n",
       "row 1  1.331587 -1.545400     2.046865\n",
       "row 2 -0.008384 -0.720086     0.612952\n",
       "row 3  0.265512  0.004291     0.374060\n",
       "row 4 -0.174600  1.203037     0.258426"
      ]
     },
     "execution_count": 145,
     "metadata": {},
     "output_type": "execute_result"
    }
   ],
   "source": [
    "# remove columns that contain missing values\n",
    "my_df3 = my_df.dropna(axis=1)\n",
    "\n",
    "my_df3"
   ]
  },
  {
   "cell_type": "code",
   "execution_count": 149,
   "metadata": {},
   "outputs": [
    {
     "data": {
      "text/html": [
       "<div>\n",
       "<style scoped>\n",
       "    .dataframe tbody tr th:only-of-type {\n",
       "        vertical-align: middle;\n",
       "    }\n",
       "\n",
       "    .dataframe tbody tr th {\n",
       "        vertical-align: top;\n",
       "    }\n",
       "\n",
       "    .dataframe thead th {\n",
       "        text-align: right;\n",
       "    }\n",
       "</style>\n",
       "<table border=\"1\" class=\"dataframe\">\n",
       "  <thead>\n",
       "    <tr style=\"text-align: right;\">\n",
       "      <th></th>\n",
       "      <th>col 1</th>\n",
       "      <th>col 2</th>\n",
       "      <th>col 3</th>\n",
       "      <th>new column</th>\n",
       "      <th>new column2</th>\n",
       "    </tr>\n",
       "  </thead>\n",
       "  <tbody>\n",
       "    <tr>\n",
       "      <th>row 1</th>\n",
       "      <td>1.331587</td>\n",
       "      <td>0.715279</td>\n",
       "      <td>-1.545400</td>\n",
       "      <td>2.663173</td>\n",
       "      <td>2.046865</td>\n",
       "    </tr>\n",
       "    <tr>\n",
       "      <th>row 2</th>\n",
       "      <td>-0.008384</td>\n",
       "      <td>99999.000000</td>\n",
       "      <td>-0.720086</td>\n",
       "      <td>99999.000000</td>\n",
       "      <td>0.612952</td>\n",
       "    </tr>\n",
       "    <tr>\n",
       "      <th>row 3</th>\n",
       "      <td>0.265512</td>\n",
       "      <td>99999.000000</td>\n",
       "      <td>0.004291</td>\n",
       "      <td>99999.000000</td>\n",
       "      <td>0.374060</td>\n",
       "    </tr>\n",
       "    <tr>\n",
       "      <th>row 4</th>\n",
       "      <td>-0.174600</td>\n",
       "      <td>0.433026</td>\n",
       "      <td>1.203037</td>\n",
       "      <td>-0.349200</td>\n",
       "      <td>0.258426</td>\n",
       "    </tr>\n",
       "  </tbody>\n",
       "</table>\n",
       "</div>"
      ],
      "text/plain": [
       "          col 1         col 2     col 3    new column  new column2\n",
       "row 1  1.331587      0.715279 -1.545400      2.663173     2.046865\n",
       "row 2 -0.008384  99999.000000 -0.720086  99999.000000     0.612952\n",
       "row 3  0.265512  99999.000000  0.004291  99999.000000     0.374060\n",
       "row 4 -0.174600      0.433026  1.203037     -0.349200     0.258426"
      ]
     },
     "execution_count": 149,
     "metadata": {},
     "output_type": "execute_result"
    }
   ],
   "source": [
    "# replace missing values with specified value\n",
    "my_df_no_missing = my_df.fillna(99999)\n",
    "\n",
    "my_df_no_missing"
   ]
  },
  {
   "cell_type": "markdown",
   "metadata": {},
   "source": [
    "### Cardinality and Value Counts"
   ]
  },
  {
   "cell_type": "code",
   "execution_count": 152,
   "metadata": {},
   "outputs": [
    {
     "data": {
      "text/plain": [
       "76"
      ]
     },
     "execution_count": 152,
     "metadata": {},
     "output_type": "execute_result"
    }
   ],
   "source": [
    "# cardinality of a column, i.e. how many unique countries in a Series\n",
    "len(df['Country'].unique())"
   ]
  },
  {
   "cell_type": "code",
   "execution_count": 155,
   "metadata": {},
   "outputs": [
    {
     "data": {
      "text/plain": [
       "Sub-Saharan Africa                   36\n",
       "Europe                               22\n",
       "Asia                                 11\n",
       "Australia and Oceania                11\n",
       "Middle East and North Africa         10\n",
       "Central America and the Caribbean     7\n",
       "North America                         3\n",
       "Name: Region, dtype: int64"
      ]
     },
     "execution_count": 155,
     "metadata": {},
     "output_type": "execute_result"
    }
   ],
   "source": [
    "# How many of each item are in a Series\n",
    "df['Region'].value_counts()"
   ]
  },
  {
   "cell_type": "markdown",
   "metadata": {},
   "source": [
    "### GroupBy and Aggregations"
   ]
  },
  {
   "cell_type": "code",
   "execution_count": 150,
   "metadata": {},
   "outputs": [
    {
     "data": {
      "text/html": [
       "<div>\n",
       "<style scoped>\n",
       "    .dataframe tbody tr th:only-of-type {\n",
       "        vertical-align: middle;\n",
       "    }\n",
       "\n",
       "    .dataframe tbody tr th {\n",
       "        vertical-align: top;\n",
       "    }\n",
       "\n",
       "    .dataframe thead th {\n",
       "        text-align: right;\n",
       "    }\n",
       "</style>\n",
       "<table border=\"1\" class=\"dataframe\">\n",
       "  <thead>\n",
       "    <tr style=\"text-align: right;\">\n",
       "      <th></th>\n",
       "      <th>Region</th>\n",
       "      <th>Country</th>\n",
       "      <th>Item Type</th>\n",
       "      <th>Sales Channel</th>\n",
       "      <th>Order Priority</th>\n",
       "      <th>Order Date</th>\n",
       "      <th>Order ID</th>\n",
       "      <th>Ship Date</th>\n",
       "      <th>Units Sold</th>\n",
       "      <th>Unit Price</th>\n",
       "      <th>Unit Cost</th>\n",
       "      <th>Total Revenue</th>\n",
       "      <th>Total Cost</th>\n",
       "      <th>Total Profit</th>\n",
       "    </tr>\n",
       "  </thead>\n",
       "  <tbody>\n",
       "    <tr>\n",
       "      <th>0</th>\n",
       "      <td>Australia and Oceania</td>\n",
       "      <td>Tuvalu</td>\n",
       "      <td>Baby Food</td>\n",
       "      <td>Offline</td>\n",
       "      <td>H</td>\n",
       "      <td>5/28/2010</td>\n",
       "      <td>669165933</td>\n",
       "      <td>6/27/2010</td>\n",
       "      <td>9925</td>\n",
       "      <td>255.28</td>\n",
       "      <td>159.42</td>\n",
       "      <td>2533654.00</td>\n",
       "      <td>1582243.50</td>\n",
       "      <td>951410.50</td>\n",
       "    </tr>\n",
       "    <tr>\n",
       "      <th>1</th>\n",
       "      <td>Central America and the Caribbean</td>\n",
       "      <td>Grenada</td>\n",
       "      <td>Cereal</td>\n",
       "      <td>Online</td>\n",
       "      <td>C</td>\n",
       "      <td>8/22/2012</td>\n",
       "      <td>963881480</td>\n",
       "      <td>9/15/2012</td>\n",
       "      <td>2804</td>\n",
       "      <td>205.70</td>\n",
       "      <td>117.11</td>\n",
       "      <td>576782.80</td>\n",
       "      <td>328376.44</td>\n",
       "      <td>248406.36</td>\n",
       "    </tr>\n",
       "    <tr>\n",
       "      <th>2</th>\n",
       "      <td>Europe</td>\n",
       "      <td>Russia</td>\n",
       "      <td>Office Supplies</td>\n",
       "      <td>Offline</td>\n",
       "      <td>L</td>\n",
       "      <td>5/2/2014</td>\n",
       "      <td>341417157</td>\n",
       "      <td>5/8/2014</td>\n",
       "      <td>1779</td>\n",
       "      <td>651.21</td>\n",
       "      <td>524.96</td>\n",
       "      <td>1158502.59</td>\n",
       "      <td>933903.84</td>\n",
       "      <td>224598.75</td>\n",
       "    </tr>\n",
       "    <tr>\n",
       "      <th>3</th>\n",
       "      <td>Sub-Saharan Africa</td>\n",
       "      <td>Sao Tome and Principe</td>\n",
       "      <td>Fruits</td>\n",
       "      <td>Online</td>\n",
       "      <td>C</td>\n",
       "      <td>6/20/2014</td>\n",
       "      <td>514321792</td>\n",
       "      <td>7/5/2014</td>\n",
       "      <td>8102</td>\n",
       "      <td>9.33</td>\n",
       "      <td>6.92</td>\n",
       "      <td>75591.66</td>\n",
       "      <td>56065.84</td>\n",
       "      <td>19525.82</td>\n",
       "    </tr>\n",
       "    <tr>\n",
       "      <th>4</th>\n",
       "      <td>Sub-Saharan Africa</td>\n",
       "      <td>Rwanda</td>\n",
       "      <td>Office Supplies</td>\n",
       "      <td>Offline</td>\n",
       "      <td>L</td>\n",
       "      <td>2/1/2013</td>\n",
       "      <td>115456712</td>\n",
       "      <td>2/6/2013</td>\n",
       "      <td>5062</td>\n",
       "      <td>651.21</td>\n",
       "      <td>524.96</td>\n",
       "      <td>3296425.02</td>\n",
       "      <td>2657347.52</td>\n",
       "      <td>639077.50</td>\n",
       "    </tr>\n",
       "  </tbody>\n",
       "</table>\n",
       "</div>"
      ],
      "text/plain": [
       "                              Region                Country        Item Type  \\\n",
       "0              Australia and Oceania                 Tuvalu        Baby Food   \n",
       "1  Central America and the Caribbean                Grenada           Cereal   \n",
       "2                             Europe                 Russia  Office Supplies   \n",
       "3                 Sub-Saharan Africa  Sao Tome and Principe           Fruits   \n",
       "4                 Sub-Saharan Africa                 Rwanda  Office Supplies   \n",
       "\n",
       "  Sales Channel Order Priority Order Date   Order ID  Ship Date  Units Sold  \\\n",
       "0       Offline              H  5/28/2010  669165933  6/27/2010        9925   \n",
       "1        Online              C  8/22/2012  963881480  9/15/2012        2804   \n",
       "2       Offline              L   5/2/2014  341417157   5/8/2014        1779   \n",
       "3        Online              C  6/20/2014  514321792   7/5/2014        8102   \n",
       "4       Offline              L   2/1/2013  115456712   2/6/2013        5062   \n",
       "\n",
       "   Unit Price  Unit Cost  Total Revenue  Total Cost  Total Profit  \n",
       "0      255.28     159.42     2533654.00  1582243.50     951410.50  \n",
       "1      205.70     117.11      576782.80   328376.44     248406.36  \n",
       "2      651.21     524.96     1158502.59   933903.84     224598.75  \n",
       "3        9.33       6.92       75591.66    56065.84      19525.82  \n",
       "4      651.21     524.96     3296425.02  2657347.52     639077.50  "
      ]
     },
     "execution_count": 150,
     "metadata": {},
     "output_type": "execute_result"
    }
   ],
   "source": [
    "df.head()"
   ]
  },
  {
   "cell_type": "code",
   "execution_count": 157,
   "metadata": {},
   "outputs": [
    {
     "data": {
      "text/plain": [
       "Region\n",
       "Asia                                 555804.170000\n",
       "Australia and Oceania                429287.275455\n",
       "Central America and the Caribbean    406701.121429\n",
       "Europe                               503769.937727\n",
       "Middle East and North Africa         576119.186000\n",
       "North America                        485980.920000\n",
       "Sub-Saharan Africa                   338422.538889\n",
       "Name: Total Profit, dtype: float64"
      ]
     },
     "execution_count": 157,
     "metadata": {},
     "output_type": "execute_result"
    }
   ],
   "source": [
    "# get the average total profit in each region\n",
    "avg_profit_byregion = df.groupby('Region')['Total Profit'].mean()\n",
    "\n",
    "avg_profit_byregion"
   ]
  },
  {
   "cell_type": "code",
   "execution_count": 158,
   "metadata": {},
   "outputs": [
    {
     "data": {
      "text/plain": [
       "Country\n",
       "Albania                              2269\n",
       "Angola                               4187\n",
       "Australia                           12995\n",
       "Austria                              2847\n",
       "Azerbaijan                           9255\n",
       "Bangladesh                           8263\n",
       "Belize                               5498\n",
       "Brunei                               6708\n",
       "Bulgaria                             5660\n",
       "Burkina Faso                         8082\n",
       "Cameroon                            10948\n",
       "Cape Verde                           4168\n",
       "Comoros                               962\n",
       "Costa Rica                           6409\n",
       "Cote d'Ivoire                        3482\n",
       "Democratic Republic of the Congo     5741\n",
       "Djibouti                            23198\n",
       "East Timor                           5908\n",
       "Federated States of Micronesia       9379\n",
       "Fiji                                 9905\n",
       "France                               1815\n",
       "Gabon                                8656\n",
       "Grenada                              2804\n",
       "Haiti                                1705\n",
       "Honduras                            11199\n",
       "Iceland                              8867\n",
       "Iran                                 6489\n",
       "Kenya                                6457\n",
       "Kiribati                             5398\n",
       "Kuwait                                522\n",
       "                                    ...  \n",
       "Myanmar                             14180\n",
       "New Zealand                          2187\n",
       "Nicaragua                            8156\n",
       "Niger                                3015\n",
       "Norway                              12574\n",
       "Pakistan                             9892\n",
       "Portugal                             1273\n",
       "Republic of the Congo                6070\n",
       "Romania                              7910\n",
       "Russia                               1779\n",
       "Rwanda                               9539\n",
       "Samoa                                9654\n",
       "San Marino                           4750\n",
       "Sao Tome and Principe               24568\n",
       "Saudi Arabia                         4063\n",
       "Senegal                              6593\n",
       "Sierra Leone                         5890\n",
       "Slovakia                              171\n",
       "Slovenia                             4660\n",
       "Solomon Islands                      2974\n",
       "South Sudan                          2125\n",
       "Spain                                4513\n",
       "Sri Lanka                            6952\n",
       "Switzerland                          8934\n",
       "Syria                                3784\n",
       "The Gambia                          14813\n",
       "Turkmenistan                         8840\n",
       "Tuvalu                               9925\n",
       "United Kingdom                        282\n",
       "Zambia                               4085\n",
       "Name: Units Sold, Length: 76, dtype: int64"
      ]
     },
     "execution_count": 158,
     "metadata": {},
     "output_type": "execute_result"
    }
   ],
   "source": [
    "# get the total number of units sold in each country\n",
    "units_sold_bycountry = df.groupby('Country')['Units Sold'].sum()\n",
    "\n",
    "units_sold_bycountry"
   ]
  },
  {
   "cell_type": "markdown",
   "metadata": {},
   "source": [
    "### DataFrame Summaries and Info"
   ]
  },
  {
   "cell_type": "code",
   "execution_count": 159,
   "metadata": {},
   "outputs": [
    {
     "data": {
      "text/html": [
       "<div>\n",
       "<style scoped>\n",
       "    .dataframe tbody tr th:only-of-type {\n",
       "        vertical-align: middle;\n",
       "    }\n",
       "\n",
       "    .dataframe tbody tr th {\n",
       "        vertical-align: top;\n",
       "    }\n",
       "\n",
       "    .dataframe thead th {\n",
       "        text-align: right;\n",
       "    }\n",
       "</style>\n",
       "<table border=\"1\" class=\"dataframe\">\n",
       "  <thead>\n",
       "    <tr style=\"text-align: right;\">\n",
       "      <th></th>\n",
       "      <th>Order ID</th>\n",
       "      <th>Units Sold</th>\n",
       "      <th>Unit Price</th>\n",
       "      <th>Unit Cost</th>\n",
       "      <th>Total Revenue</th>\n",
       "      <th>Total Cost</th>\n",
       "      <th>Total Profit</th>\n",
       "    </tr>\n",
       "  </thead>\n",
       "  <tbody>\n",
       "    <tr>\n",
       "      <th>count</th>\n",
       "      <td>1.000000e+02</td>\n",
       "      <td>100.000000</td>\n",
       "      <td>100.000000</td>\n",
       "      <td>100.000000</td>\n",
       "      <td>1.000000e+02</td>\n",
       "      <td>1.000000e+02</td>\n",
       "      <td>1.000000e+02</td>\n",
       "    </tr>\n",
       "    <tr>\n",
       "      <th>mean</th>\n",
       "      <td>5.550204e+08</td>\n",
       "      <td>5128.710000</td>\n",
       "      <td>276.761300</td>\n",
       "      <td>191.048000</td>\n",
       "      <td>1.373488e+06</td>\n",
       "      <td>9.318057e+05</td>\n",
       "      <td>4.416820e+05</td>\n",
       "    </tr>\n",
       "    <tr>\n",
       "      <th>std</th>\n",
       "      <td>2.606153e+08</td>\n",
       "      <td>2794.484562</td>\n",
       "      <td>235.592241</td>\n",
       "      <td>188.208181</td>\n",
       "      <td>1.460029e+06</td>\n",
       "      <td>1.083938e+06</td>\n",
       "      <td>4.385379e+05</td>\n",
       "    </tr>\n",
       "    <tr>\n",
       "      <th>min</th>\n",
       "      <td>1.146066e+08</td>\n",
       "      <td>124.000000</td>\n",
       "      <td>9.330000</td>\n",
       "      <td>6.920000</td>\n",
       "      <td>4.870260e+03</td>\n",
       "      <td>3.612240e+03</td>\n",
       "      <td>1.258020e+03</td>\n",
       "    </tr>\n",
       "    <tr>\n",
       "      <th>25%</th>\n",
       "      <td>3.389225e+08</td>\n",
       "      <td>2836.250000</td>\n",
       "      <td>81.730000</td>\n",
       "      <td>35.840000</td>\n",
       "      <td>2.687212e+05</td>\n",
       "      <td>1.688680e+05</td>\n",
       "      <td>1.214436e+05</td>\n",
       "    </tr>\n",
       "    <tr>\n",
       "      <th>50%</th>\n",
       "      <td>5.577086e+08</td>\n",
       "      <td>5382.500000</td>\n",
       "      <td>179.880000</td>\n",
       "      <td>107.275000</td>\n",
       "      <td>7.523144e+05</td>\n",
       "      <td>3.635664e+05</td>\n",
       "      <td>2.907680e+05</td>\n",
       "    </tr>\n",
       "    <tr>\n",
       "      <th>75%</th>\n",
       "      <td>7.907551e+08</td>\n",
       "      <td>7369.000000</td>\n",
       "      <td>437.200000</td>\n",
       "      <td>263.330000</td>\n",
       "      <td>2.212045e+06</td>\n",
       "      <td>1.613870e+06</td>\n",
       "      <td>6.358288e+05</td>\n",
       "    </tr>\n",
       "    <tr>\n",
       "      <th>max</th>\n",
       "      <td>9.940222e+08</td>\n",
       "      <td>9925.000000</td>\n",
       "      <td>668.270000</td>\n",
       "      <td>524.960000</td>\n",
       "      <td>5.997055e+06</td>\n",
       "      <td>4.509794e+06</td>\n",
       "      <td>1.719922e+06</td>\n",
       "    </tr>\n",
       "  </tbody>\n",
       "</table>\n",
       "</div>"
      ],
      "text/plain": [
       "           Order ID   Units Sold  Unit Price   Unit Cost  Total Revenue  \\\n",
       "count  1.000000e+02   100.000000  100.000000  100.000000   1.000000e+02   \n",
       "mean   5.550204e+08  5128.710000  276.761300  191.048000   1.373488e+06   \n",
       "std    2.606153e+08  2794.484562  235.592241  188.208181   1.460029e+06   \n",
       "min    1.146066e+08   124.000000    9.330000    6.920000   4.870260e+03   \n",
       "25%    3.389225e+08  2836.250000   81.730000   35.840000   2.687212e+05   \n",
       "50%    5.577086e+08  5382.500000  179.880000  107.275000   7.523144e+05   \n",
       "75%    7.907551e+08  7369.000000  437.200000  263.330000   2.212045e+06   \n",
       "max    9.940222e+08  9925.000000  668.270000  524.960000   5.997055e+06   \n",
       "\n",
       "         Total Cost  Total Profit  \n",
       "count  1.000000e+02  1.000000e+02  \n",
       "mean   9.318057e+05  4.416820e+05  \n",
       "std    1.083938e+06  4.385379e+05  \n",
       "min    3.612240e+03  1.258020e+03  \n",
       "25%    1.688680e+05  1.214436e+05  \n",
       "50%    3.635664e+05  2.907680e+05  \n",
       "75%    1.613870e+06  6.358288e+05  \n",
       "max    4.509794e+06  1.719922e+06  "
      ]
     },
     "execution_count": 159,
     "metadata": {},
     "output_type": "execute_result"
    }
   ],
   "source": [
    "# statistical summaries about each numerical column in DataFrame\n",
    "df.describe()"
   ]
  },
  {
   "cell_type": "code",
   "execution_count": 160,
   "metadata": {},
   "outputs": [
    {
     "name": "stdout",
     "output_type": "stream",
     "text": [
      "<class 'pandas.core.frame.DataFrame'>\n",
      "RangeIndex: 100 entries, 0 to 99\n",
      "Data columns (total 14 columns):\n",
      "Region            100 non-null object\n",
      "Country           100 non-null object\n",
      "Item Type         100 non-null object\n",
      "Sales Channel     100 non-null object\n",
      "Order Priority    100 non-null object\n",
      "Order Date        100 non-null object\n",
      "Order ID          100 non-null int64\n",
      "Ship Date         100 non-null object\n",
      "Units Sold        100 non-null int64\n",
      "Unit Price        100 non-null float64\n",
      "Unit Cost         100 non-null float64\n",
      "Total Revenue     100 non-null float64\n",
      "Total Cost        100 non-null float64\n",
      "Total Profit      100 non-null float64\n",
      "dtypes: float64(5), int64(2), object(7)\n",
      "memory usage: 11.0+ KB\n"
     ]
    }
   ],
   "source": [
    "# info about data types of each column\n",
    "df.info()"
   ]
  },
  {
   "cell_type": "code",
   "execution_count": 162,
   "metadata": {},
   "outputs": [
    {
     "data": {
      "text/plain": [
       "(100, 14)"
      ]
     },
     "execution_count": 162,
     "metadata": {},
     "output_type": "execute_result"
    }
   ],
   "source": [
    "# DataFrame dimensions\n",
    "df.shape"
   ]
  }
 ],
 "metadata": {
  "kernelspec": {
   "display_name": "MLCourse-env",
   "language": "python",
   "name": "mlcourse-env"
  },
  "language_info": {
   "codemirror_mode": {
    "name": "ipython",
    "version": 3
   },
   "file_extension": ".py",
   "mimetype": "text/x-python",
   "name": "python",
   "nbconvert_exporter": "python",
   "pygments_lexer": "ipython3",
   "version": "3.7.1"
  }
 },
 "nbformat": 4,
 "nbformat_minor": 4
}
