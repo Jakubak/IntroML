{
 "cells": [
  {
   "cell_type": "markdown",
   "metadata": {},
   "source": [
    "# Optimization Demo"
   ]
  },
  {
   "cell_type": "code",
   "execution_count": 1,
   "metadata": {},
   "outputs": [],
   "source": [
    "import numpy as np\n",
    "import matplotlib.pyplot as plt"
   ]
  },
  {
   "cell_type": "markdown",
   "metadata": {},
   "source": [
    "## Loss and Gradient Functions\n",
    "Let $L(W_0, W_1) = 2W_0^2 + W_1$ and $\\nabla_WL$ as seem in chapter 1.7 lecture video."
   ]
  },
  {
   "cell_type": "code",
   "execution_count": 2,
   "metadata": {},
   "outputs": [],
   "source": [
    "# define loss and gradient functions\n",
    "def loss(W):\n",
    "    return 2*W[0]**2 + W[1]**2\n",
    "\n",
    "def grad(W):\n",
    "    return np.array([4*W[0],2*W[1]])"
   ]
  },
  {
   "cell_type": "markdown",
   "metadata": {},
   "source": [
    "## Gradient Descent"
   ]
  },
  {
   "cell_type": "markdown",
   "metadata": {},
   "source": [
    "### Gradient Descent with 2 Epochs"
   ]
  },
  {
   "cell_type": "code",
   "execution_count": 4,
   "metadata": {},
   "outputs": [
    {
     "name": "stdout",
     "output_type": "stream",
     "text": [
      "gradW0: [8 4]\n",
      "W1: [1.2 1.6]\n",
      "Loss(W1): 5.44\n",
      "gradW1: [4.8 3.2]\n",
      "W2: [0.72 1.28]\n",
      "Loss(W2): 2.6752000000000002\n"
     ]
    }
   ],
   "source": [
    "# initialization\n",
    "W0 = np.array([2,2])\n",
    "alpha = 0.1\n",
    "\n",
    "# epoch 1\n",
    "gradW0 = grad(W0)\n",
    "print(\"gradW0: {}\".format(gradW0))\n",
    "W1 = W0 - alpha*gradW0\n",
    "print(\"W1: {}\".format(W1))\n",
    "print(\"Loss(W1): {}\".format(loss(W1)))\n",
    "\n",
    "# epoch 2\n",
    "gradW1 = grad(W1)\n",
    "print(\"gradW1: {}\".format(gradW1))\n",
    "W2 = W1 - alpha*gradW1\n",
    "print(\"W2: {}\".format(W2))\n",
    "print(\"Loss(W2): {}\".format(loss(W2)))"
   ]
  },
  {
   "cell_type": "markdown",
   "metadata": {},
   "source": [
    "### Gradient Descent with n=30 Epochs"
   ]
  },
  {
   "cell_type": "code",
   "execution_count": 3,
   "metadata": {},
   "outputs": [
    {
     "name": "stdout",
     "output_type": "stream",
     "text": [
      "After 30 epochs\n",
      "W: [4.42147839e-07 2.47588008e-03]\n",
      "Loss: 6.129982554452983e-06\n"
     ]
    },
    {
     "data": {
      "image/png": "[encoded data removed]",
      "text/plain": [
       "<Figure size 432x288 with 1 Axes>"
      ]
     },
     "metadata": {
      "needs_background": "light"
     },
     "output_type": "display_data"
    }
   ],
   "source": [
    "# initialization\n",
    "W = np.array([2,2])\n",
    "alpha = 0.1\n",
    "nepoch = 30\n",
    "\n",
    "# iteration\n",
    "loss_history = []\n",
    "for epoch in range(nepoch):\n",
    "    gradW = grad(W)\n",
    "    W = W - alpha*gradW\n",
    "    loss_history.append(loss(W))\n",
    "print(\"After {} epochs\".format(nepoch))\n",
    "print(\"W: {}\".format(W))\n",
    "print(\"Loss: {}\".format(loss_history[-1]))\n",
    "\n",
    "plt.figure()\n",
    "epoch_list = list(range(1,nepoch+1))\n",
    "plt.plot(epoch_list,loss_history)\n",
    "plt.xlabel(\"Epoch\")\n",
    "plt.ylabel(\"Loss\")\n",
    "plt.show()"
   ]
  }
 ],
 "metadata": {
  "kernelspec": {
   "display_name": "MLCourse-env",
   "language": "python",
   "name": "mlcourse-env"
  },
  "language_info": {
   "codemirror_mode": {
    "name": "ipython",
    "version": 3
   },
   "file_extension": ".py",
   "mimetype": "text/x-python",
   "name": "python",
   "nbconvert_exporter": "python",
   "pygments_lexer": "ipython3",
   "version": "3.7.1"
  }
 },
 "nbformat": 4,
 "nbformat_minor": 2
}
