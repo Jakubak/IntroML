{
 "cells": [
  {
   "cell_type": "code",
   "execution_count": 1,
   "metadata": {},
   "outputs": [],
   "source": [
    "# import numpy\n",
    "import numpy as np"
   ]
  },
  {
   "cell_type": "code",
   "execution_count": 2,
   "metadata": {},
   "outputs": [
    {
     "name": "stdout",
     "output_type": "stream",
     "text": [
      "W: \n",
      "[[1 2 3 4]]\n",
      "W transpose: \n",
      "[[1]\n",
      " [2]\n",
      " [3]\n",
      " [4]]\n"
     ]
    }
   ],
   "source": [
    "# transpose example 1\n",
    "# W = [1 2 3 4]\n",
    "W = np.array([[1,2,3,4]])\n",
    "print(\"W: \\n{}\".format(W))\n",
    "print(\"W transpose: \\n{}\".format(W.T))"
   ]
  },
  {
   "cell_type": "code",
   "execution_count": 3,
   "metadata": {},
   "outputs": [
    {
     "name": "stdout",
     "output_type": "stream",
     "text": [
      "X: \n",
      "[[ 1  2  3  4]\n",
      " [ 5  6  7  8]\n",
      " [ 9 10 11 12]]\n",
      "X transpose: \n",
      "[[ 1  5  9]\n",
      " [ 2  6 10]\n",
      " [ 3  7 11]\n",
      " [ 4  8 12]]\n"
     ]
    }
   ],
   "source": [
    "# transpose example 2\n",
    "# X = [1  2  3  4]\n",
    "#     [5  6  7  8]\n",
    "#     [9 10 11 12]\n",
    "X = np.array([[1,2,3,4],[5,6,7,8],[9,10,11,12]])\n",
    "print(\"X: \\n{}\".format(X))\n",
    "print(\"X transpose: \\n{}\".format(X.T))"
   ]
  },
  {
   "cell_type": "code",
   "execution_count": 4,
   "metadata": {},
   "outputs": [
    {
     "name": "stdout",
     "output_type": "stream",
     "text": [
      "Matrix Multiplication Example 1\n",
      "W: \n",
      "[[1 2 3]]\n",
      "X: \n",
      "[[4 7]\n",
      " [5 8]\n",
      " [6 9]]\n",
      "Z: \n",
      "[[32 50]]\n"
     ]
    }
   ],
   "source": [
    "# matrix multiplication example 1\n",
    "# W = [1 2 3]\n",
    "# X = [4 7]\n",
    "#     [5 8]\n",
    "#     [6 9]\n",
    "W = np.array([[1,2,3]])\n",
    "X = np.array([[4,7],[5,8],[6,9]])\n",
    "Z = np.dot(W,X)\n",
    "print(\"Matrix Multiplication Example 1\")\n",
    "print(\"W: \\n{}\".format(W))\n",
    "print(\"X: \\n{}\".format(X))\n",
    "print(\"Z: \\n{}\".format(Z))"
   ]
  },
  {
   "cell_type": "code",
   "execution_count": 5,
   "metadata": {},
   "outputs": [
    {
     "name": "stdout",
     "output_type": "stream",
     "text": [
      "Matrix Multiplication Example 2\n",
      "W: \n",
      "[[1 2 3]\n",
      " [2 3 4]]\n",
      "X: \n",
      "[[4 7]\n",
      " [5 8]\n",
      " [6 9]]\n",
      "Z: \n",
      "[[32 50]\n",
      " [47 74]]\n"
     ]
    }
   ],
   "source": [
    "# matrix multiplication example 2\n",
    "# W = [1 2 3]\n",
    "#     [2 3 4]\n",
    "# X = [4 7]\n",
    "#     [5 8]\n",
    "#     [6 9]\n",
    "W = np.array([[1,2,3],[2,3,4]])\n",
    "X = np.array([[4,7],[5,8],[6,9]])\n",
    "Z = np.dot(W,X)\n",
    "print(\"Matrix Multiplication Example 2\")\n",
    "print(\"W: \\n{}\".format(W))\n",
    "print(\"X: \\n{}\".format(X))\n",
    "print(\"Z: \\n{}\".format(Z))"
   ]
  },
  {
   "cell_type": "code",
   "execution_count": 6,
   "metadata": {},
   "outputs": [
    {
     "name": "stdout",
     "output_type": "stream",
     "text": [
      "Matrix Multiplication Example 1\n",
      "W: \n",
      "[[1 2 3]]\n",
      "X: \n",
      "[[4 7]\n",
      " [5 8]\n",
      " [6 9]]\n",
      "b: 7\n",
      "Z: \n",
      "[[39 57]]\n"
     ]
    }
   ],
   "source": [
    "# broadcasting example 1\n",
    "# W = [1 2 3]\n",
    "# X = [4 7]\n",
    "#     [5 8]\n",
    "#     [6 9]\n",
    "W = np.array([[1,2,3]])\n",
    "X = np.array([[4,7],[5,8],[6,9]])\n",
    "b = 7\n",
    "Z = np.dot(W,X)+b\n",
    "print(\"Matrix Multiplication Example 1\")\n",
    "print(\"W: \\n{}\".format(W))\n",
    "print(\"X: \\n{}\".format(X))\n",
    "print(\"b: {}\".format(b))\n",
    "print(\"Z: \\n{}\".format(Z))"
   ]
  },
  {
   "cell_type": "code",
   "execution_count": 7,
   "metadata": {},
   "outputs": [
    {
     "name": "stdout",
     "output_type": "stream",
     "text": [
      "Matrix Multiplication Example 2\n",
      "W: \n",
      "[[1 2 3]\n",
      " [2 3 4]]\n",
      "X: \n",
      "[[4 7]\n",
      " [5 8]\n",
      " [6 9]]\n",
      "b: \n",
      "[[11]\n",
      " [12]]\n",
      "Z: \n",
      "[[43 61]\n",
      " [59 86]]\n"
     ]
    }
   ],
   "source": [
    "# broadcasting example 2\n",
    "# W = [1 2 3]\n",
    "#     [2 3 4]\n",
    "# X = [4 7]\n",
    "#     [5 8]\n",
    "#     [6 9]\n",
    "# b = [11]\n",
    "#     [12]\n",
    "W = np.array([[1,2,3],[2,3,4]])\n",
    "X = np.array([[4,7],[5,8],[6,9]])\n",
    "b = np.array([[11],[12]])\n",
    "Z = np.dot(W,X)+b\n",
    "print(\"Matrix Multiplication Example 2\")\n",
    "print(\"W: \\n{}\".format(W))\n",
    "print(\"X: \\n{}\".format(X))\n",
    "print(\"b: \\n{}\".format(b))\n",
    "print(\"Z: \\n{}\".format(Z))"
   ]
  }
 ],
 "metadata": {
  "kernelspec": {
   "display_name": "MLCourse-env",
   "language": "python",
   "name": "mlcourse-env"
  },
  "language_info": {
   "codemirror_mode": {
    "name": "ipython",
    "version": 3
   },
   "file_extension": ".py",
   "mimetype": "text/x-python",
   "name": "python",
   "nbconvert_exporter": "python",
   "pygments_lexer": "ipython3",
   "version": "3.7.1"
  }
 },
 "nbformat": 4,
 "nbformat_minor": 2
}
