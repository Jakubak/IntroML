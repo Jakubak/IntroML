{
 "cells": [
  {
   "cell_type": "code",
   "execution_count": null,
   "metadata": {},
   "outputs": [],
   "source": [
    "# import numpy\n",
    "import numpy as np"
   ]
  },
  {
   "cell_type": "code",
   "execution_count": null,
   "metadata": {},
   "outputs": [],
   "source": [
    "# transpose example 1\n",
    "# W = [1 2 3 4]\n",
    "W = np.array([[1,2,3,4]])\n",
    "print(\"W: \\n{}\".format(W))\n",
    "print(\"W transpose: \\n{}\".format(W.T))"
   ]
  },
  {
   "cell_type": "code",
   "execution_count": null,
   "metadata": {},
   "outputs": [],
   "source": [
    "# transpose example 2\n",
    "# X = [1  2  3  4]\n",
    "#     [5  6  7  8]\n",
    "#     [9 10 11 12]\n",
    "X = np.array([[1,2,3,4],[5,6,7,8],[9,10,11,12]])\n",
    "print(\"X: \\n{}\".format(X))\n",
    "print(\"X transpose: \\n{}\".format(X.T))"
   ]
  },
  {
   "cell_type": "code",
   "execution_count": null,
   "metadata": {},
   "outputs": [],
   "source": [
    "# matrix multiplication example 1\n",
    "# W = [1 2 3]\n",
    "# X = [4 7]\n",
    "#     [5 8]\n",
    "#     [6 9]\n",
    "W = np.array([[1,2,3]])\n",
    "X = np.array([[4,7],[5,8],[6,9]])\n",
    "Z = np.dot(W,X)\n",
    "print(\"Matrix Multiplication Example 1\")\n",
    "print(\"W: \\n{}\".format(W))\n",
    "print(\"X: \\n{}\".format(X))\n",
    "print(\"Z: \\n{}\".format(Z))"
   ]
  },
  {
   "cell_type": "code",
   "execution_count": null,
   "metadata": {},
   "outputs": [],
   "source": [
    "# matrix multiplication example 2\n",
    "# W = [1 2 3]\n",
    "#     [2 3 4]\n",
    "# X = [4 7]\n",
    "#     [5 8]\n",
    "#     [6 9]\n",
    "W = np.array([[1,2,3],[2,3,4]])\n",
    "X = np.array([[4,7],[5,8],[6,9]])\n",
    "Z = np.dot(W,X)\n",
    "print(\"Matrix Multiplication Example 2\")\n",
    "print(\"W: \\n{}\".format(W))\n",
    "print(\"X: \\n{}\".format(X))\n",
    "print(\"Z: \\n{}\".format(Z))"
   ]
  },
  {
   "cell_type": "code",
   "execution_count": null,
   "metadata": {},
   "outputs": [],
   "source": [
    "# broadcasting example 1\n",
    "# W = [1 2 3]\n",
    "# X = [4 7]\n",
    "#     [5 8]\n",
    "#     [6 9]\n",
    "W = np.array([[1,2,3]])\n",
    "X = np.array([[4,7],[5,8],[6,9]])\n",
    "b = 7\n",
    "Z = np.dot(W,X)+b\n",
    "print(\"Matrix Multiplication Example 1\")\n",
    "print(\"W: \\n{}\".format(W))\n",
    "print(\"X: \\n{}\".format(X))\n",
    "print(\"b: {}\".format(b))\n",
    "print(\"Z: \\n{}\".format(Z))"
   ]
  },
  {
   "cell_type": "code",
   "execution_count": null,
   "metadata": {},
   "outputs": [],
   "source": [
    "# broadcasting example 2\n",
    "# W = [1 2 3]\n",
    "#     [2 3 4]\n",
    "# X = [4 7]\n",
    "#     [5 8]\n",
    "#     [6 9]\n",
    "# b = [11]\n",
    "#     [12]\n",
    "W = np.array([[1,2,3],[2,3,4]])\n",
    "X = np.array([[4,7],[5,8],[6,9]])\n",
    "b = np.array([[11],[12]])\n",
    "Z = np.dot(W,X)+b\n",
    "print(\"Matrix Multiplication Example 2\")\n",
    "print(\"W: \\n{}\".format(W))\n",
    "print(\"X: \\n{}\".format(X))\n",
    "print(\"b: \\n{}\".format(b))\n",
    "print(\"Z: \\n{}\".format(Z))"
   ]
  }
 ],
 "metadata": {
  "kernelspec": {
   "display_name": "test-env",
   "language": "python",
   "name": "test-env"
  },
  "language_info": {
   "codemirror_mode": {
    "name": "ipython",
    "version": 3
   },
   "file_extension": ".py",
   "mimetype": "text/x-python",
   "name": "python",
   "nbconvert_exporter": "python",
   "pygments_lexer": "ipython3",
   "version": "3.7.1"
  }
 },
 "nbformat": 4,
 "nbformat_minor": 2
}
