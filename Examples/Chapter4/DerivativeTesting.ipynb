{
 "cells": [
  {
   "cell_type": "markdown",
   "metadata": {},
   "source": [
    "# Derivative Testing"
   ]
  },
  {
   "cell_type": "code",
   "execution_count": null,
   "metadata": {},
   "outputs": [],
   "source": [
    "import numpy as np "
   ]
  },
  {
   "cell_type": "code",
   "execution_count": null,
   "metadata": {},
   "outputs": [],
   "source": [
    "# define loss function\n",
    "def Loss(A,Y):\n",
    "\tm = A.shape[1]\n",
    "\treturn np.sum(np.square(A-Y))/m"
   ]
  },
  {
   "cell_type": "markdown",
   "metadata": {},
   "source": [
    "### Inputs and actual derivatives\n",
    "Actual derivatives calculated previously using forward/back propagation"
   ]
  },
  {
   "cell_type": "code",
   "execution_count": null,
   "metadata": {},
   "outputs": [],
   "source": [
    "# inputs\n",
    "X = np.array([[1,2,4],[2,5,7]])\n",
    "Y = np.array([[8,6,10]])\n",
    "W = np.array([[1,1]])\n",
    "b = np.array([[2]])\n",
    "grad_W_L = np.array([[10,20]])\n",
    "grad_b_L = np.array([[2]])\n",
    "eps = 0.1"
   ]
  },
  {
   "cell_type": "markdown",
   "metadata": {},
   "source": [
    "### Estimate derivative with respect to W0"
   ]
  },
  {
   "cell_type": "code",
   "execution_count": null,
   "metadata": {},
   "outputs": [],
   "source": [
    "# estimated dLdW0\n",
    "print(\"dLdW0 ****\")\n",
    "W = np.array([[1+eps,1]])\n",
    "Z = np.dot(W,X) + b\n",
    "A = Z\n",
    "print(\"A plus: {}\".format(A))\n",
    "Lossp = Loss(A,Y)\n",
    "print(\"Loss plus: {}\".format(Lossp))\n",
    "W = np.array([[1-eps,1]])\n",
    "Z = np.dot(W,X) + b\n",
    "A = Z\n",
    "print(\"A minus: {}\".format(A))\n",
    "Lossm = Loss(A,Y)\n",
    "print(\"Loss minus: {}\".format(Lossm))\n",
    "dLdW0 = (Lossp - Lossm)/2/eps\n",
    "print(\"Estimated dL/dW0: {}\".format(dLdW0))\n",
    "print(\"Exact dL/dW1: {}\".format(grad_WL[0,0]))"
   ]
  },
  {
   "cell_type": "markdown",
   "metadata": {},
   "source": [
    "### Estimate derivative with respect to W1"
   ]
  },
  {
   "cell_type": "code",
   "execution_count": null,
   "metadata": {},
   "outputs": [],
   "source": [
    "# estimated dLdW1\n",
    "print(\"dLdW1 ****\")\n",
    "W = np.array([[1,1+eps]])\n",
    "Z = np.dot(W,X) + b\n",
    "A = Z\n",
    "print(\"A plus: {}\".format(A))\n",
    "Lossp = Loss(A,Y)\n",
    "print(\"Loss plus: {}\".format(Lossp))\n",
    "W = np.array([[1,1-eps]])\n",
    "Z = np.dot(W,X) + b\n",
    "A = Z\n",
    "print(\"A minus: {}\".format(A))\n",
    "Lossm = Loss(A,Y)\n",
    "print(\"Loss minus: {}\".format(Lossm))\n",
    "dLdW1 = (Lossp - Lossm)/2/eps\n",
    "print(\"Estimated dL/dW1: {}\".format(dLdW1))\n",
    "print(\"Exact dL/dW1: {}\".format(grad_WL[0,1]))"
   ]
  },
  {
   "cell_type": "markdown",
   "metadata": {},
   "source": [
    "### Estimate derivative with respect to b"
   ]
  },
  {
   "cell_type": "code",
   "execution_count": null,
   "metadata": {},
   "outputs": [],
   "source": [
    "# estimated dLdb\n",
    "print(\"dLdb ****\")\n",
    "W = np.array([[1,1]])\n",
    "b = np.array([[2+eps]])\n",
    "Z = np.dot(W,X) + b\n",
    "A = Z\n",
    "print(\"A plus: {}\".format(A))\n",
    "Lossp = Loss(A,Y)\n",
    "print(\"Loss plus: {}\".format(Lossp))\n",
    "b = np.array([[2-eps]])\n",
    "Z = np.dot(W,X) + b\n",
    "A = Z\n",
    "print(\"A minus: {}\".format(A))\n",
    "Lossm = Loss(A,Y)\n",
    "print(\"Loss minus: {}\".format(Lossm))\n",
    "dLdb = (Lossp - Lossm)/2/eps\n",
    "print(\"Estimated dL/db: {}\".format(dLdb))"
   ]
  }
 ],
 "metadata": {
  "kernelspec": {
   "display_name": "test-env",
   "language": "python",
   "name": "test-env"
  },
  "language_info": {
   "codemirror_mode": {
    "name": "ipython",
    "version": 3
   },
   "file_extension": ".py",
   "mimetype": "text/x-python",
   "name": "python",
   "nbconvert_exporter": "python",
   "pygments_lexer": "ipython3",
   "version": "3.7.1"
  }
 },
 "nbformat": 4,
 "nbformat_minor": 2
}
