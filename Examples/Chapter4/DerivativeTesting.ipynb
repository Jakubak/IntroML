{
 "cells": [
  {
   "cell_type": "markdown",
   "metadata": {},
   "source": [
    "# Derivative Testing"
   ]
  },
  {
   "cell_type": "code",
   "execution_count": 3,
   "metadata": {},
   "outputs": [],
   "source": [
    "import numpy as np "
   ]
  },
  {
   "cell_type": "code",
   "execution_count": 4,
   "metadata": {},
   "outputs": [],
   "source": [
    "# define loss function\n",
    "def Loss(A,Y):\n",
    "    m = A.shape[1]\n",
    "    return np.sum(np.square(A-Y))/m"
   ]
  },
  {
   "cell_type": "markdown",
   "metadata": {},
   "source": [
    "### Inputs and actual derivatives\n",
    "Actual derivatives calculated previously using forward/back propagation"
   ]
  },
  {
   "cell_type": "code",
   "execution_count": 5,
   "metadata": {},
   "outputs": [],
   "source": [
    "# inputs\n",
    "X = np.array([[1,2,4],[2,5,7]])\n",
    "Y = np.array([[8,6,10]])\n",
    "W = np.array([[1,1]])\n",
    "b = np.array([[2]])\n",
    "grad_WL = np.array([[10,20]])\n",
    "grad_bL = np.array([[2]])\n",
    "eps = 0.1"
   ]
  },
  {
   "cell_type": "markdown",
   "metadata": {},
   "source": [
    "### Estimate derivative with respect to $W_0$"
   ]
  },
  {
   "cell_type": "code",
   "execution_count": 6,
   "metadata": {},
   "outputs": [
    {
     "name": "stdout",
     "output_type": "stream",
     "text": [
      "dLdW0 ****\n",
      "A plus: [[ 5.1  9.2 13.4]]\n",
      "Loss plus: 10.07\n",
      "A minus: [[ 4.9  8.8 12.6]]\n",
      "Loss minus: 8.07\n",
      "Estimated dL/dW0: 10.0\n",
      "Exact dL/dW1: 10\n"
     ]
    }
   ],
   "source": [
    "# estimated dLdW0\n",
    "print(\"dLdW0 ****\")\n",
    "W = np.array([[1+eps,1]])\n",
    "Z = np.dot(W,X) + b\n",
    "A = Z\n",
    "print(\"A plus: {}\".format(A))\n",
    "Lossp = Loss(A,Y)\n",
    "print(\"Loss plus: {}\".format(Lossp))\n",
    "W = np.array([[1-eps,1]])\n",
    "Z = np.dot(W,X) + b\n",
    "A = Z\n",
    "print(\"A minus: {}\".format(A))\n",
    "Lossm = Loss(A,Y)\n",
    "print(\"Loss minus: {}\".format(Lossm))\n",
    "dLdW0 = (Lossp - Lossm)/2/eps\n",
    "print(\"Estimated dL/dW0: {}\".format(dLdW0))\n",
    "print(\"Exact dL/dW1: {}\".format(grad_WL[0,0]))"
   ]
  },
  {
   "cell_type": "markdown",
   "metadata": {},
   "source": [
    "### Estimate derivative with respect to $W_1$"
   ]
  },
  {
   "cell_type": "code",
   "execution_count": 7,
   "metadata": {},
   "outputs": [
    {
     "name": "stdout",
     "output_type": "stream",
     "text": [
      "dLdW1 ****\n",
      "A plus: [[ 5.2  9.5 13.7]]\n",
      "Loss plus: 11.260000000000003\n",
      "A minus: [[ 4.8  8.5 12.3]]\n",
      "Loss minus: 7.260000000000002\n",
      "Estimated dL/dW1: 20.000000000000007\n",
      "Exact dL/dW1: 20\n"
     ]
    }
   ],
   "source": [
    "# estimated dLdW1\n",
    "print(\"dLdW1 ****\")\n",
    "W = np.array([[1,1+eps]])\n",
    "Z = np.dot(W,X) + b\n",
    "A = Z\n",
    "print(\"A plus: {}\".format(A))\n",
    "Lossp = Loss(A,Y)\n",
    "print(\"Loss plus: {}\".format(Lossp))\n",
    "W = np.array([[1,1-eps]])\n",
    "Z = np.dot(W,X) + b\n",
    "A = Z\n",
    "print(\"A minus: {}\".format(A))\n",
    "Lossm = Loss(A,Y)\n",
    "print(\"Loss minus: {}\".format(Lossm))\n",
    "dLdW1 = (Lossp - Lossm)/2/eps\n",
    "print(\"Estimated dL/dW1: {}\".format(dLdW1))\n",
    "print(\"Exact dL/dW1: {}\".format(grad_WL[0,1]))"
   ]
  },
  {
   "cell_type": "markdown",
   "metadata": {},
   "source": [
    "### Estimate derivative with respect to b"
   ]
  },
  {
   "cell_type": "code",
   "execution_count": 8,
   "metadata": {},
   "outputs": [
    {
     "name": "stdout",
     "output_type": "stream",
     "text": [
      "dLdb ****\n",
      "A plus: [[ 5.1  9.1 13.1]]\n",
      "Loss plus: 9.209999999999999\n",
      "A minus: [[ 4.9  8.9 12.9]]\n",
      "Loss minus: 8.81\n",
      "Estimated dL/db: 1.999999999999993\n",
      "Exact dL/db: [[2]]\n"
     ]
    }
   ],
   "source": [
    "# estimated dLdb\n",
    "print(\"dLdb ****\")\n",
    "W = np.array([[1,1]])\n",
    "b = np.array([[2+eps]])\n",
    "Z = np.dot(W,X) + b\n",
    "A = Z\n",
    "print(\"A plus: {}\".format(A))\n",
    "Lossp = Loss(A,Y)\n",
    "print(\"Loss plus: {}\".format(Lossp))\n",
    "b = np.array([[2-eps]])\n",
    "Z = np.dot(W,X) + b\n",
    "A = Z\n",
    "print(\"A minus: {}\".format(A))\n",
    "Lossm = Loss(A,Y)\n",
    "print(\"Loss minus: {}\".format(Lossm))\n",
    "dLdb = (Lossp - Lossm)/2/eps\n",
    "print(\"Estimated dL/db: {}\".format(dLdb))\n",
    "print(\"Exact dL/db: {}\".format(grad_bL))"
   ]
  }
 ],
 "metadata": {
  "kernelspec": {
   "display_name": "ml-test",
   "language": "python",
   "name": "ml-test"
  },
  "language_info": {
   "codemirror_mode": {
    "name": "ipython",
    "version": 3
   },
   "file_extension": ".py",
   "mimetype": "text/x-python",
   "name": "python",
   "nbconvert_exporter": "python",
   "pygments_lexer": "ipython3",
   "version": "3.7.1"
  }
 },
 "nbformat": 4,
 "nbformat_minor": 2
}
