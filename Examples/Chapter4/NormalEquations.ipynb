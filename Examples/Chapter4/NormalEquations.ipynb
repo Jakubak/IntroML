{
 "cells": [
  {
   "cell_type": "markdown",
   "metadata": {},
   "source": [
    "# Normal Equations Demo\n",
    "This notebook shows how to set up, solve, and normal equations approach for least squares"
   ]
  },
  {
   "cell_type": "code",
   "execution_count": null,
   "metadata": {},
   "outputs": [],
   "source": [
    "import numpy as np\n",
    "import matplotlib.pyplot as plt"
   ]
  },
  {
   "cell_type": "markdown",
   "metadata": {},
   "source": [
    "## Set up and plot random data"
   ]
  },
  {
   "cell_type": "code",
   "execution_count": null,
   "metadata": {},
   "outputs": [],
   "source": [
    "# (1) set up data\n",
    "# X and Y are numpy arrays of dimension (1,m)\n",
    "# choose random numbers from uniform distribution in [0,1]\n",
    "m = 1000\n",
    "X = np.random.rand(1,m)\n",
    "# define Y as a linear function of X and then add noise from a normal distribution\n",
    "Y = 0.5*X + 0.25\n",
    "Y = Y + 0.1*np.random.randn(m)"
   ]
  },
  {
   "cell_type": "code",
   "execution_count": null,
   "metadata": {},
   "outputs": [],
   "source": [
    "# (2) plot data\n",
    "# use np.squeeze to remove row axis and convert to 1d arrays before plotting\n",
    "plt.plot(np.squeeze(X),np.squeeze(Y),\"bo\")"
   ]
  },
  {
   "cell_type": "markdown",
   "metadata": {},
   "source": [
    "## Set up, solve, and plot normal equations solution"
   ]
  },
  {
   "cell_type": "code",
   "execution_count": null,
   "metadata": {},
   "outputs": [],
   "source": [
    "# (3) set up normal equations solution\n",
    "# from Section 2.1 of course\n",
    "# create Xb = [x0 x1 ... xm-1]\n",
    "#             [1   1 ... 1   ]\n",
    "Xb = np.concatenate((X,np.ones(Y.shape)),axis=0)\n",
    "# Wb = (YXb^T)inv(XbXb^T)\n",
    "Wb = np.dot(np.dot(Y,Xb.T),np.linalg.inv(np.dot(Xb,Xb.T)))\n",
    "W = Wb[0,0]\n",
    "b = Wb[0,1]\n",
    "# to define a line, need 2 points - pick the min and max x values\n",
    "xmin = np.min(X)\n",
    "xmax = np.max(X)\n",
    "Xnorm = np.array([[xmin,xmax]])\n",
    "# compute Y for the points in Xnorm\n",
    "Ynorm = W*Xnorm + b\n",
    "# plot\n",
    "plt.plot(np.squeeze(Xnorm),np.squeeze(Ynorm),\"k-\")"
   ]
  },
  {
   "cell_type": "markdown",
   "metadata": {},
   "source": [
    "## Plot data and normal equations solutions"
   ]
  },
  {
   "cell_type": "code",
   "execution_count": null,
   "metadata": {},
   "outputs": [],
   "source": [
    "# (4) plot data and normal equations solution on same plot\n",
    "plt.plot(np.squeeze(X),np.squeeze(Y),\"bo\",label=\"Training Data\")\n",
    "plt.plot(np.squeeze(Xnorm),np.squeeze(Ynorm),\"k-\",label=\"Normal Equations Solution\")\n",
    "plt.legend()"
   ]
  },
  {
   "cell_type": "code",
   "execution_count": null,
   "metadata": {},
   "outputs": [],
   "source": []
  }
 ],
 "metadata": {
  "kernelspec": {
   "display_name": "IntroML-env",
   "language": "python",
   "name": "introml-env"
  },
  "language_info": {
   "codemirror_mode": {
    "name": "ipython",
    "version": 3
   },
   "file_extension": ".py",
   "mimetype": "text/x-python",
   "name": "python",
   "nbconvert_exporter": "python",
   "pygments_lexer": "ipython3",
   "version": "3.7.1"
  }
 },
 "nbformat": 4,
 "nbformat_minor": 2
}
