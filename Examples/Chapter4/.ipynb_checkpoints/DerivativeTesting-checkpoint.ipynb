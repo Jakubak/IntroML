{
 "cells": [
  {
   "cell_type": "markdown",
   "metadata": {},
   "source": [
    "# Derivative Testing"
   ]
  },
  {
   "cell_type": "code",
   "execution_count": 1,
   "metadata": {},
   "outputs": [],
   "source": [
    "import numpy as np "
   ]
  },
  {
   "cell_type": "code",
   "execution_count": 2,
   "metadata": {},
   "outputs": [],
   "source": [
    "# define loss function\n",
    "def Loss(A,Y):\n",
    "    m = A.shape[1]\n",
    "    return np.sum(np.square(A-Y))/m"
   ]
  },
  {
   "cell_type": "markdown",
   "metadata": {},
   "source": [
    "### Inputs and actual derivatives\n",
    "Actual derivatives calculated previously using forward/back propagation"
   ]
  },
  {
   "cell_type": "code",
   "execution_count": 3,
   "metadata": {},
   "outputs": [],
   "source": [
    "# inputs\n",
    "X = np.array([[1,2,4],[2,5,7]])\n",
    "Y = np.array([[8,6,10]])\n",
    "W = np.array([[1,1]])\n",
    "b = np.array([[2]])\n",
    "grad_W_L = np.array([[10,20]])\n",
    "grad_b_L = np.array([[2]])\n",
    "eps = 0.1"
   ]
  },
  {
   "cell_type": "markdown",
   "metadata": {},
   "source": [
    "### Estimate derivative with respect to W0"
   ]
  },
  {
   "cell_type": "code",
   "execution_count": 4,
   "metadata": {},
   "outputs": [
    {
     "name": "stdout",
     "output_type": "stream",
     "text": [
      "dLdW0 ****\n",
      "A plus: [[ 5.1  9.2 13.4]]\n",
      "Loss plus: 10.07\n",
      "A minus: [[ 4.9  8.8 12.6]]\n",
      "Loss minus: 8.07\n",
      "Estimated dL/dW0: 10.0\n"
     ]
    },
    {
     "ename": "NameError",
     "evalue": "name 'grad_WL' is not defined",
     "output_type": "error",
     "traceback": [
      "\u001b[0;31m---------------------------------------------------------------------------\u001b[0m",
      "\u001b[0;31mNameError\u001b[0m                                 Traceback (most recent call last)",
      "\u001b[0;32m<ipython-input-4-7fa98cd9657b>\u001b[0m in \u001b[0;36m<module>\u001b[0;34m\u001b[0m\n\u001b[1;32m     15\u001b[0m \u001b[0mdLdW0\u001b[0m \u001b[0;34m=\u001b[0m \u001b[0;34m(\u001b[0m\u001b[0mLossp\u001b[0m \u001b[0;34m-\u001b[0m \u001b[0mLossm\u001b[0m\u001b[0;34m)\u001b[0m\u001b[0;34m/\u001b[0m\u001b[0;36m2\u001b[0m\u001b[0;34m/\u001b[0m\u001b[0meps\u001b[0m\u001b[0;34m\u001b[0m\u001b[0;34m\u001b[0m\u001b[0m\n\u001b[1;32m     16\u001b[0m \u001b[0mprint\u001b[0m\u001b[0;34m(\u001b[0m\u001b[0;34m\"Estimated dL/dW0: {}\"\u001b[0m\u001b[0;34m.\u001b[0m\u001b[0mformat\u001b[0m\u001b[0;34m(\u001b[0m\u001b[0mdLdW0\u001b[0m\u001b[0;34m)\u001b[0m\u001b[0;34m)\u001b[0m\u001b[0;34m\u001b[0m\u001b[0;34m\u001b[0m\u001b[0m\n\u001b[0;32m---> 17\u001b[0;31m \u001b[0mprint\u001b[0m\u001b[0;34m(\u001b[0m\u001b[0;34m\"Exact dL/dW1: {}\"\u001b[0m\u001b[0;34m.\u001b[0m\u001b[0mformat\u001b[0m\u001b[0;34m(\u001b[0m\u001b[0mgrad_WL\u001b[0m\u001b[0;34m[\u001b[0m\u001b[0;36m0\u001b[0m\u001b[0;34m,\u001b[0m\u001b[0;36m0\u001b[0m\u001b[0;34m]\u001b[0m\u001b[0;34m)\u001b[0m\u001b[0;34m)\u001b[0m\u001b[0;34m\u001b[0m\u001b[0;34m\u001b[0m\u001b[0m\n\u001b[0m",
      "\u001b[0;31mNameError\u001b[0m: name 'grad_WL' is not defined"
     ]
    }
   ],
   "source": [
    "# estimated dLdW0\n",
    "print(\"dLdW0 ****\")\n",
    "W = np.array([[1+eps,1]])\n",
    "Z = np.dot(W,X) + b\n",
    "A = Z\n",
    "print(\"A plus: {}\".format(A))\n",
    "Lossp = Loss(A,Y)\n",
    "print(\"Loss plus: {}\".format(Lossp))\n",
    "W = np.array([[1-eps,1]])\n",
    "Z = np.dot(W,X) + b\n",
    "A = Z\n",
    "print(\"A minus: {}\".format(A))\n",
    "Lossm = Loss(A,Y)\n",
    "print(\"Loss minus: {}\".format(Lossm))\n",
    "dLdW0 = (Lossp - Lossm)/2/eps\n",
    "print(\"Estimated dL/dW0: {}\".format(dLdW0))\n",
    "print(\"Exact dL/dW1: {}\".format(grad_WL[0,0]))"
   ]
  },
  {
   "cell_type": "markdown",
   "metadata": {},
   "source": [
    "### Estimate derivative with respect to W1"
   ]
  },
  {
   "cell_type": "code",
   "execution_count": null,
   "metadata": {},
   "outputs": [],
   "source": [
    "# estimated dLdW1\n",
    "print(\"dLdW1 ****\")\n",
    "W = np.array([[1,1+eps]])\n",
    "Z = np.dot(W,X) + b\n",
    "A = Z\n",
    "print(\"A plus: {}\".format(A))\n",
    "Lossp = Loss(A,Y)\n",
    "print(\"Loss plus: {}\".format(Lossp))\n",
    "W = np.array([[1,1-eps]])\n",
    "Z = np.dot(W,X) + b\n",
    "A = Z\n",
    "print(\"A minus: {}\".format(A))\n",
    "Lossm = Loss(A,Y)\n",
    "print(\"Loss minus: {}\".format(Lossm))\n",
    "dLdW1 = (Lossp - Lossm)/2/eps\n",
    "print(\"Estimated dL/dW1: {}\".format(dLdW1))\n",
    "print(\"Exact dL/dW1: {}\".format(grad_WL[0,1]))"
   ]
  },
  {
   "cell_type": "markdown",
   "metadata": {},
   "source": [
    "### Estimate derivative with respect to b"
   ]
  },
  {
   "cell_type": "code",
   "execution_count": null,
   "metadata": {},
   "outputs": [],
   "source": [
    "# estimated dLdb\n",
    "print(\"dLdb ****\")\n",
    "W = np.array([[1,1]])\n",
    "b = np.array([[2+eps]])\n",
    "Z = np.dot(W,X) + b\n",
    "A = Z\n",
    "print(\"A plus: {}\".format(A))\n",
    "Lossp = Loss(A,Y)\n",
    "print(\"Loss plus: {}\".format(Lossp))\n",
    "b = np.array([[2-eps]])\n",
    "Z = np.dot(W,X) + b\n",
    "A = Z\n",
    "print(\"A minus: {}\".format(A))\n",
    "Lossm = Loss(A,Y)\n",
    "print(\"Loss minus: {}\".format(Lossm))\n",
    "dLdb = (Lossp - Lossm)/2/eps\n",
    "print(\"Estimated dL/db: {}\".format(dLdb))"
   ]
  }
 ],
 "metadata": {
  "kernelspec": {
   "display_name": "MLCourse-env",
   "language": "python",
   "name": "mlcourse-env"
  },
  "language_info": {
   "codemirror_mode": {
    "name": "ipython",
    "version": 3
   },
   "file_extension": ".py",
   "mimetype": "text/x-python",
   "name": "python",
   "nbconvert_exporter": "python",
   "pygments_lexer": "ipython3",
   "version": "3.7.1"
  }
 },
 "nbformat": 4,
 "nbformat_minor": 2
}
