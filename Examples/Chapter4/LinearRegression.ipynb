{
 "cells": [
  {
   "cell_type": "markdown",
   "metadata": {},
   "source": [
    "# Linear Regression\n",
    "This notebook presents examples from the course."
   ]
  },
  {
   "cell_type": "code",
   "execution_count": 1,
   "metadata": {},
   "outputs": [],
   "source": [
    "import numpy as np"
   ]
  },
  {
   "cell_type": "markdown",
   "metadata": {},
   "source": [
    "### Forward Propagation Example"
   ]
  },
  {
   "cell_type": "code",
   "execution_count": 2,
   "metadata": {},
   "outputs": [
    {
     "name": "stdout",
     "output_type": "stream",
     "text": [
      "Z: [[ 5  9 13]]\n",
      "A: [[ 5  9 13]]\n"
     ]
    }
   ],
   "source": [
    "# forward propagation\n",
    "# inputs\n",
    "X = np.array([[1,2,4],[2,5,7]])\n",
    "Y = np.array([[8,6,10]])\n",
    "W = np.array([[1,1]])\n",
    "b = np.array([[2]])\n",
    "# forward propagation\n",
    "Z = np.dot(W,X)+b\n",
    "A = Z\n",
    "print(\"Z: {}\".format(Z))\n",
    "print(\"A: {}\".format(A))"
   ]
  },
  {
   "cell_type": "markdown",
   "metadata": {},
   "source": [
    "### Loss Function"
   ]
  },
  {
   "cell_type": "code",
   "execution_count": 3,
   "metadata": {},
   "outputs": [
    {
     "name": "stdout",
     "output_type": "stream",
     "text": [
      "Loss: 9.0\n"
     ]
    }
   ],
   "source": [
    "# Loss function\n",
    "L = np.sum(np.square(A-Y))/3\n",
    "print(\"Loss: {}\".format(L))"
   ]
  },
  {
   "cell_type": "markdown",
   "metadata": {},
   "source": [
    "### Back Propagation Example"
   ]
  },
  {
   "cell_type": "code",
   "execution_count": 4,
   "metadata": {},
   "outputs": [
    {
     "name": "stdout",
     "output_type": "stream",
     "text": [
      "grad_AL: [[-2.  2.  2.]]\n",
      "dAdZ: [[1. 1. 1.]]\n",
      "grad_ZL: [[-2.  2.  2.]]\n",
      "grad_WL: [[10. 20.]]\n",
      "grad_bL: [[2.]]\n"
     ]
    }
   ],
   "source": [
    "# back propagation\n",
    "grad_AL = 2/3*(A-Y)\n",
    "print(\"grad_AL: {}\".format(grad_AL))\n",
    "dAdZ = np.ones(A.shape)\n",
    "print(\"dAdZ: {}\".format(dAdZ))\n",
    "grad_ZL = grad_AL*dAdZ\n",
    "print(\"grad_ZL: {}\".format(grad_ZL))\n",
    "grad_WL = np.dot(grad_ZL,X.T)\n",
    "grad_bL = np.sum(grad_ZL,axis=1,keepdims=True)\n",
    "print(\"grad_WL: {}\".format(grad_WL))\n",
    "print(\"grad_bL: {}\".format(grad_bL))"
   ]
  },
  {
   "cell_type": "markdown",
   "metadata": {},
   "source": [
    "### Training Algorithm Example\n",
    "Epoch = 1"
   ]
  },
  {
   "cell_type": "code",
   "execution_count": 5,
   "metadata": {},
   "outputs": [
    {
     "name": "stdout",
     "output_type": "stream",
     "text": [
      "Epoch 1 ********\n",
      "forward propagation\n",
      "Z: [[ 5  9 13]]\n",
      "A: [[ 5  9 13]]\n",
      "back propagation\n",
      "grad_AL: [[-2.  2.  2.]]\n",
      "dAdZ: [[1. 1. 1.]]\n",
      "grad_ZL: [[-2.  2.  2.]]\n",
      "grad_WL: [[10. 20.]]\n",
      "grad_bL: [[2.]]\n",
      "update W and b\n",
      "W1: [[0.9 0.8]]\n",
      "b1: [[1.98]]\n",
      "Loss1: 5.6504\n"
     ]
    }
   ],
   "source": [
    "alpha = 0.01\n",
    "# Epoch 1\n",
    "# forward propagation\n",
    "Z = np.dot(W,X)+b\n",
    "A = Z\n",
    "print(\"Epoch 1 ********\")\n",
    "print(\"forward propagation\")\n",
    "print(\"Z: {}\".format(Z))\n",
    "print(\"A: {}\".format(A))\n",
    "# back propagation\n",
    "grad_AL = 2/3*(A-Y)\n",
    "print(\"back propagation\")\n",
    "print(\"grad_AL: {}\".format(grad_AL))\n",
    "dAdZ = np.ones(Y.shape)\n",
    "print(\"dAdZ: {}\".format(dAdZ))\n",
    "grad_ZL = grad_AL*dAdZ\n",
    "print(\"grad_ZL: {}\".format(grad_ZL))\n",
    "grad_WL = np.dot(grad_ZL,X.T)\n",
    "grad_bL = np.sum(grad_ZL,axis=1,keepdims=True)\n",
    "print(\"grad_WL: {}\".format(grad_WL))\n",
    "print(\"grad_bL: {}\".format(grad_bL))\n",
    "# update W and b\n",
    "W = W - alpha*grad_WL\n",
    "b = b - alpha*grad_bL\n",
    "print(\"update W and b\")\n",
    "print(\"W1: {}\".format(W))\n",
    "print(\"b1: {}\".format(b))\n",
    "# compute loss\n",
    "Z = np.dot(W,X) + b\n",
    "A = Z\n",
    "Loss = np.sum(np.square(A-Y))/3\n",
    "print(\"Loss1: {}\".format(Loss))"
   ]
  },
  {
   "cell_type": "markdown",
   "metadata": {},
   "source": [
    "Epoch = 2"
   ]
  },
  {
   "cell_type": "code",
   "execution_count": 6,
   "metadata": {},
   "outputs": [
    {
     "name": "stdout",
     "output_type": "stream",
     "text": [
      "INTERATION 2 ********\n",
      "forward propagation\n",
      "Z: [[ 4.48  7.78 11.18]]\n",
      "A: [[ 4.48  7.78 11.18]]\n",
      "back propagation\n",
      "grad_AL: [[-2.34666667  1.18666667  0.78666667]]\n",
      "dAdZ: [[1. 1. 1.]]\n",
      "grad_ZL: [[-2.34666667  1.18666667  0.78666667]]\n",
      "grad_WL: [[3.17333333 6.74666667]]\n",
      "grad_bL: [[-0.37333333]]\n",
      "update W and b\n",
      "W2: [[0.86826667 0.73253333]]\n",
      "b2: [[1.98373333]]\n",
      "Loss2: 5.272727253333333\n"
     ]
    }
   ],
   "source": [
    "# EPOCH 2\n",
    "# forward propagation\n",
    "Z = np.dot(W,X)+b\n",
    "A = Z\n",
    "print(\"INTERATION 2 ********\")\n",
    "print(\"forward propagation\")\n",
    "print(\"Z: {}\".format(Z))\n",
    "print(\"A: {}\".format(A))\n",
    "# back propagation\n",
    "grad_AL = 2/3*(A-Y)\n",
    "print(\"back propagation\")\n",
    "print(\"grad_AL: {}\".format(grad_AL))\n",
    "dAdZ = np.ones(Y.shape)\n",
    "print(\"dAdZ: {}\".format(dAdZ))\n",
    "grad_ZL = grad_AL*dAdZ\n",
    "print(\"grad_ZL: {}\".format(grad_ZL))\n",
    "grad_WL = np.dot(grad_ZL,X.T)\n",
    "grad_bL = np.sum(grad_ZL,axis=1,keepdims=True)\n",
    "print(\"grad_WL: {}\".format(grad_WL))\n",
    "print(\"grad_bL: {}\".format(grad_bL))\n",
    "# update W and b\n",
    "print(\"update W and b\")\n",
    "W = W - alpha*grad_WL\n",
    "b = b - alpha*grad_bL\n",
    "print(\"W2: {}\".format(W))\n",
    "print(\"b2: {}\".format(b))\n",
    "# compute loss\n",
    "Z = np.dot(W,X) + b\n",
    "A = Z\n",
    "Loss = np.sum(np.square(A-Y))/3\n",
    "print(\"Loss2: {}\".format(Loss))"
   ]
  },
  {
   "cell_type": "markdown",
   "metadata": {},
   "source": [
    "### Prediction Example"
   ]
  },
  {
   "cell_type": "code",
   "execution_count": 7,
   "metadata": {},
   "outputs": [
    {
     "name": "stdout",
     "output_type": "stream",
     "text": [
      "prediction\n",
      "Z: [[ 4.317   7.3828 10.5844]]\n",
      "A: [[ 4.317   7.3828 10.5844]]\n"
     ]
    }
   ],
   "source": [
    "# prediction\n",
    "X = np.array([[1,2,4],[2,5,7]])\n",
    "W = np.array([[0.8683,0.7325]])\n",
    "b = np.array([[1.9837]])\n",
    "# forward propagation\n",
    "Z = np.dot(W,X)+b\n",
    "A = Z\n",
    "print(\"prediction\")\n",
    "print(\"Z: {}\".format(Z))\n",
    "print(\"A: {}\".format(A))"
   ]
  },
  {
   "cell_type": "markdown",
   "metadata": {},
   "source": [
    "### Accuracy Example"
   ]
  },
  {
   "cell_type": "code",
   "execution_count": 8,
   "metadata": {},
   "outputs": [
    {
     "name": "stdout",
     "output_type": "stream",
     "text": [
      "Accuracy: 1.8834\n"
     ]
    }
   ],
   "source": [
    "# inputs\n",
    "X = np.array([[1,2,4],[2,5,7]])\n",
    "Y = np.array([[8,6,10]])\n",
    "# Accuracy calculation\n",
    "Accuracy = 1/3*np.sum(np.absolute(A-Y))\n",
    "print(\"Accuracy: {}\".format(Accuracy))"
   ]
  }
 ],
 "metadata": {
  "kernelspec": {
   "display_name": "ml-test",
   "language": "python",
   "name": "ml-test"
  },
  "language_info": {
   "codemirror_mode": {
    "name": "ipython",
    "version": 3
   },
   "file_extension": ".py",
   "mimetype": "text/x-python",
   "name": "python",
   "nbconvert_exporter": "python",
   "pygments_lexer": "ipython3",
   "version": "3.7.1"
  }
 },
 "nbformat": 4,
 "nbformat_minor": 2
}
