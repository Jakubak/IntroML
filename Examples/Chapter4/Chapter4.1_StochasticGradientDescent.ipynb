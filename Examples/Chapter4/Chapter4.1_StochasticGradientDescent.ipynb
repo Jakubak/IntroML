{
 "cells": [
  {
   "cell_type": "code",
   "execution_count": null,
   "metadata": {},
   "outputs": [],
   "source": [
    "import numpy as np"
   ]
  },
  {
   "cell_type": "code",
   "execution_count": null,
   "metadata": {},
   "outputs": [],
   "source": [
    "# input data\n",
    "X = np.array([[1, 2],[-2,-5]])\n",
    "Y = np.array([[0, 1]])\n",
    "# initial parameters\n",
    "W = np.array([[0.1,0.1]])\n",
    "b = np.array([[0.2]])\n",
    "# learning rate\n",
    "alpha = 0.1"
   ]
  },
  {
   "cell_type": "code",
   "execution_count": null,
   "metadata": {},
   "outputs": [],
   "source": [
    "# Epoch\n",
    "# Sample point index 0\n",
    "# Forward propagation\n",
    "X0 = X[:,0:1]\n",
    "Y0 = Y[:,0:1]\n",
    "Z0 = np.dot(W,X0) + b\n",
    "A0 = 1/(1+np.exp(-Z0))\n",
    "print(\"Forward Propagation: Epoch 1, Sample index=0\")\n",
    "print(\"Z0: {}\".format(Z0))\n",
    "print(\"A0: {}\".format(A0))"
   ]
  },
  {
   "cell_type": "code",
   "execution_count": null,
   "metadata": {},
   "outputs": [],
   "source": [
    "# Back Propagation\n",
    "dLossdA0 = -(Y0/A0 - (1-Y0)/(1-A0))/1\n",
    "dA0dZ0 = A0 - np.square(A0)\n",
    "dLossdZ0 = dLossdA0*dA0dZ0\n",
    "dgradW0 = np.dot(dLossdZ0,X0.T)\n",
    "dgradb0 = np.sum(dLossdZ0,keepdims=True)\n",
    "print(\"Back Propagation: Sample index=0\")\n",
    "print(\"dLossdA0: {}\".format(dLossdA0))\n",
    "print(\"dA0dZ0: {}\".format(dA0dZ0))\n",
    "print(\"dLossdZ0: {}\".format(dLossdZ0))\n",
    "print(\"dgradW: {}\".format(dgradW0))\n",
    "print(\"dgradb: {}\".format(dgradb0))"
   ]
  },
  {
   "cell_type": "code",
   "execution_count": null,
   "metadata": {},
   "outputs": [],
   "source": [
    "# Update W and b\n",
    "W = W - alpha*dgradW0\n",
    "b = b - alpha*dgradb0\n",
    "print(\"W: {}\".format(W))\n",
    "print(\"b: {}\".format(b))"
   ]
  },
  {
   "cell_type": "code",
   "execution_count": null,
   "metadata": {},
   "outputs": [],
   "source": [
    "# Epoch 1, Sample index=1\n",
    "# Forward propagation\n",
    "X1 = X[:,1:2]\n",
    "Y1 = Y[:,1:2]\n",
    "Z1 = np.dot(W,X1) + b\n",
    "A1 = 1/(1+np.exp(-Z1))\n",
    "print(\"Forward Propagation: Epoch 1, Sample index=1\")\n",
    "print(\"Z1: {}\".format(Z1))\n",
    "print(\"A1: {}\".format(A1))"
   ]
  },
  {
   "cell_type": "code",
   "execution_count": null,
   "metadata": {},
   "outputs": [],
   "source": [
    "# Back Propagation\n",
    "dLossdA1 = -(Y1/A1 - (1-Y1)/(1-A1))/1\n",
    "dA1dZ1 = A1 - np.square(A1)\n",
    "dLossdZ1 = dLossdA1*dA1dZ1\n",
    "dgradW1 = np.dot(dLossdZ1,X1.T)\n",
    "dgradb1 = np.sum(dLossdZ1,keepdims=True)\n",
    "print(\"Back Propagation: Sample index=1\")\n",
    "print(\"dLossdA1: {}\".format(dLossdA1))\n",
    "print(\"dA1dZ1: {}\".format(dA1dZ1))\n",
    "print(\"dLossdZ1: {}\".format(dLossdZ1))\n",
    "print(\"dgradW: {}\".format(dgradW1))\n",
    "print(\"dgradb: {}\".format(dgradb1))"
   ]
  },
  {
   "cell_type": "code",
   "execution_count": null,
   "metadata": {},
   "outputs": [],
   "source": [
    "# Update W and b\n",
    "W = W - alpha*dgradW1\n",
    "b = b - alpha*dgradb1\n",
    "print(\"W: {}\".format(W))\n",
    "print(\"b: {}\".format(b))"
   ]
  }
 ],
 "metadata": {
  "kernelspec": {
   "display_name": "test-env",
   "language": "python",
   "name": "test-env"
  },
  "language_info": {
   "codemirror_mode": {
    "name": "ipython",
    "version": 3
   },
   "file_extension": ".py",
   "mimetype": "text/x-python",
   "name": "python",
   "nbconvert_exporter": "python",
   "pygments_lexer": "ipython3",
   "version": "3.7.1"
  }
 },
 "nbformat": 4,
 "nbformat_minor": 2
}
