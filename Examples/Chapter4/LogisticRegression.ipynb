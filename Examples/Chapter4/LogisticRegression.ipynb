{
 "cells": [
  {
   "cell_type": "code",
   "execution_count": null,
   "metadata": {},
   "outputs": [],
   "source": [
    "import numpy as np"
   ]
  },
  {
   "cell_type": "code",
   "execution_count": null,
   "metadata": {},
   "outputs": [],
   "source": [
    "# inputs\n",
    "X = np.array([[1,2,4],[-2,-5,-8]])\n",
    "Y = np.array([[0,1,0]])\n",
    "W = np.array([[0.1,0.1]])\n",
    "b = np.array([[0.2]])"
   ]
  },
  {
   "cell_type": "code",
   "execution_count": null,
   "metadata": {},
   "outputs": [],
   "source": [
    "# forward propagation\n",
    "Z = np.dot(W,X)+b\n",
    "A = 1/(1+np.exp(-Z))\n",
    "print(\"Z: {}\".format(Z))\n",
    "print(\"A: {}\".format(A))"
   ]
  },
  {
   "cell_type": "code",
   "execution_count": null,
   "metadata": {},
   "outputs": [],
   "source": [
    "# back propagation\n",
    "grad_AL = -1/3*(Y/A - (1-Y)/(1-A))\n",
    "print(\"grad_AL: {}\".format(grad_AL))\n",
    "dAdZ = A-np.square(A)\n",
    "print(\"dAdZ: {}\".format(dAdZ))\n",
    "grad_ZL = grad_AL*dAdZ\n",
    "print(\"grad_ZL: {}\".format(grad_ZL))\n",
    "grad_WL = np.dot(grad_ZL,X.T)\n",
    "grad_bL = np.sum(grad_ZL,axis=1,keepdims=True)\n",
    "print(\"grad_WL: {}\".format(grad_WL))\n",
    "print(\"grad_bL: {}\".format(grad_bL))"
   ]
  },
  {
   "cell_type": "code",
   "execution_count": null,
   "metadata": {},
   "outputs": [],
   "source": [
    "# prediction\n",
    "# forward propagation\n",
    "Z = np.dot(W,X)+b\n",
    "A = 1/(1+np.exp(-Z))\n",
    "print(\"A: {}\".format(A))\n",
    "print(\"round A: {}\".format(np.round(A)))"
   ]
  },
  {
   "cell_type": "code",
   "execution_count": null,
   "metadata": {},
   "outputs": [],
   "source": [
    "# accuracy\n",
    "# inputs\n",
    "Y = np.array([[0,1,1,0,1]])\n",
    "Y_pred = np.array([[1,0,1,0,1]])\n",
    "# forward propagation\n",
    "accuracy = np.mean(np.absolute(Y-Y_pred)<1e-7)\n",
    "print(\"accuracy: {}\".format(accuracy))"
   ]
  }
 ],
 "metadata": {
  "kernelspec": {
   "display_name": "test-env",
   "language": "python",
   "name": "test-env"
  },
  "language_info": {
   "codemirror_mode": {
    "name": "ipython",
    "version": 3
   },
   "file_extension": ".py",
   "mimetype": "text/x-python",
   "name": "python",
   "nbconvert_exporter": "python",
   "pygments_lexer": "ipython3",
   "version": "3.7.1"
  }
 },
 "nbformat": 4,
 "nbformat_minor": 2
}
